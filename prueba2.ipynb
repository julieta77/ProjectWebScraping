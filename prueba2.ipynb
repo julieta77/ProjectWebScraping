{
 "cells": [
  {
   "cell_type": "code",
   "execution_count": 1,
   "metadata": {},
   "outputs": [],
   "source": [
    "from selenium import webdriver\n",
    "from selenium.webdriver.common.by import By\n",
    "import time\n",
    "from selenium.webdriver.common.keys import Keys"
   ]
  },
  {
   "cell_type": "code",
   "execution_count": 90,
   "metadata": {},
   "outputs": [],
   "source": [
    "import re"
   ]
  },
  {
   "cell_type": "code",
   "execution_count": 2,
   "metadata": {},
   "outputs": [],
   "source": [
    "from selenium.webdriver.support.ui import WebDriverWait\n",
    "from selenium.webdriver.support import expected_conditions as EC\n"
   ]
  },
  {
   "cell_type": "code",
   "execution_count": 361,
   "metadata": {},
   "outputs": [],
   "source": [
    "# Creating a webdriver instance\n",
    "driver = webdriver.Chrome()\n",
    "# This instance will be used to log into LinkedIn\n",
    " \n",
    "# Opening linkedIn's login page\n",
    "driver.get('https://www.linkedin.com/')\n",
    "time.sleep(5)\n",
    " \n",
    "# entering username\n",
    "username = driver.find_element(By.ID, \"session_key\")\n",
    "username.send_keys(\"julietaciare77@gmail.com\") \n",
    " \n",
    "# entering password\n",
    "pword = driver.find_element(By.ID, \"session_password\")\n",
    "\n",
    "# Enter Your Password\n",
    "pword.send_keys(\"Many4409\")     \n",
    "time.sleep(5)  \n",
    " \n",
    "driver.find_element(By.XPATH, \"//button[@type='submit']\").click()\n",
    "\n",
    " "
   ]
  },
  {
   "cell_type": "code",
   "execution_count": 362,
   "metadata": {},
   "outputs": [],
   "source": [
    "url = \"https://www.linkedin.com/jobs/search?keywords=An%C3%A1lisis%20De%20Datos&location=Argentina&geoId=100446943&trk=public_jobs_jobs-search-bar_search-submit&position=1&pageNum=0\""
   ]
  },
  {
   "cell_type": "code",
   "execution_count": 363,
   "metadata": {},
   "outputs": [],
   "source": [
    "driver.get(url)\n",
    " \n",
    "# waiting for the page to load\n",
    "time.sleep(3)\n",
    " "
   ]
  },
  {
   "cell_type": "code",
   "execution_count": 364,
   "metadata": {},
   "outputs": [],
   "source": [
    "# Espera a que el botón esté presente en la página y luego haz clic en él\n",
    "wait = WebDriverWait(driver, 30)\n",
    "button = wait.until(EC.element_to_be_clickable((By.ID, \"searchFilter_timePostedRange\")))\n",
    "button.click()\n",
    "\n",
    "# Espera a que la opción \"Últimas 24 horas\" esté presente\n",
    "option = wait.until(EC.presence_of_element_located((By.ID, \"timePostedRange-r86400\")))\n",
    "\n",
    "# En lugar de hacer clic en la opción, puedes intentar disparar un evento JavaScript\n",
    "driver.execute_script(\"arguments[0].click();\", option)"
   ]
  },
  {
   "cell_type": "code",
   "execution_count": 365,
   "metadata": {},
   "outputs": [],
   "source": [
    "driver.find_element(By.XPATH, \"//button[@type='button']\").click()"
   ]
  },
  {
   "cell_type": "code",
   "execution_count": 8,
   "metadata": {},
   "outputs": [
    {
     "name": "stdout",
     "output_type": "stream",
     "text": [
      "Collecting the links in the page: 1\n",
      "Collecting the links in the page: 2\n",
      "Collecting the links in the page: 3\n"
     ]
    }
   ],
   "source": [
    "links = []\n",
    "try: \n",
    "    for page in range(2,5):\n",
    "        time.sleep(2)\n",
    "        jobs_block = driver.find_element(By.CLASS_NAME ,'jobs-search-results-list')\n",
    "        jobs_list= jobs_block.find_elements(By.CSS_SELECTOR, '.jobs-search-results__list-item')\n",
    "    \n",
    "        for job in jobs_list:\n",
    "            all_links = job.find_elements(By.TAG_NAME, \"a\")\n",
    "            for a in all_links:\n",
    "                if str(a.get_attribute('href')).startswith(\"https://www.linkedin.com/jobs/view\") and a.get_attribute('href') not in links: \n",
    "                    links.append(a.get_attribute('href'))\n",
    "                else:\n",
    "                    pass\n",
    "            # scroll down for each job element\n",
    "            driver.execute_script(\"arguments[0].scrollIntoView();\", job)\n",
    "        \n",
    "        print(f'Collecting the links in the page: {page-1}')\n",
    "        # go to next page:\n",
    "        driver.find_element(By.XPATH,f\"//button[@aria-label='Página {page}']\").click()\n",
    "        time.sleep(3)\n",
    "except:\n",
    "    pass"
   ]
  },
  {
   "cell_type": "code",
   "execution_count": 366,
   "metadata": {},
   "outputs": [
    {
     "data": {
      "text/plain": [
       "['https://www.linkedin.com/jobs/view/3714177234/?eBP=CwEAAAGKhY1IhJSCBiD6xAmaoCDJtxoK7jf8dvkvfP6bmMXvZEkktz39QxgmXSJOXa2rz01bleAZCAvZC6d1NIUPkXmvMIxyV2uOp2PL9uvoWl9QJZkAq2m4EJQIFf-B7gqS4YzavfAJDhTjvZ7VkfctCTiLYbRY1o2HPIhPCptbocl-rkdD2-GTEIGfk8UNCZ2MIq09XhzCB3xEBl6dmISFR1OGye2inLG9DmRXU6DRX32XLJ6Xzb8FLwtV_6UIXztpOhTMMQgfb6rzKDtZ__wCYO_WJygzt7Q7OwNSG5_Bv3wBnAitMBBkqkbZq4QsOilD78cqPWaLCwJ5oIBBdTMNHR1oH0P-vSSgbmPvH2d8t71C0vS1oKT_OJBoFwwiKQ&refId=tXWNI4jWkbD%2B2fd3tQBzUg%3D%3D&trackingId=pgyas%2FSD6Y6lwpottmFtsg%3D%3D&trk=flagship3_search_srp_jobs',\n",
       " 'https://www.linkedin.com/jobs/view/3714173981/?eBP=CwEAAAGKhY1IhE29IjKyVsHVLdraOwV6t3n2MKvcMsJZ3zrTbl8ZSXnYd4a5_5goiHmCQvLxJBGqmykVUXZPJJEklGe_slgXJYrJoKxc66oRBqdgxLGr5wXw0MGj2igxJNHHpud7ieZJtiIZYovhq-GvNZc7djgFEg2PK-p3u0SMCe5umAS9kr9vmxbApwIfFoUoYpzLgzpbE2U1R-4BvjDt5rSEo984rR2xksF5UOFXEbGAAZryl7SQ5o94t0DeQjIFEhw98utwFr0JMfwqK6KgX0XxlZtbG5M-L2WyrEz_yeRDee__ZBUvKP90gjCTX4bjNj05jCVZFG976pnd035BZF28mcRXfeomV80jxJh-EtuM4zrHBtU8rdpMq5T-25w6jA&refId=tXWNI4jWkbD%2B2fd3tQBzUg%3D%3D&trackingId=s%2BA4h85%2Bt%2FcCK%2FBDjwacVA%3D%3D&trk=flagship3_search_srp_jobs',\n",
       " 'https://www.linkedin.com/jobs/view/3714176406/?eBP=CwEAAAGKhY1IhKuQSzJI6bc3_05YAjcnPF38a0qW1cVS53d0OPtMIN_RtxVr1f3jNd20BVRvZ3BrenEXvKakaE1Fi6nKbf6dCJgr4ha6jAKdsnL4OCNXM532Th0XWbtQagqvOyABnpAWEOPP7lH_892xFbJCyCMb2e8OatV0mimo2iJrEf0bBnopCQ4tSCrpR5WMvo8J73QsxlsHxgGK7781I11g0xABDUPpVbAdMSqmLGPq8BI17lbJGZnPDQEwwdteXSvmzpbnoK97_K3h-T-1oi-6__MtFJijU_GWJlP0uKKAdvERJkBuHFJSRMQ6LGOBJPbGF0w_6JiY34IG_1rSL6e5lcPMQoaJ3FYjkvm-RSBB05OsbY2McHC8vhyg3zGguN8fD2wB9mm38IQngh1FZQKMb-lzeB73SedyTw&refId=tXWNI4jWkbD%2B2fd3tQBzUg%3D%3D&trackingId=1PnlcsOby4fwu6VsfLKP9w%3D%3D&trk=flagship3_search_srp_jobs',\n",
       " 'https://www.linkedin.com/jobs/view/3718447297/?eBP=CwEAAAGKhY1IhAsW4PDCYplaTr2Q4yYkqgLg8sPWz3huyPzk4pU4un6nBPCl-cgf_h_BDS6P48VqIExFvBRn6Afh7YiHHwMZJMoYfaI9kX-olzUkUP6NDTW97asNHE1SBHfdbvbTDS6nhvsmlqlrlNHyeO7F8tGXUGxSvfvEH0nuhx0ituM92v3qm9Lqs7G_-FtR3myI6CrOnMO863Dho-eg5XwehlvJ0JoxkBlk0KXKElcLXKQXPA6aQPfVHwizV8CauobZQnKuZi_MiuhqdaYeXT8kMItNwaem-oLKsyG7M3WJZflIX6lHzq4xSaNccceNIOOZQBoheZM6wp1JSpMp0wySZuCeW40&refId=tXWNI4jWkbD%2B2fd3tQBzUg%3D%3D&trackingId=Ela5I%2BruM17maFlUOWH1gw%3D%3D&trk=flagship3_search_srp_jobs',\n",
       " 'https://www.linkedin.com/jobs/view/3713246266/?eBP=NOT_ELIGIBLE_FOR_CHARGING&refId=tXWNI4jWkbD%2B2fd3tQBzUg%3D%3D&trackingId=WOvCRGly2pVp67lAg4d7kQ%3D%3D&trk=flagship3_search_srp_jobs',\n",
       " 'https://www.linkedin.com/jobs/view/3714175679/?eBP=CwEAAAGKhY1IhJRASy6s4XgOfnmvleLBCN04csRnB3NKvGUAT5TnQCZE9CZIJgSk7-dCtrT0a_NFT4yLIOCpZNtIu5dbOh65UlQaLRdHsUAnzJ7erAIE4jdRMt9pMYKWfYEDlhSupiTRHJ7MBI0VCrD7wMDVahuW-X-sXYq2lLIyqfm8R-pt7uTKHeMSZTwhO3kFrOFtu7Zs49tfiTfJ1yrwMHXbidNUBGmOu1_v9gwUkcrsVaSbvTIMFaJuENi899ciJ2-OtNThzFcuLtjZFAlr-HTqmKsIOlbYbuhmgtx4eGmUChBw5QX92Yw70tW-bCsx6nkQZLHkyldlzyl83LMEQ75YdI43IwO_H8l4g2WV-LwV4_TaubwAA1nfhxzElak&refId=tXWNI4jWkbD%2B2fd3tQBzUg%3D%3D&trackingId=j6rlGFZI6hyprVW8yNvq0A%3D%3D&trk=flagship3_search_srp_jobs',\n",
       " 'https://www.linkedin.com/jobs/view/3713553116/?eBP=CwEAAAGKhY1IhFUkHGfDvMoTEnACiqfPxdDfS9ASM2ngbJaQGbCpyNLpJ7tlgHXi0TSqpf3p5qZCZwJZVChEx4wZQzep_g2FZrSeu-G94kmlxUymmi8F-ZSXtMK2KI_p89yN9-zcOnrMXc3Rl5mmkLGkzvkb_Gi5eQJd8_36ezDbmvGHx0nXOo4VYHFztKSSgyVIuQ3jKwx4qXvqTCS971RdIe0rExDHS-C2x0I21nV_2-_nGQkiI0d6gpRdFMuCnTJ-hboqFzfRklsaCIrUDpzlz3roxd9bxRMiD2ia1lm68DfL9hwTxwRWcvG2iM6bFF8896m4MKB5z-ib5rvnZhPRy5oPlw6YIX9ElkJvwHhJE_lUQ4T8fQaUxBBHgxGPPg&refId=tXWNI4jWkbD%2B2fd3tQBzUg%3D%3D&trackingId=ldLdIeR6t9qzoLe5Clno2Q%3D%3D&trk=flagship3_search_srp_jobs',\n",
       " 'https://www.linkedin.com/jobs/view/3714179034/?eBP=CwEAAAGKhY1O61ZXvtb7Lf46e4xe-D4r_-pt4HCYCzCyOVogI54hiFRCsDB9Ar9Juuri1pIuZENu1ysj_9DntpM-gyDc2qPLtG8T8DOPZzstmz-kQoujq2taIGW4Dcd0SpPqYi9h5lbc4Ci8_WxyM0UBxU0bca1xCe2CzbrHSirjOdolWkEdsDJmAA2EA8KMMd_MoOdiG8kSz-7A8gISTQp4dEHg1p4MIui5o2-s0v-eA1PXLgg-5zfUF-fxkJF6n7oMLaZ10bRb31OYgBhhlABQAaf-XnIDTPkhRZZdwrr2rwNzaMCeLM8AdAyy-bzRVoLHmzel84sfEzjZ_12czWFlQcFyWiKwEoXz_w&refId=Eo9hnjg8eToKx3OHtrCp6Q%3D%3D&trackingId=xn50Gx6UtNZr1fSG8t9xgw%3D%3D&trk=flagship3_search_srp_jobs',\n",
       " 'https://www.linkedin.com/jobs/view/3717598701/?eBP=CwEAAAGKhY1O62ZDruf6ywSVt1HHZmGswb2qClZEdzfa5SrSBqECh8VmTGiqIenU__hTLby1ngMhWryHMUupBPEiNIbpKvsnC2Uj9N3xVqrHhIqLFa153pq91w1K6cbquZ9OWmqGNlHQ_0vYIMAFtVUiSKnv4qXDfJOPapTsZpwdddFN-xVjuUfrvOlY-jMQ2rQtloMVLYNfFj5QQWLeGvPHlICSlb9Ehv-oAzSjVh2E7AREvZZUXA3X2Z6darszu-xeFOqWI3IoB01SCJkwtYV_IliWHTWpnD67ba0MKcuS1RqLo3GaV-I2SfIJdi3Z0I7RyicGb1K1BXuh7kwr37-m0SAoBsQrUjOMVQ&refId=Eo9hnjg8eToKx3OHtrCp6Q%3D%3D&trackingId=1jhNTBVWs%2F3ZCQGNLfE0Bw%3D%3D&trk=flagship3_search_srp_jobs',\n",
       " 'https://www.linkedin.com/jobs/view/3717597753/?eBP=CwEAAAGKhY1O6ycq4zCaGwADP0GDsg6ItLBa7O8NsmraMDvBsMjKyDZSjYMYErp0zxrjGLL61i4z9ImrmsWff3KzzYK0psDABY3n-dVahs8JkAR0cxI3ieBhT4aPR3JM8sbEhl9Qcb6cVfSBvZ8pdCai8Yv99HmgvypaDDR_r0SeGIrbDVcQDV-3xxiB60y9v9CGE_r1vvQgmhuwquQe4eC2N8vyt35099BMan6ZYwEGAgAPOcx46vA-scCilldodlCm7bnX2PPqYq55WOn8a4e7GcocMxQfx9KhnazgILFCauaQYezq9P_mnWD0s1yDpgn1shI9hPz64FV7U8OJhW44nVpDkyPOKnj8JQ&refId=Eo9hnjg8eToKx3OHtrCp6Q%3D%3D&trackingId=YZRWjmccFsFWpDSGSiKkLg%3D%3D&trk=flagship3_search_srp_jobs',\n",
       " 'https://www.linkedin.com/jobs/view/3717700744/?eBP=CwEAAAGKhY1O65HihCKCKVKoV7uQCTY_S05A7yAOEo2v6VDU4Wo1ra84ScLkcer9D24e5QobspLhSKEtD3DZU_9M7yM376hnaU8GZB8C2ZpGzu-TlSvukv1_UgBS1fKjNjNbdAu4Ynb8FGk3RxB9yTYq2AnwCJkIJtfsBBye-QiKC93E_WPUs1UIv2scPOV61yr8e5DXcrf_vAM5Y4jsXoy8xbCR6rEU49GIO3P0_8rPRa2eKAos8f42UdTbq2QrywJrMGdCD016269JzKbxvdXIGqZo4zoOO6aixqX8a97GjhT0DeyDM-j0FoPQ2ACRB9Rczw7enL88_RzrygmDYgVgR8n6yIzdcmHLkg&refId=Eo9hnjg8eToKx3OHtrCp6Q%3D%3D&trackingId=5Dmw7i08cg1uSCvhzwIeoQ%3D%3D&trk=flagship3_search_srp_jobs',\n",
       " 'https://www.linkedin.com/jobs/view/3714160176/?eBP=CwEAAAGKhY1O6zBsIYAbgPPX4zfn4wtHzAAA2jx5qzVDsUsS80EUai06UQamp6qsR424VUmR9IPATsO3sY7lgmjJD7CJ6EFKidImXHFiJwjPp_c0UZ4E_XwJqwQpJ_tWH-6v0g_oFGZHC5WGtG2U7UtB1Ic1bhEJ4FJCQWuSHDYuqJxSPjEcuj-SH9cVp4-Wnkhu3wjRxsDudB1h33vWvQmZdO5o3YltDwT8-fRCJwGdKsib1lYkMZyBlknbl6I2rlYY1HGYQap2jxXh8yfAQgETH2WI12wYR0WQQRyAR2oiXjj7s0eeCtKltqh4L-0u-_T-EfX6wb0qpPAKZ8BobSYfQlNf48DHK6YtOkzoICReAQn44jDMJHSjM7ZkG-Z9o_xLF40RJaWmqiEofsNhuzTRYKs-jHLW_d5VWH2rEg&refId=Eo9hnjg8eToKx3OHtrCp6Q%3D%3D&trackingId=hkfqyo%2FIHnmX1nY8hzP31g%3D%3D&trk=flagship3_search_srp_jobs',\n",
       " 'https://www.linkedin.com/jobs/view/3659136375/?eBP=CwEAAAGKhY1O6wd7vACK9gH1590S4D1AYzrO1droG9y-XQJL7GL7Di9hzOf6-6CPE2Z0O_81hLHFGkSrKdqH9estYDVokwRYCN9Q29kHc2EpzixdsxJ2Wa3NmUEyDcroADpXdDAEqQgoJGWzBVuKG4DqsXNI1lxUKjC33Ivxi-jl_h_ZIp3CuPDbnVbayx5Fe3lv0_MO0OAij1ut77i2DMBNvb__ixgbSyaWtbAzQ7RpPanKjnrkeQhmNL1F0JlLuxTx9m7jNIDRM_9PpSWEzawhuEWAHIW7mdVfsVof_DqYa81Db67ajl2EvAj2U5s82S3lvWW1dWjD_DakfziWSBPvy-1XpGgQPfkuV0ceDzURwFyEoVJ1hd315G0juY7qukXjhE_dRBJxmA&refId=Eo9hnjg8eToKx3OHtrCp6Q%3D%3D&trackingId=WERKHFArMwGk2mcPE8ImjA%3D%3D&trk=flagship3_search_srp_jobs',\n",
       " 'https://www.linkedin.com/jobs/view/3717563828/?eBP=CwEAAAGKhY1O66n3L98hePdxc-q72gDgzuuyL_IMGz8R-8D6WE1_QXxkYYYlSob-_-SDz1Aci0pWtJdCLXCRp_2ABNI6E81VcYlfmP7bwZhR-zZ28wSu5cnk3QLg1K2BbcY5S_hd1aqj8E3IksNb-9c2vGHAezjpVgBaQWznq47FralSPJJofG2X_1AnQoI6XMZim8fhWFfG3rVYcM1YyeKMmcu1Sn2TnZG8Nzi7Q-LgST1RyZLV8Cp31trCOL5WT0_ZrylN1RpdbpPReLOXr3eCNzrwopF8F3V_V4HoMAmPX9rqEx4dEDPejbBVnbljEPh41Ahn-MmRtZ7kh3rAZhBTuqjYiIYBHpnAkA&refId=Eo9hnjg8eToKx3OHtrCp6Q%3D%3D&trackingId=mm3p0KrzXEUujZfCCF9ZOA%3D%3D&trk=flagship3_search_srp_jobs',\n",
       " 'https://www.linkedin.com/jobs/view/3717558819/?eBP=CwEAAAGKhY1O60S9bftLGmWhwcdhUhbRRQOVgK_FIvF_kcFP4YHTG0QMbPU4ZMWoTcbQJaB5W7tDLRX3j2KeuxqX_qLZgFPDLnZ6J3KxkLcYCGCInnxLCDF2W-6T1hmgCjGWdiXpaS0ZCKAPbC9KTWfDifiimNX1ep_xinMSKyYrlmadJKnhYA3i1KZDTm0dai-UKlCFrOOwSw9mRZnuxTi7X-Gp3yZ4LlhbNJBkcKHhMeQq-y2mK1sGqnoq9aTJyysr2zuoG_49fZM81H8bYpvA5xHMaggYXI6kk0jYL6drL2cNT29Ma2D1WHMu_vA5_Xk8gksZwzAhXFyjUcLV2CnLRO77u3XxgeI_vw&refId=Eo9hnjg8eToKx3OHtrCp6Q%3D%3D&trackingId=LGitSV7ZaJ5tweJcPN6gJg%3D%3D&trk=flagship3_search_srp_jobs',\n",
       " 'https://www.linkedin.com/jobs/view/3710528410/?eBP=CwEAAAGKhY1O655eJRyo8X5_wtO2AVRg2SWNhguTcISB8NYelAJa5M_N0g8isx9Fo_h20L3utim0LGr_W387RvDSaRchjjGBx2S1YUehhD5INDC378bkcj7yvM1PXfDUcNc-9P20q_Rb8wIL-oWvBsIoADPN1OZiJHko07maQdKuqmfgXzyYUUfbYh3KLRbEEI2PVxT5075-q68PPYK5HC7ha-fLkN-n-EawSD7IeUtio6xhRONZZ9k_HN4CwFqtIRL0Vp0cJKK9-yUkrs-xkjvqW8gj55nB8RFLWj_0cd-kdx7ZNs4l5StZeR4sIR_yFB7K-RXMYD7P3VCTxV8Da5KRmVRPMTSrhM8&refId=Eo9hnjg8eToKx3OHtrCp6Q%3D%3D&trackingId=HByhdagjpYeGOdBNigQndw%3D%3D&trk=flagship3_search_srp_jobs',\n",
       " 'https://www.linkedin.com/jobs/view/3714152703/?eBP=CwEAAAGKhY1O68YD6cYz7KGAMYpt6Tu0i4y4bE4P_L29YA8dEx3Gz3EIvcBu40qrzvcV_anjz-BMUeLfjmRpxGf8nlFzaJLzd2zrYNLVZlfaOGK05CrLlgectHCQ5w8r9SX5ArXawFCiFNNNR57ngV4NOeosgVbsIsfE_zO7UPBa-yepIhwNs5S1DtBe8SOW88GJfkwFS0U6oFcNjAX8p6siNlAZfeJyf26WkObNXXTY5qxkjVNZa92pqHGLzt-kxeknmqiGPND29fCeB7CUZXhgWjdc0Oux7LJUkAZzvjs8s-RhIuKiA1wPDGBZq3RHmeI1_FbqQhYmcI6r94_hIhAmMl8AkcSSOzGwdPWpEDAKMAN0nwxdgEUKxCjUYeX5gqYr_DjxvUZ35VUCkOGzdL6Nc5gkVo82UlkhKfF26iQ&refId=Eo9hnjg8eToKx3OHtrCp6Q%3D%3D&trackingId=uZ3uJbs4Rh6LIQfkOyTdMw%3D%3D&trk=flagship3_search_srp_jobs',\n",
       " 'https://www.linkedin.com/jobs/view/3714123264/?eBP=CwEAAAGKhY1O65gNE-Q2vdOpOLWAi7k84SWnKkIf1O9rm-PYSUNy0NPyKIiqKIBDxLii0FV3h9WMR-ZBIKKNkC-oh2Im9Ob3ivIBQzKJMxfgiPYWp9hX2mRkc9EPxkdoxWCmYdQpCdjYA9MEnrysT8xOCr8WH-aCHZkzv3pUgnS9CK33SeFEMfgLSS2VfDFopzuYUfWSN-AE06BAfC-rCoFv0BxpTPFr9MmBwDa7z9tSQTmaGfkbLXS2sxTlZE41pyI9n3vuNRC5zxWivU8maLTBckZEX3A2aYp1mNibb1kIfaKNm8N9oThVFIb2J9AHtCnvMf7kA8aAIumKUimCUQ5biD96CtBvbgctRVFXlANx0N3r3X79Tkwr70ihoNaefIqvyvM-2jlp13i0KuGekdYTMViZxJY7GBeou6C5AKM&refId=Eo9hnjg8eToKx3OHtrCp6Q%3D%3D&trackingId=d0h6FuQNOJUlYAE4kCAERw%3D%3D&trk=flagship3_search_srp_jobs',\n",
       " 'https://www.linkedin.com/jobs/view/3714149697/?eBP=CwEAAAGKhY1O6zVs7qYaQMCFkXhKgrx3F3phOidM2hxhmIYoNj1FUiE-rIovaEUbn7CrOKP3GxwoE9hf4VnxI59rr_1c__QYReE4Yt3iz2op1m7c_ZWDj_TQZrsOTS1jWPO4C7uKtfAlS9ZCzwjwT22mgBa1LtGhaJ6bsgkwGRtzqe2rrxZ1IQYJRYw3fhX4z_JO5AYgraAovDb38wB91qZDk_1Enu0j80VSCHScncSIsf7utn06U6Zb-bfbG6xa1rWqpDn4YEyy05jCVv7LEjAplkJ26T4T-X5oHlglBTfIC6RqD0ZyU0J5SnsNV4S6TGLVRgvUJBGJgGERWYrJUM4HEsDetWW6pVgdstYfoS2npa1zBGEDI7jVuWpdQsE&refId=Eo9hnjg8eToKx3OHtrCp6Q%3D%3D&trackingId=MylNRrRddz729JBk8wXg0Q%3D%3D&trk=flagship3_search_srp_jobs',\n",
       " 'https://www.linkedin.com/jobs/view/3703202760/?eBP=CwEAAAGKhY1O6xRvM6gmsNORhU0i4tSWRuqUZX-6aEbcftbBL7cwA6W8wLKBL1gqCtA7OhgWPIY7C6i4Hgs2cpC3Iji3Li2KARiNXqnlgZZ1rVSX2uiIAU_efSYVb4SERQ9fxBIO5ma7Sn_PU4b1ufiDWgW46akOaUiOqHSaI5VJdFB1KOc9MjaC3mXCaUb-mefKg_3tlx7rnxXW7l1mlzJonA0wLCRPwZ7O2bn11Ql8N3FRoqwG0huGr2SHt9kmM1H-JSCQlSs8o_EkwxA-IShZTDY61TAmu9_rKdT4JPUpx795OCOTzqm3pQ4bMD0v3yC48bTBIMEa4nyNu8baTFSviDWAfou7ay_rkHa87IYncVsio1FY3bwEBugAQui-3OOaVhjm&refId=Eo9hnjg8eToKx3OHtrCp6Q%3D%3D&trackingId=AYldJhJZJ8vJzrgjv1cANw%3D%3D&trk=flagship3_search_srp_jobs',\n",
       " 'https://www.linkedin.com/jobs/view/3715309655/?eBP=CwEAAAGKhY1O66lH8q3TwaNtfrntnF9cBtPKEF6DqRqLaQbs_EYQW0YCkRpdQW2tfjRWHw2n8B6kP8X2paC6VF4R8S6UE-UTiFRoZpetL773rQA8-jkoIXCMPjdGienyw-ZE_URwhCZAJHtVanG2-e8EI0OyWF8AEOTMkC8SRLHUDzCHnEWQYt8Bh2D3SoY227LGD6in29uSa7qmmjhe64OFZGSv5WjPVX4KfQ22dpahlEV1X-r8GPUeIa0Xc7JpywRrOT3EWBgltLbI0q7LC_gm4t4j1xFUyW88mxiBdBW9H1SOnHxGpMGtU4zMRXeskAy3_1tSatfFgptcoLqqLAmYBx2-J_43ahc3JaGPr5y22l6zt353RpGStTfLxdVaDaKKeKoJ65U&refId=Eo9hnjg8eToKx3OHtrCp6Q%3D%3D&trackingId=KSb7etDvmrKwGKab5sbakA%3D%3D&trk=flagship3_search_srp_jobs',\n",
       " 'https://www.linkedin.com/jobs/view/3714146360/?eBP=NOT_ELIGIBLE_FOR_CHARGING&refId=Eo9hnjg8eToKx3OHtrCp6Q%3D%3D&trackingId=7o5XJC54zQmh6mzRtH572w%3D%3D&trk=flagship3_search_srp_jobs',\n",
       " 'https://www.linkedin.com/jobs/view/3714145371/?eBP=CwEAAAGKhY1O60fZxCIXNikDI5ZNgEmEIBWytQ4DOJ0inr8-V2sP1sZ0MyJgmklBraVpX3eF8g59fLr0fn0eQfQQeteDR-u7h4Ir6lHkE0W-web5nUUAPTOO3e5XnPtDCVkZsVKELEnlaklmpNGZ8eUEipwS3pL9D3OgOH6c6dagGWoejBjcLmGe1IiINUvLutcjD9KS0th3CJl-tWey25Uk6WrO9GgjfNVZ_cwylPlod95x7WXXlS6ThK_30znjX-8hXVX33hbULlyBgxlcXZtUG_cdHnc5TYGLfXD51mtFUjjPcEKRtsLCMFlTSXUEZ3kOlrCy7cTiYUiDn788yCe9m6Ie7CEEdIH_mhAnvvdxD9Ky6Bz_pnwPvMu3uBnAn4l9Q4auP8k&refId=Eo9hnjg8eToKx3OHtrCp6Q%3D%3D&trackingId=1FTWukoAlX%2FAOyAqzXVu4g%3D%3D&trk=flagship3_search_srp_jobs',\n",
       " 'https://www.linkedin.com/jobs/view/3714136552/?eBP=CwEAAAGKhY1O6xIUeQBamu2F7HjZJyoUo0pp-icZg2ZuoZ2qBreCaxBoQuwYF5XdibaES446lFgAFQsURvWnV3gPE4qWD13iLewsUIQAfxHVIZDPjhi1zLGR0IpR69cVcH9fdzCpN71XnG2DACPhtvhVzj93mlwveXOsR9p6AsSMsbd6r6KExviPG2joz8FcNizBCr5ZiBHS5hS6nInabaLyIJ6JCQynXWqVhxa1pFfrMHwybbJK-SS9reBsWhO3PZf_zKqHKH2Ll5w6cS_MzrzBZjRyEZ6LQZ6JMKYcjoXOBNGKiphzCD71Q5W74ccbQO2EU92kinVCIz4chqnhRjf4wzd5r2MDaBA&refId=Eo9hnjg8eToKx3OHtrCp6Q%3D%3D&trackingId=Q6YFV4GyhUW2m%2BFwBuFWqw%3D%3D&trk=flagship3_search_srp_jobs',\n",
       " 'https://www.linkedin.com/jobs/view/3645848702/?eBP=CwEAAAGKhY1O638bGDJ4AL2iQQJt_05fKHn1A9fWYKCBFA7HCDC34qJkSQXMz8CYg5fEr-SZ9TXxGM2KgqoORISHP8-3ewcB7GRiDfgMaY85WDAUxCiVCJMO3iCqVwDrbQ3eSiG-2GR-qIYGMQ9-_BSpprKQr5RRvhqv_X6uGE2Nt566WG01u06t71QwYDwdFoyE9VOy1rfMD2cOU-UHSFViYrAbhIY24_VVE8OMr_XUN3ZGWZdcKsPCMRpB7ybJrpiftxG48-jQjQ_I8cm9dR6aFxNcZAQmfl0ER2c6QCRRXMb94sGQbjw7TKTzUDJJ6n7l9NKhFmTRGrzHbUVrBD5AovpTgTVaJMF3HkXOic6XmQ5WWV6tT6EPbR46afzGFgeF99nz&refId=Eo9hnjg8eToKx3OHtrCp6Q%3D%3D&trackingId=JHZRfN8z3UQg8YcWNyD%2BbA%3D%3D&trk=flagship3_search_srp_jobs',\n",
       " 'https://www.linkedin.com/jobs/view/3714137309/?eBP=CwEAAAGKhY1O63h7_r-m6-5iZ3FTL7wRx5eVIUWR35mLur5UP4MW7pjb34hgZzWcc6miTPHVsvVBwjk8_iwtwKLY_wXYEVLqQ5gdhOETqxbirMXHFJ-stwRg7f2WpUm52lEHZURqE-hrPFJjoeCCKO1X32bCFHd32a0S9ftONcqA-hYU-JONbUCf850XJO-LMFEIeQm9p5zpBABoXppdxPhU6EgzUjMSlNX0yBqpf900x-SD3D-x-evmn50pov7I3vQbLxhwFrrq3zvopSwJfw_sWuC5HfP7qPJDkzhu2UG5UiXKAjwX-xROSoqCpdL4a-4LJqpClL1dx8uOEWFMyOYuE6l-xPsK8HSDvam-V0YNpqSMvrm82R88H-GCcTuesii3rFyDDBR67u8bD-iRdDesZTGfxXCZZf5oNhde&refId=Eo9hnjg8eToKx3OHtrCp6Q%3D%3D&trackingId=IZ0lDotvJjg9W8JkEGVsvA%3D%3D&trk=flagship3_search_srp_jobs',\n",
       " 'https://www.linkedin.com/jobs/view/3714171957/?eBP=CwEAAAGKhY1O622VGX52XI4GmlpdXxPlxHOLRmTzeT5L56XOyFtyVUVZDFnpQltQuskp4vLIcKNWAAmptIAhan6Cn9Yq2gu4vl4CvjdIbx6BWxjjgp0NQEjUu0qju5592rfAfAqeAbz_VsoIZYdUVGdbLAHFdlf4bpxaIVrYWNWyR9TIdPqyUIxhBkgt4eP8-izoAKo4yzatnkyPJpzk04iJMGXkG1M-Hybwr7KsWpmYJspzg_gLs0GzuIt0Xz17c8j4GlJfXk8dibzAf5AxG-Ab6ZtC49MSZ4ChdR5xu9Rt8DtPLh7nj6-87mZcYh3oeE-Ko6m9AO5mZM1mpcnhNTrKeQ3WKEXTW80uJyEZ8Hih7VBoBWDG1_5t5rLpSgoE&refId=Eo9hnjg8eToKx3OHtrCp6Q%3D%3D&trackingId=S%2Fuk9imtyrPw38eLzZVvFA%3D%3D&trk=flagship3_search_srp_jobs',\n",
       " 'https://www.linkedin.com/jobs/view/3717597750/?eBP=CwEAAAGKhY1O69nM_B9bXuiyf_Ly8xWyXjBtDARkHPlCtfj2-uBGvI1-CjVI5ZXofTg-dOBeNqNkB54cbeJm0Ht8oHnI6aox9GPAezXyTfQKjKTVoFiIPcTGWp53yZBeZqFZluD1sQtPwtF39eLdeT4IxQ2YCbZea2iPXBthNri8zL6cm3vagdb3aAIdCwNsYCJ91_0ixnoXxXyG22h8W1wtbBogao4bDG5wuEftlyj84XPkcITpRl1llMi58h-ik9HGHHNtaHAzKP9a-1bIPGgg3s1wB-pjuJIS9O2AiLjTNod8DWTczJPBKfh6NHLR6NYvAOBhc8hoMJSQuETlolp4PvCwZUb2iVyvFw&refId=Eo9hnjg8eToKx3OHtrCp6Q%3D%3D&trackingId=OvRZtcH7O4PUle5BAE2VnQ%3D%3D&trk=flagship3_search_srp_jobs',\n",
       " 'https://www.linkedin.com/jobs/view/3714120479/?eBP=CwEAAAGKhY1O61gWzh7WhkYz7txLhaHVMghAdgyL2m2PsrGstgorjTe02OdGmKGzAGHo-T9Q-0TKObMslhjRll8mf6Rd-qKgi1dUzclmFqHKgzunFM_3GaiqifI_eMFe0vYi6JJREyCzkY0NI0GlqUoPJAA6OeseMckhiYI5KIzd5pxjPgIcWGmz__Eqw1aY68Z-wZi2HA3WVn6YhPKREvld310kkuWi5oF5h8w8PvmZ4aS5dIkPSuWjTjxVvqQ8Mz10B5Q3XA_4PunMM5EvCxiCzlFp668cGzt9cOBC6LwRInLT0kM2LEwsafjaEkSWKLCvv0otEUCMepOd7db9ik3AcEgXe4BPfM1XthH5CzhUGb5mVPWBiglDXx1JR7A&refId=Eo9hnjg8eToKx3OHtrCp6Q%3D%3D&trackingId=4Aw4VmbhIpkKpyDyx%2Bby8w%3D%3D&trk=flagship3_search_srp_jobs',\n",
       " 'https://www.linkedin.com/jobs/view/3710525891/?eBP=CwEAAAGKhY1O69C3TfJFqjf2XC3AAgYt5Gbxt7WLT7rVPtCgrasORyniK8sFpbshpavQAlm9CLhAk7a9HiIJm4B2D-rb9zlBJqNV4RXvw_RSGjnsg6H79po55L8m6eujOLeOqdKa-OCKljSTEer4sNeDX0sItAeroqfwgI1zRW1ORVBIueiA_JS5uVUogRKwTqxznS6axyDOONa6o7SjRYVovOaoTv1SlmmLDPwhQEZcMRYjTy2usM-QVlW50MK1Ks0kXEiM2vTPBazlQ3TkRF07NQwVrT2ONfbZ3LmBF1m8LPNYbKMLLQ0wlwGYT8ipMSU1WVgttbP7HomsD1Uz6KBxIpD2QqsbzITEXQ&refId=Eo9hnjg8eToKx3OHtrCp6Q%3D%3D&trackingId=E2DEltdw0es0cRw2uoFt6g%3D%3D&trk=flagship3_search_srp_jobs',\n",
       " 'https://www.linkedin.com/jobs/view/3710524953/?eBP=CwEAAAGKhY1O64NzjlsIwYh3l4BbRkM52LdznfzZlIXXQ72uK8DfleCS9cKQSJsthPXTdSDZuxDDbMMN4eVZe9EFjqut4ovxa08m_2D5gwN0gwMiXuxnW1HvkIeJoc-La7UlItCwUHN8aveOzcYUhVGpSchLnjuxpPRvHdtR2a3JInbr7etbCxCbIiZGqBdSxBmVSSGGVvAVeylzbuZQy_PLwSwVtPkyKf7cPPBqk3hVSVGNR8Hv1p_PnCU4i0M7Lh_H0I_M9_LvVncDQqr1J3AaCgFF2lkRR6LKZfL9-9EUFQowHwYXm4rQpNmClIH-694jWolIRy52Ju9KATD3lBPhKc_KXS7KijR8g1gQwtV0lNxRWf8r_WJgtPAjaxGNuUEV0alrDXPdkg&refId=Eo9hnjg8eToKx3OHtrCp6Q%3D%3D&trackingId=m0ReXO8XPQNrkxacbWO4Jg%3D%3D&trk=flagship3_search_srp_jobs',\n",
       " 'https://www.linkedin.com/jobs/view/3709768664/?eBP=CwEAAAGKhY1O6yZwxiq8nbiYZvajQvj_6YkiU8bsI15zgWdbybk2kzearSszLU7wDF-a_T0_Zi49IdFnTxCRHMi301f2kwMLanJhGBj0ukAADWodHwus3GHMKrwv-qxtjTWvFMi1IIzzIUpY-pVx5j6NbnKO2Wy8LlUmNccXWBMFw9ZwG9p_8RINFQMEXkNCheO7BupR-EAlqi3gDhXNShh-up9cKIfcM3-UE9-gWL-xMVsa0D7RK2Jkc9Vn3SuAt6jJU6Enxx8AYQlT85Vxt_mohF0G3nSPYn8e-GaI7-F0URtDtlux92okKowEIBRSy4sPshozFvZ3JhffG-EtAMVWv4CHps07lr3sLZSlam9IEqcPeLz_bgf0giSsJx21ii0XUI-N&refId=Eo9hnjg8eToKx3OHtrCp6Q%3D%3D&trackingId=RXCZomM%2F%2FNJyrtud38naEQ%3D%3D&trk=flagship3_search_srp_jobs',\n",
       " 'https://www.linkedin.com/jobs/view/3718434187/?eBP=CwEAAAGKhY1-e0qyUffchg8yYXEcRgr_2qiwID5YdtvOJNfnhzNP76V6gNOxjFCzTa5tfXPFPGlYVtxq9E6tup9mPjGpfqquvmZhUiM4kaAXx-j2F5OVDqA9tgo9oRJCkE49rEuF5K-87UXUG1TMMPIGROBchIOrCs7NUs6knNiv5bYz00JgLovHelzInq9O2Hoq1ueQ_KbwlT1yNdzpTwlLFzS8rEL4rVNJB1z9Hg58u9vvm2d6TtJMuX0kjNNfHE-Q2gFhhV9ztq6HENHvjZTOIDzN4FGaijOrbj1tkVvhekE5vOInU4owZQNO_tWUAzjWAjtlco5k-xEFQ8LM_J6bJjSTtt1YEUdiWQ&refId=ua8aOAzUSQCj9syVELkvvw%3D%3D&trackingId=a%2BwT%2BCWCVoeD4ICyxVzPfA%3D%3D&trk=flagship3_search_srp_jobs',\n",
       " 'https://www.linkedin.com/jobs/view/3714173882/?eBP=CwEAAAGKhY1-fCWux-7aphPIsG0wgmgCNzm8DR4zx1LpSJP47SVqbNdGuJVbFhSui6PUjIgDvwNyLM2AInmDNrUQNVd0oRnPcpG71zV-dHxrn75KjRtl0Ld6XpktVQonISCgTQVqDyMAFPAM7299YdYMvsRWF_zfB2PSPd6e4LVqMJNq7Tyl8cn3t5EWhBqXNQAFBdSuVgNSW9PLwMrjxY-3vNN_J38KDBgGT0erhfv0GRRhaoJM6RccX0H_iRQ8PIbdyfG33vglNSyWeNtB0VI1cEVm17P-EecoTqWAtpdEFzBZtSue_4FGhACGAq-DYZOfs5_fHkLU7uPeOcT1vBDqx53MXhGfj7RrI49lOdr-Gq8niZEF3A8JnJDnmJmIPXeIWew5uL5o4jdLKYjaOHnQJe7NPWlcqjwaLZYW&refId=ua8aOAzUSQCj9syVELkvvw%3D%3D&trackingId=axLO%2BnqzexbPmTFsIimH4g%3D%3D&trk=flagship3_search_srp_jobs',\n",
       " 'https://www.linkedin.com/jobs/view/3666115686/?eBP=CwEAAAGKhY1-fFyKECNvMYxteT8NdGLWWsGtYD6sfcE5ec0GrfMytR--8hEgSZX0yNccYPU9xUU1VZr3ZD7L2Qo9DDcpCMjsjf-S5M64-nteiPat-clyQ556Xsm___-kQOjFWxtaiEHYDrR454x1qahh1Ip-qzf7bPZVv4fgJQiXYiLppF5-p6F_tWB0wZg441jBu6VZk0jGFrVnjumNlL9ZKZTWYKPRxHE3lt9PBk2CC2Fvid59MdOuHCH1wbbvNWYjTalFLXAQLd1hb6NUO1UDt7EXDHSsRkwJl8SNVQC2VFJGUhGRwW-hWYkk1NIDr059nTdvp1vvU5F_1WQNI4J_0Rg6W47ocZ7RtFmGeCqiFFmqbPT2MBZf9xiaXucYEUiAQF1-6_rNsyp0e67uiYLkhQFjjicD-17M-GGi&refId=ua8aOAzUSQCj9syVELkvvw%3D%3D&trackingId=CZ6TUHJ1lKYe74l%2FZ%2F8%2FSg%3D%3D&trk=flagship3_search_srp_jobs',\n",
       " 'https://www.linkedin.com/jobs/view/3714157549/?eBP=CwEAAAGKhY1-fBxA6BX-Uf5ay7t9d8hXltZHaTeOG33t55JS3TXsVqrbUsVC56BkE8RalxiV6jhwN3ArY_0DurKSVmJAYpdCxmHoz3ERr4eUWiucmt7l19Y8XiK5zl4Ho-XEt6ITPwReTn64wsOVMFwKiTXtFda5D-8IlI8N5S8lg9eA5bk7Sq5ylxBiqWlFYEgGgtvtYI3_TE98BOL6OMg-kNUWA6t8uGnymEr7P7N6nZaznxxLQUVt7SS1zjMwT9mH98sAsg_wbMwmrbdNEbwpRc5eTdBcatzWbzqQ4-fPEwGhj1bWavx9NHFgPiC4Cix91fGreROfHs6lra2m6TEevMunuq23cE9I83REtOXkOLfvy0Nmet0CfrUUo4GyTkZ1XyMVHOi8PObBu2uAyMaOMHbp7IqBwdZVgd-J&refId=ua8aOAzUSQCj9syVELkvvw%3D%3D&trackingId=9ekEFFz5LHJj2D6CBo5GDg%3D%3D&trk=flagship3_search_srp_jobs',\n",
       " 'https://www.linkedin.com/jobs/view/3717597751/?eBP=CwEAAAGKhY1-fAVzyBtK1Yza-od9mWbFuVVQ0jOezz5N6loLWNX-gd6SCDsAPhacI6E2QtfSfppRGGPV6Z64bHpVn_aai9Ee6D8dceMuA8qqG5TJ2q8Uod3KHs8QTlkUoxGjKhiDUEM6gecZX1JGK-jJvSRZ1ex3_KkX6aNhvaTY_efFhs_VHR-hmDxrZnyIv3XnZvCcFXPLx9Dhd2b4CBWj4i7BPsfGTAH-1t9X9BhsK9TGghkRik_ZtNvwrPDMDHoingdJSg5NiRCrsdjaSg6V7Je6yYdwvkDKwP7VnQyaATOlCXe7KOu2fDAetiV_ePaxSpg-gBNfKp8WJXGXoppEeu9WD7wZYgxTfg&refId=ua8aOAzUSQCj9syVELkvvw%3D%3D&trackingId=ne33k8cm0BYxboxgEwPNXQ%3D%3D&trk=flagship3_search_srp_jobs',\n",
       " 'https://www.linkedin.com/jobs/view/3632959121/?eBP=CwEAAAGKhY1-fPu8ZCvlqWbqpda3CbQdkk-ywW4i3StLa57tr8UZlJs916kVSpfK6crChayD4WyQI8m-bH7gdS3OxP9kjt-hZ_KA1D-I9su-NemQnbCmEEjQ_vlLBsdoeFzHPrv-EayuiQI-MsCm4N0smq-nzLo3A2kAmJ0FKOxfZPvAeD4RC8_aPcTY_LtY2BNAkjMR25CzRpoKel4xe2Byke4OFH02Sn9LP0cRH_b4s0NgM-QOhZ_KY4Pbw32bgYeA1vZt4Vsx4NR-s_EuExUXMnSDwwoxCqmNOqP3plDbBG7RW8JRUSvUwLS4jmYHNedhHU6mIsw_J6WWnrxEjgOQhg0KJMWqC8aTtIFA3TL7aN0db_oKEKqZ-kVfDVTARbXdJcwQBiF6_Q&refId=ua8aOAzUSQCj9syVELkvvw%3D%3D&trackingId=PhYKIo4btpZal%2FPS%2FDTcQw%3D%3D&trk=flagship3_search_srp_jobs',\n",
       " 'https://www.linkedin.com/jobs/view/3710525885/?eBP=CwEAAAGKhY1-fDao25PfeG87Yl5QBb1PBJhdjeExKkIleBqzNNThy90lPwvyyOB3fJapcmvLIbxDWsNjrNBl-ExcQhdcQn81-5f9SVaVVVtJ_Ibx5qpnq1LeMk2DmNJ_yL22H5ys_DnU6FRFFlL7xsUgWK_8PBfKmlhXSANF0ORLV788u2CXLy6IRDNQE7irdTalBKdSC9qptYoD_GXNBIaEuYyuUEvNKjULulWomcXdBiaLTIHsFonxZ9xhVFqSwbdDE5900n0VrouFgOiGINGpxzEy64ZIgycUTqUgoGpt0IrjBvxc-4ONywi6FXMgjeFZJxzDoj5tBpXtllM9Oafpb1HfqhoB-Ly_cS5uZnGWty5xulDwykz42rCdgBiYUEERq9Cue7o&refId=ua8aOAzUSQCj9syVELkvvw%3D%3D&trackingId=RdeOpLXBufIEmlaOJzDpHg%3D%3D&trk=flagship3_search_srp_jobs']"
      ]
     },
     "execution_count": 366,
     "metadata": {},
     "output_type": "execute_result"
    }
   ],
   "source": [
    "links"
   ]
  },
  {
   "cell_type": "code",
   "execution_count": 11,
   "metadata": {},
   "outputs": [
    {
     "data": {
      "text/plain": [
       "39"
      ]
     },
     "execution_count": 11,
     "metadata": {},
     "output_type": "execute_result"
    }
   ],
   "source": [
    "len(links)"
   ]
  },
  {
   "cell_type": "code",
   "execution_count": 367,
   "metadata": {},
   "outputs": [],
   "source": [
    "job_titles = []\n",
    "company_names = []\n",
    "company_locations = []\n",
    "work_methods = []\n",
    "post_dates = []\n",
    "work_times = [] \n",
    "job_desc = []"
   ]
  },
  {
   "cell_type": "code",
   "execution_count": 368,
   "metadata": {},
   "outputs": [],
   "source": [
    "tiempo =[]\n",
    "empleados = []\n",
    "aptitudes = []"
   ]
  },
  {
   "cell_type": "code",
   "execution_count": 369,
   "metadata": {},
   "outputs": [
    {
     "name": "stdout",
     "output_type": "stream",
     "text": [
      "Visiting the links and collecting information just started.\n"
     ]
    }
   ],
   "source": [
    "i = 0\n",
    "j = 1\n",
    "# Visit each link one by one to scrape the information\n",
    "print('Visiting the links and collecting information just started.')\n",
    "for i in range(1):\n",
    "    try:\n",
    "        driver.get(links[i])\n",
    "        i=i+1\n",
    "        time.sleep(2)\n",
    "        # Click See more.\n",
    "        driver.find_element(By.CLASS_NAME,\"artdeco-card__actions\").click()\n",
    "        time.sleep(2)\n",
    "    except:\n",
    "        pass\n",
    "    \n",
    "    # Find the general information of the job offers\n",
    "    contents = driver.find_elements(By.CLASS_NAME,'p5')\n",
    "    for content in contents:\n",
    "        try:\n",
    "            prue = content.find_element(By.CLASS_NAME,'jobs-unified-top-card__primary-description')\n",
    "            job_titles.append(content.find_element(By.TAG_NAME,\"h1\").text)\n",
    "            company_names.append(prue.find_element(By.CLASS_NAME,'app-aware-link').text)\n",
    "            company_locations.append(re.search(r'(.+?) \\(', prue.text.split(\"·\")[1].strip()).group(1))\n",
    "            tiempo.append(driver.find_elements(By.CLASS_NAME,\"jobs-unified-top-card__job-insight\")[0].text)\n",
    "            empleados.append(driver.find_elements(By.CLASS_NAME,\"jobs-unified-top-card__job-insight\")[1].text)\n",
    "            j+= 1\n",
    "                    \n",
    "        except:\n",
    "            pass\n",
    "            time.sleep(2)\n",
    "    driver.find_element(By.CLASS_NAME,\"jobs-unified-top-card__job-insight\").find_element(By.XPATH,f\"//button[@aria-label='Ver módulo para coincidencias de aptitudes']\").click()\n",
    "    time.sleep(3)\n",
    "    filtroA = driver.find_elements(By.CLASS_NAME,\"job-details-skill-match-status-list__unmatched-skill\")\n",
    "    lista1 = [filtroA[u].text.split('\\nAñadir')[0] for u in range(10)]\n",
    "    aptitudes.append(lista1)\n",
    "            #[j[i].text.split('\\nAñadir')[0] for i in range(len(j))]\n",
    "            \n"
   ]
  },
  {
   "cell_type": "code",
   "execution_count": 371,
   "metadata": {},
   "outputs": [],
   "source": [
    "dicc = {'title':job_titles,'company':company_names,'locationcompanies': company_locations ,'tiempo': tiempo, 'empleadoscom': empleados,'aptitudes': aptitudes}"
   ]
  },
  {
   "cell_type": "code",
   "execution_count": 372,
   "metadata": {},
   "outputs": [
    {
     "data": {
      "text/plain": [
       "{'title': ['Coordinador de aseguramiento de la calidad'],\n",
       " 'company': ['Jugos Citric'],\n",
       " 'locationcompanies': ['Chajarí, Entre Ríos, Argentina'],\n",
       " 'tiempo': ['Jornada completa'],\n",
       " 'empleadoscom': ['De 201 a 500 empleados'],\n",
       " 'aptitudes': [['Aptitudes para la supervisión',\n",
       "   'Aseguramiento de la calidad',\n",
       "   'Buenas prácticas (GxP)',\n",
       "   'Capacidad de análisis',\n",
       "   'Control de procesos',\n",
       "   'Inglés',\n",
       "   'Planes de acción',\n",
       "   'Procedimientos de calidad',\n",
       "   'Productos acabados',\n",
       "   'Saneamiento']]}"
      ]
     },
     "execution_count": 372,
     "metadata": {},
     "output_type": "execute_result"
    }
   ],
   "source": [
    "dicc"
   ]
  },
  {
   "cell_type": "code",
   "execution_count": 409,
   "metadata": {},
   "outputs": [],
   "source": [
    "a = driver.find_element(By.CLASS_NAME,'p5')"
   ]
  },
  {
   "cell_type": "code",
   "execution_count": 410,
   "metadata": {},
   "outputs": [
    {
     "name": "stdout",
     "output_type": "stream",
     "text": [
      "2 horas\n"
     ]
    }
   ],
   "source": [
    "print(a.find_element(By.TAG_NAME,'strong').text.split('hace')[1].strip())"
   ]
  },
  {
   "cell_type": "code",
   "execution_count": 411,
   "metadata": {},
   "outputs": [],
   "source": [
    "n = a.find_element(By.TAG_NAME,'strong').text.split('hace')[1].strip()\n"
   ]
  },
  {
   "cell_type": "code",
   "execution_count": 412,
   "metadata": {},
   "outputs": [
    {
     "data": {
      "text/plain": [
       "['2', 'horas']"
      ]
     },
     "execution_count": 412,
     "metadata": {},
     "output_type": "execute_result"
    }
   ],
   "source": [
    "n.split()"
   ]
  },
  {
   "cell_type": "code",
   "execution_count": null,
   "metadata": {},
   "outputs": [],
   "source": [
    "from datetime import datetime, timedelta\n",
    "\n",
    "# Obtener la fecha y hora actual\n",
    "fecha_hora_actual = datetime.now()\n",
    "\n",
    "# Restar 24 horas\n",
    "nueva_fecha = fecha_hora_actual - timedelta(hours=24,seconds=00)\n",
    "\n",
    "# Formatear la nueva fecha como dd/mm/y\n",
    "fecha_formateada = nueva_fecha.strftime(\"%d/%m/%Y\")\n",
    "\n",
    "print(fecha_formateada)\n"
   ]
  },
  {
   "cell_type": "code",
   "execution_count": null,
   "metadata": {},
   "outputs": [],
   "source": [
    "def date(time):\n",
    "    if time.split()[1] != 'horas' or time.split()[1] != 'hora':\n",
    "        hora = '00'\n",
    "    if time.split()[1] != 'minutos' or time.split()[1] != 'minutos':\n",
    "        minutos = 00\n",
    "\n"
   ]
  },
  {
   "cell_type": "code",
   "execution_count": 396,
   "metadata": {},
   "outputs": [
    {
     "data": {
      "text/plain": [
       "datetime.datetime(2023, 9, 11, 18, 51, 28, 60778)"
      ]
     },
     "execution_count": 396,
     "metadata": {},
     "output_type": "execute_result"
    }
   ],
   "source": [
    "datetime.now()\n"
   ]
  },
  {
   "cell_type": "code",
   "execution_count": null,
   "metadata": {},
   "outputs": [],
   "source": []
  },
  {
   "cell_type": "code",
   "execution_count": 407,
   "metadata": {},
   "outputs": [],
   "source": [
    "a = driver.find_element(By.CLASS_NAME,'p5')"
   ]
  },
  {
   "cell_type": "code",
   "execution_count": 408,
   "metadata": {},
   "outputs": [
    {
     "name": "stdout",
     "output_type": "stream",
     "text": [
      "2 horas\n"
     ]
    }
   ],
   "source": [
    "print(a.find_element(By.TAG_NAME,'strong').text.split('hace')[1].strip())"
   ]
  },
  {
   "cell_type": "code",
   "execution_count": 399,
   "metadata": {},
   "outputs": [
    {
     "name": "stdout",
     "output_type": "stream",
     "text": [
      "2 horas\n"
     ]
    }
   ],
   "source": [
    "for i in a:\n",
    "    p = i.find_element(By.CLASS_NAME,'jobs-unified-top-card__primary-description')\n",
    "    print(p.find_element(By.TAG_NAME,'strong').text.split('hace')[1].strip())"
   ]
  },
  {
   "cell_type": "code",
   "execution_count": 37,
   "metadata": {},
   "outputs": [],
   "source": [
    "b = driver.find_element(By.CLASS_NAME,'jobs-unified-top-card__primary-description')"
   ]
  },
  {
   "cell_type": "code",
   "execution_count": 92,
   "metadata": {},
   "outputs": [
    {
     "name": "stdout",
     "output_type": "stream",
     "text": [
      " · \n"
     ]
    }
   ],
   "source": [
    "print(b.find_element(By.CSS_SELECTOR,\"span.tvm__text--neutral\").text)"
   ]
  },
  {
   "cell_type": "code",
   "execution_count": 98,
   "metadata": {},
   "outputs": [
    {
     "data": {
      "text/plain": [
       "'Jugos Citric · Chajarí, Entre Ríos, Argentina (Presencial)  hace 23 minutos  · 1 solicitud'"
      ]
     },
     "execution_count": 98,
     "metadata": {},
     "output_type": "execute_result"
    }
   ],
   "source": [
    "b.text"
   ]
  },
  {
   "cell_type": "code",
   "execution_count": 140,
   "metadata": {},
   "outputs": [
    {
     "data": {
      "text/plain": [
       "'1'"
      ]
     },
     "execution_count": 140,
     "metadata": {},
     "output_type": "execute_result"
    }
   ],
   "source": [
    "re.search(r'(\\d+) solicitud', b.text.split(\"·\")[-1].strip()).group(1)"
   ]
  },
  {
   "cell_type": "code",
   "execution_count": 131,
   "metadata": {},
   "outputs": [
    {
     "data": {
      "text/plain": [
       "'1 solicitud'"
      ]
     },
     "execution_count": 131,
     "metadata": {},
     "output_type": "execute_result"
    }
   ],
   "source": [
    "b.text.split(\"·\")[-1].strip()"
   ]
  },
  {
   "cell_type": "code",
   "execution_count": 141,
   "metadata": {},
   "outputs": [
    {
     "data": {
      "text/plain": [
       "'Chajarí, Entre Ríos, Argentina'"
      ]
     },
     "execution_count": 141,
     "metadata": {},
     "output_type": "execute_result"
    }
   ],
   "source": [
    "re.search(r'(.+?) \\(', b.text.split(\"·\")[1].strip()).group(1)"
   ]
  },
  {
   "cell_type": "code",
   "execution_count": 127,
   "metadata": {},
   "outputs": [
    {
     "name": "stdout",
     "output_type": "stream",
     "text": [
      "290\n"
     ]
    }
   ],
   "source": [
    "# Texto de ejemplo\n",
    "texto = \"Jugos Citric · Chajarí, Entre Ríos, Argentina (Presencial) hace 23 minutos · 290 solicitud\"\n",
    "\n",
    "# Utiliza una expresión regular para encontrar el número después del último punto \".\"\n",
    "patron = r'(\\d+) solicitud'\n",
    "resultado = re.search(r'(\\d+) solicitud', texto)\n",
    "\n",
    "# Extrae el número si se encuentra\n",
    "if resultado:\n",
    "    numero_solicitudes = resultado.group(1)\n",
    "    print(numero_solicitudes)\n",
    "else:\n",
    "    print(\"No se encontró el número de solicitudes.\")\n",
    "    "
   ]
  },
  {
   "cell_type": "code",
   "execution_count": 123,
   "metadata": {},
   "outputs": [
    {
     "name": "stdout",
     "output_type": "stream",
     "text": [
      "24\n"
     ]
    }
   ],
   "source": [
    "texto = \"Jugos Citric · Chajarí, Entre Ríos, Argentina (Presencial) hace 23 minutos · 24 solicitud\"\n",
    "\n",
    "# Dividir el texto en partes usando \"·\"\n",
    "partes = texto.split(\"·\")\n",
    "\n",
    "# Buscar el número en cada parte\n",
    "for parte in partes:\n",
    "    if \"solicitud\" in parte:\n",
    "        resultado = re.search(r'(\\d+) solicitud', parte)\n",
    "        if resultado:\n",
    "            numero_solicitudes = resultado.group(1)\n",
    "            print(numero_solicitudes)\n",
    "            break"
   ]
  },
  {
   "cell_type": "code",
   "execution_count": null,
   "metadata": {},
   "outputs": [],
   "source": []
  },
  {
   "cell_type": "code",
   "execution_count": 149,
   "metadata": {},
   "outputs": [],
   "source": [
    "c = driver.find_elements(By.CLASS_NAME,\"jobs-unified-top-card__job-insight\")"
   ]
  },
  {
   "cell_type": "code",
   "execution_count": 187,
   "metadata": {},
   "outputs": [
    {
     "data": {
      "text/plain": [
       "'De 201 a 500 empleados'"
      ]
     },
     "execution_count": 187,
     "metadata": {},
     "output_type": "execute_result"
    }
   ],
   "source": [
    "driver.find_elements(By.CLASS_NAME,\"jobs-unified-top-card__job-insight\")[1].text"
   ]
  },
  {
   "cell_type": "code",
   "execution_count": 151,
   "metadata": {},
   "outputs": [
    {
     "data": {
      "text/plain": [
       "'Jornada completa'"
      ]
     },
     "execution_count": 151,
     "metadata": {},
     "output_type": "execute_result"
    }
   ],
   "source": [
    "c[0].text"
   ]
  },
  {
   "cell_type": "code",
   "execution_count": 152,
   "metadata": {},
   "outputs": [
    {
     "data": {
      "text/plain": [
       "'De 201 a 500 empleados'"
      ]
     },
     "execution_count": 152,
     "metadata": {},
     "output_type": "execute_result"
    }
   ],
   "source": [
    "c[1].text"
   ]
  },
  {
   "cell_type": "code",
   "execution_count": 184,
   "metadata": {},
   "outputs": [],
   "source": [
    "p = driver.find_element(By.CLASS_NAME,\"jobs-unified-top-card__job-insight\")"
   ]
  },
  {
   "cell_type": "code",
   "execution_count": 203,
   "metadata": {},
   "outputs": [],
   "source": [
    "driver.find_element(By.CLASS_NAME,\"jobs-unified-top-card__job-insight\").find_element(By.XPATH,f\"//button[@aria-label='Ver módulo para coincidencias de aptitudes']\").click()"
   ]
  },
  {
   "cell_type": "code",
   "execution_count": 190,
   "metadata": {},
   "outputs": [],
   "source": [
    "p.find_element(By.XPATH,f\"//button[@aria-label='Ver módulo para coincidencias de aptitudes']\").click()"
   ]
  },
  {
   "cell_type": "code",
   "execution_count": 207,
   "metadata": {},
   "outputs": [],
   "source": [
    "j = driver.find_elements(By.CLASS_NAME,\"job-details-skill-match-status-list__unmatched-skill\")"
   ]
  },
  {
   "cell_type": "code",
   "execution_count": 208,
   "metadata": {},
   "outputs": [],
   "source": [
    "lista = [j[i].text.split('\\nAñadir')[0] for i in range(len(j))]"
   ]
  },
  {
   "cell_type": "code",
   "execution_count": 209,
   "metadata": {},
   "outputs": [
    {
     "data": {
      "text/plain": [
       "['Aptitudes para la supervisión',\n",
       " 'Aseguramiento de la calidad',\n",
       " 'Buenas prácticas (GxP)',\n",
       " 'Capacidad de análisis',\n",
       " 'Control de procesos',\n",
       " 'Inglés',\n",
       " 'Planes de acción',\n",
       " 'Procedimientos de calidad',\n",
       " 'Productos acabados',\n",
       " 'Saneamiento']"
      ]
     },
     "execution_count": 209,
     "metadata": {},
     "output_type": "execute_result"
    }
   ],
   "source": [
    "lista"
   ]
  },
  {
   "cell_type": "code",
   "execution_count": 176,
   "metadata": {},
   "outputs": [
    {
     "data": {
      "text/plain": [
       "10"
      ]
     },
     "execution_count": 176,
     "metadata": {},
     "output_type": "execute_result"
    }
   ],
   "source": [
    "len(j)"
   ]
  },
  {
   "cell_type": "code",
   "execution_count": 168,
   "metadata": {},
   "outputs": [
    {
     "name": "stdout",
     "output_type": "stream",
     "text": [
      "Aptitudes para la supervisión\n",
      "Añadir\n",
      "Aseguramiento de la calidad\n",
      "Añadir\n",
      "Buenas prácticas (GxP)\n",
      "Añadir\n",
      "Capacidad de análisis\n",
      "Añadir\n",
      "Control de procesos\n",
      "Añadir\n",
      "Inglés\n",
      "Añadir\n",
      "Planes de acción\n",
      "Añadir\n",
      "Procedimientos de calidad\n",
      "Añadir\n",
      "Productos acabados\n",
      "Añadir\n",
      "Saneamiento\n",
      "Añadir\n"
     ]
    }
   ],
   "source": [
    "for i in j:\n",
    "    print(i.text)"
   ]
  },
  {
   "cell_type": "code",
   "execution_count": 150,
   "metadata": {},
   "outputs": [
    {
     "name": "stdout",
     "output_type": "stream",
     "text": [
      "Jornada completa\n",
      "De 201 a 500 empleados\n",
      "Mira las tendencias de contratación recientes de Jugos Citric. Reactivar Premium\n",
      "Aptitudes: Saneamiento, Planes de acción y 8 más\n",
      "El anunciante se unió a LinkedIn en 2016\n"
     ]
    }
   ],
   "source": [
    "for i in c:\n",
    "    print(i.text)"
   ]
  },
  {
   "cell_type": "code",
   "execution_count": 66,
   "metadata": {},
   "outputs": [
    {
     "name": "stdout",
     "output_type": "stream",
     "text": [
      " \n",
      " \n",
      "hace 23 minutos\n",
      "hace 23 minutos\n",
      " · \n",
      " \n",
      " \n",
      "1 solicitud\n"
     ]
    }
   ],
   "source": [
    "for i in prueba:\n",
    "    print(i.text)"
   ]
  },
  {
   "cell_type": "code",
   "execution_count": null,
   "metadata": {},
   "outputs": [],
   "source": [
    "By.XPATH,\"//h3[contains(text(), 'Tipo de empleo')]/following-sibling::span[@class='description__job-criteria-text description__job-criteria-text--criteria']\")\n",
    "By.XPATH,f\"//button[@aria-label='Página {page}']"
   ]
  },
  {
   "cell_type": "code",
   "execution_count": 23,
   "metadata": {},
   "outputs": [
    {
     "data": {
      "text/plain": [
       "[]"
      ]
     },
     "execution_count": 23,
     "metadata": {},
     "output_type": "execute_result"
    }
   ],
   "source": [
    "company_names"
   ]
  },
  {
   "cell_type": "code",
   "execution_count": 24,
   "metadata": {},
   "outputs": [
    {
     "data": {
      "text/plain": [
       "[]"
      ]
     },
     "execution_count": 24,
     "metadata": {},
     "output_type": "execute_result"
    }
   ],
   "source": [
    "company_locations"
   ]
  }
 ],
 "metadata": {
  "kernelspec": {
   "display_name": "env",
   "language": "python",
   "name": "python3"
  },
  "language_info": {
   "codemirror_mode": {
    "name": "ipython",
    "version": 3
   },
   "file_extension": ".py",
   "mimetype": "text/x-python",
   "name": "python",
   "nbconvert_exporter": "python",
   "pygments_lexer": "ipython3",
   "version": "3.9.13"
  },
  "orig_nbformat": 4
 },
 "nbformat": 4,
 "nbformat_minor": 2
}
