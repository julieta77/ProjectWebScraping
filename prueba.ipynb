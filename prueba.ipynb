{
 "cells": [
  {
   "cell_type": "markdown",
   "metadata": {},
   "source": [
    "## Web scrapping\n"
   ]
  },
  {
   "cell_type": "code",
   "execution_count": 23,
   "metadata": {},
   "outputs": [],
   "source": [
    "import pandas as pd "
   ]
  },
  {
   "cell_type": "code",
   "execution_count": 1,
   "metadata": {},
   "outputs": [],
   "source": [
    "from bs4 import BeautifulSoup\n",
    "import requests\n",
    "import numpy as np\n",
    "\n",
    "from selenium import webdriver\n",
    "from selenium.webdriver.common.by import By\n",
    "import time"
   ]
  },
  {
   "cell_type": "code",
   "execution_count": 66,
   "metadata": {},
   "outputs": [],
   "source": [
    "url = \"https://www.linkedin.com/jobs/search?keywords=An%C3%A1lisis%20De%20Datos&location=Argentina&geoId=100446943&trk=public_jobs_jobs-search-bar_search-submit&position=1&pageNum=0\""
   ]
  },
  {
   "cell_type": "code",
   "execution_count": 73,
   "metadata": {},
   "outputs": [],
   "source": [
    "# Creating a webdriver instance\n",
    "driver = webdriver.Chrome()\n",
    "# This instance will be used to log into LinkedIn\n",
    " \n",
    "# Opening linkedIn's login page\n",
    "driver.get(url)\n",
    " \n",
    "# waiting for the page to load\n",
    "time.sleep(6)\n",
    " "
   ]
  },
  {
   "cell_type": "code",
   "execution_count": 74,
   "metadata": {},
   "outputs": [],
   "source": [
    "n = driver.find_element(By.CLASS_NAME ,'results-context-header__job-count')"
   ]
  },
  {
   "cell_type": "code",
   "execution_count": 49,
   "metadata": {},
   "outputs": [
    {
     "data": {
      "text/plain": [
       "'1000'"
      ]
     },
     "execution_count": 49,
     "metadata": {},
     "output_type": "execute_result"
    }
   ],
   "source": [
    "n.text"
   ]
  },
  {
   "cell_type": "code",
   "execution_count": 75,
   "metadata": {},
   "outputs": [],
   "source": [
    "y = pd.to_numeric(n.text)"
   ]
  },
  {
   "cell_type": "code",
   "execution_count": 76,
   "metadata": {},
   "outputs": [
    {
     "data": {
      "text/plain": [
       "1000"
      ]
     },
     "execution_count": 76,
     "metadata": {},
     "output_type": "execute_result"
    }
   ],
   "source": [
    "y"
   ]
  },
  {
   "cell_type": "code",
   "execution_count": 81,
   "metadata": {},
   "outputs": [],
   "source": [
    "#Loop to scroll through all jobs and click on see more jobs button for infinite scrolling\n",
    "\n",
    "i = 2\n",
    "while i <= 26: \n",
    "    driver.execute_script(\"window.scrollTo(0, document.body.scrollHeight);\")\n",
    "    i = i + 1\n",
    "    \n",
    "    try:\n",
    "        send=driver.find_element(By.XPATH,\"//button[@aria-label='Ver más empleos']\").click()\n",
    "        #driver.execute_script(\"arguments[0].click();\", send)   \n",
    "        time.sleep(3)\n",
    "                                                \n",
    "            \n",
    "    except:\n",
    "        pass\n",
    "        time.sleep(5) \n",
    "         "
   ]
  },
  {
   "cell_type": "code",
   "execution_count": 82,
   "metadata": {},
   "outputs": [
    {
     "name": "stdout",
     "output_type": "stream",
     "text": [
      "['DirMOD', 'LC Consultora | Recursos Humanos', 'LC Consultora | Recursos Humanos', 'Prestigio', 'Claro Argentina', 'Medifé', 'Suizo Argentina', 'Wunderman Thompson Argentina', 'BBVA en Argentina', 'In.Corporate', 'Suizo Argentina', 'Ledesma', 'Seguros Supervielle', 'Montagne', 'Suizo Argentina', 'Coca-Cola FEMSA', 'Ualá', 'DHL Express', 'Suizo Argentina', 'Novatium', 'Telecentro', 'Ingematica', 'Prisma Medios de Pago', 'Medifé', 'Provincia ART', 'Andreani Grupo Logístico', 'Scienza Argentina', 'Cencosud S.A.', 'Banco Hipotecario', 'Prosegur', 'Scienza Argentina', 'Naranja X', 'Vacalin', 'Mastellone Hnos. S.A.', 'HUZO.nl', 'Grupo Abans', 'Coca-Cola FEMSA', 'NRG ARGENTINA S.A.', 'Mastellone Hnos. S.A.', 'Grupo Abans', 'BBVA en Argentina', 'Laboratorio Elea', 'ucrop.it', 'Compra Gamer', 'SUPLE SERVICIOS EMPRESARIOS', 'Nubi', 'Pro-Selection Capital Humano', 'BBVA en Argentina', 'GroupM', 'Mastellone Hnos. S.A.', 'Mercado Libre', 'Brandlive', 'Mercado Libre', 'PedidosYa', 'Andreani Grupo Logístico', 'Metrotel Argentina', 'GEN Staffing & Recruiting', 'Nexo Group', 'Charles Taylor', 'Provincia NET', 'Lisicki Litvin & Asociados', 'Reba', 'Pan American Energy', 'Rappi', 'Nexo Group', 'GIGA IT', 'Reba', 'Drogueria del Sud S.A', 'HuCap-Inteligencia en Capital Humano-', 'Rappi', 'Allaria', 'HUENEI IT SERVICES', 'Baliarda S.A.', 'Recursos en tus manos', 'Direcciona', 'bdtglobal', 'COELSA', 'TALENTGROWERS', 'PedidosYa', 'In.Corporate', 'Cabify', 'Capital Humano', 'Zeo Consulting', 'Grupo OSDE', 'Banco Interamericano de Desarrollo', 'Penta Security Solutions', 'Avalian', 'Andreani Grupo Logístico', 'Aeropuertos Argentina 2000', 'Farmacias Central Oeste', 'GLAM Distribuciones', 'Modus Create', 'TALENT RECRUITERS', 'fyo', 'BDO Argentina', 'Benito Roggio e Hijos S.A. (Argentina)', 'Rappi', 'Avaya', 'Lenovo', 'Mercado Libre', 'Capital Humano', 'Grupo Pose', 'Grido', 'Thomson Reuters', 'Banco Galicia', 'Telecentro', 'Marisa Misischia - Gestionamos Talentos', 'Penta Security Solutions', 'Cervecería y Maltería Quilmes', 'Cambio Laboral IT Consultora en RRHH 🌐 Búsqueda y Selección de Talentos IT 👩💻', 'Laboratorios Raffo S.A.', 'Cabify', 'CONSULTORA ZIVOT', 'Nubi', 'BIC', 'LABYES', 'Token Metrics', 'B&B Consultores', 'Universidad ISALUD', 'CACIC SPORTS VISION SRL', 'Know How and Planning', 'Remitee', 'Product Hackers', 'Stefanini LATAM', 'GD hr value', 'Bellingrodt Reisebüro GmbH', 'Experis Argentina', 'SUPERCEMENTO', 'Claro Argentina', 'Crowe | Ar', 'Andreani Grupo Logístico', 'HuCap-Inteligencia en Capital Humano-', 'Cabify', 'Strix by LoJack', 'Brandlive', 'GDN AR', 'Timbó', 'BGH Tech Partner', 'Thomson Reuters', 'PONCIO', 'Terragene', 'Bravium Latam', 'AZGroup', 'Solventa Lending', 'Empleos IT Argentina', 'Sodimac', 'Consultora Gestal', 'In.Corporate', 'Rappi', 'Kenvue', 'TALENT RECRUITERS', 'Indigo Consulting S.A.', 'GEN Staffing & Recruiting', 'Experis Argentina', 'fasttrackjobfinder.com', 'fasttrackjobfinder.com', 'Oracle', 'Solventa Lending', 'MJ Consulting RRHH', 'Ceta Capital Humano', 'Aliancers', 'NASEBY TURNHAM LIMITED', 'NASEBY TURNHAM LIMITED', 'Michael Page', 'TIJE Travel', 'Grupo Libertad', 'NASEBY TURNHAM LIMITED', 'Synchro Technologies', 'Solventa Lending', 'Grupo Consultores de Empresas', 'Randstad Argentina', 'SUPERCEMENTO', 'NASEBY TURNHAM LIMITED', 'HuCap-Inteligencia en Capital Humano-', 'Banco Supervielle', 'Banco Supervielle', 'Advanced Software', 'BBVA en Argentina', 'Blue Arrow Latam', 'ICARS', 'MAGHER', 'Lenovo', 'Coldview Latam', 'Michael Page', 'Accusys Technology', 'Medifé', 'Empleos IT Argentina', 'Glenmark Generics', 'IVESS El Jumillano', 'PARDO S.A.', 'Telecentro', 'Cona Consultores', 'Indusplast', 'Schindler Group', 'Contract Workplaces', 'Medifé', 'Edenor', 'Consejo Profesional de Ciencias Económicas de la Ciudad Autónoma de Buenos Aires', 'HUZO.nl', 'Mercado Libre', 'SA VERACRUZ', 'Nexo Group', 'Grido', 'Acento Consultoría #CulturasQueEvolucionan', 'PedidosYa', 'PedidosYa', 'Michael Page', 'Michael Page', 'Centras RH', 'Crucijuegos', 'Orbia', 'Drogueria del Sud S.A', 'Accusys Technology', 'SLC - Recursos Humanos', 'Frost & Sullivan', 'Emergencias', 'Direcciona', 'BrightSide IT Consulting S.A.', 'SC Johnson', 'Michael Page', 'GEN Staffing & Recruiting', 'Scania Argentina', 'aeros', 'Brandlive', 'Laboratorio Elea', 'Avalian', 'PedidosYa', 'SCI comunidad', 'Flecha Bus', 'Solventa Lending', 'KDtalent', 'Grupo Libertad', 'Profertil Agro', 'Benito Roggio e Hijos S.A. (Argentina)', 'Mercado Libre', 'Solventa Lending', 'GEN Staffing & Recruiting', 'Flecha Bus', 'Rappi', 'Idearhumano', 'Potenciarnos - Capital Humano', 'Human Wealth', 'Emergencias', 'GEN Staffing & Recruiting', 'SLC - Recursos Humanos', 'Alejandra Molina', 'harold duarte', 'LA VIRGINIA', 'Accenture Argentina', 'Confidencial', 'Confidencial', 'Solventa Lending', 'Maincal S.A.', 'Grupo Consultores de Empresas', 'MJ Consulting RRHH', 'Dabrein Solutions', 'Pacifica Continental', 'Solventa Lending', 'Tsoft', 'Dale Play Entertainment', 'DREAMCO', 'Dicsys', 'Beinst', 'GEN Staffing & Recruiting', 'EssenceMediacom', 'OSDA Contract Services', 'Claro Argentina', 'Assurant', 'Servicios Compass de Argentina', 'Experis Argentina', 'TECMADE S.A.', 'Expertise Consultores', 'SCI comunidad', 'Galtsa', 'Pontificia Universidad Católica Argentina', 'Grido', 'SA VERACRUZ', 'High Flow', 'Capital Humano', 'NTT DATA Europe & Latam', 'Assurant', 'MOOD Human Resources', 'Michael Page', 'Servicios Compartidos de Empleos', 'Pacifica Continental', 'JESSICA ELLIOTT CONSULTORIA', 'Servicios Compartidos de Empleos', 'MAYORISTA OLTI', 'Strix by LoJack', 'KPMG Argentina', 'Grupo Iraola', 'Idearhumano', 'SLC - Recursos Humanos', 'Teva Pharmaceutials', 'IDONEUS', 'Llao Llao Hotel & Resort Golf - Spa', 'Adecco', 'SCI comunidad', 'Newmont Corporation', 'Ualá', 'Grupo Randazzo', 'Expertise Consultores', 'GRUPO CETROGAR', 'Cona Consultores', 'Pro-Selection Capital Humano', 'Alejandra Molina', 'dp consultores', 'Potenciarnos - Capital Humano', 'TRF (Transfarmaco SA)', 'HUMAN CONSULTING', 'Compre Ahora Argentina', 'Rex', 'Consultora Gestal', 'GEN Staffing & Recruiting', 'GEN Staffing & Recruiting', 'NeoBiz Consultores', 'IT HUNTER INTERNATIONAL', 'Bizit Global', 'CONSULTORA ZIVOT', 'Suconsul', 'LOMA NEGRA CIASA', 'Servicios Compass de Argentina', 'Suple Servicio Empresario S.A.', 'Estrategia RRHH', 'Glencore', 'Maia Arzuaga - Gestión de Personas y Organizaciones', 'Camera di Commercio Italiana nella Repubblica Argentina', 'Lava Pictures Inc', 'Emergencias', 'Accenture Argentina', 'CONSULTORA ZIVOT', 'draftLine BUE', 'Vacunar', 'IT HUNTER INTERNATIONAL', 'Sottovoce', 'Sinteplast', 'CMPC', 'Williams Equipment Engineering', 'Automóviles San Jorge S.A.', 'Michael Page', 'Ferrum SA de Ceramica y Metalurgia', 'High Flow', 'Michael Page', 'Lenovo', 'Voicenter S.A.', 'Interactuar Consultoria & Coaching', 'Emergencias', 'Solventa Lending', 'Pilares RRHH', 'Wega Argentina.', 'KUNAN S.A.', 'Accenture Argentina', 'ReclutaPro Argentina', 'SanCor Salud Grupo de Medicina Privada', 'GRUPO CETROGAR', 'Bumeran Selecta', 'Alma srl', 'Chevron', 'Grupo Myth', 'Ceta Capital Humano', 'Banco Comafi', 'Dabrein Solutions', 'NTU International A/S', 'Crowe | Ar', 'Rappi', 'likework', 'Food Service', 'NOAO', 'Accenture Argentina', 'JESSICA ELLIOTT CONSULTORIA', 'Michael Page', 'likework', 'AGV Recursos Humanos', 'Vox Terra', 'Cognizant', 'Grupo Libertad', 'Deloitte', 'Schneider Electric', 'Clinch HR', 'Rizobacter', 'Deloitte', 'Softys', 'Newmont Corporation', 'Accenture Argentina', 'Raízen Argentina', 'Continuum Global Solutions', 'Grupo Meditel', 'VATES - Software', 'Grupo Metropol', 'Grupo Familia', 'MJ Consulting RRHH', 'Andreani Grupo Logístico', 'IDONEUS', 'Suple Servicio Empresario S.A.', 'Empleos IT Argentina', 'SCI comunidad', 'Indigo Consulting S.A.', 'Beinst', 'Prisma', 'Experis Argentina', 'ASE Obra Social', 'Verisure Argentina', 'Cona Consultores', 'Grupo Ceta', 'Randstad Argentina', 'Houston Management & HR', 'Sottovoce', 'Media.Monks', 'Concentrix Catalyst', 'Accenture Argentina', 'Jorgelina Cerruti Recursos Humanos', 'Inspired Way', 'Holcim Argentina', 'UPS', 'ICARS', 'PONCIO', 'Grupo Abans', 'ICARS', 'Despegar', 'SCI comunidad', 'Vaneduc', 'ZENTO', 'Ecosistemas', 'Consejo Profesional de Ciencias Económicas de la Ciudad Autónoma de Buenos Aires', 'Consejo Profesional de Ciencias Económicas de la Ciudad Autónoma de Buenos Aires', 'dp consultores', 'BullMetrix', 'Accenture Argentina', 'The Nature Conservancy (TNC)', 'TIPS S.A.', 'aadesa - Hotel Management', 'Allkem Limited', 'Voolkia Software & Services', 'YEL Solutions', 'Michael Page', 'Estudio Sanchez Salas - Consultora RR.HH.', 'Clinch HR', 'Michael Page', 'Sinteplast', 'Manpower Argentina', 'COA Tecnología', 'SLC - Recursos Humanos', 'dentsu', 'B&B Consultores', 'AIESEC en Argentina', 'Verisure Argentina', 'Sanatorio del Oeste', 'Accenture Argentina', 'Car One', 'Cerolini & Ferrari Abogados', 'Suple Servicio Empresario S.A.', 'Novatium', 'Grupo Metropol', \"L'Oréal\", 'Michael Page', 'Food Service', 'Continuum Global Solutions', 'Accenture Argentina', 'UPS', 'Brandlive', 'Process Technologies', 'HUMAN CONSULTING', 'Accenture Argentina', 'Bróker Multinacional de Seguros', 'Estudio Sanchez Salas - Consultora RR.HH.', 'Zeo Consulting', 'dentsu', 'SCI comunidad', 'Acento Consultoría #CulturasQueEvolucionan', 'Synchro Technologies', 'DirMOD', 'IT HUNTER INTERNATIONAL', 'Securitas Argentina', 'Steinhardt', 'Grupo Myth', 'Boehringer Ingelheim', 'Indigo Consulting S.A.', 'Accenture Argentina', 'C&S', 'C&S', 'C&S', 'C&S', 'Nexo Group', 'Michael Page', 'YEL Solutions', 'Emergencias', 'Nexo Group', 'Bumeran Selecta', 'IDONEUS', 'Accenture Argentina', 'Emergencias', 'Ezequiel Pereyra - Búsqueda y Selección', 'Vaneduc', 'Pro-Selection Capital Humano', 'Grupo Iraola', 'Unisys', 'Accenture Argentina', 'Accenture Argentina', 'Pro-Selection Capital Humano', 'JESSICA ELLIOTT CONSULTORIA', 'Grupo Ceta', 'Open English', 'Nexo Group', 'YEL Solutions', 'YEL Solutions', 'IMPAM (UBA - CONICET)', 'CL SELECT- Consultoria en RRHH', 'Centro de e-Learning UTN FRBA', 'Expertise Consultores', 'Penta Security Solutions', 'PSA - Industrias Pugliese S.A', 'Nexo Group', 'Crowe | Ar', 'PwC Argentina', 'Neverland', 'Con Mor SRL', 'JESSICA ELLIOTT CONSULTORIA', 'Neverland', 'Michael Page', 'Reclutamiento Cecilia Menta', 'Grupo Consultores de Empresas', 'IBM', 'YEL Solutions', 'Sanatorio de la Cañada', 'YEL Solutions', 'YEL Solutions', 'Empleos IT Argentina', 'ICARS', 'Voicenter S.A.', 'Edelman', 'PwC Argentina', 'PwC Argentina', 'Consejo Profesional de Ciencias Económicas de la Ciudad Autónoma de Buenos Aires', 'Empresa gastronómica', 'Algar Tech LATAM', 'Grupo Myth', 'Acento Consultoría #CulturasQueEvolucionan', 'Manzur Administraciones', 'Accenture Argentina', 'YEL Solutions', 'MetLife', 'YEL Solutions', 'Reclutamiento Cecilia Menta', 'Accenture Argentina', 'LLYC', 'Accenture Argentina', 'CL SELECT- Consultoria en RRHH', 'Sanatorio de la Cañada', 'TGV', 'Voicenter S.A.', 'Voicenter S.A.', 'GRUPO CETROGAR', 'MCO Nexo Laboral S.R.L', 'YEL Solutions', 'Michael Page', 'Deloitte', 'Accenture Argentina', 'RA & Asociados', 'Cerámica Alberdi SA', 'Pro-Selection Capital Humano', 'C&S', 'RA & asoc', 'Nativa Consulting', 'Lx Argentina S.A.', 'Vanina Lillieskold', 'Corpen S.A. Mantenimiento, Construcción y Limpieza', 'YEL Solutions', 'IMPLEMENTAR CONSULTORES SRL', 'Accenture Argentina', 'IMPLEMENTAR CONSULTORES SRL', 'Indigo Consulting S.A.', 'IMPLEMENTAR CONSULTORES SRL', 'INSTITUTO CONCI CARPINELLA', 'Cognizant', 'Accenture Argentina', 'Patocchi Passera', 'Accenture Argentina', 'Accenture Argentina', 'Adviters', 'Accenture Argentina', 'ITPS ONE', 'Importante Estudio de Arquitectura', 'Accenture Argentina', 'Accenture Argentina', 'INSTITUTO CONCI CARPINELLA', 'Scala Consultora', 'Accenture Argentina', 'Cerámica Alberdi SA', 'Agencia Yakú', 'Dorama SRL', 'Sapindex', 'Grupo Myth', 'SONDA', 'RH Positivo Recursos Humanos', 'YEL Solutions', 'Ledesma', 'PwC Argentina', 'MS Coach Sandoval', 'MS Coach Sandoval', 'MS Coach Sandoval', 'MS Coach Sandoval', 'MS Coach Sandoval', 'QUO Consultora', 'QUO Consultora', 'Movimiento CREA', 'Suizo Argentina', 'Suizo Argentina', 'Suizo Argentina', 'Nosis', 'Ualá', 'Progres S.A.', 'Seguros Supervielle', 'EFRH Argentina', 'Natura', 'Manpower Argentina', 'El Cronista', 'LC Consultora | Recursos Humanos', 'Vacunar', 'MyDNA', 'Nini Mayorista', 'Roemmers', 'KUNAN S.A.', 'Suizo Argentina', 'VMLY&R', 'Ualá', 'CESA', 'Pacifica Continental', 'Connectingology', 'BBVA en Argentina', 'HSBC', 'Coderhouse', 'Movimiento CREA', 'CAT Technologies Argentina', 'Coderhouse', 'Coderhouse', 'Mastellone Hnos. S.A.', 'Cona Consultores', 'SanCor Salud Grupo de Medicina Privada', 'Cona Consultores', 'KDtalent', 'NEUMEN', 'Ualá', 'Megatlon', 'Greeslyn Max', 'SUPLE SERVICIOS EMPRESARIOS', 'Connectingology', 'Clever For Tech', 'Nexo Group', 'TMT Trade Marketing Technologies', 'TMT Trade Marketing Technologies', 'Servicios Compartidos de Empleos', 'biwini', 'Mercado Libre', 'Brandlive', 'Michael Page', 'Novatium', 'B&B Consultores', 'Despegar', 'Human Wealth', 'Aprende Institute', 'Accenture Argentina', 'Carestino', 'TRG Solutions', 'Banco Galicia', 'Laboratorios Casasco SAIC', 'Michael Page', 'Nexo Group', 'BD Capital Humano', 'Dicsys', 'MRM', 'EY', 'Coderhouse', 'CAT Technologies Argentina', 'Prosegur', 'Western Union', 'AEH CONSULTORES', 'Reckitt', 'Dabrein Solutions', 'ORT Argentina', 'Dia Argentina', 'Ónix HR Consulting', 'Acceda', 'Marini & Cia S.A.', 'SMS Buenos Aires', 'GDN AR', 'In.Corporate', 'Cognizant', 'Telecentro', 'GDN AR', 'Coderhouse', 'Coderhouse', 'GD hr value', 'INTERPOL', 'Nexo Group', 'Entravision Mobile Growth Solutions', 'YEL Solutions', 'Automóviles San Jorge', 'Brandlive', 'Contabilium', 'Auren Argentina', 'Dicsys', 'Natural Life - Apasionados por tu mascota', 'Auren Argentina', 'Crucijuegos', 'Mercantil Andina', 'Entravision Digital - Global Advertising powered by Technology', 'Vacunar', 'Cona Consultores', 'Grupo Iraola', 'CL SELECT- Consultoria en RRHH', 'Estudio Kohon', 'Auren Argentina', 'CONSULTORA ZIVOT', 'McCain Foods', 'Syntesys Consultora en Recursos Humanos', 'Avaya', 'NOAO', 'Avaya', 'PwC Argentina', 'Grupo Familia', 'Angel Baraldo', 'Würth Argentina S.A.', 'Banco Comafi', 'Coderhouse', 'Camera di Commercio Italiana nella Repubblica Argentina', 'Camuzzi', 'YEL Solutions', 'Randstad Argentina', 'Auren Argentina', 'Quales Group', 'Coderhouse', 'Human Wealth', 'CTL Information Technology', 'Minera Santa Cruz', 'Penta Security Solutions', 'Cona Consultores', 'Grupo Petersen', 'Brandlive', 'Syntesys Consultora en Recursos Humanos', 'Kin + Carta', 'Hidromec Argentina', 'SA VERACRUZ', 'Michael Page', 'Stefanini LATAM', 'COTO', 'JPMorgan Chase & Co.', 'Suple Servicio Empresario S.A.', 'AEHCONSULTORES', 'Mindshare', 'Serena HR Consultoras', 'IT Solutions Group SA', 'Wurzel Recruitment', 'CTL Information Technology', 'ILYG', 'Central Puerto', 'CEE ENRIQUEZ', 'Schindler Group', 'Penta Security Solutions', 'Grupo Abans', 'Grupo Lucci', 'S&P Global', 'Telecentro', 'BIC', 'Kaver', 'Kroll', 'CO+ Recursos Humanos', 'likework', 'SV Matesur', 'Valeiro Consultores', 'Rocketbot Robotic Process Automation (RPA)', 'MEGATONE', 'Kilimo', 'Accenture Argentina', 'Grupo Ceta', 'Haleon', 'Wunderman Thompson Argentina', 'Grupo Ceta', 'Sanofi', 'Houston Management & HR', 'Agnostic | a cognitive company', 'Emergencias', 'Telefónica', 'Cargill', 'Nexo Group', 'KDtalent', 'Hidalgo & Asociados', 'SA VERACRUZ', 'Banco Supervielle', 'Ceta Capital Humano', 'Accenture Argentina', 'FIND U', 'Algar Tech LATAM', 'ORT Argentina', 'Boehringer Ingelheim', 'SA VERACRUZ', 'Hospital Británico', 'GEN Staffing & Recruiting', 'Rappi', 'Practia Global', 'Servicios Compartidos de Empleos']\n"
     ]
    }
   ],
   "source": [
    "# Encontrar todos los elementos con la clase 'base-search-card__subtitle'\n",
    "company_elements = driver.find_elements(By.CLASS_NAME, 'base-search-card__subtitle')\n",
    "\n",
    "# Inicializar una lista para almacenar los nombres de compañías\n",
    "company_names = []\n",
    "\n",
    "# Iterar a través de los elementos y agregar los nombres a la lista\n",
    "for company_element in company_elements:\n",
    "    company_names.append(company_element.text)\n",
    "\n",
    "# Imprimir la lista de nombres de compañías\n",
    "print(company_names)"
   ]
  },
  {
   "cell_type": "code",
   "execution_count": 83,
   "metadata": {},
   "outputs": [
    {
     "data": {
      "text/plain": [
       "800"
      ]
     },
     "execution_count": 83,
     "metadata": {},
     "output_type": "execute_result"
    }
   ],
   "source": [
    "len(company_names)"
   ]
  },
  {
   "cell_type": "code",
   "execution_count": 85,
   "metadata": {},
   "outputs": [
    {
     "data": {
      "text/html": [
       "<div>\n",
       "<style scoped>\n",
       "    .dataframe tbody tr th:only-of-type {\n",
       "        vertical-align: middle;\n",
       "    }\n",
       "\n",
       "    .dataframe tbody tr th {\n",
       "        vertical-align: top;\n",
       "    }\n",
       "\n",
       "    .dataframe thead th {\n",
       "        text-align: right;\n",
       "    }\n",
       "</style>\n",
       "<table border=\"1\" class=\"dataframe\">\n",
       "  <thead>\n",
       "    <tr style=\"text-align: right;\">\n",
       "      <th></th>\n",
       "      <th>0</th>\n",
       "    </tr>\n",
       "  </thead>\n",
       "  <tbody>\n",
       "    <tr>\n",
       "      <th>0</th>\n",
       "      <td>DirMOD</td>\n",
       "    </tr>\n",
       "    <tr>\n",
       "      <th>1</th>\n",
       "      <td>LC Consultora | Recursos Humanos</td>\n",
       "    </tr>\n",
       "    <tr>\n",
       "      <th>2</th>\n",
       "      <td>LC Consultora | Recursos Humanos</td>\n",
       "    </tr>\n",
       "    <tr>\n",
       "      <th>3</th>\n",
       "      <td>Prestigio</td>\n",
       "    </tr>\n",
       "    <tr>\n",
       "      <th>4</th>\n",
       "      <td>Claro Argentina</td>\n",
       "    </tr>\n",
       "    <tr>\n",
       "      <th>...</th>\n",
       "      <td>...</td>\n",
       "    </tr>\n",
       "    <tr>\n",
       "      <th>795</th>\n",
       "      <td>Hospital Británico</td>\n",
       "    </tr>\n",
       "    <tr>\n",
       "      <th>796</th>\n",
       "      <td>GEN Staffing &amp; Recruiting</td>\n",
       "    </tr>\n",
       "    <tr>\n",
       "      <th>797</th>\n",
       "      <td>Rappi</td>\n",
       "    </tr>\n",
       "    <tr>\n",
       "      <th>798</th>\n",
       "      <td>Practia Global</td>\n",
       "    </tr>\n",
       "    <tr>\n",
       "      <th>799</th>\n",
       "      <td>Servicios Compartidos de Empleos</td>\n",
       "    </tr>\n",
       "  </tbody>\n",
       "</table>\n",
       "<p>800 rows × 1 columns</p>\n",
       "</div>"
      ],
      "text/plain": [
       "                                    0\n",
       "0                              DirMOD\n",
       "1    LC Consultora | Recursos Humanos\n",
       "2    LC Consultora | Recursos Humanos\n",
       "3                           Prestigio\n",
       "4                     Claro Argentina\n",
       "..                                ...\n",
       "795                Hospital Británico\n",
       "796         GEN Staffing & Recruiting\n",
       "797                             Rappi\n",
       "798                    Practia Global\n",
       "799  Servicios Compartidos de Empleos\n",
       "\n",
       "[800 rows x 1 columns]"
      ]
     },
     "execution_count": 85,
     "metadata": {},
     "output_type": "execute_result"
    }
   ],
   "source": [
    "pd.DataFrame(company_names)"
   ]
  }
 ],
 "metadata": {
  "kernelspec": {
   "display_name": "env",
   "language": "python",
   "name": "python3"
  },
  "language_info": {
   "codemirror_mode": {
    "name": "ipython",
    "version": 3
   },
   "file_extension": ".py",
   "mimetype": "text/x-python",
   "name": "python",
   "nbconvert_exporter": "python",
   "pygments_lexer": "ipython3",
   "version": "3.9.13"
  },
  "orig_nbformat": 4
 },
 "nbformat": 4,
 "nbformat_minor": 2
}
