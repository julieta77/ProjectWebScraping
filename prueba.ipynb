{
 "cells": [
  {
   "cell_type": "markdown",
   "metadata": {},
   "source": [
    "## Web scrapping\n"
   ]
  },
  {
   "cell_type": "code",
   "execution_count": 1,
   "metadata": {},
   "outputs": [],
   "source": [
    "import pandas as pd "
   ]
  },
  {
   "cell_type": "code",
   "execution_count": 2,
   "metadata": {},
   "outputs": [],
   "source": [
    "from bs4 import BeautifulSoup\n",
    "import requests\n",
    "import numpy as np\n",
    "\n",
    "from selenium import webdriver\n",
    "from selenium.webdriver.common.by import By\n",
    "import time"
   ]
  },
  {
   "cell_type": "code",
   "execution_count": 3,
   "metadata": {},
   "outputs": [],
   "source": [
    "from selenium.webdriver.support.ui import Select"
   ]
  },
  {
   "cell_type": "code",
   "execution_count": 4,
   "metadata": {},
   "outputs": [],
   "source": [
    "from selenium.webdriver.support.ui import WebDriverWait\n",
    "from selenium.webdriver.support import expected_conditions as EC\n"
   ]
  },
  {
   "cell_type": "code",
   "execution_count": 5,
   "metadata": {},
   "outputs": [],
   "source": [
    "url = \"https://www.linkedin.com/jobs/search?keywords=An%C3%A1lisis%20De%20Datos&location=Argentina&geoId=100446943&trk=public_jobs_jobs-search-bar_search-submit&position=1&pageNum=0\""
   ]
  },
  {
   "cell_type": "code",
   "execution_count": 6,
   "metadata": {},
   "outputs": [],
   "source": [
    "# Creating a webdriver instance\n",
    "driver = webdriver.Chrome()\n",
    "# This instance will be used to log into LinkedIn\n",
    " \n",
    "# Opening linkedIn's login page\n",
    "driver.get(url)\n",
    " \n",
    "# waiting for the page to load\n",
    "time.sleep(6)\n",
    " \n"
   ]
  },
  {
   "cell_type": "code",
   "execution_count": 7,
   "metadata": {},
   "outputs": [],
   "source": [
    "driver.find_element(By.CLASS_NAME ,f'filter-button').click()\n",
    "# Encuentra el elemento del filtro \"Últimas 24 horas\" por su ID\n",
    "filtro_24_horas = driver.find_element(By.ID, \"f_TPR-0\")\n",
    "\n",
    "# Haz clic en el filtro \"Últimas 24 horas\"\n",
    "filtro_24_horas.click()\n",
    "\n",
    "# Espera a que se aplique el filtro (ajusta el tiempo de espera según sea necesario)\n",
    "wait = WebDriverWait(driver, 10)\n",
    "wait.until(EC.presence_of_element_located((By.CLASS_NAME, \"filter__submit-button\")))\n",
    "\n",
    "# Encuentra el botón \"Listo\" por su clase y haz clic en él\n",
    "boton_listo = driver.find_element(By.CLASS_NAME, \"filter__submit-button\")\n",
    "boton_listo.click()"
   ]
  },
  {
   "cell_type": "code",
   "execution_count": 8,
   "metadata": {},
   "outputs": [],
   "source": [
    "n = driver.find_element(By.CLASS_NAME ,'results-context-header__job-count')"
   ]
  },
  {
   "cell_type": "code",
   "execution_count": 9,
   "metadata": {},
   "outputs": [
    {
     "data": {
      "text/plain": [
       "'12'"
      ]
     },
     "execution_count": 9,
     "metadata": {},
     "output_type": "execute_result"
    }
   ],
   "source": [
    "n.text"
   ]
  },
  {
   "cell_type": "code",
   "execution_count": 10,
   "metadata": {},
   "outputs": [],
   "source": [
    "y = pd.to_numeric(n.text)"
   ]
  },
  {
   "cell_type": "code",
   "execution_count": 140,
   "metadata": {},
   "outputs": [],
   "source": [
    "a = True\n",
    "while a: \n",
    "    driver.execute_script(\"window.scrollTo(0, document.body.scrollHeight);\")\n",
    "    \n",
    "    try:\n",
    "        end=driver.find_element(By.XPATH,\"//button[@aria-label='Ver más empleos']\").click()\n",
    "        #driver.execute_script(\"arguments[0].click();\", send)   \n",
    "        time.sleep(3)\n",
    "                                                \n",
    "    except:\n",
    "        pass\n",
    "        time.sleep(5) \n",
    "        a = False"
   ]
  },
  {
   "cell_type": "code",
   "execution_count": 141,
   "metadata": {},
   "outputs": [
    {
     "data": {
      "text/plain": [
       "43"
      ]
     },
     "execution_count": 141,
     "metadata": {},
     "output_type": "execute_result"
    }
   ],
   "source": [
    "y"
   ]
  },
  {
   "cell_type": "code",
   "execution_count": 11,
   "metadata": {},
   "outputs": [],
   "source": [
    "# Encontrar todos los elementos con la clase 'base-search-card__subtitle'\n",
    "company_elements = driver.find_elements(By.CLASS_NAME, 'base-search-card__subtitle')\n",
    "\n",
    "# Inicializar una lista para almacenar los nombres de compañías\n",
    "company_names = []\n",
    "\n",
    "# Iterar a través de los elementos y agregar los nombres a la lista\n",
    "for company_element in company_elements:\n",
    "    company_names.append(company_element.text)"
   ]
  },
  {
   "cell_type": "code",
   "execution_count": 12,
   "metadata": {},
   "outputs": [
    {
     "data": {
      "text/plain": [
       "12"
      ]
     },
     "execution_count": 12,
     "metadata": {},
     "output_type": "execute_result"
    }
   ],
   "source": [
    "len(company_elements)"
   ]
  },
  {
   "cell_type": "code",
   "execution_count": 13,
   "metadata": {},
   "outputs": [],
   "source": [
    "#Find job links and append it to a list\n",
    "\n",
    "jobList = driver.find_elements(By.CLASS_NAME, 'base-card__full-link')\n",
    "hrefList = []\n",
    "for e in jobList:\n",
    "    hrefList.append(e.get_attribute('href'))"
   ]
  },
  {
   "cell_type": "code",
   "execution_count": 14,
   "metadata": {},
   "outputs": [
    {
     "name": "stdout",
     "output_type": "stream",
     "text": [
      "11\n"
     ]
    }
   ],
   "source": [
    "print(len(hrefList))"
   ]
  },
  {
   "cell_type": "code",
   "execution_count": 15,
   "metadata": {},
   "outputs": [],
   "source": [
    "jobList2 = driver.find_elements(By.TAG_NAME, 'a') #Con a funciona\n",
    "lis = []\n",
    "for i in jobList2:\n",
    "    lis.append(i.get_attribute('href'))\n"
   ]
  },
  {
   "cell_type": "code",
   "execution_count": 16,
   "metadata": {},
   "outputs": [],
   "source": [
    "links = []"
   ]
  },
  {
   "cell_type": "code",
   "execution_count": 17,
   "metadata": {},
   "outputs": [],
   "source": [
    "for i in lis:\n",
    "    if i.startswith('https://ar.linkedin.com/jobs/view/'):\n",
    "        links.append(i)\n",
    "    "
   ]
  },
  {
   "cell_type": "code",
   "execution_count": 18,
   "metadata": {},
   "outputs": [
    {
     "data": {
      "text/plain": [
       "['https://ar.linkedin.com/jobs/view/operations-analyst-at-rappi-3615749092?refId=EsuAHUejkGX60X4VtrzilQ%3D%3D&trackingId=2SkiZzpqYv9hgI35KTq95Q%3D%3D&position=1&pageNum=0&trk=public_jobs_jserp-result_search-card',\n",
       " 'https://ar.linkedin.com/jobs/view/sales-performance-analysis-specialist-at-accenture-argentina-3716589565?refId=EsuAHUejkGX60X4VtrzilQ%3D%3D&trackingId=0Fnn0Rt9WFkofcnD3J3S6w%3D%3D&position=2&pageNum=0&trk=public_jobs_jserp-result_search-card',\n",
       " 'https://ar.linkedin.com/jobs/view/consultor-y-analista-funcional-de-aplicaciones-core-banking-at-unisys-3633543370?refId=EsuAHUejkGX60X4VtrzilQ%3D%3D&trackingId=TPzEfgUXNUWyEUkO19TWSw%3D%3D&position=3&pageNum=0&trk=public_jobs_jserp-result_search-card',\n",
       " 'https://ar.linkedin.com/jobs/view/human-capital-operations-analyst-us-client-at-pwc-argentina-3661947011?refId=EsuAHUejkGX60X4VtrzilQ%3D%3D&trackingId=fXlbgR%2FEGAGE4%2B%2Bz9z3CAw%3D%3D&position=4&pageNum=0&trk=public_jobs_jserp-result_search-card',\n",
       " 'https://ar.linkedin.com/jobs/view/bid-management-analyst-at-accenture-argentina-3704176285?refId=EsuAHUejkGX60X4VtrzilQ%3D%3D&trackingId=Vkbdho0h1TXTGsH4zkECMA%3D%3D&position=6&pageNum=0&trk=public_jobs_jserp-result_search-card',\n",
       " 'https://ar.linkedin.com/jobs/view/tech-enterprise-agility-consultant-at-accenture-argentina-3506846852?refId=EsuAHUejkGX60X4VtrzilQ%3D%3D&trackingId=HOJkjbOJ7MnskMpQjtoSJg%3D%3D&position=7&pageNum=0&trk=public_jobs_jserp-result_search-card',\n",
       " 'https://ar.linkedin.com/jobs/view/analista-de-producci%C3%B3n-at-contartese-3713233349?refId=EsuAHUejkGX60X4VtrzilQ%3D%3D&trackingId=366GsXjXzdFAVKlFYV7NJQ%3D%3D&position=8&pageNum=0&trk=public_jobs_jserp-result_search-card',\n",
       " 'https://ar.linkedin.com/jobs/view/data-analytics-and-insights-analytics-and-modeling-specialist-at-accenture-argentina-3672022000?refId=EsuAHUejkGX60X4VtrzilQ%3D%3D&trackingId=PYbqUI8kgl8X3wU28nZg5w%3D%3D&position=9&pageNum=0&trk=public_jobs_jserp-result_search-card',\n",
       " 'https://ar.linkedin.com/jobs/view/analista-contable-ssr-con-orientaci%C3%B3n-en-control-de-gesti%C3%B3n-at-la-torre-y-asoc-3713235342?refId=EsuAHUejkGX60X4VtrzilQ%3D%3D&trackingId=jRq6Js%2FuouVoFYG3P34ASw%3D%3D&position=10&pageNum=0&trk=public_jobs_jserp-result_search-card',\n",
       " 'https://ar.linkedin.com/jobs/view/email-marketing-and-automation-specialist-3500-usd-mes-remote-at-listopro-3709740888?refId=EsuAHUejkGX60X4VtrzilQ%3D%3D&trackingId=qn3RPnqBeA%2FAKfal9aYkDQ%3D%3D&position=11&pageNum=0&trk=public_jobs_jserp-result_search-card',\n",
       " 'https://ar.linkedin.com/jobs/view/carrier-support-analyst-ssr-at-cargill-3675878405?refId=EsuAHUejkGX60X4VtrzilQ%3D%3D&trackingId=3otGBlArbhNLKHqkNxlOeQ%3D%3D&position=12&pageNum=0&trk=public_jobs_jserp-result_search-card']"
      ]
     },
     "execution_count": 18,
     "metadata": {},
     "output_type": "execute_result"
    }
   ],
   "source": [
    "hrefList"
   ]
  },
  {
   "cell_type": "code",
   "execution_count": 19,
   "metadata": {},
   "outputs": [
    {
     "data": {
      "text/plain": [
       "['https://ar.linkedin.com/jobs/view/operations-analyst-at-rappi-3615749092?refId=EsuAHUejkGX60X4VtrzilQ%3D%3D&trackingId=2SkiZzpqYv9hgI35KTq95Q%3D%3D&position=1&pageNum=0&trk=public_jobs_jserp-result_search-card',\n",
       " 'https://ar.linkedin.com/jobs/view/sales-performance-analysis-specialist-at-accenture-argentina-3716589565?refId=EsuAHUejkGX60X4VtrzilQ%3D%3D&trackingId=0Fnn0Rt9WFkofcnD3J3S6w%3D%3D&position=2&pageNum=0&trk=public_jobs_jserp-result_search-card',\n",
       " 'https://ar.linkedin.com/jobs/view/consultor-y-analista-funcional-de-aplicaciones-core-banking-at-unisys-3633543370?refId=EsuAHUejkGX60X4VtrzilQ%3D%3D&trackingId=TPzEfgUXNUWyEUkO19TWSw%3D%3D&position=3&pageNum=0&trk=public_jobs_jserp-result_search-card',\n",
       " 'https://ar.linkedin.com/jobs/view/human-capital-operations-analyst-us-client-at-pwc-argentina-3661947011?refId=EsuAHUejkGX60X4VtrzilQ%3D%3D&trackingId=fXlbgR%2FEGAGE4%2B%2Bz9z3CAw%3D%3D&position=4&pageNum=0&trk=public_jobs_jserp-result_search-card',\n",
       " 'https://ar.linkedin.com/jobs/view/media-buyer-at-impactio-lab-3712650550?refId=EsuAHUejkGX60X4VtrzilQ%3D%3D&trackingId=1IG47aiSJ8AzKvLo9P9OZg%3D%3D&position=5&pageNum=0&trk=public_jobs_jserp-result_search-card',\n",
       " 'https://ar.linkedin.com/jobs/view/bid-management-analyst-at-accenture-argentina-3704176285?refId=EsuAHUejkGX60X4VtrzilQ%3D%3D&trackingId=Vkbdho0h1TXTGsH4zkECMA%3D%3D&position=6&pageNum=0&trk=public_jobs_jserp-result_search-card',\n",
       " 'https://ar.linkedin.com/jobs/view/tech-enterprise-agility-consultant-at-accenture-argentina-3506846852?refId=EsuAHUejkGX60X4VtrzilQ%3D%3D&trackingId=HOJkjbOJ7MnskMpQjtoSJg%3D%3D&position=7&pageNum=0&trk=public_jobs_jserp-result_search-card',\n",
       " 'https://ar.linkedin.com/jobs/view/analista-de-producci%C3%B3n-at-contartese-3713233349?refId=EsuAHUejkGX60X4VtrzilQ%3D%3D&trackingId=366GsXjXzdFAVKlFYV7NJQ%3D%3D&position=8&pageNum=0&trk=public_jobs_jserp-result_search-card',\n",
       " 'https://ar.linkedin.com/jobs/view/data-analytics-and-insights-analytics-and-modeling-specialist-at-accenture-argentina-3672022000?refId=EsuAHUejkGX60X4VtrzilQ%3D%3D&trackingId=PYbqUI8kgl8X3wU28nZg5w%3D%3D&position=9&pageNum=0&trk=public_jobs_jserp-result_search-card',\n",
       " 'https://ar.linkedin.com/jobs/view/analista-contable-ssr-con-orientaci%C3%B3n-en-control-de-gesti%C3%B3n-at-la-torre-y-asoc-3713235342?refId=EsuAHUejkGX60X4VtrzilQ%3D%3D&trackingId=jRq6Js%2FuouVoFYG3P34ASw%3D%3D&position=10&pageNum=0&trk=public_jobs_jserp-result_search-card',\n",
       " 'https://ar.linkedin.com/jobs/view/email-marketing-and-automation-specialist-3500-usd-mes-remote-at-listopro-3709740888?refId=EsuAHUejkGX60X4VtrzilQ%3D%3D&trackingId=qn3RPnqBeA%2FAKfal9aYkDQ%3D%3D&position=11&pageNum=0&trk=public_jobs_jserp-result_search-card',\n",
       " 'https://ar.linkedin.com/jobs/view/carrier-support-analyst-ssr-at-cargill-3675878405?refId=EsuAHUejkGX60X4VtrzilQ%3D%3D&trackingId=3otGBlArbhNLKHqkNxlOeQ%3D%3D&position=12&pageNum=0&trk=public_jobs_jserp-result_search-card',\n",
       " 'https://ar.linkedin.com/jobs/view/operations-analyst-at-rappi-3615749092?refId=EsuAHUejkGX60X4VtrzilQ%3D%3D&trackingId=2SkiZzpqYv9hgI35KTq95Q%3D%3D&trk=public_jobs_topcard-title']"
      ]
     },
     "execution_count": 19,
     "metadata": {},
     "output_type": "execute_result"
    }
   ],
   "source": [
    "links"
   ]
  },
  {
   "cell_type": "code",
   "execution_count": 21,
   "metadata": {},
   "outputs": [],
   "source": [
    "dis = []\n",
    "for i in links:\n",
    "    if i not in hrefList:\n",
    "        dis.append(i)"
   ]
  },
  {
   "cell_type": "code",
   "execution_count": 22,
   "metadata": {},
   "outputs": [
    {
     "data": {
      "text/plain": [
       "['https://ar.linkedin.com/jobs/view/media-buyer-at-impactio-lab-3712650550?refId=EsuAHUejkGX60X4VtrzilQ%3D%3D&trackingId=1IG47aiSJ8AzKvLo9P9OZg%3D%3D&position=5&pageNum=0&trk=public_jobs_jserp-result_search-card',\n",
       " 'https://ar.linkedin.com/jobs/view/operations-analyst-at-rappi-3615749092?refId=EsuAHUejkGX60X4VtrzilQ%3D%3D&trackingId=2SkiZzpqYv9hgI35KTq95Q%3D%3D&trk=public_jobs_topcard-title']"
      ]
     },
     "execution_count": 22,
     "metadata": {},
     "output_type": "execute_result"
    }
   ],
   "source": [
    "dis"
   ]
  },
  {
   "cell_type": "code",
   "execution_count": 20,
   "metadata": {},
   "outputs": [
    {
     "data": {
      "text/plain": [
       "13"
      ]
     },
     "execution_count": 20,
     "metadata": {},
     "output_type": "execute_result"
    }
   ],
   "source": [
    "len(links)"
   ]
  },
  {
   "cell_type": "code",
   "execution_count": 23,
   "metadata": {},
   "outputs": [],
   "source": [
    "links.remove('https://ar.linkedin.com/jobs/view/operations-analyst-at-rappi-3615749092?refId=EsuAHUejkGX60X4VtrzilQ%3D%3D&trackingId=2SkiZzpqYv9hgI35KTq95Q%3D%3D&trk=public_jobs_topcard-title')"
   ]
  },
  {
   "cell_type": "code",
   "execution_count": 24,
   "metadata": {},
   "outputs": [
    {
     "data": {
      "text/plain": [
       "12"
      ]
     },
     "execution_count": 24,
     "metadata": {},
     "output_type": "execute_result"
    }
   ],
   "source": [
    "len(links)"
   ]
  },
  {
   "cell_type": "code",
   "execution_count": 25,
   "metadata": {},
   "outputs": [],
   "source": [
    "titles = driver.find_elements(By.CLASS_NAME, 'base-search-card__title')\n",
    "\n",
    "# Inicializar una lista para almacenar los nombres de compañías\n",
    "titles_names = []\n",
    "\n",
    "# Iterar a través de los elementos y agregar los nombres a la lista\n",
    "for title in titles:\n",
    "    titles_names.append(title.text)"
   ]
  },
  {
   "cell_type": "code",
   "execution_count": 26,
   "metadata": {},
   "outputs": [
    {
     "data": {
      "text/plain": [
       "12"
      ]
     },
     "execution_count": 26,
     "metadata": {},
     "output_type": "execute_result"
    }
   ],
   "source": [
    "len(titles_names)"
   ]
  },
  {
   "cell_type": "code",
   "execution_count": 27,
   "metadata": {},
   "outputs": [
    {
     "data": {
      "text/plain": [
       "['Operations Analyst',\n",
       " 'Sales Performance & Analysis - Specialist',\n",
       " 'Consultor y Analista funcional de aplicaciones (Core Banking)',\n",
       " 'Human Capital - Operations Analyst US Client',\n",
       " 'Media Buyer',\n",
       " 'Bid Management Analyst',\n",
       " 'Tech & Enterprise Agility Consultant',\n",
       " 'Analista de producción',\n",
       " 'Data Analytics and Insights: Analytics and Modeling Specialist',\n",
       " 'Analista Contable Ssr. con Orientación en Control de Gestión',\n",
       " 'Email Marketing and Automation Specialist (3500 USD/Mes) [Remote]',\n",
       " 'Carrier Support Analyst SSr']"
      ]
     },
     "execution_count": 27,
     "metadata": {},
     "output_type": "execute_result"
    }
   ],
   "source": [
    "titles_names"
   ]
  },
  {
   "cell_type": "code",
   "execution_count": 28,
   "metadata": {},
   "outputs": [],
   "source": [
    "locations = driver.find_elements(By.CLASS_NAME, 'job-search-card__location')\n",
    "\n",
    "# Inicializar una lista para almacenar los nombres de compañías\n",
    "locations_names = []\n",
    "\n",
    "# Iterar a través de los elementos y agregar los nombres a la lista\n",
    "for location in locations:\n",
    "    locations_names.append(location.text)"
   ]
  },
  {
   "cell_type": "code",
   "execution_count": 29,
   "metadata": {},
   "outputs": [
    {
     "data": {
      "text/plain": [
       "12"
      ]
     },
     "execution_count": 29,
     "metadata": {},
     "output_type": "execute_result"
    }
   ],
   "source": [
    "len(locations_names)"
   ]
  },
  {
   "cell_type": "code",
   "execution_count": 30,
   "metadata": {},
   "outputs": [],
   "source": [
    "dates = driver.find_elements(By.CLASS_NAME, 'job-search-card__listdate--new')\n",
    "\n",
    "# Inicializar una lista para almacenar los nombres de compañías\n",
    "jobs_dates = []\n",
    "\n",
    "# Iterar a través de los elementos y agregar los nombres a la lista\n",
    "for date in dates:\n",
    "    datetime = date.get_attribute(\"datetime\")\n",
    "    jobs_dates.append(datetime)"
   ]
  },
  {
   "cell_type": "code",
   "execution_count": 31,
   "metadata": {},
   "outputs": [
    {
     "data": {
      "text/plain": [
       "12"
      ]
     },
     "execution_count": 31,
     "metadata": {},
     "output_type": "execute_result"
    }
   ],
   "source": [
    "len(jobs_dates)"
   ]
  },
  {
   "cell_type": "code",
   "execution_count": 32,
   "metadata": {},
   "outputs": [
    {
     "data": {
      "text/plain": [
       "['2023-09-10',\n",
       " '2023-09-10',\n",
       " '2023-09-10',\n",
       " '2023-09-09',\n",
       " '2023-09-09',\n",
       " '2023-09-10',\n",
       " '2023-09-10',\n",
       " '2023-09-09',\n",
       " '2023-09-09',\n",
       " '2023-09-09',\n",
       " '2023-09-10',\n",
       " '2023-09-10']"
      ]
     },
     "execution_count": 32,
     "metadata": {},
     "output_type": "execute_result"
    }
   ],
   "source": [
    "jobs_dates"
   ]
  },
  {
   "cell_type": "code",
   "execution_count": 33,
   "metadata": {},
   "outputs": [],
   "source": [
    "df = pd.DataFrame({'title': titles_names, 'company': company_names, 'location': locations_names,'date': jobs_dates,'link': links})"
   ]
  },
  {
   "cell_type": "code",
   "execution_count": 34,
   "metadata": {},
   "outputs": [
    {
     "data": {
      "text/html": [
       "<div>\n",
       "<style scoped>\n",
       "    .dataframe tbody tr th:only-of-type {\n",
       "        vertical-align: middle;\n",
       "    }\n",
       "\n",
       "    .dataframe tbody tr th {\n",
       "        vertical-align: top;\n",
       "    }\n",
       "\n",
       "    .dataframe thead th {\n",
       "        text-align: right;\n",
       "    }\n",
       "</style>\n",
       "<table border=\"1\" class=\"dataframe\">\n",
       "  <thead>\n",
       "    <tr style=\"text-align: right;\">\n",
       "      <th></th>\n",
       "      <th>title</th>\n",
       "      <th>company</th>\n",
       "      <th>location</th>\n",
       "      <th>date</th>\n",
       "      <th>link</th>\n",
       "    </tr>\n",
       "  </thead>\n",
       "  <tbody>\n",
       "    <tr>\n",
       "      <th>0</th>\n",
       "      <td>Operations Analyst</td>\n",
       "      <td>Rappi</td>\n",
       "      <td>Buenos Aires y alrededores</td>\n",
       "      <td>2023-09-10</td>\n",
       "      <td>https://ar.linkedin.com/jobs/view/operations-a...</td>\n",
       "    </tr>\n",
       "    <tr>\n",
       "      <th>1</th>\n",
       "      <td>Sales Performance &amp; Analysis - Specialist</td>\n",
       "      <td>Accenture Argentina</td>\n",
       "      <td>Buenos Aires y alrededores</td>\n",
       "      <td>2023-09-10</td>\n",
       "      <td>https://ar.linkedin.com/jobs/view/sales-perfor...</td>\n",
       "    </tr>\n",
       "    <tr>\n",
       "      <th>2</th>\n",
       "      <td>Consultor y Analista funcional de aplicaciones...</td>\n",
       "      <td>Unisys</td>\n",
       "      <td>Buenos Aires, Provincia de Buenos Aires, Argen...</td>\n",
       "      <td>2023-09-10</td>\n",
       "      <td>https://ar.linkedin.com/jobs/view/consultor-y-...</td>\n",
       "    </tr>\n",
       "    <tr>\n",
       "      <th>3</th>\n",
       "      <td>Human Capital - Operations Analyst US Client</td>\n",
       "      <td>PwC Argentina</td>\n",
       "      <td>Provincia de Buenos Aires, Argentina</td>\n",
       "      <td>2023-09-09</td>\n",
       "      <td>https://ar.linkedin.com/jobs/view/human-capita...</td>\n",
       "    </tr>\n",
       "    <tr>\n",
       "      <th>4</th>\n",
       "      <td>Media Buyer</td>\n",
       "      <td>Impactio Lab</td>\n",
       "      <td>Argentina</td>\n",
       "      <td>2023-09-09</td>\n",
       "      <td>https://ar.linkedin.com/jobs/view/media-buyer-...</td>\n",
       "    </tr>\n",
       "    <tr>\n",
       "      <th>5</th>\n",
       "      <td>Bid Management Analyst</td>\n",
       "      <td>Accenture Argentina</td>\n",
       "      <td>Buenos Aires, Provincia de Buenos Aires, Argen...</td>\n",
       "      <td>2023-09-10</td>\n",
       "      <td>https://ar.linkedin.com/jobs/view/bid-manageme...</td>\n",
       "    </tr>\n",
       "    <tr>\n",
       "      <th>6</th>\n",
       "      <td>Tech &amp; Enterprise Agility Consultant</td>\n",
       "      <td>Accenture Argentina</td>\n",
       "      <td>Buenos Aires, Provincia de Buenos Aires, Argen...</td>\n",
       "      <td>2023-09-10</td>\n",
       "      <td>https://ar.linkedin.com/jobs/view/tech-enterpr...</td>\n",
       "    </tr>\n",
       "    <tr>\n",
       "      <th>7</th>\n",
       "      <td>Analista de producción</td>\n",
       "      <td>CONTARTESE</td>\n",
       "      <td>Buenos Aires y alrededores</td>\n",
       "      <td>2023-09-09</td>\n",
       "      <td>https://ar.linkedin.com/jobs/view/analista-de-...</td>\n",
       "    </tr>\n",
       "    <tr>\n",
       "      <th>8</th>\n",
       "      <td>Data Analytics and Insights: Analytics and Mod...</td>\n",
       "      <td>Accenture Argentina</td>\n",
       "      <td>Buenos Aires, Provincia de Buenos Aires, Argen...</td>\n",
       "      <td>2023-09-09</td>\n",
       "      <td>https://ar.linkedin.com/jobs/view/data-analyti...</td>\n",
       "    </tr>\n",
       "    <tr>\n",
       "      <th>9</th>\n",
       "      <td>Analista Contable Ssr. con Orientación en Cont...</td>\n",
       "      <td>LA TORRE Y ASOC.</td>\n",
       "      <td>Buenos Aires y alrededores</td>\n",
       "      <td>2023-09-09</td>\n",
       "      <td>https://ar.linkedin.com/jobs/view/analista-con...</td>\n",
       "    </tr>\n",
       "    <tr>\n",
       "      <th>10</th>\n",
       "      <td>Email Marketing and Automation Specialist (350...</td>\n",
       "      <td>Listopro</td>\n",
       "      <td>Argentina</td>\n",
       "      <td>2023-09-10</td>\n",
       "      <td>https://ar.linkedin.com/jobs/view/email-market...</td>\n",
       "    </tr>\n",
       "    <tr>\n",
       "      <th>11</th>\n",
       "      <td>Carrier Support Analyst SSr</td>\n",
       "      <td>Cargill</td>\n",
       "      <td>Rosario, Santa Fe, Argentina</td>\n",
       "      <td>2023-09-10</td>\n",
       "      <td>https://ar.linkedin.com/jobs/view/carrier-supp...</td>\n",
       "    </tr>\n",
       "  </tbody>\n",
       "</table>\n",
       "</div>"
      ],
      "text/plain": [
       "                                                title              company  \\\n",
       "0                                  Operations Analyst                Rappi   \n",
       "1           Sales Performance & Analysis - Specialist  Accenture Argentina   \n",
       "2   Consultor y Analista funcional de aplicaciones...               Unisys   \n",
       "3        Human Capital - Operations Analyst US Client        PwC Argentina   \n",
       "4                                         Media Buyer         Impactio Lab   \n",
       "5                              Bid Management Analyst  Accenture Argentina   \n",
       "6                Tech & Enterprise Agility Consultant  Accenture Argentina   \n",
       "7                              Analista de producción           CONTARTESE   \n",
       "8   Data Analytics and Insights: Analytics and Mod...  Accenture Argentina   \n",
       "9   Analista Contable Ssr. con Orientación en Cont...     LA TORRE Y ASOC.   \n",
       "10  Email Marketing and Automation Specialist (350...             Listopro   \n",
       "11                        Carrier Support Analyst SSr              Cargill   \n",
       "\n",
       "                                             location        date  \\\n",
       "0                          Buenos Aires y alrededores  2023-09-10   \n",
       "1                          Buenos Aires y alrededores  2023-09-10   \n",
       "2   Buenos Aires, Provincia de Buenos Aires, Argen...  2023-09-10   \n",
       "3                Provincia de Buenos Aires, Argentina  2023-09-09   \n",
       "4                                           Argentina  2023-09-09   \n",
       "5   Buenos Aires, Provincia de Buenos Aires, Argen...  2023-09-10   \n",
       "6   Buenos Aires, Provincia de Buenos Aires, Argen...  2023-09-10   \n",
       "7                          Buenos Aires y alrededores  2023-09-09   \n",
       "8   Buenos Aires, Provincia de Buenos Aires, Argen...  2023-09-09   \n",
       "9                          Buenos Aires y alrededores  2023-09-09   \n",
       "10                                          Argentina  2023-09-10   \n",
       "11                       Rosario, Santa Fe, Argentina  2023-09-10   \n",
       "\n",
       "                                                 link  \n",
       "0   https://ar.linkedin.com/jobs/view/operations-a...  \n",
       "1   https://ar.linkedin.com/jobs/view/sales-perfor...  \n",
       "2   https://ar.linkedin.com/jobs/view/consultor-y-...  \n",
       "3   https://ar.linkedin.com/jobs/view/human-capita...  \n",
       "4   https://ar.linkedin.com/jobs/view/media-buyer-...  \n",
       "5   https://ar.linkedin.com/jobs/view/bid-manageme...  \n",
       "6   https://ar.linkedin.com/jobs/view/tech-enterpr...  \n",
       "7   https://ar.linkedin.com/jobs/view/analista-de-...  \n",
       "8   https://ar.linkedin.com/jobs/view/data-analyti...  \n",
       "9   https://ar.linkedin.com/jobs/view/analista-con...  \n",
       "10  https://ar.linkedin.com/jobs/view/email-market...  \n",
       "11  https://ar.linkedin.com/jobs/view/carrier-supp...  "
      ]
     },
     "execution_count": 34,
     "metadata": {},
     "output_type": "execute_result"
    }
   ],
   "source": [
    "df"
   ]
  },
  {
   "cell_type": "code",
   "execution_count": 186,
   "metadata": {},
   "outputs": [],
   "source": [
    "prueba= links[:1]"
   ]
  },
  {
   "cell_type": "code",
   "execution_count": 35,
   "metadata": {},
   "outputs": [],
   "source": [
    "from selenium.common.exceptions import NoSuchElementException"
   ]
  },
  {
   "cell_type": "code",
   "execution_count": 36,
   "metadata": {},
   "outputs": [],
   "source": [
    "dicc = {'title': [],'solicitud':[],'tipoJornada':[],'antiguedad':[],'funcionlaboral':[],'sectores':[]}"
   ]
  },
  {
   "cell_type": "code",
   "execution_count": 37,
   "metadata": {},
   "outputs": [
    {
     "data": {
      "text/plain": [
       "{'title': [],\n",
       " 'solicitud': [],\n",
       " 'tipoJornada': [],\n",
       " 'antiguedad': [],\n",
       " 'funcionlaboral': [],\n",
       " 'sectores': []}"
      ]
     },
     "execution_count": 37,
     "metadata": {},
     "output_type": "execute_result"
    }
   ],
   "source": [
    "dicc"
   ]
  },
  {
   "cell_type": "code",
   "execution_count": 38,
   "metadata": {},
   "outputs": [
    {
     "ename": "NoSuchElementException",
     "evalue": "Message: no such element: Unable to locate element: {\"method\":\"css selector\",\"selector\":\".num-applicants__caption\"}\n  (Session info: chrome=116.0.5845.96); For documentation on this error, please visit: https://www.selenium.dev/documentation/webdriver/troubleshooting/errors#no-such-element-exception\nStacktrace:\n\tGetHandleVerifier [0x00007FF7CA2552A2+57122]\n\t(No symbol) [0x00007FF7CA1CEA92]\n\t(No symbol) [0x00007FF7CA09E3AB]\n\t(No symbol) [0x00007FF7CA0D7D3E]\n\t(No symbol) [0x00007FF7CA0D7E2C]\n\t(No symbol) [0x00007FF7CA110B67]\n\t(No symbol) [0x00007FF7CA0F701F]\n\t(No symbol) [0x00007FF7CA10EB82]\n\t(No symbol) [0x00007FF7CA0F6DB3]\n\t(No symbol) [0x00007FF7CA0CD2B1]\n\t(No symbol) [0x00007FF7CA0CE494]\n\tGetHandleVerifier [0x00007FF7CA4FEF82+2849794]\n\tGetHandleVerifier [0x00007FF7CA551D24+3189156]\n\tGetHandleVerifier [0x00007FF7CA54ACAF+3160367]\n\tGetHandleVerifier [0x00007FF7CA2E6D06+653702]\n\t(No symbol) [0x00007FF7CA1DA208]\n\t(No symbol) [0x00007FF7CA1D62C4]\n\t(No symbol) [0x00007FF7CA1D63F6]\n\t(No symbol) [0x00007FF7CA1C67A3]\n\tBaseThreadInitThunk [0x00007FFD467F26AD+29]\n\tRtlUserThreadStart [0x00007FFD4760AA68+40]\n",
     "output_type": "error",
     "traceback": [
      "\u001b[1;31m---------------------------------------------------------------------------\u001b[0m",
      "\u001b[1;31mNoSuchElementException\u001b[0m                    Traceback (most recent call last)",
      "\u001b[1;32mc:\\Users\\julie\\OneDrive\\Escritorio\\Linkedin\\prueba.ipynb Celda 42\u001b[0m line \u001b[0;36m3\n\u001b[0;32m      <a href='vscode-notebook-cell:/c%3A/Users/julie/OneDrive/Escritorio/Linkedin/prueba.ipynb#X56sZmlsZQ%3D%3D?line=0'>1</a>\u001b[0m \u001b[39mfor\u001b[39;00m i \u001b[39min\u001b[39;00m links:\n\u001b[0;32m      <a href='vscode-notebook-cell:/c%3A/Users/julie/OneDrive/Escritorio/Linkedin/prueba.ipynb#X56sZmlsZQ%3D%3D?line=1'>2</a>\u001b[0m     driver\u001b[39m.\u001b[39mget(i)\n\u001b[1;32m----> <a href='vscode-notebook-cell:/c%3A/Users/julie/OneDrive/Escritorio/Linkedin/prueba.ipynb#X56sZmlsZQ%3D%3D?line=2'>3</a>\u001b[0m     dicc[\u001b[39m'\u001b[39m\u001b[39msolicitud\u001b[39m\u001b[39m'\u001b[39m]\u001b[39m.\u001b[39mappend(driver\u001b[39m.\u001b[39;49mfind_element(By\u001b[39m.\u001b[39;49mCLASS_NAME, \u001b[39m'\u001b[39;49m\u001b[39mnum-applicants__caption\u001b[39;49m\u001b[39m'\u001b[39;49m)\u001b[39m.\u001b[39mtext)\n\u001b[0;32m      <a href='vscode-notebook-cell:/c%3A/Users/julie/OneDrive/Escritorio/Linkedin/prueba.ipynb#X56sZmlsZQ%3D%3D?line=3'>4</a>\u001b[0m     dicc[\u001b[39m'\u001b[39m\u001b[39mtitle\u001b[39m\u001b[39m'\u001b[39m]\u001b[39m.\u001b[39mappend(driver\u001b[39m.\u001b[39mfind_element(By\u001b[39m.\u001b[39mCLASS_NAME, \u001b[39m'\u001b[39m\u001b[39mtop-card-layout__title\u001b[39m\u001b[39m'\u001b[39m)\u001b[39m.\u001b[39mtext)\n",
      "File \u001b[1;32mc:\\Users\\julie\\OneDrive\\Escritorio\\Linkedin\\env\\lib\\site-packages\\selenium\\webdriver\\remote\\webdriver.py:739\u001b[0m, in \u001b[0;36mWebDriver.find_element\u001b[1;34m(self, by, value)\u001b[0m\n\u001b[0;32m    736\u001b[0m     by \u001b[39m=\u001b[39m By\u001b[39m.\u001b[39mCSS_SELECTOR\n\u001b[0;32m    737\u001b[0m     value \u001b[39m=\u001b[39m \u001b[39mf\u001b[39m\u001b[39m'\u001b[39m\u001b[39m[name=\u001b[39m\u001b[39m\"\u001b[39m\u001b[39m{\u001b[39;00mvalue\u001b[39m}\u001b[39;00m\u001b[39m\"\u001b[39m\u001b[39m]\u001b[39m\u001b[39m'\u001b[39m\n\u001b[1;32m--> 739\u001b[0m \u001b[39mreturn\u001b[39;00m \u001b[39mself\u001b[39;49m\u001b[39m.\u001b[39;49mexecute(Command\u001b[39m.\u001b[39;49mFIND_ELEMENT, {\u001b[39m\"\u001b[39;49m\u001b[39musing\u001b[39;49m\u001b[39m\"\u001b[39;49m: by, \u001b[39m\"\u001b[39;49m\u001b[39mvalue\u001b[39;49m\u001b[39m\"\u001b[39;49m: value})[\u001b[39m\"\u001b[39m\u001b[39mvalue\u001b[39m\u001b[39m\"\u001b[39m]\n",
      "File \u001b[1;32mc:\\Users\\julie\\OneDrive\\Escritorio\\Linkedin\\env\\lib\\site-packages\\selenium\\webdriver\\remote\\webdriver.py:345\u001b[0m, in \u001b[0;36mWebDriver.execute\u001b[1;34m(self, driver_command, params)\u001b[0m\n\u001b[0;32m    343\u001b[0m response \u001b[39m=\u001b[39m \u001b[39mself\u001b[39m\u001b[39m.\u001b[39mcommand_executor\u001b[39m.\u001b[39mexecute(driver_command, params)\n\u001b[0;32m    344\u001b[0m \u001b[39mif\u001b[39;00m response:\n\u001b[1;32m--> 345\u001b[0m     \u001b[39mself\u001b[39;49m\u001b[39m.\u001b[39;49merror_handler\u001b[39m.\u001b[39;49mcheck_response(response)\n\u001b[0;32m    346\u001b[0m     response[\u001b[39m\"\u001b[39m\u001b[39mvalue\u001b[39m\u001b[39m\"\u001b[39m] \u001b[39m=\u001b[39m \u001b[39mself\u001b[39m\u001b[39m.\u001b[39m_unwrap_value(response\u001b[39m.\u001b[39mget(\u001b[39m\"\u001b[39m\u001b[39mvalue\u001b[39m\u001b[39m\"\u001b[39m, \u001b[39mNone\u001b[39;00m))\n\u001b[0;32m    347\u001b[0m     \u001b[39mreturn\u001b[39;00m response\n",
      "File \u001b[1;32mc:\\Users\\julie\\OneDrive\\Escritorio\\Linkedin\\env\\lib\\site-packages\\selenium\\webdriver\\remote\\errorhandler.py:229\u001b[0m, in \u001b[0;36mErrorHandler.check_response\u001b[1;34m(self, response)\u001b[0m\n\u001b[0;32m    227\u001b[0m         alert_text \u001b[39m=\u001b[39m value[\u001b[39m\"\u001b[39m\u001b[39malert\u001b[39m\u001b[39m\"\u001b[39m]\u001b[39m.\u001b[39mget(\u001b[39m\"\u001b[39m\u001b[39mtext\u001b[39m\u001b[39m\"\u001b[39m)\n\u001b[0;32m    228\u001b[0m     \u001b[39mraise\u001b[39;00m exception_class(message, screen, stacktrace, alert_text)  \u001b[39m# type: ignore[call-arg]  # mypy is not smart enough here\u001b[39;00m\n\u001b[1;32m--> 229\u001b[0m \u001b[39mraise\u001b[39;00m exception_class(message, screen, stacktrace)\n",
      "\u001b[1;31mNoSuchElementException\u001b[0m: Message: no such element: Unable to locate element: {\"method\":\"css selector\",\"selector\":\".num-applicants__caption\"}\n  (Session info: chrome=116.0.5845.96); For documentation on this error, please visit: https://www.selenium.dev/documentation/webdriver/troubleshooting/errors#no-such-element-exception\nStacktrace:\n\tGetHandleVerifier [0x00007FF7CA2552A2+57122]\n\t(No symbol) [0x00007FF7CA1CEA92]\n\t(No symbol) [0x00007FF7CA09E3AB]\n\t(No symbol) [0x00007FF7CA0D7D3E]\n\t(No symbol) [0x00007FF7CA0D7E2C]\n\t(No symbol) [0x00007FF7CA110B67]\n\t(No symbol) [0x00007FF7CA0F701F]\n\t(No symbol) [0x00007FF7CA10EB82]\n\t(No symbol) [0x00007FF7CA0F6DB3]\n\t(No symbol) [0x00007FF7CA0CD2B1]\n\t(No symbol) [0x00007FF7CA0CE494]\n\tGetHandleVerifier [0x00007FF7CA4FEF82+2849794]\n\tGetHandleVerifier [0x00007FF7CA551D24+3189156]\n\tGetHandleVerifier [0x00007FF7CA54ACAF+3160367]\n\tGetHandleVerifier [0x00007FF7CA2E6D06+653702]\n\t(No symbol) [0x00007FF7CA1DA208]\n\t(No symbol) [0x00007FF7CA1D62C4]\n\t(No symbol) [0x00007FF7CA1D63F6]\n\t(No symbol) [0x00007FF7CA1C67A3]\n\tBaseThreadInitThunk [0x00007FFD467F26AD+29]\n\tRtlUserThreadStart [0x00007FFD4760AA68+40]\n"
     ]
    }
   ],
   "source": [
    "for i in links:\n",
    "    driver.get(i)\n",
    "    dicc['solicitud'].append(driver.find_element(By.CLASS_NAME, 'num-applicants__caption').text)\n",
    "    dicc['title'].append(driver.find_element(By.CLASS_NAME, 'top-card-layout__title').text)\n",
    "    \n"
   ]
  },
  {
   "cell_type": "code",
   "execution_count": 298,
   "metadata": {},
   "outputs": [
    {
     "data": {
      "text/plain": [
       "{'title': ['Analista de Inventario',\n",
       "  'Analista de Experience Management',\n",
       "  'Sales Operations Advertising/ Analista de datos',\n",
       "  'Jr/Mid Data Analyst'],\n",
       " 'solicitud': ['56 solicitudes',\n",
       "  '41 solicitudes',\n",
       "  'Sé de los primeros 25 solicitantes',\n",
       "  '53 solicitudes'],\n",
       " 'tipoJornada': [None, None, None, None],\n",
       " 'antiguedad': ['Algo de responsabilidad',\n",
       "  'Algo de responsabilidad',\n",
       "  'Sin experiencia',\n",
       "  None],\n",
       " 'funcionlaboral': ['Compras, Cadena de abastecimiento y Tecnología de la información',\n",
       "  'Gestión de proyectos, Estrategia/planificación y Desarrollo empresarial',\n",
       "  'Tecnología de la información',\n",
       "  None],\n",
       " 'sectores': ['Seguridad e investigaciones',\n",
       "  'Tecnología, información e internet',\n",
       "  'Servicios de recursos humanos',\n",
       "  None]}"
      ]
     },
     "execution_count": 298,
     "metadata": {},
     "output_type": "execute_result"
    }
   ],
   "source": [
    "dicc"
   ]
  },
  {
   "cell_type": "code",
   "execution_count": 277,
   "metadata": {},
   "outputs": [
    {
     "data": {
      "text/plain": [
       "{'title': ['Analista de Inventario'],\n",
       " 'solicitud': ['56 solicitudes'],\n",
       " 'tipoJornada': ['Jornada completa'],\n",
       " 'antiguedad': ['Algo de responsabilidad'],\n",
       " 'funcionlaboral': ['Compras, Cadena de abastecimiento y Tecnología de la información'],\n",
       " 'sectores': ['Seguridad e investigaciones']}"
      ]
     },
     "execution_count": 277,
     "metadata": {},
     "output_type": "execute_result"
    }
   ],
   "source": [
    "dicc"
   ]
  },
  {
   "cell_type": "code",
   "execution_count": 299,
   "metadata": {},
   "outputs": [
    {
     "data": {
      "text/plain": [
       "4"
      ]
     },
     "execution_count": 299,
     "metadata": {},
     "output_type": "execute_result"
    }
   ],
   "source": [
    "len(dicc['title'])\n"
   ]
  },
  {
   "cell_type": "code",
   "execution_count": 273,
   "metadata": {},
   "outputs": [
    {
     "data": {
      "text/plain": [
       "['Analista de Inventario',\n",
       " 'Analista de Experience Management',\n",
       " 'Sales Operations Advertising/ Analista de datos',\n",
       " 'Jr/Mid Data Analyst',\n",
       " 'LA Channel Operations Analyst',\n",
       " 'ACTUARIO/A Negocios Internacionales y Salud',\n",
       " 'Analista de producción',\n",
       " 'Customer Service Sr Analyst']"
      ]
     },
     "execution_count": 273,
     "metadata": {},
     "output_type": "execute_result"
    }
   ],
   "source": [
    "dicc['title']"
   ]
  },
  {
   "cell_type": "code",
   "execution_count": 300,
   "metadata": {},
   "outputs": [
    {
     "data": {
      "text/plain": [
       "4"
      ]
     },
     "execution_count": 300,
     "metadata": {},
     "output_type": "execute_result"
    }
   ],
   "source": [
    "len(dicc['solicitud'])"
   ]
  },
  {
   "cell_type": "code",
   "execution_count": 305,
   "metadata": {},
   "outputs": [
    {
     "data": {
      "text/plain": [
       "{'title': ['Analista de Inventario',\n",
       "  'Analista de Experience Management',\n",
       "  'Sales Operations Advertising/ Analista de datos',\n",
       "  'Jr/Mid Data Analyst'],\n",
       " 'solicitud': ['56 solicitudes',\n",
       "  '41 solicitudes',\n",
       "  'Sé de los primeros 25 solicitantes',\n",
       "  '53 solicitudes'],\n",
       " 'tipoJornada': [None, None, None, None],\n",
       " 'antiguedad': ['Algo de responsabilidad',\n",
       "  'Algo de responsabilidad',\n",
       "  'Sin experiencia',\n",
       "  None],\n",
       " 'funcionlaboral': ['Compras, Cadena de abastecimiento y Tecnología de la información',\n",
       "  'Gestión de proyectos, Estrategia/planificación y Desarrollo empresarial',\n",
       "  'Tecnología de la información',\n",
       "  None],\n",
       " 'sectores': ['Seguridad e investigaciones',\n",
       "  'Tecnología, información e internet',\n",
       "  'Servicios de recursos humanos',\n",
       "  None]}"
      ]
     },
     "execution_count": 305,
     "metadata": {},
     "output_type": "execute_result"
    }
   ],
   "source": [
    "dicc"
   ]
  },
  {
   "cell_type": "code",
   "execution_count": 301,
   "metadata": {},
   "outputs": [
    {
     "data": {
      "text/plain": [
       "4"
      ]
     },
     "execution_count": 301,
     "metadata": {},
     "output_type": "execute_result"
    }
   ],
   "source": [
    "len(dicc['tipoJornada'])"
   ]
  },
  {
   "cell_type": "code",
   "execution_count": 304,
   "metadata": {},
   "outputs": [
    {
     "data": {
      "text/plain": [
       "[None, None, None, None]"
      ]
     },
     "execution_count": 304,
     "metadata": {},
     "output_type": "execute_result"
    }
   ],
   "source": [
    "dicc['tipoJornada']"
   ]
  },
  {
   "cell_type": "code",
   "execution_count": 188,
   "metadata": {},
   "outputs": [
    {
     "data": {
      "text/plain": [
       "['https://ar.linkedin.com/jobs/view/analista-de-inventario-at-prosegur-3712357260?refId=2SxEUYdU0850zhxXJWe4vg%3D%3D&trackingId=ZZDtSKd2xtImcvc3gVN1tw%3D%3D&position=1&pageNum=0&trk=public_jobs_jserp-result_search-card',\n",
       " 'https://ar.linkedin.com/jobs/view/analista-de-experience-management-at-mercado-libre-3712838205?refId=2SxEUYdU0850zhxXJWe4vg%3D%3D&trackingId=g6tL87Z4PSM6OeV9eRCCmw%3D%3D&position=2&pageNum=0&trk=public_jobs_jserp-result_search-card',\n",
       " 'https://ar.linkedin.com/jobs/view/sales-operations-advertising-analista-de-datos-at-experis-argentina-3712355345?refId=2SxEUYdU0850zhxXJWe4vg%3D%3D&trackingId=VBYRCfN4v8HMqJ4tE%2BoVzQ%3D%3D&position=3&pageNum=0&trk=public_jobs_jserp-result_search-card',\n",
       " 'https://ar.linkedin.com/jobs/view/jr-mid-data-analyst-at-kenility-3712844026?refId=2SxEUYdU0850zhxXJWe4vg%3D%3D&trackingId=mSQ9bzr4hkPD3nbdSV2qxA%3D%3D&position=4&pageNum=0&trk=public_jobs_jserp-result_search-card',\n",
       " 'https://ar.linkedin.com/jobs/view/la-channel-operations-analyst-at-lenovo-3673179778?refId=2SxEUYdU0850zhxXJWe4vg%3D%3D&trackingId=JJwPQZjbPfqTKhyr2w3hng%3D%3D&position=5&pageNum=0&trk=public_jobs_jserp-result_search-card',\n",
       " 'https://ar.linkedin.com/jobs/view/actuario-a-negocios-internacionales-y-salud-at-grupo-sancor-seguros-3714973414?refId=2SxEUYdU0850zhxXJWe4vg%3D%3D&trackingId=avj4YcUtES97WVjRDCFjGw%3D%3D&position=6&pageNum=0&trk=public_jobs_jserp-result_search-card',\n",
       " 'https://ar.linkedin.com/jobs/view/analista-de-producci%C3%B3n-at-sweet-%E2%99%A5-3715035209?refId=2SxEUYdU0850zhxXJWe4vg%3D%3D&trackingId=gXmsyp4t%2BXNTkT8TBuWvHg%3D%3D&position=7&pageNum=0&trk=public_jobs_jserp-result_search-card',\n",
       " 'https://ar.linkedin.com/jobs/view/customer-service-sr-analyst-at-pedidosya-3714703630?refId=2SxEUYdU0850zhxXJWe4vg%3D%3D&trackingId=7ssHTCXy0e4l7VFBM0D6PQ%3D%3D&position=8&pageNum=0&trk=public_jobs_jserp-result_search-card',\n",
       " 'https://ar.linkedin.com/jobs/view/analista-de-reporting-y-administraci%C3%B3n-at-cg-talentos-3712636071?refId=2SxEUYdU0850zhxXJWe4vg%3D%3D&trackingId=T6ky6NhilFgUwJQjQXAOEg%3D%3D&position=9&pageNum=0&trk=public_jobs_jserp-result_search-card',\n",
       " 'https://ar.linkedin.com/jobs/view/analista-funcional-semi-senior-at-access-informatica-srl-3714932280?refId=2SxEUYdU0850zhxXJWe4vg%3D%3D&trackingId=I%2Bxn3tMZWFhfV1CqIki58w%3D%3D&position=10&pageNum=0&trk=public_jobs_jserp-result_search-card',\n",
       " 'https://ar.linkedin.com/jobs/view/analista-de-control-de-gesti%C3%B3n-at-urbano-express-argentina-3712834954?refId=2SxEUYdU0850zhxXJWe4vg%3D%3D&trackingId=6WhwngPr3oTunydPhQXqUQ%3D%3D&position=11&pageNum=0&trk=public_jobs_jserp-result_search-card',\n",
       " 'https://ar.linkedin.com/jobs/view/analista-de-administraci%C3%B3n-y-finanzas-at-fundaci%C3%B3n-compromiso-3715026067?refId=2SxEUYdU0850zhxXJWe4vg%3D%3D&trackingId=bSMxZHbHE8GcPwUepvzoVQ%3D%3D&position=12&pageNum=0&trk=public_jobs_jserp-result_search-card',\n",
       " 'https://ar.linkedin.com/jobs/view/environmental-data-compliance-analyst-at-accenture-argentina-3714748561?refId=2SxEUYdU0850zhxXJWe4vg%3D%3D&trackingId=3%2FVZqCYMgWW3Kpg3u7%2FhGg%3D%3D&position=13&pageNum=0&trk=public_jobs_jserp-result_search-card',\n",
       " 'https://ar.linkedin.com/jobs/view/salesforce-analyst-at-bullmetrix-3707552670?refId=2SxEUYdU0850zhxXJWe4vg%3D%3D&trackingId=JQSQWk9bf5IRcTHq5Lw6Wg%3D%3D&position=14&pageNum=0&trk=public_jobs_jserp-result_search-card',\n",
       " 'https://ar.linkedin.com/jobs/view/%F0%9D%97%97%F0%9D%97%B6%F0%9D%97%B4%F0%9D%97%B6%F0%9D%98%81%F0%9D%97%AE%F0%9D%97%B9-%F0%9D%97%94%F0%9D%97%BB%F0%9D%97%AE%F0%9D%97%B9%F0%9D%98%86%F0%9D%98%81%F0%9D%97%B6%F0%9D%97%B0%F0%9D%98%80-at-aut%C3%B3nomo-3712099623?refId=2SxEUYdU0850zhxXJWe4vg%3D%3D&trackingId=SC6u5rBcciM%2BZVdGVsfsWQ%3D%3D&position=15&pageNum=0&trk=public_jobs_jserp-result_search-card',\n",
       " 'https://ar.linkedin.com/jobs/view/strategic-plan-analysis-specialist-at-accenture-argentina-3683402106?refId=2SxEUYdU0850zhxXJWe4vg%3D%3D&trackingId=yP6LSSL8vyreh6caZ2Iuew%3D%3D&position=16&pageNum=0&trk=public_jobs_jserp-result_search-card',\n",
       " 'https://ar.linkedin.com/jobs/view/analista-en-operaciones-y-aplicaciones-de-seguridad-ssr-at-concentrix-catalyst-3692572942?refId=2SxEUYdU0850zhxXJWe4vg%3D%3D&trackingId=RI04zFwImiMCZgCvm7wq%2BA%3D%3D&position=17&pageNum=0&trk=public_jobs_jserp-result_search-card',\n",
       " 'https://ar.linkedin.com/jobs/view/rider-service-sr-analyst-at-pedidosya-3714704596?refId=2SxEUYdU0850zhxXJWe4vg%3D%3D&trackingId=ICYxdfUvHBwLAE4YCyH4dQ%3D%3D&position=18&pageNum=0&trk=public_jobs_jserp-result_search-card',\n",
       " 'https://ar.linkedin.com/jobs/view/tms-operations-analyst-solicitation-at-ups-3673187687?refId=2SxEUYdU0850zhxXJWe4vg%3D%3D&trackingId=4sjmjQYrKD9S0KkKIJsexQ%3D%3D&position=19&pageNum=0&trk=public_jobs_jserp-result_search-card',\n",
       " 'https://ar.linkedin.com/jobs/view/consultor-a-senior-sap-fi-at-deloitte-3714568823?refId=2SxEUYdU0850zhxXJWe4vg%3D%3D&trackingId=xKwgtbN6GJx8SDbQNiAPEA%3D%3D&position=20&pageNum=0&trk=public_jobs_jserp-result_search-card',\n",
       " 'https://ar.linkedin.com/jobs/view/finance-business-management-sr-analyst-at-accenture-argentina-3697563190?refId=2SxEUYdU0850zhxXJWe4vg%3D%3D&trackingId=O%2Fl%2F4tx3KIYs5ePbtkv%2F2Q%3D%3D&position=21&pageNum=0&trk=public_jobs_jserp-result_search-card',\n",
       " 'https://ar.linkedin.com/jobs/view/responsable-de-administraci%C3%B3n-at-importante-estudio-de-arquitectura-3712842020?refId=2SxEUYdU0850zhxXJWe4vg%3D%3D&trackingId=W6PfyP6vbMRyXnRFN%2FFNCQ%3D%3D&position=22&pageNum=0&trk=public_jobs_jserp-result_search-card',\n",
       " 'https://ar.linkedin.com/jobs/view/analista-estrategia-at-ypf-sa-3714869630?refId=2SxEUYdU0850zhxXJWe4vg%3D%3D&trackingId=JtN9x%2B%2BrduaW8Q7GO4fKUg%3D%3D&position=23&pageNum=0&trk=public_jobs_jserp-result_search-card',\n",
       " 'https://ar.linkedin.com/jobs/view/data-analyst-at-neuronal-3714723804?refId=2SxEUYdU0850zhxXJWe4vg%3D%3D&trackingId=dg1ejYjH6WhiOJ4GTA1m%2BQ%3D%3D&position=24&pageNum=0&trk=public_jobs_jserp-result_search-card',\n",
       " 'https://ar.linkedin.com/jobs/view/analista-bi-business-intelligence-at-acerbrag-3707556392?refId=2SxEUYdU0850zhxXJWe4vg%3D%3D&trackingId=psBt7pwj5Fq7Ssj3ZyqfUA%3D%3D&position=25&pageNum=0&trk=public_jobs_jserp-result_search-card',\n",
       " 'https://ar.linkedin.com/jobs/view/data-analyst-security-buenos-aires-argentina-at-western-union-3693795182?refId=urLvWwL3IlVMlgWeQSvXoQ%3D%3D&trackingId=xQRSdy5ytYmNG1N259cqjg%3D%3D&position=1&pageNum=1&trk=public_jobs_jserp-result_search-card',\n",
       " 'https://ar.linkedin.com/jobs/view/administrador-a-de-base-de-datos-desarrollador-a-sql-at-randstad-argentina-3712840730?refId=urLvWwL3IlVMlgWeQSvXoQ%3D%3D&trackingId=TQHHGD%2BM4wJyqTxbeIv8%2FQ%3D%3D&position=2&pageNum=1&trk=public_jobs_jserp-result_search-card',\n",
       " 'https://ar.linkedin.com/jobs/view/data-analyst-at-teclab-instituto-t%C3%A9cnico-superior-3715096369?refId=urLvWwL3IlVMlgWeQSvXoQ%3D%3D&trackingId=EdldzqGf091bvM0q236RUA%3D%3D&position=3&pageNum=1&trk=public_jobs_jserp-result_search-card',\n",
       " 'https://ar.linkedin.com/jobs/view/business-intelligence-consultant-jr-at-top-talent-global-3712840325?refId=urLvWwL3IlVMlgWeQSvXoQ%3D%3D&trackingId=q3PGCzGyoMqA6gOdh5p44g%3D%3D&position=4&pageNum=1&trk=public_jobs_jserp-result_search-card',\n",
       " 'https://ar.linkedin.com/jobs/view/analista-funcional-it-at-hexacta-3714983028?refId=urLvWwL3IlVMlgWeQSvXoQ%3D%3D&trackingId=LoGbE3iPPK0UUbLyPFCnMQ%3D%3D&position=5&pageNum=1&trk=public_jobs_jserp-result_search-card',\n",
       " 'https://ar.linkedin.com/jobs/view/analista-de-datos-at-empresa-privada-logistica-3715046679?refId=urLvWwL3IlVMlgWeQSvXoQ%3D%3D&trackingId=TV%2FvAJ8Aw44I7uyd20E12w%3D%3D&position=6&pageNum=1&trk=public_jobs_jserp-result_search-card',\n",
       " 'https://ar.linkedin.com/jobs/view/data-analyst-us-client-olivos-barracas-at-pwc-argentina-3697481751?refId=urLvWwL3IlVMlgWeQSvXoQ%3D%3D&trackingId=T9IYzRnbPRAh%2F3kj%2BN9t5A%3D%3D&position=7&pageNum=1&trk=public_jobs_jserp-result_search-card',\n",
       " 'https://ar.linkedin.com/jobs/view/data-automation-specialist-at-ge-healthcare-3707582378?refId=urLvWwL3IlVMlgWeQSvXoQ%3D%3D&trackingId=UhWrADq1Zm3glnBvu64Gvg%3D%3D&position=8&pageNum=1&trk=public_jobs_jserp-result_search-card',\n",
       " 'https://ar.linkedin.com/jobs/view/analista-de-cr%C3%A9ditos-at-cargill-3690724694?refId=urLvWwL3IlVMlgWeQSvXoQ%3D%3D&trackingId=Ox6J4F1tk7J8oCchV%2B0PHg%3D%3D&position=9&pageNum=1&trk=public_jobs_jserp-result_search-card',\n",
       " 'https://ar.linkedin.com/jobs/view/master-data-analyst-at-michael-page-3708170942?refId=urLvWwL3IlVMlgWeQSvXoQ%3D%3D&trackingId=7u3vnbRjy%2FeFmG9NZvXZZg%3D%3D&position=10&pageNum=1&trk=public_jobs_jserp-result_search-card',\n",
       " 'https://ar.linkedin.com/jobs/view/analista-contable-zona-norte-at-randstad-argentina-3711717639?refId=urLvWwL3IlVMlgWeQSvXoQ%3D%3D&trackingId=UVm0od2T%2F20v7Rz%2FzyH3Cw%3D%3D&position=11&pageNum=1&trk=public_jobs_jserp-result_search-card',\n",
       " 'https://ar.linkedin.com/jobs/view/empleado-de-cuentas-por-pagar-at-sur-argentina-3712813969?refId=urLvWwL3IlVMlgWeQSvXoQ%3D%3D&trackingId=8RxAZh%2FljLsrYHpT4ZSHhQ%3D%3D&position=12&pageNum=1&trk=public_jobs_jserp-result_search-card',\n",
       " 'https://ar.linkedin.com/jobs/view/analista-de-sistemas-procesos-ii-at-newmont-corporation-3712396082?refId=urLvWwL3IlVMlgWeQSvXoQ%3D%3D&trackingId=FK%2Fe3EWcnrOF9YSnEOTElg%3D%3D&position=13&pageNum=1&trk=public_jobs_jserp-result_search-card',\n",
       " 'https://ar.linkedin.com/jobs/view/risk-operations-analyst-at-importante-empresa-de-servicios-financieros-3712320878?refId=urLvWwL3IlVMlgWeQSvXoQ%3D%3D&trackingId=W5AcTDToK2wloTKG2EPk3w%3D%3D&position=14&pageNum=1&trk=public_jobs_jserp-result_search-card',\n",
       " 'https://ar.linkedin.com/jobs/view/administrador-de-exchange-at-sonda-3697446621?refId=urLvWwL3IlVMlgWeQSvXoQ%3D%3D&trackingId=4yeT5jcoaPtRNo3tTtFNVQ%3D%3D&position=15&pageNum=1&trk=public_jobs_jserp-result_search-card',\n",
       " 'https://ar.linkedin.com/jobs/view/analista-sap-sd-hibrido-at-revv-3712653247?refId=urLvWwL3IlVMlgWeQSvXoQ%3D%3D&trackingId=P%2F2%2BS0PSsO7IaIYINg%2F72w%3D%3D&position=16&pageNum=1&trk=public_jobs_jserp-result_search-card',\n",
       " 'https://ar.linkedin.com/jobs/view/bi-analyst-senior-associate-rosario-at-pwc-argentina-3677048850?refId=urLvWwL3IlVMlgWeQSvXoQ%3D%3D&trackingId=O1ZRdXF61jRyTVCh2Xa7Hw%3D%3D&position=17&pageNum=1&trk=public_jobs_jserp-result_search-card',\n",
       " 'https://ar.linkedin.com/jobs/view/senior-martech-analyst-at-agileengine-3714997156?refId=urLvWwL3IlVMlgWeQSvXoQ%3D%3D&trackingId=vt8VTJGYv08yHtlodVKFiw%3D%3D&position=18&pageNum=1&trk=public_jobs_jserp-result_search-card']"
      ]
     },
     "execution_count": 188,
     "metadata": {},
     "output_type": "execute_result"
    }
   ],
   "source": [
    "links\n"
   ]
  },
  {
   "cell_type": "code",
   "execution_count": null,
   "metadata": {},
   "outputs": [],
   "source": []
  },
  {
   "cell_type": "code",
   "execution_count": null,
   "metadata": {},
   "outputs": [],
   "source": []
  },
  {
   "cell_type": "code",
   "execution_count": null,
   "metadata": {},
   "outputs": [],
   "source": []
  },
  {
   "cell_type": "code",
   "execution_count": null,
   "metadata": {},
   "outputs": [],
   "source": []
  },
  {
   "cell_type": "code",
   "execution_count": null,
   "metadata": {},
   "outputs": [],
   "source": []
  },
  {
   "cell_type": "code",
   "execution_count": null,
   "metadata": {},
   "outputs": [],
   "source": []
  },
  {
   "cell_type": "code",
   "execution_count": null,
   "metadata": {},
   "outputs": [],
   "source": []
  },
  {
   "cell_type": "code",
   "execution_count": null,
   "metadata": {},
   "outputs": [],
   "source": []
  },
  {
   "cell_type": "code",
   "execution_count": null,
   "metadata": {},
   "outputs": [],
   "source": []
  },
  {
   "cell_type": "code",
   "execution_count": null,
   "metadata": {},
   "outputs": [],
   "source": []
  },
  {
   "cell_type": "code",
   "execution_count": null,
   "metadata": {},
   "outputs": [],
   "source": []
  },
  {
   "cell_type": "code",
   "execution_count": null,
   "metadata": {},
   "outputs": [],
   "source": []
  },
  {
   "cell_type": "code",
   "execution_count": 56,
   "metadata": {},
   "outputs": [],
   "source": [
    "dates = driver.find_elements(By.CLASS_NAME, 'job-search-card__listdate--new')\n",
    "\n",
    "# Inicializar una lista para almacenar los nombres de compañías\n",
    "jobs_dates = []\n",
    "\n",
    "# Iterar a través de los elementos y agregar los nombres a la lista\n",
    "for date in dates:\n",
    "    datetime = date.get_attribute(\"datetime\")\n",
    "    jobs_dates.append(datetime)\n",
    "    "
   ]
  },
  {
   "cell_type": "code",
   "execution_count": null,
   "metadata": {},
   "outputs": [],
   "source": [
    "jobs_dates"
   ]
  },
  {
   "cell_type": "code",
   "execution_count": 58,
   "metadata": {},
   "outputs": [
    {
     "data": {
      "text/plain": [
       "53"
      ]
     },
     "execution_count": 58,
     "metadata": {},
     "output_type": "execute_result"
    }
   ],
   "source": [
    "len(jobs_dates)"
   ]
  },
  {
   "cell_type": "code",
   "execution_count": 50,
   "metadata": {},
   "outputs": [
    {
     "data": {
      "text/plain": [
       "[]"
      ]
     },
     "execution_count": 50,
     "metadata": {},
     "output_type": "execute_result"
    }
   ],
   "source": [
    "lis"
   ]
  },
  {
   "cell_type": "code",
   "execution_count": 35,
   "metadata": {},
   "outputs": [
    {
     "data": {
      "text/plain": [
       "51"
      ]
     },
     "execution_count": 35,
     "metadata": {},
     "output_type": "execute_result"
    }
   ],
   "source": [
    "len(hrefList)"
   ]
  },
  {
   "cell_type": "code",
   "execution_count": 45,
   "metadata": {},
   "outputs": [],
   "source": [
    "urlDi = f\"https://ar.linkedin.com/jobs/view/business-intelligence-analyst-semi-senior-at-brandlive-3705652315?refId=rymTeJuRKmpYTI89F3WJBw%3D%3D&trackingId=KkRx9anXW%2FNZ8SvB9rnRLw%3D%3D&position=1&pageNum=1&trk=public_jobs_jserp-result_search-card\""
   ]
  },
  {
   "cell_type": "code",
   "execution_count": 46,
   "metadata": {},
   "outputs": [
    {
     "name": "stdout",
     "output_type": "stream",
     "text": [
      "https://ar.linkedin.com/jobs/view/business-intelligence-analyst-semi-senior-at-brandlive-3705652315?refId=rymTeJuRKmpYTI89F3WJBw%3D%3D&trackingId=KkRx9anXW%2FNZ8SvB9rnRLw%3D%3D&position=1&pageNum=1&trk=public_jobs_jserp-result_search-card\n"
     ]
    }
   ],
   "source": [
    "for i in hrefList:\n",
    "    if i == urlDi:\n",
    "        print(i)\n",
    "        break"
   ]
  },
  {
   "cell_type": "code",
   "execution_count": 172,
   "metadata": {},
   "outputs": [],
   "source": [
    "listaU = [hrefList[4]]"
   ]
  },
  {
   "cell_type": "code",
   "execution_count": 173,
   "metadata": {},
   "outputs": [
    {
     "data": {
      "text/plain": [
       "['https://ar.linkedin.com/jobs/view/analista-de-marketing-y-comunicaci%C3%B3n-at-abeceb-3711198500?refId=C4fMcoSP8%2FYZnfGaKq6eXw%3D%3D&trackingId=3aGPlDUKdIDpdGamKQQiZw%3D%3D&position=5&pageNum=0&trk=public_jobs_jserp-result_search-card']"
      ]
     },
     "execution_count": 173,
     "metadata": {},
     "output_type": "execute_result"
    }
   ],
   "source": [
    "listaU"
   ]
  },
  {
   "cell_type": "code",
   "execution_count": 181,
   "metadata": {},
   "outputs": [
    {
     "ename": "ElementClickInterceptedException",
     "evalue": "Message: element click intercepted: Element <button class=\"show-more-less-html__button show-more-less-button\n        show-more-less-html__button--more\n        !ml-0.5\" data-tracking-control-name=\"public_jobs_show-more-html-btn\" aria-label=\"Mostrar más, se amplía visualmente el contenido de lectura que aparece arriba\" aria-expanded=\"false\">...</button> is not clickable at point (120, 18). Other element would receive the click: <button class=\"search-bar__placeholder papabear:hidden mamabear:hidden text-input w-full mt-1.5 !pl-[14px] border-1 border-solid border-color-border-faint rounded-[2px] h-[40px] max-h-[40px] flex items-center overflow-hidden cursor-text\" data-tracking-control-name=\"public_jobs_search-switcher-opener\">...</button>\n  (Session info: chrome=116.0.5845.96)\nStacktrace:\n\tGetHandleVerifier [0x00007FF7474D52A2+57122]\n\t(No symbol) [0x00007FF74744EA92]\n\t(No symbol) [0x00007FF74731E3AB]\n\t(No symbol) [0x00007FF74735D783]\n\t(No symbol) [0x00007FF74735BD5F]\n\t(No symbol) [0x00007FF747359DC8]\n\t(No symbol) [0x00007FF747358FD5]\n\t(No symbol) [0x00007FF74734F25F]\n\t(No symbol) [0x00007FF747376FDA]\n\t(No symbol) [0x00007FF74734EB76]\n\t(No symbol) [0x00007FF7473771F0]\n\t(No symbol) [0x00007FF74738EB82]\n\t(No symbol) [0x00007FF747376DB3]\n\t(No symbol) [0x00007FF74734D2B1]\n\t(No symbol) [0x00007FF74734E494]\n\tGetHandleVerifier [0x00007FF74777EF82+2849794]\n\tGetHandleVerifier [0x00007FF7477D1D24+3189156]\n\tGetHandleVerifier [0x00007FF7477CACAF+3160367]\n\tGetHandleVerifier [0x00007FF747566D06+653702]\n\t(No symbol) [0x00007FF74745A208]\n\t(No symbol) [0x00007FF7474562C4]\n\t(No symbol) [0x00007FF7474563F6]\n\t(No symbol) [0x00007FF7474467A3]\n\tBaseThreadInitThunk [0x00007FFAF24E26AD+29]\n\tRtlUserThreadStart [0x00007FFAF414AA68+40]\n",
     "output_type": "error",
     "traceback": [
      "\u001b[1;31m---------------------------------------------------------------------------\u001b[0m",
      "\u001b[1;31mElementClickInterceptedException\u001b[0m          Traceback (most recent call last)",
      "Cell \u001b[1;32mIn[181], line 5\u001b[0m\n\u001b[0;32m      2\u001b[0m driver\u001b[39m.\u001b[39mget(i)\n\u001b[0;32m      3\u001b[0m \u001b[39m#lista = driver.find_element(By.CLASS_NAME, 'description__job-criteria-list')\u001b[39;00m\n\u001b[1;32m----> 5\u001b[0m end\u001b[39m=\u001b[39mdriver\u001b[39m.\u001b[39;49mfind_element(By\u001b[39m.\u001b[39;49mXPATH,\u001b[39m\"\u001b[39;49m\u001b[39m//button[@aria-label=\u001b[39;49m\u001b[39m'\u001b[39;49m\u001b[39mMostrar más, se amplía visualmente el contenido de lectura que aparece arriba\u001b[39;49m\u001b[39m'\u001b[39;49m\u001b[39m]\u001b[39;49m\u001b[39m\"\u001b[39;49m)\u001b[39m.\u001b[39;49mclick()\n\u001b[0;32m      6\u001b[0m \u001b[39m#driver.execute_script(\"arguments[0].click();\", send)   \u001b[39;00m\n\u001b[0;32m      7\u001b[0m time\u001b[39m.\u001b[39msleep(\u001b[39m3\u001b[39m)\n",
      "File \u001b[1;32mc:\\Users\\julie\\OneDrive\\Escritorio\\Linkedin\\env\\lib\\site-packages\\selenium\\webdriver\\remote\\webelement.py:94\u001b[0m, in \u001b[0;36mWebElement.click\u001b[1;34m(self)\u001b[0m\n\u001b[0;32m     92\u001b[0m \u001b[39mdef\u001b[39;00m \u001b[39mclick\u001b[39m(\u001b[39mself\u001b[39m) \u001b[39m-\u001b[39m\u001b[39m>\u001b[39m \u001b[39mNone\u001b[39;00m:\n\u001b[0;32m     93\u001b[0m \u001b[39m    \u001b[39m\u001b[39m\"\"\"Clicks the element.\"\"\"\u001b[39;00m\n\u001b[1;32m---> 94\u001b[0m     \u001b[39mself\u001b[39;49m\u001b[39m.\u001b[39;49m_execute(Command\u001b[39m.\u001b[39;49mCLICK_ELEMENT)\n",
      "File \u001b[1;32mc:\\Users\\julie\\OneDrive\\Escritorio\\Linkedin\\env\\lib\\site-packages\\selenium\\webdriver\\remote\\webelement.py:395\u001b[0m, in \u001b[0;36mWebElement._execute\u001b[1;34m(self, command, params)\u001b[0m\n\u001b[0;32m    393\u001b[0m     params \u001b[39m=\u001b[39m {}\n\u001b[0;32m    394\u001b[0m params[\u001b[39m\"\u001b[39m\u001b[39mid\u001b[39m\u001b[39m\"\u001b[39m] \u001b[39m=\u001b[39m \u001b[39mself\u001b[39m\u001b[39m.\u001b[39m_id\n\u001b[1;32m--> 395\u001b[0m \u001b[39mreturn\u001b[39;00m \u001b[39mself\u001b[39;49m\u001b[39m.\u001b[39;49m_parent\u001b[39m.\u001b[39;49mexecute(command, params)\n",
      "File \u001b[1;32mc:\\Users\\julie\\OneDrive\\Escritorio\\Linkedin\\env\\lib\\site-packages\\selenium\\webdriver\\remote\\webdriver.py:345\u001b[0m, in \u001b[0;36mWebDriver.execute\u001b[1;34m(self, driver_command, params)\u001b[0m\n\u001b[0;32m    343\u001b[0m response \u001b[39m=\u001b[39m \u001b[39mself\u001b[39m\u001b[39m.\u001b[39mcommand_executor\u001b[39m.\u001b[39mexecute(driver_command, params)\n\u001b[0;32m    344\u001b[0m \u001b[39mif\u001b[39;00m response:\n\u001b[1;32m--> 345\u001b[0m     \u001b[39mself\u001b[39;49m\u001b[39m.\u001b[39;49merror_handler\u001b[39m.\u001b[39;49mcheck_response(response)\n\u001b[0;32m    346\u001b[0m     response[\u001b[39m\"\u001b[39m\u001b[39mvalue\u001b[39m\u001b[39m\"\u001b[39m] \u001b[39m=\u001b[39m \u001b[39mself\u001b[39m\u001b[39m.\u001b[39m_unwrap_value(response\u001b[39m.\u001b[39mget(\u001b[39m\"\u001b[39m\u001b[39mvalue\u001b[39m\u001b[39m\"\u001b[39m, \u001b[39mNone\u001b[39;00m))\n\u001b[0;32m    347\u001b[0m     \u001b[39mreturn\u001b[39;00m response\n",
      "File \u001b[1;32mc:\\Users\\julie\\OneDrive\\Escritorio\\Linkedin\\env\\lib\\site-packages\\selenium\\webdriver\\remote\\errorhandler.py:229\u001b[0m, in \u001b[0;36mErrorHandler.check_response\u001b[1;34m(self, response)\u001b[0m\n\u001b[0;32m    227\u001b[0m         alert_text \u001b[39m=\u001b[39m value[\u001b[39m\"\u001b[39m\u001b[39malert\u001b[39m\u001b[39m\"\u001b[39m]\u001b[39m.\u001b[39mget(\u001b[39m\"\u001b[39m\u001b[39mtext\u001b[39m\u001b[39m\"\u001b[39m)\n\u001b[0;32m    228\u001b[0m     \u001b[39mraise\u001b[39;00m exception_class(message, screen, stacktrace, alert_text)  \u001b[39m# type: ignore[call-arg]  # mypy is not smart enough here\u001b[39;00m\n\u001b[1;32m--> 229\u001b[0m \u001b[39mraise\u001b[39;00m exception_class(message, screen, stacktrace)\n",
      "\u001b[1;31mElementClickInterceptedException\u001b[0m: Message: element click intercepted: Element <button class=\"show-more-less-html__button show-more-less-button\n        show-more-less-html__button--more\n        !ml-0.5\" data-tracking-control-name=\"public_jobs_show-more-html-btn\" aria-label=\"Mostrar más, se amplía visualmente el contenido de lectura que aparece arriba\" aria-expanded=\"false\">...</button> is not clickable at point (120, 18). Other element would receive the click: <button class=\"search-bar__placeholder papabear:hidden mamabear:hidden text-input w-full mt-1.5 !pl-[14px] border-1 border-solid border-color-border-faint rounded-[2px] h-[40px] max-h-[40px] flex items-center overflow-hidden cursor-text\" data-tracking-control-name=\"public_jobs_search-switcher-opener\">...</button>\n  (Session info: chrome=116.0.5845.96)\nStacktrace:\n\tGetHandleVerifier [0x00007FF7474D52A2+57122]\n\t(No symbol) [0x00007FF74744EA92]\n\t(No symbol) [0x00007FF74731E3AB]\n\t(No symbol) [0x00007FF74735D783]\n\t(No symbol) [0x00007FF74735BD5F]\n\t(No symbol) [0x00007FF747359DC8]\n\t(No symbol) [0x00007FF747358FD5]\n\t(No symbol) [0x00007FF74734F25F]\n\t(No symbol) [0x00007FF747376FDA]\n\t(No symbol) [0x00007FF74734EB76]\n\t(No symbol) [0x00007FF7473771F0]\n\t(No symbol) [0x00007FF74738EB82]\n\t(No symbol) [0x00007FF747376DB3]\n\t(No symbol) [0x00007FF74734D2B1]\n\t(No symbol) [0x00007FF74734E494]\n\tGetHandleVerifier [0x00007FF74777EF82+2849794]\n\tGetHandleVerifier [0x00007FF7477D1D24+3189156]\n\tGetHandleVerifier [0x00007FF7477CACAF+3160367]\n\tGetHandleVerifier [0x00007FF747566D06+653702]\n\t(No symbol) [0x00007FF74745A208]\n\t(No symbol) [0x00007FF7474562C4]\n\t(No symbol) [0x00007FF7474563F6]\n\t(No symbol) [0x00007FF7474467A3]\n\tBaseThreadInitThunk [0x00007FFAF24E26AD+29]\n\tRtlUserThreadStart [0x00007FFAF414AA68+40]\n"
     ]
    }
   ],
   "source": [
    "for i in listaU:\n",
    "    driver.get(i)\n",
    "    #lista = driver.find_element(By.CLASS_NAME, 'description__job-criteria-list')\n",
    "\n",
    "    end=driver.find_element(By.XPATH,\"//button[@aria-label='Mostrar más, se amplía visualmente el contenido de lectura que aparece arriba']\").click()\n",
    "    #driver.execute_script(\"arguments[0].click();\", send)   \n",
    "    time.sleep(3)\n",
    "    lista = driver.find_element(By.CLASS_NAME,'show-more-less-html__markup relative overflow-hidden')\n",
    "    print(lista.text)\n",
    "        \n"
   ]
  },
  {
   "cell_type": "code",
   "execution_count": 170,
   "metadata": {},
   "outputs": [
    {
     "name": "stdout",
     "output_type": "stream",
     "text": [
      "Algo de responsabilidad\n",
      "Jornada completa\n",
      "Gestión de proyectos, Gestión de productos y Tecnología de la información\n",
      "Traducción y localización\n"
     ]
    }
   ],
   "source": [
    "for i in listaU:\n",
    "    driver.get(i)\n",
    "    lista = driver.find_element(By.CLASS_NAME, 'description__job-criteria-list')\n",
    "    try:\n",
    "        tipoJornada = lista.find_element(By.XPATH,\"//h3[contains(text(), 'Tipo de empleo')]/following-sibling::span[@class='description__job-criteria-text description__job-criteria-text--criteria']\")\n",
    "        antiguedad = lista.find_element(By.XPATH,\"//h3[contains(text(), 'Nivel de antigüedad')]/following-sibling::span[@class='description__job-criteria-text description__job-criteria-text--criteria']\")\n",
    "        funcionlaboral = lista.find_element(By.XPATH,\"//h3[contains(text(), 'Función laboral')]/following-sibling::span[@class='description__job-criteria-text description__job-criteria-text--criteria']\")\n",
    "        sectores = lista.find_element(By.XPATH,\"//h3[contains(text(), 'Sectores')]/following-sibling::span[@class='description__job-criteria-text description__job-criteria-text--criteria']\")\n",
    "        print(antiguedad.text)\n",
    "        print(tipoJornada.text)\n",
    "        print(funcionlaboral.text)\n",
    "        print(sectores.text)\n",
    "\n",
    "    except:\n",
    "        pass\n",
    "    \n",
    "    "
   ]
  },
  {
   "cell_type": "code",
   "execution_count": 126,
   "metadata": {},
   "outputs": [],
   "source": [
    "# Crea un diccionario para almacenar los criterios\n",
    "criterios = {}"
   ]
  },
  {
   "cell_type": "code",
   "execution_count": 138,
   "metadata": {},
   "outputs": [],
   "source": [
    "for i in listaU:\n",
    "    driver.get(i)\n",
    "    lista = driver.find_element(By.CLASS_NAME, 'description__job-criteria-list')\n",
    "    "
   ]
  },
  {
   "cell_type": "code",
   "execution_count": 157,
   "metadata": {},
   "outputs": [],
   "source": [
    "p = lista.find_element(By.CSS_SELECTOR,'li')"
   ]
  },
  {
   "cell_type": "code",
   "execution_count": 162,
   "metadata": {},
   "outputs": [
    {
     "data": {
      "text/plain": [
       "'Nivel de antigüedad\\nAlgo de responsabilidad\\nTipo de empleo\\nJornada completa\\nFunción laboral\\nGestión de proyectos, Gestión de productos y Tecnología de la información\\nSectores\\nTraducción y localización'"
      ]
     },
     "execution_count": 162,
     "metadata": {},
     "output_type": "execute_result"
    }
   ],
   "source": [
    "lista.text"
   ]
  },
  {
   "cell_type": "code",
   "execution_count": 150,
   "metadata": {},
   "outputs": [
    {
     "data": {
      "text/plain": [
       "['Nivel',\n",
       " 'de',\n",
       " 'antigüedad',\n",
       " 'Algo',\n",
       " 'de',\n",
       " 'responsabilidad',\n",
       " 'Tipo',\n",
       " 'de',\n",
       " 'empleo',\n",
       " 'Jornada',\n",
       " 'completa',\n",
       " 'Función',\n",
       " 'laboral',\n",
       " 'Gestión',\n",
       " 'de',\n",
       " 'proyectos,',\n",
       " 'Gestión',\n",
       " 'de',\n",
       " 'productos',\n",
       " 'y',\n",
       " 'Tecnología',\n",
       " 'de',\n",
       " 'la',\n",
       " 'información',\n",
       " 'Sectores',\n",
       " 'Traducción',\n",
       " 'y',\n",
       " 'localización']"
      ]
     },
     "execution_count": 150,
     "metadata": {},
     "output_type": "execute_result"
    }
   ],
   "source": [
    "a"
   ]
  },
  {
   "cell_type": "code",
   "execution_count": null,
   "metadata": {},
   "outputs": [],
   "source": [
    "# Encuentra la lista ul con la clase \"description__job-criteria-list\"\n",
    "lista_criterios = driver.find_element_by_css_selector('.description__job-criteria-list')\n",
    "\n",
    "# Obtén todos los elementos li dentro de la lista\n",
    "elementos_li = lista_criterios.find_elements_by_css_selector('li')\n",
    "\n",
    "# Crea un diccionario para almacenar los criterios\n",
    "criterios = {}\n",
    "\n",
    "# Recorre cada elemento li y extrae la información\n",
    "for elemento in elementos_li:\n",
    "    subheader = elemento.find_element_by_css_selector('h3').text\n",
    "    texto = elemento.find_element_by_css_selector('span').text\n",
    "    criterios[subheader] = texto"
   ]
  },
  {
   "cell_type": "code",
   "execution_count": null,
   "metadata": {},
   "outputs": [],
   "source": [
    "for i in l:\n",
    "    driver.get(i)\n",
    "    time.sleep(2)\n",
    "    #driver.find_element(By.XPATH,\"//button[@aria-label='Mostrar más, se amplía visualmente el contenido de lectura que aparece arriba']\").click()\n",
    "    # Encuentra todos los elementos con la clase que contiene las características\n",
    "    # Encuentra el elemento de lista\n",
    "    lista = driver.find_element(By.CLASS_NAME, 'description__job-criteria-list')\n",
    "\n",
    "    # Encuentra los elementos de texto dentro de la lista\n",
    "    antiguedad_element = lista.find_element(By.XPATH, \"//span[contains(text(), 'Nivel de antigüedad')]\")\n",
    "\n",
    "    # Obtén el texto del elemento siguiente en el mismo nivel\n",
    "    nivel_antiguedad = antiguedad_element.find_element(By.XPATH, \"./following-sibling::span\").text\n",
    "\n",
    "    # Imprimir el nivel de antigüedad para esta URL\n",
    "    print(nivel_antiguedad)"
   ]
  },
  {
   "cell_type": "code",
   "execution_count": null,
   "metadata": {},
   "outputs": [],
   "source": []
  },
  {
   "cell_type": "code",
   "execution_count": null,
   "metadata": {},
   "outputs": [],
   "source": []
  },
  {
   "cell_type": "code",
   "execution_count": null,
   "metadata": {},
   "outputs": [],
   "source": []
  },
  {
   "cell_type": "code",
   "execution_count": null,
   "metadata": {},
   "outputs": [],
   "source": []
  },
  {
   "cell_type": "code",
   "execution_count": 62,
   "metadata": {},
   "outputs": [],
   "source": [
    "a = driver.find_element(By.CLASS_NAME ,f'filter-button').click()"
   ]
  },
  {
   "cell_type": "code",
   "execution_count": null,
   "metadata": {},
   "outputs": [],
   "source": [
    "a.fin"
   ]
  },
  {
   "cell_type": "code",
   "execution_count": null,
   "metadata": {},
   "outputs": [],
   "source": [
    "(By.XPATH,\"//button[@aria-label='Ver más empleos'driver.find_element]\").click()"
   ]
  },
  {
   "cell_type": "code",
   "execution_count": 26,
   "metadata": {},
   "outputs": [],
   "source": [
    "n = driver.find_element(By.CLASS_NAME ,'results-context-header__job-count')"
   ]
  },
  {
   "cell_type": "code",
   "execution_count": 49,
   "metadata": {},
   "outputs": [
    {
     "data": {
      "text/plain": [
       "'1000'"
      ]
     },
     "execution_count": 49,
     "metadata": {},
     "output_type": "execute_result"
    }
   ],
   "source": [
    "n.text"
   ]
  },
  {
   "cell_type": "code",
   "execution_count": 27,
   "metadata": {},
   "outputs": [],
   "source": [
    "y = pd.to_numeric(n.text)"
   ]
  },
  {
   "cell_type": "code",
   "execution_count": 28,
   "metadata": {},
   "outputs": [
    {
     "data": {
      "text/plain": [
       "1000"
      ]
     },
     "execution_count": 28,
     "metadata": {},
     "output_type": "execute_result"
    }
   ],
   "source": [
    "y"
   ]
  },
  {
   "cell_type": "code",
   "execution_count": 29,
   "metadata": {},
   "outputs": [],
   "source": [
    "#Loop to scroll through all jobs and click on see more jobs button for infinite scrolling\n",
    "\n",
    "i = 2\n",
    "while i <= int((y+200)/25)+1: \n",
    "    driver.execute_script(\"window.scrollTo(0, document.body.scrollHeight);\")\n",
    "    i = i + 1\n",
    "    \n",
    "    try:send=driver.find_element(By.XPATH,\"//button[@aria-label='Ver más empleos']\").click()\n",
    "        \n",
    "        #driver.execute_script(\"arguments[0].click();\", send)   \n",
    "        time.sleep(3)\n",
    "                                                \n",
    "            \n",
    "    except:\n",
    "        pass\n",
    "        time.sleep(5) \n",
    "         "
   ]
  },
  {
   "cell_type": "code",
   "execution_count": 36,
   "metadata": {},
   "outputs": [],
   "source": [
    "# Encontrar todos los elementos con la clase 'base-search-card__subtitle'\n",
    "company_elements = driver.find_elements(By.CLASS_NAME, 'base-search-card__subtitle')\n",
    "\n",
    "# Inicializar una lista para almacenar los nombres de compañías\n",
    "company_names = []\n",
    "\n",
    "# Iterar a través de los elementos y agregar los nombres a la lista\n",
    "for company_element in company_elements:\n",
    "    company_names.append(company_element.text)\n",
    "\n",
    "# Imprimir la lista de nombres de compañías\n",
    "#print(company_names)"
   ]
  },
  {
   "cell_type": "code",
   "execution_count": 37,
   "metadata": {},
   "outputs": [
    {
     "data": {
      "text/plain": [
       "998"
      ]
     },
     "execution_count": 37,
     "metadata": {},
     "output_type": "execute_result"
    }
   ],
   "source": [
    "len(company_names)"
   ]
  },
  {
   "cell_type": "code",
   "execution_count": 38,
   "metadata": {},
   "outputs": [],
   "source": [
    "titles = driver.find_elements(By.CLASS_NAME, 'base-search-card__title')\n",
    "\n",
    "# Inicializar una lista para almacenar los nombres de compañías\n",
    "titles_names = []\n",
    "\n",
    "# Iterar a través de los elementos y agregar los nombres a la lista\n",
    "for title in titles:\n",
    "    titles_names.append(title.text)\n"
   ]
  },
  {
   "cell_type": "code",
   "execution_count": 39,
   "metadata": {},
   "outputs": [
    {
     "data": {
      "text/plain": [
       "998"
      ]
     },
     "execution_count": 39,
     "metadata": {},
     "output_type": "execute_result"
    }
   ],
   "source": [
    "len(titles_names)"
   ]
  },
  {
   "cell_type": "code",
   "execution_count": 40,
   "metadata": {},
   "outputs": [],
   "source": [
    "locations = driver.find_elements(By.CLASS_NAME, 'job-search-card__location')\n",
    "\n",
    "# Inicializar una lista para almacenar los nombres de compañías\n",
    "locations_names = []\n",
    "\n",
    "# Iterar a través de los elementos y agregar los nombres a la lista\n",
    "for location in locations:\n",
    "    locations_names.append(location.text)\n"
   ]
  },
  {
   "cell_type": "code",
   "execution_count": 41,
   "metadata": {},
   "outputs": [
    {
     "data": {
      "text/plain": [
       "998"
      ]
     },
     "execution_count": 41,
     "metadata": {},
     "output_type": "execute_result"
    }
   ],
   "source": [
    "len(locations_names)"
   ]
  },
  {
   "cell_type": "code",
   "execution_count": 218,
   "metadata": {},
   "outputs": [],
   "source": [
    "dates = driver.find_elements(By.CLASS_NAME, 'job-search-card__listdate')"
   ]
  },
  {
   "cell_type": "code",
   "execution_count": 219,
   "metadata": {},
   "outputs": [
    {
     "data": {
      "text/plain": [
       "977"
      ]
     },
     "execution_count": 219,
     "metadata": {},
     "output_type": "execute_result"
    }
   ],
   "source": [
    "len(dates)"
   ]
  },
  {
   "cell_type": "code",
   "execution_count": 32,
   "metadata": {},
   "outputs": [],
   "source": [
    "dates = driver.find_elements(By.CLASS_NAME, 'job-search-card__listdate')\n",
    "\n",
    "# Inicializar una lista para almacenar los nombres de compañías\n",
    "jobs_dates = []\n",
    "\n",
    "# Iterar a través de los elementos y agregar los nombres a la lista\n",
    "for date in dates:\n",
    "    datetime = date.get_attribute(\"datetime\")\n",
    "    if datetime:\n",
    "        jobs_dates.append(datetime)\n",
    "    else:\n",
    "        jobs_dates.append('nulo')\n",
    "    \n"
   ]
  },
  {
   "cell_type": "code",
   "execution_count": 37,
   "metadata": {},
   "outputs": [
    {
     "data": {
      "text/plain": [
       "981"
      ]
     },
     "execution_count": 37,
     "metadata": {},
     "output_type": "execute_result"
    }
   ],
   "source": [
    "len(jobs_dates)"
   ]
  },
  {
   "cell_type": "code",
   "execution_count": 38,
   "metadata": {},
   "outputs": [
    {
     "data": {
      "text/plain": [
       "['2023-08-23',\n",
       " '2023-08-23',\n",
       " '2023-08-26',\n",
       " '2023-08-16',\n",
       " '2023-07-23',\n",
       " '2023-08-08',\n",
       " '2023-08-15',\n",
       " '2023-08-13',\n",
       " '2023-08-18',\n",
       " '2023-08-17',\n",
       " '2023-08-11',\n",
       " '2023-08-16',\n",
       " '2023-08-17',\n",
       " '2023-08-17',\n",
       " '2023-07-04',\n",
       " '2023-07-24',\n",
       " '2023-08-17',\n",
       " '2023-07-28',\n",
       " '2023-08-17',\n",
       " '2023-08-23',\n",
       " '2023-08-14',\n",
       " '2023-07-13',\n",
       " '2023-08-03',\n",
       " '2023-08-17',\n",
       " '2023-08-17',\n",
       " '2023-08-02',\n",
       " '2023-08-18',\n",
       " '2023-08-17',\n",
       " '2023-08-15',\n",
       " '2023-07-14',\n",
       " '2023-08-25',\n",
       " '2023-08-17',\n",
       " '2023-08-16',\n",
       " '2023-07-10',\n",
       " '2023-08-08',\n",
       " '2023-08-24',\n",
       " '2023-07-04',\n",
       " '2023-08-01',\n",
       " '2023-08-11',\n",
       " '2023-07-20',\n",
       " '2023-08-17',\n",
       " '2023-08-14',\n",
       " '2023-08-08',\n",
       " '2023-08-22',\n",
       " '2023-08-22',\n",
       " '2023-07-10',\n",
       " '2023-07-25',\n",
       " '2023-07-04',\n",
       " '2023-07-06',\n",
       " '2023-07-04',\n",
       " '2023-07-04',\n",
       " '2023-07-25',\n",
       " '2023-08-16',\n",
       " '2023-08-17',\n",
       " '2023-08-16',\n",
       " '2023-08-17',\n",
       " '2023-08-09',\n",
       " '2023-08-23',\n",
       " '2023-08-16',\n",
       " '2023-08-07',\n",
       " '2023-08-14',\n",
       " '2023-08-10',\n",
       " '2023-08-24',\n",
       " '2023-07-04',\n",
       " '2023-07-04',\n",
       " '2023-07-20',\n",
       " '2023-08-17',\n",
       " '2023-08-16',\n",
       " '2023-07-12',\n",
       " '2023-08-17',\n",
       " '2023-08-16',\n",
       " '2023-08-23',\n",
       " '2023-07-04',\n",
       " '2023-08-02',\n",
       " '2023-08-17',\n",
       " '2023-08-23',\n",
       " '2023-08-03',\n",
       " '2023-08-10',\n",
       " '2023-08-17',\n",
       " '2023-07-04',\n",
       " '2023-08-23',\n",
       " '2023-08-25',\n",
       " '2023-08-10',\n",
       " '2023-08-17',\n",
       " '2023-07-04',\n",
       " '2023-07-05',\n",
       " '2023-07-06',\n",
       " '2023-08-17',\n",
       " '2023-07-04',\n",
       " '2023-08-25',\n",
       " '2023-08-26',\n",
       " '2023-08-17',\n",
       " '2023-08-23',\n",
       " '2023-07-21',\n",
       " '2023-07-04',\n",
       " '2023-07-04',\n",
       " '2023-05-28',\n",
       " '2023-07-04',\n",
       " '2023-08-17',\n",
       " '2023-08-16',\n",
       " '2023-08-26',\n",
       " '2023-07-25',\n",
       " '2023-08-17',\n",
       " '2023-08-09',\n",
       " '2023-07-25',\n",
       " '2023-08-17',\n",
       " '2023-06-04',\n",
       " '2023-07-04',\n",
       " '2023-07-04',\n",
       " '2023-07-04',\n",
       " '2023-08-17',\n",
       " '2023-07-31',\n",
       " '2023-08-16',\n",
       " '2023-08-08',\n",
       " '2023-08-19',\n",
       " '2023-07-04',\n",
       " '2023-07-04',\n",
       " '2023-08-10',\n",
       " '2023-08-17',\n",
       " '2023-08-22',\n",
       " '2023-08-26',\n",
       " '2023-08-02',\n",
       " '2023-08-04',\n",
       " '2023-08-17',\n",
       " '2023-08-18',\n",
       " '2023-07-20',\n",
       " '2023-08-25',\n",
       " '2023-06-27',\n",
       " '2023-07-04',\n",
       " '2023-08-17',\n",
       " '2023-07-04',\n",
       " '2023-07-22',\n",
       " '2023-07-04',\n",
       " '2023-08-26',\n",
       " '2023-04-19',\n",
       " '2023-07-17',\n",
       " '2023-08-10',\n",
       " '2023-08-17',\n",
       " '2023-08-21',\n",
       " '2023-08-15',\n",
       " '2023-07-04',\n",
       " '2023-08-17',\n",
       " '2023-07-07',\n",
       " '2023-07-04',\n",
       " '2023-08-17',\n",
       " '2023-07-04',\n",
       " '2023-08-02',\n",
       " '2023-07-20',\n",
       " '2023-08-16',\n",
       " '2023-07-04',\n",
       " '2023-08-17',\n",
       " '2023-07-04',\n",
       " '2023-08-01',\n",
       " '2023-07-13',\n",
       " '2023-08-16',\n",
       " '2023-07-04',\n",
       " '2023-04-20',\n",
       " '2023-08-20',\n",
       " '2023-08-17',\n",
       " '2023-07-27',\n",
       " '2023-07-04',\n",
       " '2023-06-30',\n",
       " '2023-08-17',\n",
       " '2023-08-01',\n",
       " '2023-08-11',\n",
       " '2023-08-17',\n",
       " '2023-08-12',\n",
       " '2023-08-09',\n",
       " '2023-08-26',\n",
       " '2023-08-17',\n",
       " '2023-08-16',\n",
       " '2023-08-24',\n",
       " '2023-08-23',\n",
       " '2023-08-25',\n",
       " '2023-08-25',\n",
       " '2023-08-08',\n",
       " '2023-08-11',\n",
       " '2023-07-04',\n",
       " '2023-08-11',\n",
       " '2023-08-17',\n",
       " '2023-08-17',\n",
       " '2023-08-17',\n",
       " '2023-08-17',\n",
       " '2023-08-17',\n",
       " '2023-08-22',\n",
       " '2023-08-17',\n",
       " '2023-07-11',\n",
       " '2023-08-22',\n",
       " '2023-06-14',\n",
       " '2023-08-17',\n",
       " '2023-08-17',\n",
       " '2023-07-24',\n",
       " '2023-08-17',\n",
       " '2023-08-17',\n",
       " '2023-07-04',\n",
       " '2023-07-06',\n",
       " '2023-08-16',\n",
       " '2023-08-17',\n",
       " '2023-08-25',\n",
       " '2023-08-24',\n",
       " '2023-08-15',\n",
       " '2023-07-27',\n",
       " '2023-08-09',\n",
       " '2023-07-17',\n",
       " '2023-07-27',\n",
       " '2023-08-07',\n",
       " '2023-07-20',\n",
       " '2023-08-17',\n",
       " '2023-07-04',\n",
       " '2023-07-04',\n",
       " '2023-07-04',\n",
       " '2023-08-17',\n",
       " '2023-08-17',\n",
       " '2023-08-19',\n",
       " '2023-07-20',\n",
       " '2023-07-04',\n",
       " '2023-07-04',\n",
       " '2023-08-25',\n",
       " '2023-08-17',\n",
       " '2023-08-01',\n",
       " '2023-08-17',\n",
       " '2023-08-17',\n",
       " '2023-08-23',\n",
       " '2023-08-17',\n",
       " '2023-08-16',\n",
       " '2023-08-09',\n",
       " '2023-08-17',\n",
       " '2023-08-16',\n",
       " '2023-07-04',\n",
       " '2023-08-01',\n",
       " '2023-08-22',\n",
       " '2023-08-17',\n",
       " '2023-07-20',\n",
       " '2023-08-18',\n",
       " '2023-08-21',\n",
       " '2023-08-17',\n",
       " '2023-08-17',\n",
       " '2023-08-17',\n",
       " '2023-07-05',\n",
       " '2023-08-15',\n",
       " '2023-07-04',\n",
       " '2023-07-13',\n",
       " '2023-08-25',\n",
       " '2023-07-02',\n",
       " '2023-08-18',\n",
       " '2023-08-25',\n",
       " '2023-08-11',\n",
       " '2023-08-24',\n",
       " '2023-07-04',\n",
       " '2023-07-04',\n",
       " '2023-08-07',\n",
       " '2023-04-28',\n",
       " '2023-07-20',\n",
       " '2023-08-17',\n",
       " '2023-08-25',\n",
       " '2023-08-05',\n",
       " '2023-07-04',\n",
       " '2023-07-04',\n",
       " '2023-08-17',\n",
       " '2023-07-04',\n",
       " '2023-07-11',\n",
       " '2023-07-24',\n",
       " '2023-08-22',\n",
       " '2023-08-21',\n",
       " '2023-08-23',\n",
       " '2023-07-11',\n",
       " '2023-08-25',\n",
       " '2023-08-17',\n",
       " '2023-08-17',\n",
       " '2023-07-06',\n",
       " '2023-07-13',\n",
       " '2023-07-04',\n",
       " '2023-08-25',\n",
       " '2023-08-01',\n",
       " '2023-08-17',\n",
       " '2023-08-17',\n",
       " '2023-07-04',\n",
       " '2023-07-04',\n",
       " '2023-07-04',\n",
       " '2023-08-17',\n",
       " '2023-08-09',\n",
       " '2023-07-26',\n",
       " '2023-07-06',\n",
       " '2023-08-18',\n",
       " '2023-07-04',\n",
       " '2023-08-24',\n",
       " '2023-08-17',\n",
       " '2023-07-04',\n",
       " '2023-07-26',\n",
       " '2023-07-07',\n",
       " '2023-07-26',\n",
       " '2023-08-14',\n",
       " '2023-07-04',\n",
       " '2023-08-26',\n",
       " '2023-08-07',\n",
       " '2023-08-24',\n",
       " '2023-08-17',\n",
       " '2023-06-13',\n",
       " '2023-08-12',\n",
       " '2023-08-25',\n",
       " '2023-08-17',\n",
       " '2023-08-23',\n",
       " '2023-07-03',\n",
       " '2023-08-08',\n",
       " '2023-08-17',\n",
       " '2023-08-09',\n",
       " '2023-07-21',\n",
       " '2023-03-30',\n",
       " '2023-07-04',\n",
       " '2023-08-16',\n",
       " '2023-08-17',\n",
       " '2023-08-19',\n",
       " '2023-08-24',\n",
       " '2023-08-11',\n",
       " '2023-08-17',\n",
       " '2023-07-04',\n",
       " '2023-08-17',\n",
       " '2023-08-18',\n",
       " '2023-08-11',\n",
       " '2023-07-04',\n",
       " '2023-08-14',\n",
       " '2023-08-10',\n",
       " '2023-07-07',\n",
       " '2023-08-17',\n",
       " '2023-07-04',\n",
       " '2023-07-11',\n",
       " '2023-08-17',\n",
       " '2023-07-04',\n",
       " '2023-08-11',\n",
       " '2023-08-23',\n",
       " '2023-08-01',\n",
       " '2023-06-24',\n",
       " '2023-08-23',\n",
       " '2023-07-04',\n",
       " '2023-07-27',\n",
       " '2023-07-21',\n",
       " '2023-08-17',\n",
       " '2023-07-04',\n",
       " '2023-08-25',\n",
       " '2023-08-17',\n",
       " '2023-08-11',\n",
       " '2023-08-17',\n",
       " '2023-07-04',\n",
       " '2023-08-11',\n",
       " '2023-07-04',\n",
       " '2023-08-17',\n",
       " '2023-08-03',\n",
       " '2023-08-10',\n",
       " '2023-08-23',\n",
       " '2023-07-26',\n",
       " '2023-08-17',\n",
       " '2023-07-08',\n",
       " '2023-08-07',\n",
       " '2023-07-28',\n",
       " '2023-07-04',\n",
       " '2023-07-28',\n",
       " '2023-07-15',\n",
       " '2023-08-17',\n",
       " '2023-07-04',\n",
       " '2023-08-17',\n",
       " '2023-08-17',\n",
       " '2023-07-04',\n",
       " '2023-07-27',\n",
       " '2023-07-04',\n",
       " '2023-07-04',\n",
       " '2023-08-24',\n",
       " '2023-07-04',\n",
       " '2023-07-27',\n",
       " '2023-08-23',\n",
       " '2023-08-24',\n",
       " '2023-08-17',\n",
       " '2023-07-04',\n",
       " '2023-08-17',\n",
       " '2023-07-11',\n",
       " '2023-06-29',\n",
       " '2023-07-04',\n",
       " '2023-08-17',\n",
       " '2023-08-17',\n",
       " '2023-07-05',\n",
       " '2023-08-11',\n",
       " '2023-08-11',\n",
       " '2023-08-17',\n",
       " '2023-08-17',\n",
       " '2023-08-04',\n",
       " '2023-07-04',\n",
       " '2023-08-08',\n",
       " '2023-08-17',\n",
       " '2023-07-13',\n",
       " '2023-07-04',\n",
       " '2023-08-17',\n",
       " '2023-08-17',\n",
       " '2023-08-03',\n",
       " '2023-08-17',\n",
       " '2023-08-11',\n",
       " '2023-08-18',\n",
       " '2023-08-22',\n",
       " '2023-08-17',\n",
       " '2023-07-20',\n",
       " '2023-07-25',\n",
       " '2023-05-04',\n",
       " '2023-07-18',\n",
       " '2023-07-27',\n",
       " '2023-08-17',\n",
       " '2023-08-24',\n",
       " '2023-08-17',\n",
       " '2023-07-06',\n",
       " '2023-06-14',\n",
       " '2023-07-04',\n",
       " '2023-08-17',\n",
       " '2023-07-04',\n",
       " '2023-08-26',\n",
       " '2023-08-17',\n",
       " '2023-08-17',\n",
       " '2023-08-17',\n",
       " '2023-08-03',\n",
       " '2023-07-11',\n",
       " '2023-07-04',\n",
       " '2023-08-17',\n",
       " '2023-08-26',\n",
       " '2023-08-23',\n",
       " '2023-07-12',\n",
       " '2023-05-18',\n",
       " '2023-07-04',\n",
       " '2023-08-18',\n",
       " '2023-07-15',\n",
       " '2023-08-14',\n",
       " '2023-08-12',\n",
       " '2023-08-14',\n",
       " '2023-07-06',\n",
       " '2023-08-22',\n",
       " '2023-08-17',\n",
       " '2023-08-17',\n",
       " '2023-08-17',\n",
       " '2023-07-04',\n",
       " '2023-08-08',\n",
       " '2023-08-17',\n",
       " '2023-08-17',\n",
       " '2023-08-17',\n",
       " '2023-04-19',\n",
       " '2023-08-17',\n",
       " '2023-07-04',\n",
       " '2023-08-17',\n",
       " '2023-07-04',\n",
       " '2023-04-20',\n",
       " '2023-08-17',\n",
       " '2023-08-17',\n",
       " '2023-07-07',\n",
       " '2023-08-23',\n",
       " '2023-07-04',\n",
       " '2023-08-02',\n",
       " '2023-08-16',\n",
       " '2023-08-02',\n",
       " '2023-08-19',\n",
       " '2023-08-17',\n",
       " '2023-06-09',\n",
       " '2023-08-19',\n",
       " '2023-07-04',\n",
       " '2023-07-10',\n",
       " '2023-08-24',\n",
       " '2023-08-24',\n",
       " '2023-07-04',\n",
       " '2023-08-17',\n",
       " '2023-07-04',\n",
       " '2023-08-22',\n",
       " '2023-07-18',\n",
       " '2023-07-04',\n",
       " '2023-08-09',\n",
       " '2023-08-17',\n",
       " '2023-07-20',\n",
       " '2023-08-08',\n",
       " '2023-08-17',\n",
       " '2023-07-04',\n",
       " '2023-08-17',\n",
       " '2023-08-17',\n",
       " '2023-08-22',\n",
       " '2023-08-17',\n",
       " '2023-07-11',\n",
       " '2023-07-21',\n",
       " '2023-08-07',\n",
       " '2023-08-04',\n",
       " '2023-08-17',\n",
       " '2023-08-11',\n",
       " '2023-08-17',\n",
       " '2023-07-04',\n",
       " '2023-08-18',\n",
       " '2023-08-17',\n",
       " '2023-08-22',\n",
       " '2023-08-19',\n",
       " '2023-08-17',\n",
       " '2023-07-04',\n",
       " '2023-08-17',\n",
       " '2023-08-17',\n",
       " '2023-08-14',\n",
       " '2023-08-17',\n",
       " '2023-08-17',\n",
       " '2023-07-04',\n",
       " '2023-03-29',\n",
       " '2023-08-17',\n",
       " '2023-07-18',\n",
       " '2023-08-25',\n",
       " '2023-07-04',\n",
       " '2023-07-25',\n",
       " '2023-07-04',\n",
       " '2023-07-10',\n",
       " '2023-08-22',\n",
       " '2023-08-14',\n",
       " '2023-08-17',\n",
       " '2023-08-17',\n",
       " '2023-08-03',\n",
       " '2023-08-17',\n",
       " '2023-07-04',\n",
       " '2023-07-04',\n",
       " '2023-08-16',\n",
       " '2023-08-17',\n",
       " '2023-08-04',\n",
       " '2023-08-04',\n",
       " '2023-07-25',\n",
       " '2023-08-22',\n",
       " '2023-08-17',\n",
       " '2023-08-25',\n",
       " '2023-07-04',\n",
       " '2023-08-11',\n",
       " '2023-08-17',\n",
       " '2023-08-03',\n",
       " '2023-07-04',\n",
       " '2023-08-17',\n",
       " '2023-08-17',\n",
       " '2023-07-27',\n",
       " '2023-07-30',\n",
       " '2023-07-04',\n",
       " '2023-08-09',\n",
       " '2023-07-04',\n",
       " '2023-08-17',\n",
       " '2023-07-13',\n",
       " '2023-08-19',\n",
       " '2023-08-17',\n",
       " '2023-08-17',\n",
       " '2023-07-11',\n",
       " '2023-07-04',\n",
       " '2023-07-04',\n",
       " '2023-07-04',\n",
       " '2023-08-17',\n",
       " '2023-08-11',\n",
       " '2023-08-17',\n",
       " '2023-07-04',\n",
       " '2023-07-04',\n",
       " '2023-08-17',\n",
       " '2023-08-17',\n",
       " '2023-07-11',\n",
       " '2023-07-04',\n",
       " '2023-07-27',\n",
       " '2023-08-11',\n",
       " '2023-08-17',\n",
       " '2023-08-10',\n",
       " '2023-08-17',\n",
       " '2023-08-10',\n",
       " '2023-08-17',\n",
       " '2023-08-17',\n",
       " '2023-08-17',\n",
       " '2023-08-17',\n",
       " '2023-08-11',\n",
       " '2023-08-10',\n",
       " '2023-08-17',\n",
       " '2023-07-19',\n",
       " '2023-08-17',\n",
       " '2023-07-18',\n",
       " '2023-08-17',\n",
       " '2023-07-04',\n",
       " '2023-08-11',\n",
       " '2023-08-11',\n",
       " '2023-07-04',\n",
       " '2023-08-19',\n",
       " '2023-08-17',\n",
       " '2023-08-17',\n",
       " '2023-08-26',\n",
       " '2023-08-17',\n",
       " '2023-08-20',\n",
       " '2023-07-13',\n",
       " '2023-08-26',\n",
       " '2023-08-17',\n",
       " '2023-08-17',\n",
       " '2023-08-19',\n",
       " '2023-08-12',\n",
       " '2023-08-15',\n",
       " '2023-08-17',\n",
       " '2023-05-29',\n",
       " '2023-08-17',\n",
       " '2023-08-17',\n",
       " '2023-08-17',\n",
       " '2023-07-04',\n",
       " '2023-08-17',\n",
       " '2023-07-04',\n",
       " '2023-07-20',\n",
       " '2023-08-01',\n",
       " '2023-08-17',\n",
       " '2023-08-25',\n",
       " '2023-08-26',\n",
       " '2023-08-17',\n",
       " '2023-08-17',\n",
       " '2023-08-15',\n",
       " '2023-07-04',\n",
       " '2023-08-12',\n",
       " '2023-08-17',\n",
       " '2023-08-17',\n",
       " '2023-08-08',\n",
       " '2023-08-17',\n",
       " '2023-08-17',\n",
       " '2023-08-16',\n",
       " '2023-08-17',\n",
       " '2023-08-17',\n",
       " '2023-08-04',\n",
       " '2023-08-25',\n",
       " '2023-07-27',\n",
       " '2023-08-17',\n",
       " '2023-08-26',\n",
       " '2023-08-17',\n",
       " '2023-08-23',\n",
       " '2023-08-17',\n",
       " '2023-08-16',\n",
       " '2023-08-04',\n",
       " '2023-08-24',\n",
       " '2023-08-10',\n",
       " '2023-08-16',\n",
       " '2023-08-17',\n",
       " '2023-08-17',\n",
       " '2023-07-04',\n",
       " '2023-08-17',\n",
       " '2023-08-17',\n",
       " '2023-06-12',\n",
       " '2023-08-17',\n",
       " '2023-07-01',\n",
       " '2023-07-06',\n",
       " '2023-08-25',\n",
       " '2023-08-15',\n",
       " '2023-08-25',\n",
       " '2023-08-11',\n",
       " '2023-07-27',\n",
       " '2023-08-17',\n",
       " '2023-08-17',\n",
       " '2023-08-17',\n",
       " '2023-08-18',\n",
       " '2023-08-17',\n",
       " '2023-08-17',\n",
       " '2023-08-26',\n",
       " '2023-05-20',\n",
       " '2023-08-25',\n",
       " '2023-08-22',\n",
       " '2023-08-04',\n",
       " '2023-08-13',\n",
       " '2023-07-05',\n",
       " '2023-08-17',\n",
       " '2023-08-17',\n",
       " '2023-06-06',\n",
       " '2023-08-17',\n",
       " '2023-08-04',\n",
       " '2023-08-25',\n",
       " '2023-07-17',\n",
       " '2023-08-17',\n",
       " '2023-08-17',\n",
       " '2023-08-17',\n",
       " '2023-08-20',\n",
       " '2023-08-23',\n",
       " '2023-08-17',\n",
       " '2023-08-17',\n",
       " '2023-08-17',\n",
       " '2023-08-17',\n",
       " '2023-08-17',\n",
       " '2023-08-11',\n",
       " '2023-08-25',\n",
       " '2023-08-17',\n",
       " '2023-08-20',\n",
       " '2023-08-25',\n",
       " '2023-08-21',\n",
       " '2023-07-05',\n",
       " '2023-08-25',\n",
       " '2023-08-20',\n",
       " '2023-08-26',\n",
       " '2023-08-17',\n",
       " '2023-08-17',\n",
       " '2023-08-17',\n",
       " '2023-08-17',\n",
       " '2023-07-05',\n",
       " '2023-07-04',\n",
       " '2023-08-15',\n",
       " '2023-08-17',\n",
       " '2023-08-09',\n",
       " '2023-08-15',\n",
       " '2023-08-17',\n",
       " '2023-08-17',\n",
       " '2023-08-17',\n",
       " '2023-08-17',\n",
       " '2023-08-17',\n",
       " '2023-08-26',\n",
       " '2023-08-17',\n",
       " '2023-08-17',\n",
       " '2023-07-24',\n",
       " '2023-08-17',\n",
       " '2023-08-17',\n",
       " '2023-08-17',\n",
       " '2023-07-04',\n",
       " '2023-08-09',\n",
       " '2023-08-03',\n",
       " '2023-08-22',\n",
       " '2023-08-09',\n",
       " '2023-08-18',\n",
       " '2023-08-18',\n",
       " '2023-08-08',\n",
       " '2023-08-22',\n",
       " '2023-08-17',\n",
       " '2023-07-28',\n",
       " '2023-08-24',\n",
       " '2023-08-03',\n",
       " '2023-08-23',\n",
       " '2023-08-25',\n",
       " '2023-07-27',\n",
       " '2023-07-04',\n",
       " '2023-08-09',\n",
       " '2023-07-26',\n",
       " '2023-08-17',\n",
       " '2023-07-04',\n",
       " '2023-08-17',\n",
       " '2023-08-04',\n",
       " '2023-07-04',\n",
       " '2023-08-17',\n",
       " '2023-07-11',\n",
       " '2023-07-04',\n",
       " '2023-07-13',\n",
       " '2023-08-17',\n",
       " '2023-07-31',\n",
       " '2023-08-22',\n",
       " '2023-05-18',\n",
       " '2023-08-25',\n",
       " '2023-07-17',\n",
       " '2023-07-04',\n",
       " '2023-08-18',\n",
       " '2022-12-18',\n",
       " '2023-07-04',\n",
       " '2023-08-17',\n",
       " '2022-12-18',\n",
       " '2022-12-18',\n",
       " '2023-08-03',\n",
       " '2023-08-17',\n",
       " '2023-08-17',\n",
       " '2023-08-08',\n",
       " '2023-07-04',\n",
       " '2023-07-04',\n",
       " '2023-08-06',\n",
       " '2023-08-03',\n",
       " '2023-07-04',\n",
       " '2023-08-17',\n",
       " '2023-05-18',\n",
       " '2023-08-17',\n",
       " '2023-08-04',\n",
       " '2023-07-26',\n",
       " '2023-07-20',\n",
       " '2023-08-17',\n",
       " '2023-08-17',\n",
       " '2023-08-17',\n",
       " '2023-07-04',\n",
       " '2023-08-24',\n",
       " '2023-08-24',\n",
       " '2023-08-23',\n",
       " '2023-08-10',\n",
       " '2023-08-03',\n",
       " '2023-08-17',\n",
       " '2023-07-04',\n",
       " '2023-08-23',\n",
       " '2023-08-03',\n",
       " '2023-07-04',\n",
       " '2023-08-15',\n",
       " '2023-08-22',\n",
       " '2023-07-02',\n",
       " '2023-08-24',\n",
       " '2023-06-22',\n",
       " '2023-08-17',\n",
       " '2023-07-04',\n",
       " '2023-08-17',\n",
       " '2023-08-08',\n",
       " '2023-08-17',\n",
       " '2023-03-30',\n",
       " '2023-08-17',\n",
       " '2023-08-09',\n",
       " '2023-07-14',\n",
       " '2022-12-18',\n",
       " '2023-08-11',\n",
       " '2023-08-23',\n",
       " '2023-08-17',\n",
       " '2023-08-17',\n",
       " '2023-08-17',\n",
       " '2023-08-18',\n",
       " '2023-08-13',\n",
       " '2023-07-27',\n",
       " '2023-08-17',\n",
       " '2023-07-04',\n",
       " '2023-07-11',\n",
       " '2023-07-19',\n",
       " '2023-08-22',\n",
       " '2023-08-17',\n",
       " '2023-08-17',\n",
       " '2023-08-17',\n",
       " '2023-08-17',\n",
       " '2023-07-04',\n",
       " '2023-08-26',\n",
       " '2023-08-11',\n",
       " '2023-08-17',\n",
       " '2023-08-01',\n",
       " '2023-08-17',\n",
       " '2023-08-17',\n",
       " '2023-08-22',\n",
       " '2023-08-09',\n",
       " '2023-08-24',\n",
       " '2023-07-24',\n",
       " '2023-08-16',\n",
       " '2022-12-18',\n",
       " '2022-12-18',\n",
       " '2023-07-28',\n",
       " '2023-08-17',\n",
       " '2023-07-04',\n",
       " '2023-08-17',\n",
       " '2023-08-15',\n",
       " '2023-05-02',\n",
       " '2023-08-23',\n",
       " '2023-08-17',\n",
       " '2023-07-04',\n",
       " '2023-07-04',\n",
       " '2023-06-28',\n",
       " '2023-03-30',\n",
       " '2023-08-25',\n",
       " '2023-07-04',\n",
       " '2023-07-06',\n",
       " '2023-07-12',\n",
       " '2022-12-18',\n",
       " '2023-07-12',\n",
       " '2023-07-04',\n",
       " '2023-08-17',\n",
       " '2023-08-24',\n",
       " '2023-06-22',\n",
       " '2023-08-17',\n",
       " '2023-08-18',\n",
       " '2023-08-17',\n",
       " '2023-07-04',\n",
       " '2023-07-18',\n",
       " '2023-07-31',\n",
       " '2023-08-17',\n",
       " '2023-07-12',\n",
       " '2023-08-15',\n",
       " '2022-12-28',\n",
       " '2023-08-17',\n",
       " '2023-08-17',\n",
       " '2023-08-11',\n",
       " '2023-08-02',\n",
       " '2023-07-11',\n",
       " '2023-07-31',\n",
       " '2023-07-04',\n",
       " '2023-08-24',\n",
       " '2023-08-17',\n",
       " '2023-07-04',\n",
       " '2023-03-10',\n",
       " '2023-08-10',\n",
       " '2023-08-07',\n",
       " '2023-08-26',\n",
       " '2023-08-22',\n",
       " '2023-08-17',\n",
       " '2023-07-12',\n",
       " '2023-08-10',\n",
       " '2022-12-18',\n",
       " '2023-07-04',\n",
       " '2023-07-04',\n",
       " '2023-07-04',\n",
       " '2023-08-17',\n",
       " '2023-08-17',\n",
       " '2023-08-17',\n",
       " '2023-07-04',\n",
       " '2023-08-22',\n",
       " '2023-08-17',\n",
       " '2023-07-04',\n",
       " '2023-08-18',\n",
       " '2023-05-25',\n",
       " '2023-08-17',\n",
       " '2023-08-17',\n",
       " '2023-08-17',\n",
       " '2023-08-17',\n",
       " '2023-08-22',\n",
       " '2023-08-17',\n",
       " '2023-07-31',\n",
       " '2023-08-15',\n",
       " '2023-07-07',\n",
       " '2023-07-14',\n",
       " '2023-07-04',\n",
       " '2023-07-11',\n",
       " '2023-07-04',\n",
       " '2023-07-04',\n",
       " '2023-08-17',\n",
       " '2023-08-26',\n",
       " '2023-08-16',\n",
       " '2023-07-17',\n",
       " '2023-08-17',\n",
       " '2023-08-17',\n",
       " '2023-08-16',\n",
       " '2023-08-08',\n",
       " '2023-07-04',\n",
       " '2023-08-03',\n",
       " '2023-08-22',\n",
       " '2023-08-17',\n",
       " '2023-07-11',\n",
       " '2023-08-17',\n",
       " '2023-08-23',\n",
       " '2023-07-24',\n",
       " '2023-08-09',\n",
       " '2023-05-15',\n",
       " '2023-08-25',\n",
       " '2023-07-18',\n",
       " '2023-08-26',\n",
       " '2023-07-25',\n",
       " '2023-08-09',\n",
       " '2023-07-04',\n",
       " '2023-07-04',\n",
       " '2023-08-17',\n",
       " '2023-07-27',\n",
       " '2023-08-24',\n",
       " '2023-08-17',\n",
       " '2023-08-25',\n",
       " '2023-08-25',\n",
       " '2023-08-15',\n",
       " '2023-08-19',\n",
       " '2023-08-07',\n",
       " '2023-08-10',\n",
       " '2023-07-04',\n",
       " '2023-08-02',\n",
       " '2023-08-17',\n",
       " '2023-07-04',\n",
       " '2023-08-17',\n",
       " '2023-07-04',\n",
       " '2023-08-11',\n",
       " '2023-08-11',\n",
       " '2023-08-17',\n",
       " '2023-08-17',\n",
       " '2023-07-04',\n",
       " '2023-07-31',\n",
       " '2023-08-17',\n",
       " '2023-08-22',\n",
       " '2023-08-17',\n",
       " '2023-08-17',\n",
       " '2023-08-15',\n",
       " '2023-07-04',\n",
       " '2023-07-08',\n",
       " '2023-08-17',\n",
       " '2023-08-17',\n",
       " '2023-08-18',\n",
       " '2023-07-18',\n",
       " '2023-07-04',\n",
       " '2023-08-17',\n",
       " '2023-08-25',\n",
       " '2023-07-05',\n",
       " '2023-08-25',\n",
       " '2023-08-17',\n",
       " '2023-08-12',\n",
       " '2023-08-17',\n",
       " '2023-08-17',\n",
       " '2023-08-17',\n",
       " '2023-07-27',\n",
       " '2023-08-17',\n",
       " '2023-08-17',\n",
       " '2023-03-10',\n",
       " '2023-08-26',\n",
       " '2023-07-11',\n",
       " '2023-08-23',\n",
       " '2023-08-12',\n",
       " '2023-08-17',\n",
       " '2023-08-24',\n",
       " '2023-08-17',\n",
       " '2023-08-26',\n",
       " '2023-07-11',\n",
       " '2023-07-28',\n",
       " '2023-08-09',\n",
       " '2023-07-20',\n",
       " '2023-08-24',\n",
       " '2023-08-09',\n",
       " '2023-08-17',\n",
       " '2023-08-17',\n",
       " '2023-07-11']"
      ]
     },
     "execution_count": 38,
     "metadata": {},
     "output_type": "execute_result"
    }
   ],
   "source": [
    "jobs_dates"
   ]
  },
  {
   "cell_type": "code",
   "execution_count": 136,
   "metadata": {},
   "outputs": [],
   "source": [
    "df = pd.DataFrame({'jobs_title':titles_names,'companys':company_names, 'location':locations_names})"
   ]
  },
  {
   "cell_type": "code",
   "execution_count": 137,
   "metadata": {},
   "outputs": [
    {
     "data": {
      "text/html": [
       "<div>\n",
       "<style scoped>\n",
       "    .dataframe tbody tr th:only-of-type {\n",
       "        vertical-align: middle;\n",
       "    }\n",
       "\n",
       "    .dataframe tbody tr th {\n",
       "        vertical-align: top;\n",
       "    }\n",
       "\n",
       "    .dataframe thead th {\n",
       "        text-align: right;\n",
       "    }\n",
       "</style>\n",
       "<table border=\"1\" class=\"dataframe\">\n",
       "  <thead>\n",
       "    <tr style=\"text-align: right;\">\n",
       "      <th></th>\n",
       "      <th>jobs_title</th>\n",
       "      <th>companys</th>\n",
       "      <th>location</th>\n",
       "    </tr>\n",
       "  </thead>\n",
       "  <tbody>\n",
       "    <tr>\n",
       "      <th>0</th>\n",
       "      <td>Analista Jr. de Control de Gestión</td>\n",
       "      <td>Aeropuertos Argentina 2000</td>\n",
       "      <td>Buenos Aires, Provincia de Buenos Aires, Argen...</td>\n",
       "    </tr>\n",
       "    <tr>\n",
       "      <th>1</th>\n",
       "      <td>Analista de Operaciones Junior</td>\n",
       "      <td>Aeropuertos Argentina 2000</td>\n",
       "      <td>Buenos Aires, Provincia de Buenos Aires, Argen...</td>\n",
       "    </tr>\n",
       "    <tr>\n",
       "      <th>2</th>\n",
       "      <td>Analista de Centro de Control de Operaciones J...</td>\n",
       "      <td>Aeropuertos Argentina 2000</td>\n",
       "      <td>Buenos Aires, Provincia de Buenos Aires, Argen...</td>\n",
       "    </tr>\n",
       "    <tr>\n",
       "      <th>3</th>\n",
       "      <td>Analista de Datos Jr</td>\n",
       "      <td>DirMOD</td>\n",
       "      <td>Mendoza, Mendoza, Argentina</td>\n",
       "    </tr>\n",
       "    <tr>\n",
       "      <th>4</th>\n",
       "      <td>Data Analyst jr.</td>\n",
       "      <td>LC Consultora | Recursos Humanos</td>\n",
       "      <td>Vicente López, Provincia de Buenos Aires, Arge...</td>\n",
       "    </tr>\n",
       "    <tr>\n",
       "      <th>...</th>\n",
       "      <td>...</td>\n",
       "      <td>...</td>\n",
       "      <td>...</td>\n",
       "    </tr>\n",
       "    <tr>\n",
       "      <th>620</th>\n",
       "      <td>coordinador leader/ networking infra - vicente...</td>\n",
       "      <td>YEL Solutions</td>\n",
       "      <td>Vicente López, Provincia de Buenos Aires, Arge...</td>\n",
       "    </tr>\n",
       "    <tr>\n",
       "      <th>621</th>\n",
       "      <td>Analista de Control de Gestión para important...</td>\n",
       "      <td>MS Coach Sandoval</td>\n",
       "      <td>Buenos Aires, Provincia de Buenos Aires, Argen...</td>\n",
       "    </tr>\n",
       "    <tr>\n",
       "      <th>622</th>\n",
       "      <td>Analista Funcional Sr. con Inglés Avanzado</td>\n",
       "      <td>Empleos IT Argentina</td>\n",
       "      <td>Coronel Martínez de Hoz, Provincia de Buenos A...</td>\n",
       "    </tr>\n",
       "    <tr>\n",
       "      <th>623</th>\n",
       "      <td>Gestor/a para importante grupo de concesionari...</td>\n",
       "      <td>ICARS</td>\n",
       "      <td>Lomas de Zamora, Provincia de Buenos Aires, Ar...</td>\n",
       "    </tr>\n",
       "    <tr>\n",
       "      <th>624</th>\n",
       "      <td>Team Leader de Equipos de Ventas</td>\n",
       "      <td>Voicenter S.A.</td>\n",
       "      <td>Córdoba, Córdoba, Argentina</td>\n",
       "    </tr>\n",
       "  </tbody>\n",
       "</table>\n",
       "<p>625 rows × 3 columns</p>\n",
       "</div>"
      ],
      "text/plain": [
       "                                            jobs_title  \\\n",
       "0                   Analista Jr. de Control de Gestión   \n",
       "1                       Analista de Operaciones Junior   \n",
       "2    Analista de Centro de Control de Operaciones J...   \n",
       "3                                 Analista de Datos Jr   \n",
       "4                                     Data Analyst jr.   \n",
       "..                                                 ...   \n",
       "620  coordinador leader/ networking infra - vicente...   \n",
       "621  Analista de Control de Gestión para important...   \n",
       "622         Analista Funcional Sr. con Inglés Avanzado   \n",
       "623  Gestor/a para importante grupo de concesionari...   \n",
       "624                   Team Leader de Equipos de Ventas   \n",
       "\n",
       "                             companys  \\\n",
       "0          Aeropuertos Argentina 2000   \n",
       "1          Aeropuertos Argentina 2000   \n",
       "2          Aeropuertos Argentina 2000   \n",
       "3                              DirMOD   \n",
       "4    LC Consultora | Recursos Humanos   \n",
       "..                                ...   \n",
       "620                     YEL Solutions   \n",
       "621                 MS Coach Sandoval   \n",
       "622              Empleos IT Argentina   \n",
       "623                             ICARS   \n",
       "624                    Voicenter S.A.   \n",
       "\n",
       "                                              location  \n",
       "0    Buenos Aires, Provincia de Buenos Aires, Argen...  \n",
       "1    Buenos Aires, Provincia de Buenos Aires, Argen...  \n",
       "2    Buenos Aires, Provincia de Buenos Aires, Argen...  \n",
       "3                          Mendoza, Mendoza, Argentina  \n",
       "4    Vicente López, Provincia de Buenos Aires, Arge...  \n",
       "..                                                 ...  \n",
       "620  Vicente López, Provincia de Buenos Aires, Arge...  \n",
       "621  Buenos Aires, Provincia de Buenos Aires, Argen...  \n",
       "622  Coronel Martínez de Hoz, Provincia de Buenos A...  \n",
       "623  Lomas de Zamora, Provincia de Buenos Aires, Ar...  \n",
       "624                        Córdoba, Córdoba, Argentina  \n",
       "\n",
       "[625 rows x 3 columns]"
      ]
     },
     "execution_count": 137,
     "metadata": {},
     "output_type": "execute_result"
    }
   ],
   "source": [
    "df"
   ]
  },
  {
   "cell_type": "code",
   "execution_count": 17,
   "metadata": {},
   "outputs": [],
   "source": [
    "links = driver.find_elements(By.CLASS_NAME, 'base-card__full-link')"
   ]
  },
  {
   "cell_type": "code",
   "execution_count": 16,
   "metadata": {},
   "outputs": [
    {
     "ename": "NameError",
     "evalue": "name 'links' is not defined",
     "output_type": "error",
     "traceback": [
      "\u001b[1;31m---------------------------------------------------------------------------\u001b[0m",
      "\u001b[1;31mNameError\u001b[0m                                 Traceback (most recent call last)",
      "Cell \u001b[1;32mIn[16], line 2\u001b[0m\n\u001b[0;32m      1\u001b[0m hrefList \u001b[39m=\u001b[39m []\n\u001b[1;32m----> 2\u001b[0m \u001b[39mfor\u001b[39;00m e \u001b[39min\u001b[39;00m links:\n\u001b[0;32m      3\u001b[0m     hrefList\u001b[39m.\u001b[39mappend(e\u001b[39m.\u001b[39mget_attribute(\u001b[39m'\u001b[39m\u001b[39mhref\u001b[39m\u001b[39m'\u001b[39m))\n",
      "\u001b[1;31mNameError\u001b[0m: name 'links' is not defined"
     ]
    }
   ],
   "source": [
    "hrefList = []\n",
    "for e in links:\n",
    "    hrefList.append(e.get_attribute('href'))"
   ]
  },
  {
   "cell_type": "code",
   "execution_count": 18,
   "metadata": {},
   "outputs": [],
   "source": [
    "#Find job links and append it to a list\n",
    "\n",
    "jobList = driver.find_elements(By.CLASS_NAME, 'base-card__full-link')\n",
    "hrefList = []\n",
    "for e in jobList:\n",
    "    hrefList.append(e.get_attribute('href'))\n",
    "    "
   ]
  },
  {
   "cell_type": "code",
   "execution_count": 20,
   "metadata": {},
   "outputs": [
    {
     "data": {
      "text/plain": [
       "920"
      ]
     },
     "execution_count": 20,
     "metadata": {},
     "output_type": "execute_result"
    }
   ],
   "source": [
    "len(hrefList)"
   ]
  },
  {
   "cell_type": "code",
   "execution_count": 61,
   "metadata": {},
   "outputs": [
    {
     "data": {
      "text/plain": [
       "['https://ar.linkedin.com/jobs/view/analista-de-centro-de-control-de-operaciones-junior-at-aeropuertos-argentina-2000-3693593413?refId=r2giPkGW4EuApwWkW6jSGg%3D%3D&trackingId=E1%2BXdV25rO%2FNEYbCHOLq8w%3D%3D&position=1&pageNum=0&trk=public_jobs_jserp-result_search-card',\n",
       " 'https://ar.linkedin.com/jobs/view/analista-de-operaciones-junior-at-aeropuertos-argentina-2000-3693592513?refId=r2giPkGW4EuApwWkW6jSGg%3D%3D&trackingId=zkJ17r2XM%2FEc%2Ff0tKJMTOw%3D%3D&position=2&pageNum=0&trk=public_jobs_jserp-result_search-card',\n",
       " 'https://ar.linkedin.com/jobs/view/analista-jr-de-control-de-gesti%C3%B3n-at-aeropuertos-argentina-2000-3697739395?refId=r2giPkGW4EuApwWkW6jSGg%3D%3D&trackingId=BLdShEzEK0jvFv7%2F%2BBdfKg%3D%3D&position=3&pageNum=0&trk=public_jobs_jserp-result_search-card',\n",
       " 'https://ar.linkedin.com/jobs/view/analista-de-datos-jr-at-dirmod-3689225624?refId=r2giPkGW4EuApwWkW6jSGg%3D%3D&trackingId=haz6CcF3BHejhh%2FcIOGCXQ%3D%3D&position=4&pageNum=0&trk=public_jobs_jserp-result_search-card',\n",
       " 'https://ar.linkedin.com/jobs/view/data-analyst-jr-at-lc-consultora-recursos-humanos-3671825030?refId=r2giPkGW4EuApwWkW6jSGg%3D%3D&trackingId=ABjDXKdW6WLgUMYM0ClkNQ%3D%3D&position=5&pageNum=0&trk=public_jobs_jserp-result_search-card',\n",
       " 'https://ar.linkedin.com/jobs/view/data-analyst-jr-at-lc-consultora-recursos-humanos-3684472264?refId=r2giPkGW4EuApwWkW6jSGg%3D%3D&trackingId=%2BhP98721iLc2jXfd96HyrA%3D%3D&position=6&pageNum=0&trk=public_jobs_jserp-result_search-card',\n",
       " 'https://ar.linkedin.com/jobs/view/analista-de-gesti%C3%B3n-de-stock-at-prestigio-3688418276?refId=r2giPkGW4EuApwWkW6jSGg%3D%3D&trackingId=SHAVQibf7Vn2rdwgpQejHA%3D%3D&position=7&pageNum=0&trk=public_jobs_jserp-result_search-card',\n",
       " 'https://ar.linkedin.com/jobs/view/analista-de-presupuesto-e-indicadores-de-negocio-at-claro-argentina-3628302782?refId=r2giPkGW4EuApwWkW6jSGg%3D%3D&trackingId=Q%2BL3X2dnzY1r6rLdabIBGQ%3D%3D&position=8&pageNum=0&trk=public_jobs_jserp-result_search-card',\n",
       " 'https://ar.linkedin.com/jobs/view/analista-de-gestion-estrat%C3%A9gica-at-medif%C3%A9-3690735609?refId=r2giPkGW4EuApwWkW6jSGg%3D%3D&trackingId=HlwtLG89lcLMCGP%2FG1OIOg%3D%3D&position=9&pageNum=0&trk=public_jobs_jserp-result_search-card',\n",
       " 'https://ar.linkedin.com/jobs/view/analista-de-planeamiento-at-suizo-argentina-3696479205?refId=r2giPkGW4EuApwWkW6jSGg%3D%3D&trackingId=eWKb36G3qzfnvTybVSVLLg%3D%3D&position=10&pageNum=0&trk=public_jobs_jserp-result_search-card',\n",
       " 'https://ar.linkedin.com/jobs/view/data-analyst-jr-at-wunderman-thompson-argentina-3689423975?refId=r2giPkGW4EuApwWkW6jSGg%3D%3D&trackingId=9bVhD%2BaLZwqB4sioEeW0WQ%3D%3D&position=11&pageNum=0&trk=public_jobs_jserp-result_search-card',\n",
       " 'https://ar.linkedin.com/jobs/view/analista-de-riesgos-at-bbva-en-argentina-3689266652?refId=r2giPkGW4EuApwWkW6jSGg%3D%3D&trackingId=8q3j2LHBjSyVY7otEIRXuQ%3D%3D&position=12&pageNum=0&trk=public_jobs_jserp-result_search-card',\n",
       " 'https://ar.linkedin.com/jobs/view/analista-power-bi-at-in-corporate-3696482593?refId=r2giPkGW4EuApwWkW6jSGg%3D%3D&trackingId=JMb8k%2Fpb6RSuoygtDzobYg%3D%3D&position=13&pageNum=0&trk=public_jobs_jserp-result_search-card',\n",
       " 'https://ar.linkedin.com/jobs/view/analista-de-convenios-at-suizo-argentina-3696488488?refId=r2giPkGW4EuApwWkW6jSGg%3D%3D&trackingId=DlXv%2Fh6Py3zfbGm69ck8MQ%3D%3D&position=14&pageNum=0&trk=public_jobs_jserp-result_search-card',\n",
       " 'https://ar.linkedin.com/jobs/view/analista-de-administraci%C3%B3n-de-ventas-at-ledesma-3675847128?refId=r2giPkGW4EuApwWkW6jSGg%3D%3D&trackingId=zKCoHxgL39tOYQXgN0Vl4g%3D%3D&position=15&pageNum=0&trk=public_jobs_jserp-result_search-card',\n",
       " 'https://ar.linkedin.com/jobs/view/analista-de-control-de-gesti%C3%B3n-at-seguros-supervielle-3672532147?refId=r2giPkGW4EuApwWkW6jSGg%3D%3D&trackingId=hZNpLTfaKnisZ4qj0sYNJg%3D%3D&position=16&pageNum=0&trk=public_jobs_jserp-result_search-card',\n",
       " 'https://ar.linkedin.com/jobs/view/analista-comercial-ana%CC%81lisis-de-bases-de-datos-excel-y-power-bi-at-montagne-3696480106?refId=r2giPkGW4EuApwWkW6jSGg%3D%3D&trackingId=SasuS88eKc99EO5tKNw39g%3D%3D&position=17&pageNum=0&trk=public_jobs_jserp-result_search-card',\n",
       " 'https://ar.linkedin.com/jobs/view/analista-de-reportes-y-control-de-gesti%C3%B3n-con-sql-at-banco-hipotecario-3675112790?refId=r2giPkGW4EuApwWkW6jSGg%3D%3D&trackingId=43bbfZSXRdH5PgphcGoFyw%3D%3D&position=18&pageNum=0&trk=public_jobs_jserp-result_search-card',\n",
       " 'https://ar.linkedin.com/jobs/view/analista-de-gestio%CC%81n-de-seguros-at-suizo-argentina-3696489487?refId=r2giPkGW4EuApwWkW6jSGg%3D%3D&trackingId=s0OTclIxsow5%2Fct2D6GL3w%3D%3D&position=19&pageNum=0&trk=public_jobs_jserp-result_search-card',\n",
       " 'https://ar.linkedin.com/jobs/view/analista-de-producto-stock-sr-at-fr%C3%A1vega-3693590665?refId=r2giPkGW4EuApwWkW6jSGg%3D%3D&trackingId=0yv9ZHThAKP1Xr7miPzDbg%3D%3D&position=20&pageNum=0&trk=public_jobs_jserp-result_search-card',\n",
       " 'https://ar.linkedin.com/jobs/view/analista-de-precios-direcci%C3%B3n-de-administraci%C3%B3n-finanzas-at-coca-cola-femsa-3688119734?refId=r2giPkGW4EuApwWkW6jSGg%3D%3D&trackingId=sV%2BJi4npGTgd0dRbxINRzw%3D%3D&position=21&pageNum=0&trk=public_jobs_jserp-result_search-card',\n",
       " 'https://ar.linkedin.com/jobs/view/analista-de-procesamiento-operativo-at-ual%C3%A1-3670084594?refId=r2giPkGW4EuApwWkW6jSGg%3D%3D&trackingId=nh6zHIduDCpd1M6fcwP1Pg%3D%3D&position=22&pageNum=0&trk=public_jobs_jserp-result_search-card',\n",
       " 'https://ar.linkedin.com/jobs/view/analista-pricing-administraci%C3%B3n-comercial-at-dhl-express-3680157288?refId=r2giPkGW4EuApwWkW6jSGg%3D%3D&trackingId=UfKXYYvbIABLaGjd0bbcMw%3D%3D&position=23&pageNum=0&trk=public_jobs_jserp-result_search-card',\n",
       " 'https://ar.linkedin.com/jobs/view/analista-de-gestio%CC%81n-de-la-documentacio%CC%81n-at-suizo-argentina-3696478787?refId=r2giPkGW4EuApwWkW6jSGg%3D%3D&trackingId=%2BK%2Be4VqhJ4xeHkoKtuJipg%3D%3D&position=24&pageNum=0&trk=public_jobs_jserp-result_search-card',\n",
       " 'https://ar.linkedin.com/jobs/view/analista-segmento-corporativo-e-inversiones-ssr-at-telecentro-3680354277?refId=Ed0HeRQM9dW2LJFQttOSbg%3D%3D&trackingId=2jNWNjcvea3zmHW%2BugCbqA%3D%3D&position=1&pageNum=1&trk=public_jobs_jserp-result_search-card',\n",
       " 'https://ar.linkedin.com/jobs/view/analista-de-precios-at-medif%C3%A9-3690738280?refId=Ed0HeRQM9dW2LJFQttOSbg%3D%3D&trackingId=r%2FRRpiKFABk%2BFCegtEuPHg%3D%3D&position=2&pageNum=1&trk=public_jobs_jserp-result_search-card',\n",
       " 'https://ar.linkedin.com/jobs/view/analista-de-procesos-jr-at-ingematica-3696475192?refId=Ed0HeRQM9dW2LJFQttOSbg%3D%3D&trackingId=8%2B9NoAmjcipPi%2B7ghozchw%3D%3D&position=3&pageNum=1&trk=public_jobs_jserp-result_search-card',\n",
       " 'https://ar.linkedin.com/jobs/view/analista-de-control-operativo-at-prisma-medios-de-pago-3691412246?refId=Ed0HeRQM9dW2LJFQttOSbg%3D%3D&trackingId=Lm4VububmqMgkKj83qsImw%3D%3D&position=4&pageNum=1&trk=public_jobs_jserp-result_search-card',\n",
       " 'https://ar.linkedin.com/jobs/view/analista-ssr-an%C3%A1lisis-del-negocio-at-provincia-art-3661508988?refId=Ed0HeRQM9dW2LJFQttOSbg%3D%3D&trackingId=nx35CQiZ9MDlZk5i0qcBMw%3D%3D&position=5&pageNum=1&trk=public_jobs_jserp-result_search-card',\n",
       " 'https://ar.linkedin.com/jobs/view/jefe-a-inteligencia-negocios-at-cencosud-s-a-3700419241?refId=Ed0HeRQM9dW2LJFQttOSbg%3D%3D&trackingId=FtCZxLhBcPmAslxgg%2FjWxg%3D%3D&position=6&pageNum=1&trk=public_jobs_jserp-result_search-card',\n",
       " 'https://ar.linkedin.com/jobs/view/analista-de-control-de-fraude-sr-at-andreani-grupo-log%C3%ADstico-3689589759?refId=Ed0HeRQM9dW2LJFQttOSbg%3D%3D&trackingId=tQhNC9%2FkJ27YSGQrNF4TGQ%3D%3D&position=7&pageNum=1&trk=public_jobs_jserp-result_search-card',\n",
       " 'https://ar.linkedin.com/jobs/view/analista-de-control-de-gesti%C3%B3n-at-scienza-argentina-3689228434?refId=Ed0HeRQM9dW2LJFQttOSbg%3D%3D&trackingId=g1YGbO2m1YZL7X3NlWnJew%3D%3D&position=8&pageNum=1&trk=public_jobs_jserp-result_search-card',\n",
       " 'https://ar.linkedin.com/jobs/view/analista-de-riesgo-corporativo-jr-at-banco-hipotecario-3675837393?refId=Ed0HeRQM9dW2LJFQttOSbg%3D%3D&trackingId=7pR%2Bh1os2qC9DAgkKcn9tA%3D%3D&position=9&pageNum=1&trk=public_jobs_jserp-result_search-card',\n",
       " 'https://ar.linkedin.com/jobs/view/analista-de-control-de-gesti%C3%B3n-at-scienza-argentina-3684420887?refId=Ed0HeRQM9dW2LJFQttOSbg%3D%3D&trackingId=Mb7lzXm1k3GA8Ekr2G%2F43A%3D%3D&position=10&pageNum=1&trk=public_jobs_jserp-result_search-card',\n",
       " 'https://ar.linkedin.com/jobs/view/analista-de-operaciones-at-alprestamo-3696023703?refId=Ed0HeRQM9dW2LJFQttOSbg%3D%3D&trackingId=jq5Yj1%2BPZ4weQ0K%2FeCxHFA%3D%3D&position=11&pageNum=1&trk=public_jobs_jserp-result_search-card',\n",
       " 'https://ar.linkedin.com/jobs/view/analista-de-administracion-y-cobranzas-at-drogueria-del-sud-s-a-3675837414?refId=Ed0HeRQM9dW2LJFQttOSbg%3D%3D&trackingId=vSrQqIAFCNtt8i17YheUnA%3D%3D&position=12&pageNum=1&trk=public_jobs_jserp-result_search-card',\n",
       " 'https://ar.linkedin.com/jobs/view/an%C3%A1lisis-y-administraci%C3%B3n-de-producci%C3%B3n-planta-industrial-at-vacalin-3678502540?refId=Ed0HeRQM9dW2LJFQttOSbg%3D%3D&trackingId=M2TmXseF%2F75en9o6JJcbmg%3D%3D&position=13&pageNum=1&trk=public_jobs_jserp-result_search-card',\n",
       " 'https://ar.linkedin.com/jobs/view/product-analyst-sr-cr%C3%A9ditos-at-naranja-x-3689407720?refId=Ed0HeRQM9dW2LJFQttOSbg%3D%3D&trackingId=lxEUW5cPbZgyc5g2ytcD8g%3D%3D&position=14&pageNum=1&trk=public_jobs_jserp-result_search-card',\n",
       " 'https://ar.linkedin.com/jobs/view/analista-de-planeamiento-y-control-de-gesti%C3%B3n-at-mastellone-hnos-s-a-3667485592?refId=Ed0HeRQM9dW2LJFQttOSbg%3D%3D&trackingId=lvYk6jdbQn1wiCwhFv4aXQ%3D%3D&position=15&pageNum=1&trk=public_jobs_jserp-result_search-card',\n",
       " 'https://ar.linkedin.com/jobs/view/analista-power-bi-contable-at-huzo-nl-3696482974?refId=Ed0HeRQM9dW2LJFQttOSbg%3D%3D&trackingId=AsJyQk7ZCdOF%2BrOk9t6RCg%3D%3D&position=16&pageNum=1&trk=public_jobs_jserp-result_search-card',\n",
       " 'https://ar.linkedin.com/jobs/view/analista-de-precios-direcci%C3%B3n-de-administraci%C3%B3n-finanzas-at-coca-cola-femsa-3688126019?refId=Ed0HeRQM9dW2LJFQttOSbg%3D%3D&trackingId=qpPMthzAbNE6FC1iJUZb7g%3D%3D&position=17&pageNum=1&trk=public_jobs_jserp-result_search-card',\n",
       " 'https://ar.linkedin.com/jobs/view/analista-control-de-gesti%C3%B3n-at-nrg-argentina-s-a-3687015126?refId=Ed0HeRQM9dW2LJFQttOSbg%3D%3D&trackingId=%2B%2BGUQiGp7tvAnbQu4bco4A%3D%3D&position=18&pageNum=1&trk=public_jobs_jserp-result_search-card',\n",
       " 'https://ar.linkedin.com/jobs/view/analista-customer-experience-at-prosegur-3693056258?refId=Ed0HeRQM9dW2LJFQttOSbg%3D%3D&trackingId=ASJpIWPaN5Cz3mIz2%2F7muQ%3D%3D&position=19&pageNum=1&trk=public_jobs_jserp-result_search-card',\n",
       " 'https://ar.linkedin.com/jobs/view/analista-de-control-de-gesti%C3%B3n-ssr-at-brandlive-3693026494?refId=Ed0HeRQM9dW2LJFQttOSbg%3D%3D&trackingId=N%2BJBOpkvCgrnVWSv2oL2bg%3D%3D&position=20&pageNum=1&trk=public_jobs_jserp-result_search-card',\n",
       " 'https://ar.linkedin.com/jobs/view/analista-de-control-de-gesti%C3%B3n-y-reporting-jr-at-grupo-abans-3680882463?refId=Ed0HeRQM9dW2LJFQttOSbg%3D%3D&trackingId=3cbWCA9mtZMctJPRzGMC%2Fw%3D%3D&position=21&pageNum=1&trk=public_jobs_jserp-result_search-card',\n",
       " 'https://ar.linkedin.com/jobs/view/analista-de-operaciones-at-mastellone-hnos-s-a-3672780979?refId=Ed0HeRQM9dW2LJFQttOSbg%3D%3D&trackingId=TJozOICrAcZAfSJnglnkDw%3D%3D&position=22&pageNum=1&trk=public_jobs_jserp-result_search-card',\n",
       " 'https://ar.linkedin.com/jobs/view/analista-de-control-de-gesti%C3%B3n-y-reporting-jr-at-grupo-abans-3675837734?refId=Ed0HeRQM9dW2LJFQttOSbg%3D%3D&trackingId=QO2OwuSWSF5nnCdtdXYXoA%3D%3D&position=23&pageNum=1&trk=public_jobs_jserp-result_search-card',\n",
       " 'https://ar.linkedin.com/jobs/view/l%C3%ADder-de-eficiencia-y-gesti%C3%B3n-financiera-at-bbva-en-argentina-3675836463?refId=Ed0HeRQM9dW2LJFQttOSbg%3D%3D&trackingId=gH2K%2FGQA65g6nZf7SzfAkQ%3D%3D&position=24&pageNum=1&trk=public_jobs_jserp-result_search-card',\n",
       " 'https://ar.linkedin.com/jobs/view/analista-control-de-gesti%C3%B3n-at-laboratorio-elea-3675847635?refId=Ed0HeRQM9dW2LJFQttOSbg%3D%3D&trackingId=QX8dE1x%2FfqlTDqxgf6ezOA%3D%3D&position=25&pageNum=1&trk=public_jobs_jserp-result_search-card',\n",
       " 'https://ar.linkedin.com/jobs/view/analista-de-performance-at-laboratorio-elea-3675846645?refId=dtDY2hidwhu%2BiP1SmTGzpA%3D%3D&trackingId=CKpQjqh9%2Bu0dDkE%2F1TmwTg%3D%3D&position=1&pageNum=2&trk=public_jobs_jserp-result_search-card',\n",
       " 'https://ar.linkedin.com/jobs/view/analista-funcional-at-compra-gamer-3672937063?refId=dtDY2hidwhu%2BiP1SmTGzpA%3D%3D&trackingId=m1MbQB1lweDQ5meAj%2BUQYw%3D%3D&position=2&pageNum=2&trk=public_jobs_jserp-result_search-card',\n",
       " 'https://ar.linkedin.com/jobs/view/analista-funcional-para-negocio-at-ucrop-it-3689267606?refId=dtDY2hidwhu%2BiP1SmTGzpA%3D%3D&trackingId=Onb1DJ1Zq0p75PGEAZe%2BXw%3D%3D&position=3&pageNum=2&trk=public_jobs_jserp-result_search-card',\n",
       " 'https://ar.linkedin.com/jobs/view/analista-de-control-de-gesti%C3%B3n-junior-log%C3%ADstica-at-suple-servicios-empresarios-3690128444?refId=dtDY2hidwhu%2BiP1SmTGzpA%3D%3D&trackingId=%2BXbxHdMh8MHqWJ79YmBOqw%3D%3D&position=4&pageNum=2&trk=public_jobs_jserp-result_search-card',\n",
       " 'https://ar.linkedin.com/jobs/view/analista-de-operaciones-back-office-medios-de-pago-at-nubi-3689224611?refId=dtDY2hidwhu%2BiP1SmTGzpA%3D%3D&trackingId=ZOYbyvIW7yJApyr7AwaHiw%3D%3D&position=5&pageNum=2&trk=public_jobs_jserp-result_search-card',\n",
       " 'https://ar.linkedin.com/jobs/view/analista-de-datos-con-power-bi-empresa-de-logi%CC%81stica-at-pro-selection-capital-humano-3696475372?refId=dtDY2hidwhu%2BiP1SmTGzpA%3D%3D&trackingId=O8WgYGc97iFjT1GfDAXN0A%3D%3D&position=6&pageNum=2&trk=public_jobs_jserp-result_search-card',\n",
       " 'https://ar.linkedin.com/jobs/view/analista-de-gesti%C3%B3n-de-proyectos-finanzas-ssr-at-bbva-en-argentina-3685418273?refId=dtDY2hidwhu%2BiP1SmTGzpA%3D%3D&trackingId=8XXFKWZDxrGFj6QbG9vpRQ%3D%3D&position=7&pageNum=2&trk=public_jobs_jserp-result_search-card',\n",
       " 'https://ar.linkedin.com/jobs/view/digital-analyst-jr-at-groupm-3622825240?refId=dtDY2hidwhu%2BiP1SmTGzpA%3D%3D&trackingId=Lrbx3K%2BG7GHmrUUi1FVwjw%3D%3D&position=8&pageNum=2&trk=public_jobs_jserp-result_search-card',\n",
       " 'https://ar.linkedin.com/jobs/view/analista-senior-de-optimizaci%C3%B3n-mercado-env%C3%ADos-at-mercado-libre-3692570247?refId=dtDY2hidwhu%2BiP1SmTGzpA%3D%3D&trackingId=KSGyiwnhBCSrl7P4CMyR4g%3D%3D&position=9&pageNum=2&trk=public_jobs_jserp-result_search-card',\n",
       " 'https://ar.linkedin.com/jobs/view/analista-de-auditor%C3%ADa-interna-at-mastellone-hnos-s-a-3684011871?refId=dtDY2hidwhu%2BiP1SmTGzpA%3D%3D&trackingId=vEqrSHl%2Bfo%2B4x4Hazune%2BQ%3D%3D&position=10&pageNum=2&trk=public_jobs_jserp-result_search-card',\n",
       " 'https://ar.linkedin.com/jobs/view/analista-senior-de-insights-y-analytics-para-marketing-at-mercado-libre-3690953158?refId=dtDY2hidwhu%2BiP1SmTGzpA%3D%3D&trackingId=wJxu%2FZPI5RVLRm3u7roTaw%3D%3D&position=11&pageNum=2&trk=public_jobs_jserp-result_search-card',\n",
       " 'https://ar.linkedin.com/jobs/view/analista-de-control-de-gesti%C3%B3n-operaciones-de-transporte-y-distribuci%C3%B3n-at-andreani-grupo-log%C3%ADstico-3690626998?refId=dtDY2hidwhu%2BiP1SmTGzpA%3D%3D&trackingId=HoaISRUE0twzx4EsPYxxmQ%3D%3D&position=12&pageNum=2&trk=public_jobs_jserp-result_search-card',\n",
       " 'https://ar.linkedin.com/jobs/view/city-performance-analyst-at-pedidosya-3682827235?refId=dtDY2hidwhu%2BiP1SmTGzpA%3D%3D&trackingId=L9y%2F85ub8adXfZcXL1ed2g%3D%3D&position=13&pageNum=2&trk=public_jobs_jserp-result_search-card',\n",
       " 'https://ar.linkedin.com/jobs/view/analista-de-inteligencia-comercial-at-metrotel-argentina-3675844622?refId=dtDY2hidwhu%2BiP1SmTGzpA%3D%3D&trackingId=e1fnz9fsseMTHb5OE3kggg%3D%3D&position=14&pageNum=2&trk=public_jobs_jserp-result_search-card',\n",
       " 'https://ar.linkedin.com/jobs/view/analista-de-datos-para-servicios-de-marketing-jr-at-gen-staffing-recruiting-3675847168?refId=dtDY2hidwhu%2BiP1SmTGzpA%3D%3D&trackingId=BKAgifQkkCGsWiQqqad64w%3D%3D&position=15&pageNum=2&trk=public_jobs_jserp-result_search-card',\n",
       " 'https://ar.linkedin.com/jobs/view/analista-consultoria-y-analisis-de-mercado-at-fyo-3669599371?refId=dtDY2hidwhu%2BiP1SmTGzpA%3D%3D&trackingId=YycjwGyuNuFuCQ7JkdYNmA%3D%3D&position=16&pageNum=2&trk=public_jobs_jserp-result_search-card',\n",
       " 'https://ar.linkedin.com/jobs/view/analista-de-gestio%CC%81n-y-planificacio%CC%81n-at-nexo-group-3696479195?refId=dtDY2hidwhu%2BiP1SmTGzpA%3D%3D&trackingId=58TEznhL4yT8tAyo7HkSGg%3D%3D&position=17&pageNum=2&trk=public_jobs_jserp-result_search-card',\n",
       " 'https://ar.linkedin.com/jobs/view/business-analyst-at-charles-taylor-3692543312?refId=dtDY2hidwhu%2BiP1SmTGzpA%3D%3D&trackingId=s%2FgTsdO9HTDsyWcimFuGWA%3D%3D&position=18&pageNum=2&trk=public_jobs_jserp-result_search-card',\n",
       " 'https://ar.linkedin.com/jobs/view/consultor-de-data-analytics-at-lisicki-litvin-asociados-3658958843?refId=dtDY2hidwhu%2BiP1SmTGzpA%3D%3D&trackingId=GSw3a%2Bi9BWV1DvlZ%2F0HPXQ%3D%3D&position=19&pageNum=2&trk=public_jobs_jserp-result_search-card',\n",
       " 'https://ar.linkedin.com/jobs/view/analista-funcional-sr-at-provincia-net-3696484359?refId=dtDY2hidwhu%2BiP1SmTGzpA%3D%3D&trackingId=%2Ba7mADSyByeujpdN6fdd7w%3D%3D&position=20&pageNum=2&trk=public_jobs_jserp-result_search-card',\n",
       " 'https://ar.linkedin.com/jobs/view/analista-de-conciliaciones-at-reba-3689267613?refId=dtDY2hidwhu%2BiP1SmTGzpA%3D%3D&trackingId=jZhtRA0txPKlKN2lxuidcQ%3D%3D&position=21&pageNum=2&trk=public_jobs_jserp-result_search-card',\n",
       " 'https://ar.linkedin.com/jobs/view/analista-de-planeamiento-y-control-de-gesti%C3%B3n-at-pan-american-energy-3699037439?refId=dtDY2hidwhu%2BiP1SmTGzpA%3D%3D&trackingId=%2BjrMV41DwzHd0KjXLFXKTg%3D%3D&position=22&pageNum=2&trk=public_jobs_jserp-result_search-card',\n",
       " 'https://ar.linkedin.com/jobs/view/analista-de-riesgo-de-cr%C3%A9dito-corp-at-reba-3675842417?refId=dtDY2hidwhu%2BiP1SmTGzpA%3D%3D&trackingId=B%2Fb23ColNG%2FYA0phfA3olA%3D%3D&position=23&pageNum=2&trk=public_jobs_jserp-result_search-card',\n",
       " 'https://ar.linkedin.com/jobs/view/analista-de-control-documental-junior-at-giga-it-3682772960?refId=dtDY2hidwhu%2BiP1SmTGzpA%3D%3D&trackingId=BOKD95cWHLzOKNo7ws7D3A%3D%3D&position=24&pageNum=2&trk=public_jobs_jserp-result_search-card',\n",
       " 'https://ar.linkedin.com/jobs/view/analista-de-gestio%CC%81n-y-planificacio%CC%81n-at-nexo-group-3696477375?refId=dtDY2hidwhu%2BiP1SmTGzpA%3D%3D&trackingId=4wcLuOvA0zaOGBJMRhyFkg%3D%3D&position=25&pageNum=2&trk=public_jobs_jserp-result_search-card',\n",
       " 'https://ar.linkedin.com/jobs/view/operations-analyst-at-rappi-3615749092?refId=rZuxAYlLCdLckYMw2cwHCw%3D%3D&trackingId=LEhB%2BIulaGxm2dKbg1R3ag%3D%3D&position=1&pageNum=3&trk=public_jobs_jserp-result_search-card',\n",
       " 'https://ar.linkedin.com/jobs/view/analista-de-planeamiento-comercial-at-drogueria-del-sud-s-a-3680819151?refId=rZuxAYlLCdLckYMw2cwHCw%3D%3D&trackingId=siUY6PJ0YyPlcdr1MIZ3vA%3D%3D&position=2&pageNum=3&trk=public_jobs_jserp-result_search-card',\n",
       " 'https://ar.linkedin.com/jobs/view/analista-control-de-gesti%C3%B3n-at-hucap-inteligencia-en-capital-humano-3685842931?refId=rZuxAYlLCdLckYMw2cwHCw%3D%3D&trackingId=l26xVUG4USUQ1mlSIDildA%3D%3D&position=3&pageNum=3&trk=public_jobs_jserp-result_search-card',\n",
       " 'https://ar.linkedin.com/jobs/view/analista-sr-de-control-de-gestio%CC%81n-y-reportes-at-restaurant-old-skool-3696487305?refId=rZuxAYlLCdLckYMw2cwHCw%3D%3D&trackingId=jBq3ub1or6JBtxW2M6kueA%3D%3D&position=4&pageNum=3&trk=public_jobs_jserp-result_search-card',\n",
       " 'https://ar.linkedin.com/jobs/view/analista-jr-de-controles-operativos-at-allaria-3675844031?refId=rZuxAYlLCdLckYMw2cwHCw%3D%3D&trackingId=RbHAZSRQkGPnjWKVwkUw9w%3D%3D&position=5&pageNum=3&trk=public_jobs_jserp-result_search-card',\n",
       " 'https://ar.linkedin.com/jobs/view/groceries-operations-analyst-at-rappi-3615745799?refId=rZuxAYlLCdLckYMw2cwHCw%3D%3D&trackingId=laajqCAyFRulffqCIFaGnw%3D%3D&position=6&pageNum=3&trk=public_jobs_jserp-result_search-card',\n",
       " 'https://ar.linkedin.com/jobs/view/analista-de-control-de-gestio%CC%81n-at-ap-soluciones-en-rrhh-3704259884?refId=rZuxAYlLCdLckYMw2cwHCw%3D%3D&trackingId=cosRkRxtGJrfAkbd%2F8K7OQ%3D%3D&position=7&pageNum=3&trk=public_jobs_jserp-result_search-card',\n",
       " 'https://ar.linkedin.com/jobs/view/business-analyst-at-huenei-it-services-3690862011?refId=rZuxAYlLCdLckYMw2cwHCw%3D%3D&trackingId=sqe5egtph6bCTMLx1TYO6g%3D%3D&position=8&pageNum=3&trk=public_jobs_jserp-result_search-card',\n",
       " 'https://ar.linkedin.com/jobs/view/analista-comercial-at-recursos-en-tus-manos-3696228352?refId=rZuxAYlLCdLckYMw2cwHCw%3D%3D&trackingId=i0MOKSOxn0DzVbFN7Sqt%2Bw%3D%3D&position=9&pageNum=3&trk=public_jobs_jserp-result_search-card',\n",
       " 'https://ar.linkedin.com/jobs/view/analista-de-inteligencia-comercial-at-emergencias-3675839357?refId=rZuxAYlLCdLckYMw2cwHCw%3D%3D&trackingId=JWpu587coaOhTzTh48s6eA%3D%3D&position=10&pageNum=3&trk=public_jobs_jserp-result_search-card',\n",
       " 'https://ar.linkedin.com/jobs/view/analista-operacional-turno-ma%C3%B1ana-06-a-15hs-at-baliarda-s-a-3675850439?refId=rZuxAYlLCdLckYMw2cwHCw%3D%3D&trackingId=7JwV6BM43WxC0DPNJIFiQA%3D%3D&position=11&pageNum=3&trk=public_jobs_jserp-result_search-card',\n",
       " 'https://ar.linkedin.com/jobs/view/joven-profesional-de-control-de-gesti%C3%B3n-newsan-at-direcciona-3675835545?refId=rZuxAYlLCdLckYMw2cwHCw%3D%3D&trackingId=PcmCvniNSE%2FcwKXs48iT1g%3D%3D&position=12&pageNum=3&trk=public_jobs_jserp-result_search-card',\n",
       " 'https://ar.linkedin.com/jobs/view/analista-funcional-at-bdtglobal-3696489263?refId=rZuxAYlLCdLckYMw2cwHCw%3D%3D&trackingId=Rz7shntcjv4B8NrTyeVJJg%3D%3D&position=13&pageNum=3&trk=public_jobs_jserp-result_search-card',\n",
       " 'https://ar.linkedin.com/jobs/view/analista-de-planeamiento-comercial-at-galp%C3%B3n-de-ropa-3675833981?refId=rZuxAYlLCdLckYMw2cwHCw%3D%3D&trackingId=9pexsq%2BuOvgqHmj07iHpBQ%3D%3D&position=14&pageNum=3&trk=public_jobs_jserp-result_search-card',\n",
       " 'https://ar.linkedin.com/jobs/view/supply-sr-analyst-at-pedidosya-3704169852?refId=rZuxAYlLCdLckYMw2cwHCw%3D%3D&trackingId=km7%2FJPCTLZN3c9F1R5zUjA%3D%3D&position=15&pageNum=3&trk=public_jobs_jserp-result_search-card',\n",
       " 'https://ar.linkedin.com/jobs/view/analista-de-operaciones-de-mercado-de-capitales-at-fyo-3697737661?refId=rZuxAYlLCdLckYMw2cwHCw%3D%3D&trackingId=UxgmveLRkdTJldzev4CgLw%3D%3D&position=16&pageNum=3&trk=public_jobs_jserp-result_search-card',\n",
       " 'https://ar.linkedin.com/jobs/view/analista-de-planificacio%CC%81n-y-control-financiero-at-in-corporate-3696475745?refId=rZuxAYlLCdLckYMw2cwHCw%3D%3D&trackingId=Ga1k%2BAATYJ6PRR6hPRD2lw%3D%3D&position=17&pageNum=3&trk=public_jobs_jserp-result_search-card',\n",
       " 'https://ar.linkedin.com/jobs/view/analista-de-procesos-de-ecommerce-at-pr%C3%BCne-3693562663?refId=rZuxAYlLCdLckYMw2cwHCw%3D%3D&trackingId=fnZney8PvbQ%2B8jVU%2BCM3hg%3D%3D&position=18&pageNum=3&trk=public_jobs_jserp-result_search-card',\n",
       " 'https://ar.linkedin.com/jobs/view/analista-de-operaciones-at-coelsa-3669933330?refId=rZuxAYlLCdLckYMw2cwHCw%3D%3D&trackingId=s89x%2FEIKjVKsG3dmfYbUfg%3D%3D&position=19&pageNum=3&trk=public_jobs_jserp-result_search-card',\n",
       " 'https://ar.linkedin.com/jobs/view/analista-control-de-gesti%C3%B3n-at-talentgrowers-3675845270?refId=rZuxAYlLCdLckYMw2cwHCw%3D%3D&trackingId=EQrMJ6FvUEiWsY%2BFrMdcTQ%3D%3D&position=20&pageNum=3&trk=public_jobs_jserp-result_search-card',\n",
       " 'https://ar.linkedin.com/jobs/view/analista-funcional-bi-at-zeo-consulting-3675847185?refId=rZuxAYlLCdLckYMw2cwHCw%3D%3D&trackingId=7U4YProgDQBLK95WjCng6A%3D%3D&position=21&pageNum=3&trk=public_jobs_jserp-result_search-card',\n",
       " 'https://ar.linkedin.com/jobs/view/sales-operations-analyst-at-cabify-3641771734?refId=rZuxAYlLCdLckYMw2cwHCw%3D%3D&trackingId=T6lWnrq%2FPEuMaRvWIuk9Bw%3D%3D&position=22&pageNum=3&trk=public_jobs_jserp-result_search-card',\n",
       " 'https://ar.linkedin.com/jobs/view/analista-de-planeamiento-y-control-de-gesti%C3%B3n-at-capital-humano-3675847053?refId=rZuxAYlLCdLckYMw2cwHCw%3D%3D&trackingId=3NjDvSqvcDS3tBnMFkDQhg%3D%3D&position=23&pageNum=3&trk=public_jobs_jserp-result_search-card',\n",
       " 'https://ar.linkedin.com/jobs/view/analista-junior-de-operaciones-de-ciberseguridad-at-penta-security-solutions-3696484760?refId=rZuxAYlLCdLckYMw2cwHCw%3D%3D&trackingId=KWGVICIWoijQ0o%2B94XsJDQ%3D%3D&position=24&pageNum=3&trk=public_jobs_jserp-result_search-card',\n",
       " 'https://ar.linkedin.com/jobs/view/senior-data-scientist-at-grupo-osde-3689216558?refId=rZuxAYlLCdLckYMw2cwHCw%3D%3D&trackingId=Vqww9vkiaGGUjItzRGp4yQ%3D%3D&position=25&pageNum=3&trk=public_jobs_jserp-result_search-card',\n",
       " 'https://ar.linkedin.com/jobs/view/asociado-senior-o-asociado-de-operaciones-buenos-aires-argentina-at-banco-interamericano-de-desarrollo-3696253336?refId=dlBMH0WKugrBF7Nyz4h8zw%3D%3D&trackingId=GkXRCOxGaMfDH3i4JQ5rPQ%3D%3D&position=1&pageNum=4&trk=public_jobs_jserp-result_search-card',\n",
       " 'https://ar.linkedin.com/jobs/view/analista-de-operaciones-ssr-unidad-de-negocios-grupo-log%C3%ADstico-andreani-at-andreani-grupo-log%C3%ADstico-3672786401?refId=dlBMH0WKugrBF7Nyz4h8zw%3D%3D&trackingId=1FuDELHMdiLcAnrnOdxk9w%3D%3D&position=2&pageNum=4&trk=public_jobs_jserp-result_search-card',\n",
       " 'https://ar.linkedin.com/jobs/view/jefe-a-de-inventarios-at-farmacias-central-oeste-3696485586?refId=dlBMH0WKugrBF7Nyz4h8zw%3D%3D&trackingId=rj3JGDaUhpqS%2BEO2f5yC4w%3D%3D&position=3&pageNum=4&trk=public_jobs_jserp-result_search-card',\n",
       " 'https://ar.linkedin.com/jobs/view/analista-ssr-recursos-humanos-at-aeropuertos-argentina-2000-3685414999?refId=dlBMH0WKugrBF7Nyz4h8zw%3D%3D&trackingId=BjUZP3IhAAqhjL8cnla56w%3D%3D&position=4&pageNum=4&trk=public_jobs_jserp-result_search-card',\n",
       " 'https://ar.linkedin.com/jobs/view/analista-de-control-de-gesti%C3%B3n-y-planeamiento-at-glam-distribuciones-3672936512?refId=dlBMH0WKugrBF7Nyz4h8zw%3D%3D&trackingId=NhkohOfaVtNaexEvWaDFXw%3D%3D&position=5&pageNum=4&trk=public_jobs_jserp-result_search-card',\n",
       " 'https://ar.linkedin.com/jobs/view/analista-de-inteligencia-comercial-rosario-at-avalian-3696480068?refId=dlBMH0WKugrBF7Nyz4h8zw%3D%3D&trackingId=b0hY3Db0VrJQRrn91fcBrA%3D%3D&position=6&pageNum=4&trk=public_jobs_jserp-result_search-card',\n",
       " 'https://ar.linkedin.com/jobs/view/business-analyst-at-modus-create-3647817440?refId=dlBMH0WKugrBF7Nyz4h8zw%3D%3D&trackingId=xrOoFH%2B61s7cmNDSaIv5ig%3D%3D&position=7&pageNum=4&trk=public_jobs_jserp-result_search-card',\n",
       " 'https://ar.linkedin.com/jobs/view/analista-de-reporting-control-de-gesti%C3%B3n-at-talent-recruiters-3675842160?refId=dlBMH0WKugrBF7Nyz4h8zw%3D%3D&trackingId=klHUReTwjVDKneRCksTqUA%3D%3D&position=8&pageNum=4&trk=public_jobs_jserp-result_search-card',\n",
       " 'https://ar.linkedin.com/jobs/view/business-ecommerce-analyst-at-accenture-argentina-3706129072?refId=dlBMH0WKugrBF7Nyz4h8zw%3D%3D&trackingId=TIrpCHHgfIAcJh7RLgKLXA%3D%3D&position=9&pageNum=4&trk=public_jobs_jserp-result_search-card',\n",
       " 'https://ar.linkedin.com/jobs/view/analista-de-control-de-gesti%C3%B3n-at-bdo-argentina-3675836703?refId=dlBMH0WKugrBF7Nyz4h8zw%3D%3D&trackingId=FznK4qWHW5mAqPMGpluuBQ%3D%3D&position=10&pageNum=4&trk=public_jobs_jserp-result_search-card',\n",
       " 'https://ar.linkedin.com/jobs/view/l%C3%ADder-de-analisis-de-mercados-at-fyo-3675846360?refId=dlBMH0WKugrBF7Nyz4h8zw%3D%3D&trackingId=A7jeHoEL1kUSasmbpw99Bw%3D%3D&position=11&pageNum=4&trk=public_jobs_jserp-result_search-card',\n",
       " 'https://ar.linkedin.com/jobs/view/planning-and-control-ssr-analyst-at-kavak-com-3702366827?refId=dlBMH0WKugrBF7Nyz4h8zw%3D%3D&trackingId=AJiEmMvqB%2By1YtnllpMMhg%3D%3D&position=12&pageNum=4&trk=public_jobs_jserp-result_search-card',\n",
       " 'https://ar.linkedin.com/jobs/view/analista-de-control-de-gestio%CC%81n-at-benito-roggio-e-hijos-s-a-argentina-3696480505?refId=dlBMH0WKugrBF7Nyz4h8zw%3D%3D&trackingId=Ca5AF%2BQY3d7%2BEPTmqslnNA%3D%3D&position=13&pageNum=4&trk=public_jobs_jserp-result_search-card',\n",
       " 'https://ar.linkedin.com/jobs/view/analista-de-control-de-gesti%C3%B3n-industrial-at-vacalin-3677147311?refId=dlBMH0WKugrBF7Nyz4h8zw%3D%3D&trackingId=aPUsUCqFj8E2FcyJglNIbA%3D%3D&position=14&pageNum=4&trk=public_jobs_jserp-result_search-card',\n",
       " 'https://ar.linkedin.com/jobs/view/business-analyst-at-avaya-3675374004?refId=dlBMH0WKugrBF7Nyz4h8zw%3D%3D&trackingId=WsYgFr1mPcuuxUXoH4x2XQ%3D%3D&position=15&pageNum=4&trk=public_jobs_jserp-result_search-card',\n",
       " 'https://ar.linkedin.com/jobs/view/analista-senior-marketing-fintech-at-mercado-libre-3663418936?refId=dlBMH0WKugrBF7Nyz4h8zw%3D%3D&trackingId=pUkIQsdQwuRg5ucwTw36PA%3D%3D&position=16&pageNum=4&trk=public_jobs_jserp-result_search-card',\n",
       " 'https://ar.linkedin.com/jobs/view/sr-ecommerce-data-analysis-specialist-at-lenovo-3645848702?refId=dlBMH0WKugrBF7Nyz4h8zw%3D%3D&trackingId=0yRiRenhhtzmVFoeq2xANQ%3D%3D&position=17&pageNum=4&trk=public_jobs_jserp-result_search-card',\n",
       " 'https://ar.linkedin.com/jobs/view/analista-de-control-de-gesti%C3%B3n-at-capital-humano-3675853044?refId=dlBMH0WKugrBF7Nyz4h8zw%3D%3D&trackingId=YXGUVzbeD7s2jVOLGQeGFg%3D%3D&position=18&pageNum=4&trk=public_jobs_jserp-result_search-card',\n",
       " 'https://ar.linkedin.com/jobs/view/analista-de-producto-aereo-turismo-at-travel-services-3675840667?refId=dlBMH0WKugrBF7Nyz4h8zw%3D%3D&trackingId=8HgAGcbDy3HB2%2FH7N6JFTQ%3D%3D&position=19&pageNum=4&trk=public_jobs_jserp-result_search-card',\n",
       " 'https://ar.linkedin.com/jobs/view/analista-de-control-de-gesti%C3%B3n-at-grido-3685846243?refId=dlBMH0WKugrBF7Nyz4h8zw%3D%3D&trackingId=pLxgCX839m1Ic%2FYk%2F3aK4g%3D%3D&position=20&pageNum=4&trk=public_jobs_jserp-result_search-card',\n",
       " 'https://ar.linkedin.com/jobs/view/analista-de-administracio%CC%81n-y-finanzas-at-grupo-pose-3696484250?refId=dlBMH0WKugrBF7Nyz4h8zw%3D%3D&trackingId=jyH1SUn5Tlv5E5cPjNau%2Fw%3D%3D&position=21&pageNum=4&trk=public_jobs_jserp-result_search-card',\n",
       " 'https://ar.linkedin.com/jobs/view/sr-product-analyst-mkt-at-banco-galicia-3697196264?refId=dlBMH0WKugrBF7Nyz4h8zw%3D%3D&trackingId=bWfz5i6kf4zbqSCg4E3Ahg%3D%3D&position=22&pageNum=4&trk=public_jobs_jserp-result_search-card',\n",
       " 'https://ar.linkedin.com/jobs/view/asesor-comercial-at-thomson-reuters-3638375750?refId=dlBMH0WKugrBF7Nyz4h8zw%3D%3D&trackingId=8kvGLZzHKXAKqcqp7fZyTw%3D%3D&position=23&pageNum=4&trk=public_jobs_jserp-result_search-card',\n",
       " 'https://ar.linkedin.com/jobs/view/operational-excellence-analyst-at-cabify-3691245131?refId=dlBMH0WKugrBF7Nyz4h8zw%3D%3D&trackingId=pnSDRzzr91o4R%2BzVEq6O5w%3D%3D&position=24&pageNum=4&trk=public_jobs_jserp-result_search-card',\n",
       " 'https://ar.linkedin.com/jobs/view/ejecutivo-de-cuentas-at-telecentro-3680840784?refId=dlBMH0WKugrBF7Nyz4h8zw%3D%3D&trackingId=%2BJ67qQiUasU9fEozGEx%2F%2Fw%3D%3D&position=25&pageNum=4&trk=public_jobs_jserp-result_search-card',\n",
       " 'https://ar.linkedin.com/jobs/view/analista-de-control-de-gestio%CC%81n-y-reporting-p-empresa-del-rubro-energi%CC%81a-victorio-podesta%CC%81-presencial-zona-san-isidro-at-marisa-misischia-gestionamos-talentos-3696477333?refId=178WVPpdFhfzd4O0zs1Lew%3D%3D&trackingId=%2BfYR75SKJndlaTeDh1eTfw%3D%3D&position=1&pageNum=5&trk=public_jobs_jserp-result_search-card',\n",
       " 'https://ar.linkedin.com/jobs/view/analista-de-revenue-at-cervecer%C3%ADa-y-malter%C3%ADa-quilmes-3693981449?refId=178WVPpdFhfzd4O0zs1Lew%3D%3D&trackingId=n3Pyz5BTyWpGirTbQEZVEw%3D%3D&position=2&pageNum=5&trk=public_jobs_jserp-result_search-card',\n",
       " 'https://ar.linkedin.com/jobs/view/analista-junior-de-operaciones-de-ciberseguridad-at-penta-security-solutions-3682022434?refId=178WVPpdFhfzd4O0zs1Lew%3D%3D&trackingId=SCzTfrfnQ4Y9EonuYSK%2Fig%3D%3D&position=3&pageNum=5&trk=public_jobs_jserp-result_search-card',\n",
       " 'https://ar.linkedin.com/jobs/view/crm-analyst-at-rappi-3643045479?refId=178WVPpdFhfzd4O0zs1Lew%3D%3D&trackingId=TlQGsh2BwPvLUUd5OMCbpw%3D%3D&position=4&pageNum=5&trk=public_jobs_jserp-result_search-card',\n",
       " 'https://ar.linkedin.com/jobs/view/analista-senior-de-business-intelligence-at-bic-3670519393?refId=178WVPpdFhfzd4O0zs1Lew%3D%3D&trackingId=QTaW55uHTOKzwwvCiQ0%2BSg%3D%3D&position=5&pageNum=5&trk=public_jobs_jserp-result_search-card',\n",
       " 'https://ar.linkedin.com/jobs/view/analista-de-control-de-gesti%C3%B3n-comercial-at-laboratorios-raffo-s-a-3675840458?refId=178WVPpdFhfzd4O0zs1Lew%3D%3D&trackingId=RSshIKJw8dt9phCjD65A7A%3D%3D&position=6&pageNum=5&trk=public_jobs_jserp-result_search-card',\n",
       " 'https://ar.linkedin.com/jobs/view/analista-comercial-capital-federal-at-consultora-zivot-3696474531?refId=178WVPpdFhfzd4O0zs1Lew%3D%3D&trackingId=XrX7%2FZjMMpzFo6yRUgkMzw%3D%3D&position=7&pageNum=5&trk=public_jobs_jserp-result_search-card',\n",
       " 'https://ar.linkedin.com/jobs/view/analista-de-operaciones-back-office-entidades-fintech-at-nubi-3675842218?refId=178WVPpdFhfzd4O0zs1Lew%3D%3D&trackingId=qkDPmYHiCxiJrw1vqQ0%2FdQ%3D%3D&position=8&pageNum=5&trk=public_jobs_jserp-result_search-card',\n",
       " 'https://ar.linkedin.com/jobs/view/analista-de-mesa-de-ayuda-de-aplicaciones-jr-at-cambio-laboral-it-consultora-en-rrhh-%F0%9F%8C%90-b%C3%BAsqueda-y-selecci%C3%B3n-de-talentos-it-%F0%9F%91%A9%E2%80%8D%F0%9F%92%BB-3672044976?refId=178WVPpdFhfzd4O0zs1Lew%3D%3D&trackingId=aStQZ4nQ0BkQ4a6YMviO2w%3D%3D&position=9&pageNum=5&trk=public_jobs_jserp-result_search-card',\n",
       " 'https://ar.linkedin.com/jobs/view/analista-desarrollo-anal%C3%ADtico-at-labyes-3675837672?refId=178WVPpdFhfzd4O0zs1Lew%3D%3D&trackingId=0%2BbPled8Wl7%2Fxu1REiJpHQ%3D%3D&position=10&pageNum=5&trk=public_jobs_jserp-result_search-card',\n",
       " 'https://ar.linkedin.com/jobs/view/analista-de-control-de-gesti%C3%B3n-programa-j%C3%B3venes-profesionales-molinos-r%C3%ADo-de-la-plata-at-inspired-way-3697735886?refId=178WVPpdFhfzd4O0zs1Lew%3D%3D&trackingId=Xlu8%2F%2FhN%2BB3cw7zXT%2F%2FS0w%3D%3D&position=11&pageNum=5&trk=public_jobs_jserp-result_search-card',\n",
       " 'https://ar.linkedin.com/jobs/view/business-analyst-remote-at-token-metrics-3570849863?refId=178WVPpdFhfzd4O0zs1Lew%3D%3D&trackingId=9%2F0lMSO0AReIxtCQKb8WUg%3D%3D&position=12&pageNum=5&trk=public_jobs_jserp-result_search-card',\n",
       " 'https://ar.linkedin.com/jobs/view/analista-cuantitativo-jr-at-b-b-consultores-3664057769?refId=178WVPpdFhfzd4O0zs1Lew%3D%3D&trackingId=lsFgttvOjmJDrhpU6RWQxw%3D%3D&position=13&pageNum=5&trk=public_jobs_jserp-result_search-card',\n",
       " 'https://ar.linkedin.com/jobs/view/analista-funcional-at-cacic-sports-vision-srl-3685842941?refId=178WVPpdFhfzd4O0zs1Lew%3D%3D&trackingId=Cy1kZ9WexcR6HgER3eG70g%3D%3D&position=14&pageNum=5&trk=public_jobs_jserp-result_search-card',\n",
       " 'https://ar.linkedin.com/jobs/view/analista-de-control-de-gestio%CC%81n-y-administracio%CC%81n-comercial-at-know-how-and-planning-3696483430?refId=178WVPpdFhfzd4O0zs1Lew%3D%3D&trackingId=MbxmavxGiVKG7pZpL2o0Eg%3D%3D&position=15&pageNum=5&trk=public_jobs_jserp-result_search-card',\n",
       " 'https://ar.linkedin.com/jobs/view/growth-manager-%F0%9F%91%A9%F0%9F%8F%BD%E2%80%8D%F0%9F%9A%80-%F0%9F%9A%80-latam-at-product-hackers-3699913018?refId=178WVPpdFhfzd4O0zs1Lew%3D%3D&trackingId=nR5nAMI%2FVmj6rGV50tiojg%3D%3D&position=16&pageNum=5&trk=public_jobs_jserp-result_search-card',\n",
       " 'https://ar.linkedin.com/jobs/view/customer-success-analyst-at-remitee-3695079359?refId=178WVPpdFhfzd4O0zs1Lew%3D%3D&trackingId=OrXTV1BpboqA0rlg8GhFhw%3D%3D&position=17&pageNum=5&trk=public_jobs_jserp-result_search-card',\n",
       " 'https://ar.linkedin.com/jobs/view/analista-de-negocio-at-genomma-lab-3702388591?refId=178WVPpdFhfzd4O0zs1Lew%3D%3D&trackingId=9ZLLDL8DddpGRcCYRkZ7wg%3D%3D&position=18&pageNum=5&trk=public_jobs_jserp-result_search-card',\n",
       " 'https://ar.linkedin.com/jobs/view/ing-industriales-proximos-a-graduarse-para-the-coca-cola-company-at-gd-hr-value-3675841480?refId=178WVPpdFhfzd4O0zs1Lew%3D%3D&trackingId=mA8bGMmQhR1L2ESaHXu%2Bvw%3D%3D&position=19&pageNum=5&trk=public_jobs_jserp-result_search-card',\n",
       " 'https://ar.linkedin.com/jobs/view/analista-planificacio%CC%81n-y-control-de-gestio%CC%81n-req145138-eventual-caba-at-bellingrodt-reiseb%C3%BCro-gmbh-3699326034?refId=178WVPpdFhfzd4O0zs1Lew%3D%3D&trackingId=100gxgXt4r0ISnayOsM4cw%3D%3D&position=20&pageNum=5&trk=public_jobs_jserp-result_search-card',\n",
       " 'https://ar.linkedin.com/jobs/view/analista-de-presupuesto-y-control-de-gesti%C3%B3n-at-universidad-isalud-3678503491?refId=178WVPpdFhfzd4O0zs1Lew%3D%3D&trackingId=R1Wba2RSWEM38hb%2B%2BwufAA%3D%3D&position=21&pageNum=5&trk=public_jobs_jserp-result_search-card',\n",
       " 'https://ar.linkedin.com/jobs/view/analista-de-planeamiento-y-control-de-gesti%C3%B3n-at-supercemento-3675847592?refId=178WVPpdFhfzd4O0zs1Lew%3D%3D&trackingId=HIlnyk1sKS%2BpBLRVtNvAPA%3D%3D&position=22&pageNum=5&trk=public_jobs_jserp-result_search-card',\n",
       " 'https://ar.linkedin.com/jobs/view/analista-threat-intelligence-at-stefanini-latam-3696486229?refId=178WVPpdFhfzd4O0zs1Lew%3D%3D&trackingId=FpYvK1fDaY6ROZxTBZfJLw%3D%3D&position=23&pageNum=5&trk=public_jobs_jserp-result_search-card',\n",
       " 'https://ar.linkedin.com/jobs/view/analista-comercial-operativo-ssr-licitaciones-at-andreani-grupo-log%C3%ADstico-3675840373?refId=178WVPpdFhfzd4O0zs1Lew%3D%3D&trackingId=CKd33U9vqDOqQ%2BLV2DIkww%3D%3D&position=24&pageNum=5&trk=public_jobs_jserp-result_search-card',\n",
       " 'https://ar.linkedin.com/jobs/view/operational-excellence-analyst-at-cabify-3681018312?refId=178WVPpdFhfzd4O0zs1Lew%3D%3D&trackingId=VKcY3rfqz5qQvDnDa2RR5A%3D%3D&position=25&pageNum=5&trk=public_jobs_jserp-result_search-card',\n",
       " 'https://ar.linkedin.com/jobs/view/analista-funcional-at-experis-argentina-3669412770?refId=9EmtEr3bAqJZhMDBmMeQEw%3D%3D&trackingId=vHzfuV%2BY8FzvF%2F4rFT5guQ%3D%3D&position=1&pageNum=6&trk=public_jobs_jserp-result_search-card',\n",
       " 'https://ar.linkedin.com/jobs/view/analista-de-procesos-y-soluciones-digitales-at-claro-argentina-3672773357?refId=9EmtEr3bAqJZhMDBmMeQEw%3D%3D&trackingId=eg1Lx5H%2B5tQsU3FATjECww%3D%3D&position=2&pageNum=6&trk=public_jobs_jserp-result_search-card',\n",
       " 'https://ar.linkedin.com/jobs/view/analista-de-control-de-gesti%C3%B3n-y-operaciones-at-timb%C3%B3-3675842246?refId=9EmtEr3bAqJZhMDBmMeQEw%3D%3D&trackingId=z1wXnyOR%2BdsTQf9NFuMkHw%3D%3D&position=3&pageNum=6&trk=public_jobs_jserp-result_search-card',\n",
       " 'https://ar.linkedin.com/jobs/view/analista-de-administracio%CC%81n-de-personal-at-crowe-ar-3696475776?refId=9EmtEr3bAqJZhMDBmMeQEw%3D%3D&trackingId=89LzsN3pfUPYSIr4g2Kp0w%3D%3D&position=4&pageNum=6&trk=public_jobs_jserp-result_search-card',\n",
       " 'https://ar.linkedin.com/jobs/view/analista-de-control-de-gesti%C3%B3n-at-strix-by-lojack-3675838917?refId=9EmtEr3bAqJZhMDBmMeQEw%3D%3D&trackingId=GoQ2t10HotmAfcXZkZxDKQ%3D%3D&position=5&pageNum=6&trk=public_jobs_jserp-result_search-card',\n",
       " 'https://ar.linkedin.com/jobs/view/ejecutivo-de-cuentas-at-telecentro-3677639773?refId=9EmtEr3bAqJZhMDBmMeQEw%3D%3D&trackingId=2S1HypclW6%2FrCb3B0LRsrw%3D%3D&position=6&pageNum=6&trk=public_jobs_jserp-result_search-card',\n",
       " 'https://ar.linkedin.com/jobs/view/analista-de-administracion-de-personal-at-hucap-inteligencia-en-capital-humano-3659815485?refId=9EmtEr3bAqJZhMDBmMeQEw%3D%3D&trackingId=e7Ds2kwCzuigS26HfvnUvA%3D%3D&position=7&pageNum=6&trk=public_jobs_jserp-result_search-card',\n",
       " 'https://ar.linkedin.com/jobs/view/performance-strategist-at-brandlive-3689227533?refId=9EmtEr3bAqJZhMDBmMeQEw%3D%3D&trackingId=LuP2i%2B6FOdCG1i%2Fs0oqW2A%3D%3D&position=8&pageNum=6&trk=public_jobs_jserp-result_search-card',\n",
       " 'https://ar.linkedin.com/jobs/view/analista-de-operaciones-e-commerce-at-gdn-ar-3675842278?refId=9EmtEr3bAqJZhMDBmMeQEw%3D%3D&trackingId=FeDRrPgMP%2B8HQBrpEW7tvQ%3D%3D&position=9&pageNum=6&trk=public_jobs_jserp-result_search-card',\n",
       " 'https://ar.linkedin.com/jobs/view/analista-de-ventas-procesos-y-mejora-continua-at-bgh-tech-partner-3571743854?refId=9EmtEr3bAqJZhMDBmMeQEw%3D%3D&trackingId=Udv%2BEZIgTq52IVEyQ4fqkw%3D%3D&position=10&pageNum=6&trk=public_jobs_jserp-result_search-card',\n",
       " 'https://ar.linkedin.com/jobs/view/asesor-comercial-at-thomson-reuters-3638381056?refId=9EmtEr3bAqJZhMDBmMeQEw%3D%3D&trackingId=ozR2eMj6En5bCnef0cI5%2Bw%3D%3D&position=11&pageNum=6&trk=public_jobs_jserp-result_search-card',\n",
       " 'https://ar.linkedin.com/jobs/view/analista-de-control-de-gestio%CC%81n-at-terragene-3696487332?refId=9EmtEr3bAqJZhMDBmMeQEw%3D%3D&trackingId=SUW4gJHGVh5B9v0OzlvFsg%3D%3D&position=12&pageNum=6&trk=public_jobs_jserp-result_search-card',\n",
       " 'https://ar.linkedin.com/jobs/view/analista-control-de-gesti%C3%B3n-at-cementos-avellaneda-s-a-3673584684?refId=9EmtEr3bAqJZhMDBmMeQEw%3D%3D&trackingId=A9lIr0C4weJTRTBHSWJSgQ%3D%3D&position=13&pageNum=6&trk=public_jobs_jserp-result_search-card',\n",
       " 'https://ar.linkedin.com/jobs/view/analista-de-control-de-gesti%C3%B3n-at-azgroup-3675842205?refId=9EmtEr3bAqJZhMDBmMeQEw%3D%3D&trackingId=hl4TZHtlnKy8H8XN4OL%2BUA%3D%3D&position=14&pageNum=6&trk=public_jobs_jserp-result_search-card',\n",
       " 'https://ar.linkedin.com/jobs/view/analista-de-excelencia-operacional-at-bravium-latam-3645816379?refId=9EmtEr3bAqJZhMDBmMeQEw%3D%3D&trackingId=RORcjz7kxWHYXouk11qM7A%3D%3D&position=15&pageNum=6&trk=public_jobs_jserp-result_search-card',\n",
       " 'https://ar.linkedin.com/jobs/view/analista-de-performance-de-facebook-at-solventa-lending-3696492159?refId=9EmtEr3bAqJZhMDBmMeQEw%3D%3D&trackingId=TFpUoPHKVRjdUxRhPO55lw%3D%3D&position=16&pageNum=6&trk=public_jobs_jserp-result_search-card',\n",
       " 'https://ar.linkedin.com/jobs/view/analista-de-planeamiento-financiero-y-control-de-gesti%C3%B3n-pyc-at-camuzzi-3678042621?refId=9EmtEr3bAqJZhMDBmMeQEw%3D%3D&trackingId=qlLeAOkd7x%2BSSItucsIzeA%3D%3D&position=17&pageNum=6&trk=public_jobs_jserp-result_search-card',\n",
       " 'https://ar.linkedin.com/jobs/view/product-lead-logistics-at-fr%C3%A1vega-3686399716?refId=9EmtEr3bAqJZhMDBmMeQEw%3D%3D&trackingId=pM%2FPGF0nrOV5U7StYmPmrg%3D%3D&position=18&pageNum=6&trk=public_jobs_jserp-result_search-card',\n",
       " 'https://ar.linkedin.com/jobs/view/analista-de-facturacion-at-poncio-3696488181?refId=9EmtEr3bAqJZhMDBmMeQEw%3D%3D&trackingId=83rSfgqfRFsQkxW2YCiX3A%3D%3D&position=19&pageNum=6&trk=public_jobs_jserp-result_search-card',\n",
       " 'https://ar.linkedin.com/jobs/view/business-analyst-at-empleos-it-argentina-3692696084?refId=9EmtEr3bAqJZhMDBmMeQEw%3D%3D&trackingId=SCitCqpbI%2B%2BuRtdkR4r4Tg%3D%3D&position=20&pageNum=6&trk=public_jobs_jserp-result_search-card',\n",
       " 'https://ar.linkedin.com/jobs/view/analista-funcional-venta-empresas-at-sodimac-3664952014?refId=9EmtEr3bAqJZhMDBmMeQEw%3D%3D&trackingId=zJrDPbvrlwZtoV%2BYeJDalw%3D%3D&position=21&pageNum=6&trk=public_jobs_jserp-result_search-card',\n",
       " 'https://ar.linkedin.com/jobs/view/analista-de-auditor%C3%ADa-de-sistemas-at-banco-supervielle-3697735940?refId=9EmtEr3bAqJZhMDBmMeQEw%3D%3D&trackingId=uMSgRJEOWpNxqHtjSkr0UQ%3D%3D&position=22&pageNum=6&trk=public_jobs_jserp-result_search-card',\n",
       " 'https://ar.linkedin.com/jobs/view/jefe-ana%CC%81lisis-de-datos-financieros-importante-empresa-automotriz-at-in-corporate-3696482949?refId=9EmtEr3bAqJZhMDBmMeQEw%3D%3D&trackingId=51KysHfztiA%2BNATfpqKP3Q%3D%3D&position=23&pageNum=6&trk=public_jobs_jserp-result_search-card',\n",
       " 'https://ar.linkedin.com/jobs/view/business-analyst-c%C3%B3rdoba-at-consultora-gestal-3696129118?refId=9EmtEr3bAqJZhMDBmMeQEw%3D%3D&trackingId=9IyduFV%2FlLeCUuzj0Ontuw%3D%3D&position=24&pageNum=6&trk=public_jobs_jserp-result_search-card',\n",
       " 'https://ar.linkedin.com/jobs/view/analista-de-gesti%C3%B3n-m%C3%A9dica-amba-at-sancor-salud-grupo-de-medicina-privada-3702851634?refId=9EmtEr3bAqJZhMDBmMeQEw%3D%3D&trackingId=45aPI%2FfDzJrnmwa8DGJD%2FA%3D%3D&position=25&pageNum=6&trk=public_jobs_jserp-result_search-card',\n",
       " 'https://ar.linkedin.com/jobs/view/demand-planner-at-rappi-3674753854?refId=pgqN%2BW8QQFQqLVgH0VJ5YA%3D%3D&trackingId=GnpluTM%2Bqgsd5Yo5AuWx9A%3D%3D&position=1&pageNum=7&trk=public_jobs_jserp-result_search-card',\n",
       " 'https://ar.linkedin.com/jobs/view/consultor-para-el-%C3%A1rea-de-operaciones-business-analyst-oracle-argentina-at-oracle-3697720516?refId=pgqN%2BW8QQFQqLVgH0VJ5YA%3D%3D&trackingId=xtj81mjheEW34qTRTeFTdA%3D%3D&position=2&pageNum=7&trk=public_jobs_jserp-result_search-card',\n",
       " 'https://ar.linkedin.com/jobs/view/analista-de-auditoria-de-sistemas-at-banco-supervielle-3700420089?refId=pgqN%2BW8QQFQqLVgH0VJ5YA%3D%3D&trackingId=SpcbTKMZzzVSZvYzcFK99A%3D%3D&position=3&pageNum=7&trk=public_jobs_jserp-result_search-card',\n",
       " 'https://ar.linkedin.com/jobs/view/demand-planner-latam-south-at-kenvue-3485256377?refId=pgqN%2BW8QQFQqLVgH0VJ5YA%3D%3D&trackingId=69FkelRXRxrrQJyAARDrXg%3D%3D&position=4&pageNum=7&trk=public_jobs_jserp-result_search-card',\n",
       " 'https://ar.linkedin.com/jobs/view/administrativo-sr-at-talent-recruiters-3685870284?refId=pgqN%2BW8QQFQqLVgH0VJ5YA%3D%3D&trackingId=7kUHPyZNULwBWkaw6ECNFA%3D%3D&position=5&pageNum=7&trk=public_jobs_jserp-result_search-card',\n",
       " 'https://ar.linkedin.com/jobs/view/analista-de-atenci%C3%B3n-al-cliente-para-e-commerce-at-gen-staffing-recruiting-3675844559?refId=pgqN%2BW8QQFQqLVgH0VJ5YA%3D%3D&trackingId=K6q9cw5l0xS%2BdoZopo1oyg%3D%3D&position=6&pageNum=7&trk=public_jobs_jserp-result_search-card',\n",
       " 'https://ar.linkedin.com/jobs/view/analista-de-reportes-business-analyst-at-experis-argentina-3691586222?refId=pgqN%2BW8QQFQqLVgH0VJ5YA%3D%3D&trackingId=fRRfxdZ1Y2Fckr8fMsIrUQ%3D%3D&position=7&pageNum=7&trk=public_jobs_jserp-result_search-card',\n",
       " 'https://ar.linkedin.com/jobs/view/importante-empresa-del-rubro-agri%CC%81cola-busca-analista-de-gestio%CC%81n-y-operaciones-at-indigo-consulting-s-a-3696488546?refId=pgqN%2BW8QQFQqLVgH0VJ5YA%3D%3D&trackingId=N9t3OC0iD0Bx11Yoxn87TQ%3D%3D&position=8&pageNum=7&trk=public_jobs_jserp-result_search-card',\n",
       " 'https://ar.linkedin.com/jobs/view/analista-de-precios-at-fasttrackjobfinder-com-3696477158?refId=pgqN%2BW8QQFQqLVgH0VJ5YA%3D%3D&trackingId=0QYCiYj6TN63AsUkyiYG6w%3D%3D&position=9&pageNum=7&trk=public_jobs_jserp-result_search-card',\n",
       " 'https://ar.linkedin.com/jobs/view/analista-de-precios-at-fasttrackjobfinder-com-3696474627?refId=pgqN%2BW8QQFQqLVgH0VJ5YA%3D%3D&trackingId=F0dZIdy%2FtrOfjZlUZnx0ig%3D%3D&position=10&pageNum=7&trk=public_jobs_jserp-result_search-card',\n",
       " 'https://ar.linkedin.com/jobs/view/analista-de-performance-de-facebook-incorporacio%CC%81n-inmediata-at-solventa-lending-3696473886?refId=pgqN%2BW8QQFQqLVgH0VJ5YA%3D%3D&trackingId=d65o5QodMUgwNawM%2F%2F8aLg%3D%3D&position=11&pageNum=7&trk=public_jobs_jserp-result_search-card',\n",
       " 'https://ar.linkedin.com/jobs/view/analista-de-performance-de-facebook-meta-at-solventa-lending-3696481053?refId=pgqN%2BW8QQFQqLVgH0VJ5YA%3D%3D&trackingId=wc7oKgvofbWBzkjEkHBcjg%3D%3D&position=12&pageNum=7&trk=public_jobs_jserp-result_search-card',\n",
       " 'https://ar.linkedin.com/jobs/view/analista-de-operaciones-at-aliancers-3697373417?refId=pgqN%2BW8QQFQqLVgH0VJ5YA%3D%3D&trackingId=lco1hRAJCFrB1fXKDNSMew%3D%3D&position=13&pageNum=7&trk=public_jobs_jserp-result_search-card',\n",
       " 'https://ar.linkedin.com/jobs/view/analista-de-operaciones-gestio%CC%81n-de-pedidos-y-stock-at-mj-consulting-rrhh-3696482653?refId=pgqN%2BW8QQFQqLVgH0VJ5YA%3D%3D&trackingId=9AZ%2FWFaLjAf6SDaNFjnLfQ%3D%3D&position=14&pageNum=7&trk=public_jobs_jserp-result_search-card',\n",
       " 'https://ar.linkedin.com/jobs/view/analista-funcional-para-empresa-de-tecnologia-at-educacionit-3679335799?refId=pgqN%2BW8QQFQqLVgH0VJ5YA%3D%3D&trackingId=%2B%2FYYO%2BPco2sm8QX8GNV3DQ%3D%3D&position=15&pageNum=7&trk=public_jobs_jserp-result_search-card',\n",
       " 'https://ar.linkedin.com/jobs/view/analista-jr-de-administraci%C3%B3n-de-rr-hh-at-ceta-capital-humano-3701197819?refId=pgqN%2BW8QQFQqLVgH0VJ5YA%3D%3D&trackingId=GMsV1W%2BPlcEkMCY%2FQRHFmA%3D%3D&position=16&pageNum=7&trk=public_jobs_jserp-result_search-card',\n",
       " 'https://ar.linkedin.com/jobs/view/analista-funcional-banca-empresas-at-michael-page-3630982933?refId=pgqN%2BW8QQFQqLVgH0VJ5YA%3D%3D&trackingId=nrzEv6BeUPOoZOu0QO1gAQ%3D%3D&position=17&pageNum=7&trk=public_jobs_jserp-result_search-card',\n",
       " 'https://ar.linkedin.com/jobs/view/analista-de-marketing-foco-comercial-hibrido-at-naseby-turnham-limited-3696478960?refId=pgqN%2BW8QQFQqLVgH0VJ5YA%3D%3D&trackingId=8gt9VNdW7G6A1bh%2FEcgBhQ%3D%3D&position=18&pageNum=7&trk=public_jobs_jserp-result_search-card',\n",
       " 'https://ar.linkedin.com/jobs/view/analista-de-marketing-foco-comercial-hibrido-at-naseby-turnham-limited-3696477944?refId=pgqN%2BW8QQFQqLVgH0VJ5YA%3D%3D&trackingId=RwJ36X%2F%2Bkh1E2ncz1VYq8g%3D%3D&position=19&pageNum=7&trk=public_jobs_jserp-result_search-card',\n",
       " 'https://ar.linkedin.com/jobs/view/analista-control-de-gesti%C3%B3n-comercial-at-tije-travel-3672527800?refId=pgqN%2BW8QQFQqLVgH0VJ5YA%3D%3D&trackingId=dhGbHw5asQGcBBytWVFJtg%3D%3D&position=20&pageNum=7&trk=public_jobs_jserp-result_search-card',\n",
       " 'https://ar.linkedin.com/jobs/view/analista-de-marketing-foco-comercial-hibrido-at-naseby-turnham-limited-3696482539?refId=pgqN%2BW8QQFQqLVgH0VJ5YA%3D%3D&trackingId=6lk93oFMDlO1Xebdq8SH9Q%3D%3D&position=21&pageNum=7&trk=public_jobs_jserp-result_search-card',\n",
       " 'https://ar.linkedin.com/jobs/view/administrador-de-monitoreo-at-synchro-technologies-3696483962?refId=pgqN%2BW8QQFQqLVgH0VJ5YA%3D%3D&trackingId=RR%2BVJp523Q648hTDF4z21g%3D%3D&position=22&pageNum=7&trk=public_jobs_jserp-result_search-card',\n",
       " 'https://ar.linkedin.com/jobs/view/analista-de-planeamiento-y-control-de-gesti%C3%B3n-at-supercemento-3675848624?refId=pgqN%2BW8QQFQqLVgH0VJ5YA%3D%3D&trackingId=IdYzOIcd2Y80SaXbxzRm%2Fg%3D%3D&position=23&pageNum=7&trk=public_jobs_jserp-result_search-card',\n",
       " 'https://ar.linkedin.com/jobs/view/business-analyst-specialist-at-rehau-3702392920?refId=pgqN%2BW8QQFQqLVgH0VJ5YA%3D%3D&trackingId=HJHymIavVCCarHtHEkcp6A%3D%3D&position=24&pageNum=7&trk=public_jobs_jserp-result_search-card',\n",
       " 'https://ar.linkedin.com/jobs/view/analista-operaciones-e-commerce-at-grupo-libertad-3675832910?refId=pgqN%2BW8QQFQqLVgH0VJ5YA%3D%3D&trackingId=DElmv4o%2FaA5xQ35p8PXzcA%3D%3D&position=25&pageNum=7&trk=public_jobs_jserp-result_search-card',\n",
       " 'https://ar.linkedin.com/jobs/view/analista-de-procurement-at-randstad-argentina-3692505729?refId=nYXRb%2F3r0FQeHOyqt9dqMg%3D%3D&trackingId=rxHtPEX%2FXHsFszpaqCYqrg%3D%3D&position=1&pageNum=8&trk=public_jobs_jserp-result_search-card',\n",
       " 'https://ar.linkedin.com/jobs/view/analista-de-marketing-foco-comercial-hibrido-at-naseby-turnham-limited-3696480741?refId=nYXRb%2F3r0FQeHOyqt9dqMg%3D%3D&trackingId=6%2BkmC70OdRwVr9gZ5VQA3A%3D%3D&position=2&pageNum=8&trk=public_jobs_jserp-result_search-card',\n",
       " 'https://ar.linkedin.com/jobs/view/analista-comercial-caba-buenos-aires-at-grupo-consultores-de-empresas-3696842528?refId=nYXRb%2F3r0FQeHOyqt9dqMg%3D%3D&trackingId=ljSKgrCDxStKvVv%2FtWqpyQ%3D%3D&position=3&pageNum=8&trk=public_jobs_jserp-result_search-card',\n",
       " 'https://ar.linkedin.com/jobs/view/analista-de-marketing-outbound-at-huenei-it-services-3702932138?refId=nYXRb%2F3r0FQeHOyqt9dqMg%3D%3D&trackingId=u0K6YQsBQiHNarpvr47lpA%3D%3D&position=4&pageNum=8&trk=public_jobs_jserp-result_search-card',\n",
       " 'https://ar.linkedin.com/jobs/view/consultor-a-senior-de-precios-de-transferencia-con-conocimiento-en-normativa-local-deloitte-buenos-aires-at-deloitte-3695023771?refId=nYXRb%2F3r0FQeHOyqt9dqMg%3D%3D&trackingId=cim%2B0ZuCkOpMABH2p4rTIA%3D%3D&position=5&pageNum=8&trk=public_jobs_jserp-result_search-card',\n",
       " 'https://ar.linkedin.com/jobs/view/analista-de-control-de-gesti%C3%B3n-at-hucap-inteligencia-en-capital-humano-3673580979?refId=nYXRb%2F3r0FQeHOyqt9dqMg%3D%3D&trackingId=FVLvji%2Bi18vVqFxaeZmZpA%3D%3D&position=6&pageNum=8&trk=public_jobs_jserp-result_search-card',\n",
       " 'https://ar.linkedin.com/jobs/view/an%C3%A1lisis-de-rendimiento-malaga-espa%C3%B1a-damos-visa-de-trabajo-at-advanced-software-3687678585?refId=nYXRb%2F3r0FQeHOyqt9dqMg%3D%3D&trackingId=yMAB0NfOh1H%2FMCvtxETe%2Bg%3D%3D&position=7&pageNum=8&trk=public_jobs_jserp-result_search-card',\n",
       " 'https://ar.linkedin.com/jobs/view/analista-de-estrategia-del-negocio-senior-billetera-digital-at-bbva-en-argentina-3664021091?refId=nYXRb%2F3r0FQeHOyqt9dqMg%3D%3D&trackingId=VAvoL9Rx9S6JzF6CGRjGRQ%3D%3D&position=8&pageNum=8&trk=public_jobs_jserp-result_search-card',\n",
       " 'https://ar.linkedin.com/jobs/view/analista-de-control-de-gesti%C3%B3n-at-michael-page-3673527911?refId=nYXRb%2F3r0FQeHOyqt9dqMg%3D%3D&trackingId=octuSuSCOPOMy4G8czQAXw%3D%3D&position=9&pageNum=8&trk=public_jobs_jserp-result_search-card',\n",
       " 'https://ar.linkedin.com/jobs/view/analista-de-control-de-gesti%C3%B3n-buenos-aires-argentina-%E2%80%8B%E2%80%8B%E2%80%8B%E2%80%8B%E2%80%8B%E2%80%8B%E2%80%8B-at-blue-arrow-latam-3687866040?refId=nYXRb%2F3r0FQeHOyqt9dqMg%3D%3D&trackingId=necHO9OxkAtfuKAU%2F%2FZ5rg%3D%3D&position=10&pageNum=8&trk=public_jobs_jserp-result_search-card',\n",
       " 'https://ar.linkedin.com/jobs/view/gerente-administrativo-de-planes-de-ahorro-at-icars-3677600226?refId=nYXRb%2F3r0FQeHOyqt9dqMg%3D%3D&trackingId=QfL8KUnUf8EA8%2FtKP2%2FZWQ%3D%3D&position=11&pageNum=8&trk=public_jobs_jserp-result_search-card',\n",
       " 'https://ar.linkedin.com/jobs/view/analista-de-control-de-gesti%C3%B3n-at-ciclosrh-consulting-3702382498?refId=nYXRb%2F3r0FQeHOyqt9dqMg%3D%3D&trackingId=Q28ErgwwjOisisYjH1ykow%3D%3D&position=12&pageNum=8&trk=public_jobs_jserp-result_search-card',\n",
       " 'https://ar.linkedin.com/jobs/view/auditor-stock-e-inventarios-full-time-con-experiencia-en-indumentaria-o-retail-at-magher-3696484432?refId=nYXRb%2F3r0FQeHOyqt9dqMg%3D%3D&trackingId=MmY3SHb7gRerypy9PIIR%2FQ%3D%3D&position=13&pageNum=8&trk=public_jobs_jserp-result_search-card',\n",
       " 'https://ar.linkedin.com/jobs/view/auditor-interno-at-glam-distribuciones-3675839490?refId=nYXRb%2F3r0FQeHOyqt9dqMg%3D%3D&trackingId=3txtrCsABLEtMHXUVZoL7w%3D%3D&position=14&pageNum=8&trk=public_jobs_jserp-result_search-card',\n",
       " 'https://ar.linkedin.com/jobs/view/analista-t%C3%A9cnico-funcional-at-accusys-technology-3675854205?refId=nYXRb%2F3r0FQeHOyqt9dqMg%3D%3D&trackingId=wdD3ENade9DIl2hVgj71lw%3D%3D&position=15&pageNum=8&trk=public_jobs_jserp-result_search-card',\n",
       " 'https://ar.linkedin.com/jobs/view/auditor-a-interno-sr-at-medif%C3%A9-3675842499?refId=nYXRb%2F3r0FQeHOyqt9dqMg%3D%3D&trackingId=mltxKUykg2GpyoAhZL5R9g%3D%3D&position=16&pageNum=8&trk=public_jobs_jserp-result_search-card',\n",
       " 'https://ar.linkedin.com/jobs/view/analista-de-operaciones-e-infraestructura-at-coldview-latam-3696484607?refId=nYXRb%2F3r0FQeHOyqt9dqMg%3D%3D&trackingId=%2Fh2k1yE7nA4MtyzyzMdSNA%3D%3D&position=17&pageNum=8&trk=public_jobs_jserp-result_search-card',\n",
       " 'https://ar.linkedin.com/jobs/view/la-channel-operations-analyst-at-lenovo-3673179778?refId=nYXRb%2F3r0FQeHOyqt9dqMg%3D%3D&trackingId=Nto%2BpcYcAcDgPWt0NBHCfw%3D%3D&position=18&pageNum=8&trk=public_jobs_jserp-result_search-card',\n",
       " 'https://ar.linkedin.com/jobs/view/analista-de-planificaci%C3%B3n-y-control-de-gesti%C3%B3n-jr-at-michael-page-3691223501?refId=nYXRb%2F3r0FQeHOyqt9dqMg%3D%3D&trackingId=%2BlcvFqgBbdudpY%2Fyld6cjA%3D%3D&position=19&pageNum=8&trk=public_jobs_jserp-result_search-card',\n",
       " 'https://ar.linkedin.com/jobs/view/business-analyst-at-empleos-it-argentina-3669409539?refId=nYXRb%2F3r0FQeHOyqt9dqMg%3D%3D&trackingId=OgoXQOnbqGe8trp0sXxXeg%3D%3D&position=20&pageNum=8&trk=public_jobs_jserp-result_search-card',\n",
       " 'https://ar.linkedin.com/jobs/view/analista-de-investigaci%C3%B3n-desarrollo-at-glenmark-generics-3675847067?refId=nYXRb%2F3r0FQeHOyqt9dqMg%3D%3D&trackingId=uAJCKvk9XXtPSOF4A3hkuw%3D%3D&position=21&pageNum=8&trk=public_jobs_jserp-result_search-card',\n",
       " 'https://ar.linkedin.com/jobs/view/analista-de-administraci%C3%B3n-de-personal-jr-at-gen-staffing-recruiting-3675835781?refId=nYXRb%2F3r0FQeHOyqt9dqMg%3D%3D&trackingId=h%2FPTEF0zTdHR5OBtYt6HYw%3D%3D&position=22&pageNum=8&trk=public_jobs_jserp-result_search-card',\n",
       " 'https://ar.linkedin.com/jobs/view/analista-de-control-de-gesti%C3%B3n-at-grupo-metropol-3696885505?refId=nYXRb%2F3r0FQeHOyqt9dqMg%3D%3D&trackingId=Gk8ewlP1RvULFSHNAGH%2FgQ%3D%3D&position=23&pageNum=8&trk=public_jobs_jserp-result_search-card',\n",
       " 'https://ar.linkedin.com/jobs/view/comprador-at-pardo-s-a-3690130273?refId=nYXRb%2F3r0FQeHOyqt9dqMg%3D%3D&trackingId=yh5cFY1wCjdesY3Clfdp4Q%3D%3D&position=24&pageNum=8&trk=public_jobs_jserp-result_search-card',\n",
       " 'https://ar.linkedin.com/jobs/view/ejecutivo-de-cuentas-sr-at-telecentro-3678507269?refId=nYXRb%2F3r0FQeHOyqt9dqMg%3D%3D&trackingId=7MaTBtpY9CTjBvdqLaRX5Q%3D%3D&position=25&pageNum=8&trk=public_jobs_jserp-result_search-card',\n",
       " 'https://ar.linkedin.com/jobs/view/auditor-de-inventarios-at-nexo-group-3696485024?refId=VYKjGhyx1ZCHN2VrIO496g%3D%3D&trackingId=hH%2BzoKmSY7n8QTvsUkWCvQ%3D%3D&position=1&pageNum=9&trk=public_jobs_jserp-result_search-card',\n",
       " 'https://ar.linkedin.com/jobs/view/206be-analista-funcional-con-experiencia-en-negocios-y-ana%CC%81lisis-de-datos-at-cona-consultores-3696481777?refId=VYKjGhyx1ZCHN2VrIO496g%3D%3D&trackingId=eDMb2lTU4ec0xYw0q%2FXdaQ%3D%3D&position=2&pageNum=9&trk=public_jobs_jserp-result_search-card',\n",
       " 'https://ar.linkedin.com/jobs/view/analista-actuarial-ssr-at-hipotecario-seguros-3693529673?refId=VYKjGhyx1ZCHN2VrIO496g%3D%3D&trackingId=Fl4xhDq64vZBFs1hbM4jmA%3D%3D&position=3&pageNum=9&trk=public_jobs_jserp-result_search-card',\n",
       " 'https://ar.linkedin.com/jobs/view/encargado-de-control-de-gestio%CC%81n-at-sa-veracruz-3696485338?refId=VYKjGhyx1ZCHN2VrIO496g%3D%3D&trackingId=DAcXWJyc9U6c0phUg2kQmQ%3D%3D&position=4&pageNum=9&trk=public_jobs_jserp-result_search-card',\n",
       " 'https://ar.linkedin.com/jobs/view/analista-de-cobranzas-at-schindler-group-3688769947?refId=VYKjGhyx1ZCHN2VrIO496g%3D%3D&trackingId=e4Lkj4tvvzIUQoBSyKXU9g%3D%3D&position=5&pageNum=9&trk=public_jobs_jserp-result_search-card',\n",
       " 'https://ar.linkedin.com/jobs/view/analista-de-administracion-de-personal-at-contract-workplaces-3689675671?refId=VYKjGhyx1ZCHN2VrIO496g%3D%3D&trackingId=usmsRukDzP37YmUmTUhZJA%3D%3D&position=6&pageNum=9&trk=public_jobs_jserp-result_search-card',\n",
       " 'https://ar.linkedin.com/jobs/view/analista-de-gestio%CC%81n-de-calidad-at-indusplast-3696483218?refId=VYKjGhyx1ZCHN2VrIO496g%3D%3D&trackingId=k4%2FaMBVqWm1ZjDGRk%2B5vfg%3D%3D&position=7&pageNum=9&trk=public_jobs_jserp-result_search-card',\n",
       " 'https://ar.linkedin.com/jobs/view/analista-ssr-auditoria-de-compliance-at-edenor-3692165362?refId=VYKjGhyx1ZCHN2VrIO496g%3D%3D&trackingId=uBwbhYoMKlx1OwBN2KgNBg%3D%3D&position=8&pageNum=9&trk=public_jobs_jserp-result_search-card',\n",
       " 'https://ar.linkedin.com/jobs/view/ejecutivo-a-de-ventas-pilar-pcia-de-bs-as-at-medif%C3%A9-3675844245?refId=VYKjGhyx1ZCHN2VrIO496g%3D%3D&trackingId=avQbuKJUqLhCr6yYW9JJHQ%3D%3D&position=9&pageNum=9&trk=public_jobs_jserp-result_search-card',\n",
       " 'https://ar.linkedin.com/jobs/view/analista-de-control-de-gestion-para-importante-empresa-tecnol%C3%B3gica-at-consejo-profesional-de-ciencias-econ%C3%B3micas-de-la-ciudad-aut%C3%B3noma-de-buenos-aires-3678505331?refId=VYKjGhyx1ZCHN2VrIO496g%3D%3D&trackingId=wsD0mL9YaeKgdTDtuPGKaA%3D%3D&position=10&pageNum=9&trk=public_jobs_jserp-result_search-card',\n",
       " 'https://ar.linkedin.com/jobs/view/analista-senior-de-riesgos-operativos-para-mercado-pago-at-mercado-libre-3673748647?refId=VYKjGhyx1ZCHN2VrIO496g%3D%3D&trackingId=iwUcIXoBm%2BD7wCQRt0GFOQ%3D%3D&position=11&pageNum=9&trk=public_jobs_jserp-result_search-card',\n",
       " 'https://ar.linkedin.com/jobs/view/analista-de-desarrollo-anali%CC%81tico-laboratorio-farmace%CC%81utico-at-huzo-nl-3696489102?refId=VYKjGhyx1ZCHN2VrIO496g%3D%3D&trackingId=IbM8WRm8FkfEQrk%2F1ytnhg%3D%3D&position=12&pageNum=9&trk=public_jobs_jserp-result_search-card',\n",
       " 'https://ar.linkedin.com/jobs/view/analista-de-proyecci%C3%B3n-de-ventas-at-grido-3687477693?refId=VYKjGhyx1ZCHN2VrIO496g%3D%3D&trackingId=eVValoidnaPCUoAhOW6lCQ%3D%3D&position=13&pageNum=9&trk=public_jobs_jserp-result_search-card',\n",
       " 'https://ar.linkedin.com/jobs/view/crm-sr-analyst-at-pedidosya-3656172719?refId=VYKjGhyx1ZCHN2VrIO496g%3D%3D&trackingId=nN0RgNbjeV5Y5sHWNY3k%2Fg%3D%3D&position=14&pageNum=9&trk=public_jobs_jserp-result_search-card',\n",
       " 'https://ar.linkedin.com/jobs/view/customer-service-analyst-at-orbia-3696336570?refId=VYKjGhyx1ZCHN2VrIO496g%3D%3D&trackingId=dg95%2F942nqM1PwDs13HLKg%3D%3D&position=15&pageNum=9&trk=public_jobs_jserp-result_search-card',\n",
       " 'https://ar.linkedin.com/jobs/view/analista-de-control-de-gestio%CC%81n-at-crucijuegos-3696476314?refId=VYKjGhyx1ZCHN2VrIO496g%3D%3D&trackingId=ExNqvKgkjkKjvRYQg3yXSA%3D%3D&position=16&pageNum=9&trk=public_jobs_jserp-result_search-card',\n",
       " 'https://ar.linkedin.com/jobs/view/partner-care-sr-data-analyst-at-pedidosya-3697482410?refId=VYKjGhyx1ZCHN2VrIO496g%3D%3D&trackingId=AhPJovsrkp2HoHWe4RYwXw%3D%3D&position=17&pageNum=9&trk=public_jobs_jserp-result_search-card',\n",
       " 'https://ar.linkedin.com/jobs/view/analista-jr-de-auditori%CC%81a-y-control-de-gestio%CC%81n-para-rosario-at-acento-consultor%C3%ADa-%23culturasqueevolucionan-3696480919?refId=VYKjGhyx1ZCHN2VrIO496g%3D%3D&trackingId=xBG2SybHowOpo7RM01nemA%3D%3D&position=18&pageNum=9&trk=public_jobs_jserp-result_search-card',\n",
       " 'https://ar.linkedin.com/jobs/view/analista-de-operaciones-at-centras-rh-3675837477?refId=VYKjGhyx1ZCHN2VrIO496g%3D%3D&trackingId=CdOgszYjiBsqd1dzf9AOpg%3D%3D&position=19&pageNum=9&trk=public_jobs_jserp-result_search-card',\n",
       " 'https://ar.linkedin.com/jobs/view/analista-de-control-de-gesti%C3%B3n-y-planeamiento-at-michael-page-3688180508?refId=VYKjGhyx1ZCHN2VrIO496g%3D%3D&trackingId=D4nv5Jb0BVEeFoeOYPxlGw%3D%3D&position=20&pageNum=9&trk=public_jobs_jserp-result_search-card',\n",
       " 'https://ar.linkedin.com/jobs/view/analista-de-administraci%C3%B3n-de-recursos-humanos-at-accusys-technology-3675838708?refId=VYKjGhyx1ZCHN2VrIO496g%3D%3D&trackingId=rhjekkOeXGUL6GddBXKb8g%3D%3D&position=21&pageNum=9&trk=public_jobs_jserp-result_search-card',\n",
       " 'https://ar.linkedin.com/jobs/view/analista-de-gestion-de-stock-y-slotting-at-drogueria-del-sud-s-a-3659867602?refId=VYKjGhyx1ZCHN2VrIO496g%3D%3D&trackingId=5P37pPuLvBa4nu%2FgmykydQ%3D%3D&position=22&pageNum=9&trk=public_jobs_jserp-result_search-card',\n",
       " 'https://ar.linkedin.com/jobs/view/analista-sr-business-technology-at-carestino-3673572750?refId=VYKjGhyx1ZCHN2VrIO496g%3D%3D&trackingId=yOdGvUpb%2FNFCpS%2F6irHAiw%3D%3D&position=24&pageNum=9&trk=public_jobs_jserp-result_search-card',\n",
       " 'https://ar.linkedin.com/jobs/view/senior-mercado-de-carbono-at-slc-recursos-humanos-3690773418?refId=VYKjGhyx1ZCHN2VrIO496g%3D%3D&trackingId=yuhuGC%2FpWbffjZV71KfPhA%3D%3D&position=25&pageNum=9&trk=public_jobs_jserp-result_search-card',\n",
       " 'https://ar.linkedin.com/jobs/view/gerente-a-comercial-marketing-e-commerce-at-carrefour-argentina-3704264224?refId=i%2BUzoJPyEDaDICxEYy%2F%2BRw%3D%3D&trackingId=S4EdGr9va041dZKsGeydOw%3D%3D&position=1&pageNum=10&trk=public_jobs_jserp-result_search-card',\n",
       " 'https://ar.linkedin.com/jobs/view/sales-operations-data-analysis-executive-at-frost-sullivan-3628769116?refId=i%2BUzoJPyEDaDICxEYy%2F%2BRw%3D%3D&trackingId=6FNx2wVM%2FyvuT96CHK8K1w%3D%3D&position=2&pageNum=10&trk=public_jobs_jserp-result_search-card',\n",
       " 'https://ar.linkedin.com/jobs/view/analista-sr-en-implementaci%C3%B3n-de-procesos-productivos-con-erp-at-xxxxxxx-3703226995?refId=i%2BUzoJPyEDaDICxEYy%2F%2BRw%3D%3D&trackingId=tmvXTVQeZo31uYfc8%2B28Iw%3D%3D&position=3&pageNum=10&trk=public_jobs_jserp-result_search-card',\n",
       " 'https://ar.linkedin.com/jobs/view/analista-de-servicios-de-marketing-jr-at-gen-staffing-recruiting-3675850353?refId=i%2BUzoJPyEDaDICxEYy%2F%2BRw%3D%3D&trackingId=FpzCAmUBBuLHPMDCvgug6g%3D%3D&position=4&pageNum=10&trk=public_jobs_jserp-result_search-card',\n",
       " 'https://ar.linkedin.com/jobs/view/analista-de-planificaci%C3%B3n-y-diagn%C3%B3stico-operacional-at-emergencias-3675887477?refId=i%2BUzoJPyEDaDICxEYy%2F%2BRw%3D%3D&trackingId=s5oHHzaOahccUrxSW7GbIA%3D%3D&position=5&pageNum=10&trk=public_jobs_jserp-result_search-card',\n",
       " 'https://ar.linkedin.com/jobs/view/analista-de-gesti%C3%B3n-de-talento-ssr-at-direcciona-3684016188?refId=i%2BUzoJPyEDaDICxEYy%2F%2BRw%3D%3D&trackingId=wI88%2B3PcPMWf9tkQ%2BDeB6w%3D%3D&position=6&pageNum=10&trk=public_jobs_jserp-result_search-card',\n",
       " 'https://ar.linkedin.com/jobs/view/analista-de-operaciones-at-michael-page-3585919975?refId=i%2BUzoJPyEDaDICxEYy%2F%2BRw%3D%3D&trackingId=uPg%2BIPktw0iXmENfzXYgPA%3D%3D&position=7&pageNum=10&trk=public_jobs_jserp-result_search-card',\n",
       " 'https://ar.linkedin.com/jobs/view/data-scientist-sr-relaci%C3%B3n-de-dependencia-zona-norte-at-brightside-it-consulting-s-a-3669408624?refId=i%2BUzoJPyEDaDICxEYy%2F%2BRw%3D%3D&trackingId=JEIfEbbyB9gubNB4KXRUZQ%3D%3D&position=8&pageNum=10&trk=public_jobs_jserp-result_search-card',\n",
       " 'https://ar.linkedin.com/jobs/view/quality-senior-analyst-at-sc-johnson-3690123364?refId=i%2BUzoJPyEDaDICxEYy%2F%2BRw%3D%3D&trackingId=4amdwlWrAoeA3V7A%2FL20QQ%3D%3D&position=9&pageNum=10&trk=public_jobs_jserp-result_search-card',\n",
       " 'https://ar.linkedin.com/jobs/view/operations-analyst-at-michael-page-3682565218?refId=i%2BUzoJPyEDaDICxEYy%2F%2BRw%3D%3D&trackingId=JONqtyEyiJrmLHb%2B2sNEMw%3D%3D&position=11&pageNum=10&trk=public_jobs_jserp-result_search-card',\n",
       " 'https://ar.linkedin.com/jobs/view/responsable-de-business-intelligence-at-scania-argentina-3675849179?refId=i%2BUzoJPyEDaDICxEYy%2F%2BRw%3D%3D&trackingId=TrRZHk9ImTsMlSfubkv6DQ%3D%3D&position=12&pageNum=10&trk=public_jobs_jserp-result_search-card',\n",
       " 'https://ar.linkedin.com/jobs/view/chief-operations-officer-coo-at-aeros-3675848633?refId=i%2BUzoJPyEDaDICxEYy%2F%2BRw%3D%3D&trackingId=1FKprijWXq6j8V09jzxM%2FQ%3D%3D&position=13&pageNum=10&trk=public_jobs_jserp-result_search-card',\n",
       " 'https://ar.linkedin.com/jobs/view/logistics-ecommerce-leader-at-brandlive-3690124856?refId=i%2BUzoJPyEDaDICxEYy%2F%2BRw%3D%3D&trackingId=ZiEBX17ZgNBJQJOCq8ADmw%3D%3D&position=15&pageNum=10&trk=public_jobs_jserp-result_search-card',\n",
       " 'https://ar.linkedin.com/jobs/view/analista-control-de-gesti%C3%B3n-gastos-industriales-eventual-at-laboratorio-elea-3675844504?refId=i%2BUzoJPyEDaDICxEYy%2F%2BRw%3D%3D&trackingId=Y6bcUYL8tiY6C6cc9CpYiw%3D%3D&position=16&pageNum=10&trk=public_jobs_jserp-result_search-card',\n",
       " 'https://ar.linkedin.com/jobs/view/analista-control-de-gesti%C3%B3n-at-ivess-el-jumillano-3657021070?refId=i%2BUzoJPyEDaDICxEYy%2F%2BRw%3D%3D&trackingId=QroVNzgrkDnpMZn1dwliLg%3D%3D&position=17&pageNum=10&trk=public_jobs_jserp-result_search-card',\n",
       " 'https://ar.linkedin.com/jobs/view/analista-de-investigaci%C3%B3n-de-mercado-rosario-at-avalian-3672534131?refId=i%2BUzoJPyEDaDICxEYy%2F%2BRw%3D%3D&trackingId=RCkyz%2B7snmr9uwaqFFmm%2Bw%3D%3D&position=18&pageNum=10&trk=public_jobs_jserp-result_search-card',\n",
       " 'https://ar.linkedin.com/jobs/view/food-safety-sr-analyst-at-pedidosya-3701375319?refId=i%2BUzoJPyEDaDICxEYy%2F%2BRw%3D%3D&trackingId=JADuWYeEmRkvJdLw7kaL1A%3D%3D&position=19&pageNum=10&trk=public_jobs_jserp-result_search-card',\n",
       " 'https://ar.linkedin.com/jobs/view/analista-ssr-de-control-de-gesti%C3%B3n-at-untold-3700122179?refId=i%2BUzoJPyEDaDICxEYy%2F%2BRw%3D%3D&trackingId=HDIR8vX4spJGN8SwndyHvg%3D%3D&position=20&pageNum=10&trk=public_jobs_jserp-result_search-card',\n",
       " 'https://ar.linkedin.com/jobs/view/developer-bi-ssr-sr-at-practia-global-3698376479?refId=i%2BUzoJPyEDaDICxEYy%2F%2BRw%3D%3D&trackingId=EsRiyfAhtOs5l%2FlsrT6Slg%3D%3D&position=21&pageNum=10&trk=public_jobs_jserp-result_search-card',\n",
       " 'https://ar.linkedin.com/jobs/view/analista-de-planificacion-de-operaciones-at-sci-comunidad-3657073008?refId=i%2BUzoJPyEDaDICxEYy%2F%2BRw%3D%3D&trackingId=I2ZvNy5IlOLQWt%2FRo0XngA%3D%3D&position=22&pageNum=10&trk=public_jobs_jserp-result_search-card',\n",
       " 'https://ar.linkedin.com/jobs/view/especialista-de-control-de-costos-de-real-estate-mercado-env%C3%ADos-at-mercado-libre-3700457786?refId=i%2BUzoJPyEDaDICxEYy%2F%2BRw%3D%3D&trackingId=SQXBE5hxnqTIioRo9m7D6A%3D%3D&position=23&pageNum=10&trk=public_jobs_jserp-result_search-card',\n",
       " 'https://ar.linkedin.com/jobs/view/analista-de-email-marketing-at-solventa-lending-3696474660?refId=i%2BUzoJPyEDaDICxEYy%2F%2BRw%3D%3D&trackingId=1OWgZ0QzeWeM9xDVzYo1%2Bg%3D%3D&position=25&pageNum=10&trk=public_jobs_jserp-result_search-card',\n",
       " 'https://ar.linkedin.com/jobs/view/analista-comercial-re-at-grupo-libertad-3675834634?refId=nWeRCOo6CwjGxknPve5aJw%3D%3D&trackingId=aiqVxvGHHPaNxcDkOSn%2BaA%3D%3D&position=1&pageNum=11&trk=public_jobs_jserp-result_search-card',\n",
       " 'https://ar.linkedin.com/jobs/view/analista-de-marketing-jr-gesti%C3%B3n-de-contenidos-at-kdtalent-3675837381?refId=nWeRCOo6CwjGxknPve5aJw%3D%3D&trackingId=XmePIo9G3dAsK61btJ0HwQ%3D%3D&position=2&pageNum=11&trk=public_jobs_jserp-result_search-card',\n",
       " 'https://ar.linkedin.com/jobs/view/analista-de-administraci%C3%B3n-y-finanzas-at-bitali-3675835558?refId=nWeRCOo6CwjGxknPve5aJw%3D%3D&trackingId=y5MYDJMLy%2FSlS2zfsvNBhA%3D%3D&position=3&pageNum=11&trk=public_jobs_jserp-result_search-card',\n",
       " 'https://ar.linkedin.com/jobs/view/analista-digital-sr-at-why-digital-group-holding-regional-de-marketing-digital-3700283740?refId=nWeRCOo6CwjGxknPve5aJw%3D%3D&trackingId=7%2Bzv9xNCdbENWeUhew%2FTdQ%3D%3D&position=4&pageNum=11&trk=public_jobs_jserp-result_search-card',\n",
       " 'https://ar.linkedin.com/jobs/view/analista-de-investigaci%C3%B3n-y-desarrollo-at-profertil-agro-3678504344?refId=nWeRCOo6CwjGxknPve5aJw%3D%3D&trackingId=Pg6vYWNbMiYe%2Bhg5cu%2FF2w%3D%3D&position=5&pageNum=11&trk=public_jobs_jserp-result_search-card',\n",
       " 'https://ar.linkedin.com/jobs/view/analista-de-control-de-gestio%CC%81n-para-proyecto-electromeca%CC%81nico-at-benito-roggio-e-hijos-s-a-argentina-3696478707?refId=nWeRCOo6CwjGxknPve5aJw%3D%3D&trackingId=QsLBP%2FeChQ5CHra%2FbbAYmw%3D%3D&position=6&pageNum=11&trk=public_jobs_jserp-result_search-card',\n",
       " 'https://ar.linkedin.com/jobs/view/implementador-de-campan%CC%83as-digitales-de-performance-facebook-at-solventa-lending-3696494054?refId=nWeRCOo6CwjGxknPve5aJw%3D%3D&trackingId=bD%2BVmhITqwBwXfRlSFOW6g%3D%3D&position=7&pageNum=11&trk=public_jobs_jserp-result_search-card',\n",
       " 'https://ar.linkedin.com/jobs/view/analista-de-precios-at-scania-argentina-3675844278?refId=nWeRCOo6CwjGxknPve5aJw%3D%3D&trackingId=9009%2BHmhw%2F2tnH9vCqFZNg%3D%3D&position=8&pageNum=11&trk=public_jobs_jserp-result_search-card',\n",
       " 'https://ar.linkedin.com/jobs/view/growth-manager-at-idearhumano-3675836664?refId=nWeRCOo6CwjGxknPve5aJw%3D%3D&trackingId=BsCv22Sn6fOPVbOVCnxgnQ%3D%3D&position=9&pageNum=11&trk=public_jobs_jserp-result_search-card',\n",
       " 'https://ar.linkedin.com/jobs/view/analista-de-administraci%C3%B3n-at-gen-staffing-recruiting-3675842193?refId=nWeRCOo6CwjGxknPve5aJw%3D%3D&trackingId=9Xl%2FvmQz%2FQ6eUpENCPqfmw%3D%3D&position=10&pageNum=11&trk=public_jobs_jserp-result_search-card',\n",
       " 'https://ar.linkedin.com/jobs/view/strategic-plan-analysis-specialist-at-accenture-argentina-3689165552?refId=nWeRCOo6CwjGxknPve5aJw%3D%3D&trackingId=RpI4viRGUiYL3TrykwEpTw%3D%3D&position=12&pageNum=11&trk=public_jobs_jserp-result_search-card',\n",
       " 'https://ar.linkedin.com/jobs/view/team-leader-customer-experience-at-ual%C3%A1-3677193180?refId=nWeRCOo6CwjGxknPve5aJw%3D%3D&trackingId=RhDz0WaKys2mvFX0R4cCVg%3D%3D&position=13&pageNum=11&trk=public_jobs_jserp-result_search-card',\n",
       " 'https://ar.linkedin.com/jobs/view/analista-de-control-de-gesti%C3%B3n-at-maincal-s-a-3675833700?refId=nWeRCOo6CwjGxknPve5aJw%3D%3D&trackingId=aHyjMgfvnaZVbHBhShqdFA%3D%3D&position=14&pageNum=11&trk=public_jobs_jserp-result_search-card',\n",
       " 'https://ar.linkedin.com/jobs/view/courier-operations-analyst-at-rappi-3698265516?refId=nWeRCOo6CwjGxknPve5aJw%3D%3D&trackingId=udkYTZbg5DEnjmpOYBONew%3D%3D&position=15&pageNum=11&trk=public_jobs_jserp-result_search-card',\n",
       " 'https://ar.linkedin.com/jobs/view/bi-regional-lead-at-human-wealth-3675840844?refId=nWeRCOo6CwjGxknPve5aJw%3D%3D&trackingId=M6tKOMo1iwuCbzzY9swNwQ%3D%3D&position=16&pageNum=11&trk=public_jobs_jserp-result_search-card',\n",
       " 'https://ar.linkedin.com/jobs/view/si451-analista-de-calidad-junior-at-cona-consultores-3703409165?refId=nWeRCOo6CwjGxknPve5aJw%3D%3D&trackingId=h0TFnahHNtOMZNXLMupmYw%3D%3D&position=17&pageNum=11&trk=public_jobs_jserp-result_search-card',\n",
       " 'https://ar.linkedin.com/jobs/view/analista-de-control-de-gestio%CC%81n-at-potenciarnos-capital-humano-3696490413?refId=nWeRCOo6CwjGxknPve5aJw%3D%3D&trackingId=j%2FANDDVtNNMOs%2F5wKur2lA%3D%3D&position=18&pageNum=11&trk=public_jobs_jserp-result_search-card',\n",
       " 'https://ar.linkedin.com/jobs/view/analista-sr-de-planeamiento-y-control-de-gesti%C3%B3n-at-emergencias-3675840665?refId=nWeRCOo6CwjGxknPve5aJw%3D%3D&trackingId=RoPaGN5t90KVHmYYr77sdw%3D%3D&position=19&pageNum=11&trk=public_jobs_jserp-result_search-card',\n",
       " 'https://ar.linkedin.com/jobs/view/marketing-operations-at-kilimo-3673333732?refId=nWeRCOo6CwjGxknPve5aJw%3D%3D&trackingId=CCaDDqafIQSrpTqI9MMSjQ%3D%3D&position=20&pageNum=11&trk=public_jobs_jserp-result_search-card',\n",
       " 'https://ar.linkedin.com/jobs/view/analista-de-control-de-gesti%C3%B3n-at-gen-staffing-recruiting-3678042661?refId=nWeRCOo6CwjGxknPve5aJw%3D%3D&trackingId=6dKZWfyPdzdoezAOVcahdQ%3D%3D&position=21&pageNum=11&trk=public_jobs_jserp-result_search-card',\n",
       " 'https://ar.linkedin.com/jobs/view/analista-de-operaciones-%C3%A2%C2%80%C2%93-empresa-de-accesorios-para-celulares-at-consultora-fashion-rh-3676516459?refId=nWeRCOo6CwjGxknPve5aJw%3D%3D&trackingId=ZbAGQcrVzjebe%2BR35iKAxA%3D%3D&position=22&pageNum=11&trk=public_jobs_jserp-result_search-card',\n",
       " 'https://ar.linkedin.com/jobs/view/analista-de-administraci%C3%B3n-de-personal-at-slc-recursos-humanos-3688121365?refId=nWeRCOo6CwjGxknPve5aJw%3D%3D&trackingId=LX75JeAEZA6Kfz%2FAuJF4LQ%3D%3D&position=23&pageNum=11&trk=public_jobs_jserp-result_search-card',\n",
       " 'https://ar.linkedin.com/jobs/view/analista-de-administraci%C3%B3n-de-personal-at-alejandra-molina-3675847093?refId=nWeRCOo6CwjGxknPve5aJw%3D%3D&trackingId=1e4QG5ImDO3H2%2FmS1xIXFg%3D%3D&position=24&pageNum=11&trk=public_jobs_jserp-result_search-card',\n",
       " 'https://ar.linkedin.com/jobs/view/strategic-plan-analysis-specialist-at-accenture-argentina-3689164872?refId=nWeRCOo6CwjGxknPve5aJw%3D%3D&trackingId=IWle6f6xKe3kmp8AI4WmuA%3D%3D&position=25&pageNum=11&trk=public_jobs_jserp-result_search-card',\n",
       " 'https://ar.linkedin.com/jobs/view/analista-gesti%C3%B3n-de-talento-at-la-virginia-3686144759?refId=YjrtkeLbcQ3wT7GnTUkTdQ%3D%3D&trackingId=WkOARoSgH88oLI%2BvANclmw%3D%3D&position=1&pageNum=12&trk=public_jobs_jserp-result_search-card',\n",
       " 'https://ar.linkedin.com/jobs/view/analista-gestion-integral-proveedores-at-confidencial-3694189997?refId=YjrtkeLbcQ3wT7GnTUkTdQ%3D%3D&trackingId=H54EnUusz9roo9RLVBdsUA%3D%3D&position=2&pageNum=12&trk=public_jobs_jserp-result_search-card',\n",
       " 'https://ar.linkedin.com/jobs/view/community-manager-comercio-electro%CC%81nico-at-mj-consulting-rrhh-3696491074?refId=YjrtkeLbcQ3wT7GnTUkTdQ%3D%3D&trackingId=%2FKOETfK6NmgxvctNYG4yNQ%3D%3D&position=3&pageNum=12&trk=public_jobs_jserp-result_search-card',\n",
       " 'https://ar.linkedin.com/jobs/view/l%C3%ADder-comercial-socios-estrat%C3%A9gicos-at-pacifica-continental-3630325106?refId=YjrtkeLbcQ3wT7GnTUkTdQ%3D%3D&trackingId=976I734kPRkuOpfBXu1zag%3D%3D&position=4&pageNum=12&trk=public_jobs_jserp-result_search-card',\n",
       " 'https://ar.linkedin.com/jobs/view/analista-funcional-de-integraci%C3%B3n-de-sistemas-at-dabrein-solutions-3692695329?refId=YjrtkeLbcQ3wT7GnTUkTdQ%3D%3D&trackingId=hwvDwCsuRZjPz5oHdl%2FzPQ%3D%3D&position=5&pageNum=12&trk=public_jobs_jserp-result_search-card',\n",
       " 'https://ar.linkedin.com/jobs/view/analista-de-inteligencia-comercial-vicente-lopez-at-grupo-consultores-de-empresas-3696099158?refId=YjrtkeLbcQ3wT7GnTUkTdQ%3D%3D&trackingId=2fUywikI7NeCf3aEv1B9eQ%3D%3D&position=6&pageNum=12&trk=public_jobs_jserp-result_search-card',\n",
       " 'https://ar.linkedin.com/jobs/view/implementador-de-campan%CC%83as-digitales-de-performance-at-solventa-lending-3696487395?refId=YjrtkeLbcQ3wT7GnTUkTdQ%3D%3D&trackingId=HM%2FyWUNRRVguiz8kgtyrUA%3D%3D&position=7&pageNum=12&trk=public_jobs_jserp-result_search-card',\n",
       " 'https://ar.linkedin.com/jobs/view/analista-back-office-comercial-mem-at-slc-recursos-humanos-3693595056?refId=YjrtkeLbcQ3wT7GnTUkTdQ%3D%3D&trackingId=h0MAP%2FVaLlBBgoZoSNbRDQ%3D%3D&position=8&pageNum=12&trk=public_jobs_jserp-result_search-card',\n",
       " 'https://ar.linkedin.com/jobs/view/analista-funcional-sr-at-tsoft-3687037965?refId=YjrtkeLbcQ3wT7GnTUkTdQ%3D%3D&trackingId=osdjWuwRE0c2UkAL1WJ0kw%3D%3D&position=10&pageNum=12&trk=public_jobs_jserp-result_search-card',\n",
       " 'https://ar.linkedin.com/jobs/view/analista-sr-de-performance-google-ads-y-facebook-ads-at-solventa-lending-3696477549?refId=YjrtkeLbcQ3wT7GnTUkTdQ%3D%3D&trackingId=FTCMg%2FLwqaSIJ1wzVXYDpQ%3D%3D&position=11&pageNum=12&trk=public_jobs_jserp-result_search-card',\n",
       " 'https://ar.linkedin.com/jobs/view/performance-marketing-analyst-ig-at-mood-human-resources-3689784576?refId=YjrtkeLbcQ3wT7GnTUkTdQ%3D%3D&trackingId=sra3uz0cLACil4eMHfYaHw%3D%3D&position=12&pageNum=12&trk=public_jobs_jserp-result_search-card',\n",
       " 'https://ar.linkedin.com/jobs/view/jefe-de-control-de-gesti%C3%B3n-at-dreamco-3671532277?refId=YjrtkeLbcQ3wT7GnTUkTdQ%3D%3D&trackingId=tFn1NGbYQ%2FaV7GI%2FDoWQdA%3D%3D&position=13&pageNum=12&trk=public_jobs_jserp-result_search-card',\n",
       " 'https://ar.linkedin.com/jobs/view/analista-gobierno-de-datos-arquitectura-de-datos-at-dicsys-3580809107?refId=YjrtkeLbcQ3wT7GnTUkTdQ%3D%3D&trackingId=2dJGZZz2wX%2Fd5S3H21gklw%3D%3D&position=14&pageNum=12&trk=public_jobs_jserp-result_search-card',\n",
       " 'https://ar.linkedin.com/jobs/view/analista-de-control-de-gesti%C3%B3n-at-gen-staffing-recruiting-3675833963?refId=YjrtkeLbcQ3wT7GnTUkTdQ%3D%3D&trackingId=hHjuCux6Y7Vy%2BzH97Z8evg%3D%3D&position=15&pageNum=12&trk=public_jobs_jserp-result_search-card',\n",
       " 'https://ar.linkedin.com/jobs/view/analista-de-administraci%C3%B3n-de-venta-gba-norte-at-beinst-3689222814?refId=YjrtkeLbcQ3wT7GnTUkTdQ%3D%3D&trackingId=5NVXhMX%2BF5SwzhGzv0O3KQ%3D%3D&position=16&pageNum=12&trk=public_jobs_jserp-result_search-card',\n",
       " 'https://ar.linkedin.com/jobs/view/analista-jr-de-excelencia-operacional-eventual-moreno-req14272-at-osda-contract-services-3696475271?refId=YjrtkeLbcQ3wT7GnTUkTdQ%3D%3D&trackingId=mvOV70d1pymJJpejfw%2BupQ%3D%3D&position=17&pageNum=12&trk=public_jobs_jserp-result_search-card',\n",
       " 'https://ar.linkedin.com/jobs/view/analista-sr-de-research-at-essencemediacom-3679183111?refId=YjrtkeLbcQ3wT7GnTUkTdQ%3D%3D&trackingId=A2zFoiPjv4M0z4wxlVBNoA%3D%3D&position=18&pageNum=12&trk=public_jobs_jserp-result_search-card',\n",
       " 'https://ar.linkedin.com/jobs/view/analista-de-marketing-at-gen-staffing-recruiting-3695412141?refId=YjrtkeLbcQ3wT7GnTUkTdQ%3D%3D&trackingId=KFboQvt2Ssvfmy4XBaJeUQ%3D%3D&position=19&pageNum=12&trk=public_jobs_jserp-result_search-card',\n",
       " 'https://ar.linkedin.com/jobs/view/analista-operativo-noa-at-claro-argentina-3686395718?refId=YjrtkeLbcQ3wT7GnTUkTdQ%3D%3D&trackingId=ANDUTGGF6SAde1QLqcwaTw%3D%3D&position=20&pageNum=12&trk=public_jobs_jserp-result_search-card',\n",
       " 'https://ar.linkedin.com/jobs/view/analista-de-control-de-stock-y-consumos-at-expertise-consultores-3675844816?refId=YjrtkeLbcQ3wT7GnTUkTdQ%3D%3D&trackingId=vcwvDP0Wj5imyncI6xYbqw%3D%3D&position=22&pageNum=12&trk=public_jobs_jserp-result_search-card',\n",
       " 'https://ar.linkedin.com/jobs/view/jr-operations-analyst-at-assurant-3693756880?refId=YjrtkeLbcQ3wT7GnTUkTdQ%3D%3D&trackingId=DLC7N74iHgs3NOtmssdPJg%3D%3D&position=23&pageNum=12&trk=public_jobs_jserp-result_search-card',\n",
       " 'https://ar.linkedin.com/jobs/view/community-manager-at-draftline-bue-3694906631?refId=YjrtkeLbcQ3wT7GnTUkTdQ%3D%3D&trackingId=5bm9YrQalJHFEJeef4xVgA%3D%3D&position=24&pageNum=12&trk=public_jobs_jserp-result_search-card',\n",
       " 'https://ar.linkedin.com/jobs/view/analista-de-planificaci%C3%B3n-de-demanda-at-sci-comunidad-3675842025?refId=g%2FOOSOOCuKgyL52MGhakKg%3D%3D&trackingId=kSHN3uWgf1qEljKk%2BlMshA%3D%3D&position=1&pageNum=13&trk=public_jobs_jserp-result_search-card',\n",
       " 'https://ar.linkedin.com/jobs/view/analista-de-contenido-period%C3%ADstico-mkt-at-experis-argentina-3695032336?refId=g%2FOOSOOCuKgyL52MGhakKg%3D%3D&trackingId=74shGejZVF%2B4eSiNWikOMw%3D%3D&position=2&pageNum=13&trk=public_jobs_jserp-result_search-card',\n",
       " 'https://ar.linkedin.com/jobs/view/quantitative-business-analyst-at-assurant-3688808193?refId=g%2FOOSOOCuKgyL52MGhakKg%3D%3D&trackingId=Qs%2F1A3Kdz6UapTDpuD%2FVlg%3D%3D&position=3&pageNum=13&trk=public_jobs_jserp-result_search-card',\n",
       " 'https://ar.linkedin.com/jobs/view/analista-de-ventas-at-grido-3675838389?refId=g%2FOOSOOCuKgyL52MGhakKg%3D%3D&trackingId=TVQuSF19wQ3uYOFloFWTOA%3D%3D&position=4&pageNum=13&trk=public_jobs_jserp-result_search-card',\n",
       " 'https://ar.linkedin.com/jobs/view/analista-ssr-marketing-at-capital-humano-3689593143?refId=g%2FOOSOOCuKgyL52MGhakKg%3D%3D&trackingId=FIdV%2F9B5APDTUv4lkrLB0Q%3D%3D&position=5&pageNum=13&trk=public_jobs_jserp-result_search-card',\n",
       " 'https://ar.linkedin.com/jobs/view/coordinador-administrativo-para-facultad-de-derecho-at-pontificia-universidad-cat%C3%B3lica-argentina-3675833936?refId=g%2FOOSOOCuKgyL52MGhakKg%3D%3D&trackingId=z2J0lC4cWNAr1jnSwI6%2BAQ%3D%3D&position=6&pageNum=13&trk=public_jobs_jserp-result_search-card',\n",
       " 'https://ar.linkedin.com/jobs/view/%E2%80%9Ccoordinador-de-supervisores%E2%80%9D-at-springwall-3657067776?refId=g%2FOOSOOCuKgyL52MGhakKg%3D%3D&trackingId=fLSrqdDxN%2BwrPK0igvpAFg%3D%3D&position=7&pageNum=13&trk=public_jobs_jserp-result_search-card',\n",
       " 'https://ar.linkedin.com/jobs/view/analista-gestio%CC%81n-de-calidad-at-sa-veracruz-3696486178?refId=g%2FOOSOOCuKgyL52MGhakKg%3D%3D&trackingId=MMrwDYjB5rh%2BPVSXuFYTtA%3D%3D&position=8&pageNum=13&trk=public_jobs_jserp-result_search-card',\n",
       " 'https://ar.linkedin.com/jobs/view/demand-planning-head-at-high-flow-3675846039?refId=g%2FOOSOOCuKgyL52MGhakKg%3D%3D&trackingId=FhYLMjkwpl0x93AvMgohJA%3D%3D&position=9&pageNum=13&trk=public_jobs_jserp-result_search-card',\n",
       " 'https://ar.linkedin.com/jobs/view/analista-funcional-semi-senior-at-ntt-data-europe-latam-3689097472?refId=g%2FOOSOOCuKgyL52MGhakKg%3D%3D&trackingId=W5C0nSU3nSALWUHUPAe9UQ%3D%3D&position=10&pageNum=13&trk=public_jobs_jserp-result_search-card',\n",
       " 'https://ar.linkedin.com/jobs/view/la-channel-operations-analyst-at-lenovo-3699201895?refId=g%2FOOSOOCuKgyL52MGhakKg%3D%3D&trackingId=9insxh3t6CH7Y8ARGoZitQ%3D%3D&position=11&pageNum=13&trk=public_jobs_jserp-result_search-card',\n",
       " 'https://ar.linkedin.com/jobs/view/analista-de-administraci%C3%B3n-para-fusap-at-consejo-profesional-de-ciencias-econ%C3%B3micas-de-la-ciudad-aut%C3%B3noma-de-buenos-aires-3693558882?refId=g%2FOOSOOCuKgyL52MGhakKg%3D%3D&trackingId=5yyHZenAKW8xWIkkiQf2aQ%3D%3D&position=12&pageNum=13&trk=public_jobs_jserp-result_search-card',\n",
       " 'https://ar.linkedin.com/jobs/view/business-analyst-parque-patricios-caba-id-200158-at-educacionit-3681789584?refId=g%2FOOSOOCuKgyL52MGhakKg%3D%3D&trackingId=RTzDyuKICPXinTx%2BiGy%2FZg%3D%3D&position=13&pageNum=13&trk=public_jobs_jserp-result_search-card',\n",
       " 'https://ar.linkedin.com/jobs/view/analista-funcional-ssr-at-michael-page-3640343022?refId=g%2FOOSOOCuKgyL52MGhakKg%3D%3D&trackingId=P2uiDkyvH6kFI1wmwHiwNg%3D%3D&position=14&pageNum=13&trk=public_jobs_jserp-result_search-card',\n",
       " 'https://ar.linkedin.com/jobs/view/analista-funcional-power-bi-senior-at-in-corporate-3702794552?refId=g%2FOOSOOCuKgyL52MGhakKg%3D%3D&trackingId=VGOZSEYOl52Kl0xfMd%2BpTQ%3D%3D&position=15&pageNum=13&trk=public_jobs_jserp-result_search-card',\n",
       " 'https://ar.linkedin.com/jobs/view/analista-de-planeamiento-comercial-ssr-at-servicios-compartidos-de-empleos-3675845256?refId=g%2FOOSOOCuKgyL52MGhakKg%3D%3D&trackingId=TyvhfP0q88fb2twAvUpajA%3D%3D&position=16&pageNum=13&trk=public_jobs_jserp-result_search-card',\n",
       " 'https://ar.linkedin.com/jobs/view/analista-de-proyectos-at-agidea-3673586320?refId=g%2FOOSOOCuKgyL52MGhakKg%3D%3D&trackingId=6%2F0ZBavmFLiWV3503x1%2Bgg%3D%3D&position=17&pageNum=13&trk=public_jobs_jserp-result_search-card',\n",
       " 'https://ar.linkedin.com/jobs/view/gerente-de-recursos-humanos-at-pacifica-continental-3681414161?refId=g%2FOOSOOCuKgyL52MGhakKg%3D%3D&trackingId=F1%2B9gSud%2FGHKiD4i9wug6w%3D%3D&position=18&pageNum=13&trk=public_jobs_jserp-result_search-card',\n",
       " 'https://ar.linkedin.com/jobs/view/strategic-plan-analysis-specialist-at-accenture-argentina-3683402106?refId=g%2FOOSOOCuKgyL52MGhakKg%3D%3D&trackingId=OKw23putLRw92V2cvboqxQ%3D%3D&position=20&pageNum=13&trk=public_jobs_jserp-result_search-card',\n",
       " 'https://ar.linkedin.com/jobs/view/analista-control-de-gesti%C3%B3n-casino-bs-as-at-servicios-compartidos-de-empleos-3675845422?refId=g%2FOOSOOCuKgyL52MGhakKg%3D%3D&trackingId=dF6CXEcdhZQfjmG%2FHKYCJw%3D%3D&position=21&pageNum=13&trk=public_jobs_jserp-result_search-card',\n",
       " 'https://ar.linkedin.com/jobs/view/consultor-de-investigaci%C3%B3n-biling%C3%BCe-at-kpmg-argentina-3697709987?refId=g%2FOOSOOCuKgyL52MGhakKg%3D%3D&trackingId=IYXVrBoZImNhn%2BWyHF1Pjg%3D%3D&position=22&pageNum=13&trk=public_jobs_jserp-result_search-card',\n",
       " 'https://ar.linkedin.com/jobs/view/analista-de-control-de-gestio%CC%81n-at-potenciarnos-capital-humano-3696489591?refId=g%2FOOSOOCuKgyL52MGhakKg%3D%3D&trackingId=dkZBkE%2BzjkYqivNRNhggYA%3D%3D&position=23&pageNum=13&trk=public_jobs_jserp-result_search-card',\n",
       " 'https://ar.linkedin.com/jobs/view/analista-de-control-de-gesti%C3%B3n-para-proyecto-electromec%C3%A1nico-at-benito-roggio-e-hijos-s-a-argentina-3691573230?refId=g%2FOOSOOCuKgyL52MGhakKg%3D%3D&trackingId=SHugJoMmhKSxMk43%2BnINng%3D%3D&position=24&pageNum=13&trk=public_jobs_jserp-result_search-card',\n",
       " 'https://ar.linkedin.com/jobs/view/analista-comercial-motos-alta-gama-at-grupo-iraola-3675842531?refId=qvKfK4KrAuw5Y1YTjx5zLA%3D%3D&trackingId=0cG%2FqnorMOrl8axNJ2adOg%3D%3D&position=1&pageNum=14&trk=public_jobs_jserp-result_search-card',\n",
       " 'https://ar.linkedin.com/jobs/view/analista-de-gesti%C3%B3n-de-ventas-at-strix-by-lojack-3675842377?refId=qvKfK4KrAuw5Y1YTjx5zLA%3D%3D&trackingId=vXQQHfvZv1ILVZSfZRWA7g%3D%3D&position=3&pageNum=14&trk=public_jobs_jserp-result_search-card',\n",
       " 'https://ar.linkedin.com/jobs/view/analista-de-control-posoperativo-y-performance-at-slc-recursos-humanos-3690123933?refId=qvKfK4KrAuw5Y1YTjx5zLA%3D%3D&trackingId=ykc%2BJrv%2FYEWYps6oElL5LQ%3D%3D&position=4&pageNum=14&trk=public_jobs_jserp-result_search-card',\n",
       " 'https://ar.linkedin.com/jobs/view/analista-de-gesti%C3%B3n-de-trafico-eventual-at-randstad-argentina-3706075909?refId=qvKfK4KrAuw5Y1YTjx5zLA%3D%3D&trackingId=m6md00YWPy5FKV0hhpp%2BiQ%3D%3D&position=5&pageNum=14&trk=public_jobs_jserp-result_search-card',\n",
       " 'https://ar.linkedin.com/jobs/view/analista-de-administraci%C3%B3n-en-empresa-de-indumentaria-at-idearhumano-3680819154?refId=qvKfK4KrAuw5Y1YTjx5zLA%3D%3D&trackingId=QbdwiLuRssLlY7R4tS3oMg%3D%3D&position=6&pageNum=14&trk=public_jobs_jserp-result_search-card',\n",
       " 'https://ar.linkedin.com/jobs/view/analista-de-performance-de-operaciones-log%C3%ADsticas-at-idoneus-3691487127?refId=qvKfK4KrAuw5Y1YTjx5zLA%3D%3D&trackingId=c18ZBOt997hfHK8LyFaP8A%3D%3D&position=7&pageNum=14&trk=public_jobs_jserp-result_search-card',\n",
       " 'https://ar.linkedin.com/jobs/view/analista-de-formaci%C3%B3n-t%C3%A9cnica-at-newmont-corporation-3702776358?refId=qvKfK4KrAuw5Y1YTjx5zLA%3D%3D&trackingId=jEAJ952u1lRJjqD5XjWOzg%3D%3D&position=8&pageNum=14&trk=public_jobs_jserp-result_search-card',\n",
       " 'https://ar.linkedin.com/jobs/view/analista-funcional-ssr-at-voolkia-software-services-3676566935?refId=qvKfK4KrAuw5Y1YTjx5zLA%3D%3D&trackingId=IpvSaTy%2BCZcoqPMBjVnuTA%3D%3D&position=9&pageNum=14&trk=public_jobs_jserp-result_search-card',\n",
       " 'https://ar.linkedin.com/jobs/view/comprador-a-at-llao-llao-hotel-resort-golf-spa-3696490374?refId=qvKfK4KrAuw5Y1YTjx5zLA%3D%3D&trackingId=ZhMRq8r7uNBN3hYAG59IRw%3D%3D&position=10&pageNum=14&trk=public_jobs_jserp-result_search-card',\n",
       " 'https://ar.linkedin.com/jobs/view/analista-de-control-de-gesti%C3%B3n-at-sci-comunidad-3675834701?refId=qvKfK4KrAuw5Y1YTjx5zLA%3D%3D&trackingId=y2q8Od0b3vFWDPQO5nZ%2FDg%3D%3D&position=11&pageNum=14&trk=public_jobs_jserp-result_search-card',\n",
       " 'https://ar.linkedin.com/jobs/view/analista-de-gesti%C3%B3n-de-normas-at-ferrum-s-a-3683681010?refId=qvKfK4KrAuw5Y1YTjx5zLA%3D%3D&trackingId=EvQ1wa%2Ftpxl1CWMNFplYAA%3D%3D&position=12&pageNum=14&trk=public_jobs_jserp-result_search-card',\n",
       " 'https://ar.linkedin.com/jobs/view/analista-de-control-de-gestion-y-costos-at-gen-staffing-recruiting-3674567434?refId=qvKfK4KrAuw5Y1YTjx5zLA%3D%3D&trackingId=fFFBIjzDkEbCDmjV35tXqQ%3D%3D&position=13&pageNum=14&trk=public_jobs_jserp-result_search-card',\n",
       " 'https://ar.linkedin.com/jobs/view/especialista-de-aplicaciones-de-gen%C3%B3mica-y-an%C3%A1lisis-celular-fas-at-dp-consultores-3675845879?refId=qvKfK4KrAuw5Y1YTjx5zLA%3D%3D&trackingId=fz%2Fzl6Gm%2BI7vPY9u6iZs4Q%3D%3D&position=14&pageNum=14&trk=public_jobs_jserp-result_search-card',\n",
       " 'https://ar.linkedin.com/jobs/view/team-lead-plataforma-collections-at-ual%C3%A1-3675110611?refId=qvKfK4KrAuw5Y1YTjx5zLA%3D%3D&trackingId=%2BuIqKFPn%2BQ3xis%2BXWK%2BCow%3D%3D&position=15&pageNum=14&trk=public_jobs_jserp-result_search-card',\n",
       " 'https://ar.linkedin.com/jobs/view/analista-ssr-de-control-de-gesti%C3%B3n-at-expertise-consultores-3661541991?refId=qvKfK4KrAuw5Y1YTjx5zLA%3D%3D&trackingId=CmoASnOguxR1LssVkGifMQ%3D%3D&position=16&pageNum=14&trk=public_jobs_jserp-result_search-card',\n",
       " 'https://ar.linkedin.com/jobs/view/bu-399-analista-comercial-jr-ssr-at-cona-consultores-3696483703?refId=qvKfK4KrAuw5Y1YTjx5zLA%3D%3D&trackingId=fV6upOyo47zpG5lroUKRLQ%3D%3D&position=17&pageNum=14&trk=public_jobs_jserp-result_search-card',\n",
       " 'https://ar.linkedin.com/jobs/view/analista-de-gesti%C3%B3n-y-procesos-at-grupo-cetrogar-3675842851?refId=qvKfK4KrAuw5Y1YTjx5zLA%3D%3D&trackingId=FxjrVWcIp%2BGBm5Du%2FZnb1w%3D%3D&position=18&pageNum=14&trk=public_jobs_jserp-result_search-card',\n",
       " 'https://ar.linkedin.com/jobs/view/responsable-financiero-at-grupo-randazzo-3696484931?refId=qvKfK4KrAuw5Y1YTjx5zLA%3D%3D&trackingId=UzMYENhjhzo7Rrzz%2F%2B9kvQ%3D%3D&position=19&pageNum=14&trk=public_jobs_jserp-result_search-card',\n",
       " 'https://ar.linkedin.com/jobs/view/analista-en-control-de-stock-con-experiencia-empresa-de-logi%CC%81stica-at-pro-selection-capital-humano-3696473688?refId=qvKfK4KrAuw5Y1YTjx5zLA%3D%3D&trackingId=qmgafk0jCdfjYC2DyDPEGw%3D%3D&position=20&pageNum=14&trk=public_jobs_jserp-result_search-card',\n",
       " 'https://ar.linkedin.com/jobs/view/analista-de-control-de-gesti%C3%B3n-y-costos-at-gen-staffing-recruiting-3675840334?refId=qvKfK4KrAuw5Y1YTjx5zLA%3D%3D&trackingId=6dHsa18TcKaS2dnoQ%2FoWJw%3D%3D&position=21&pageNum=14&trk=public_jobs_jserp-result_search-card',\n",
       " 'https://ar.linkedin.com/jobs/view/analista-de-administraci%C3%B3n-ti-at-grupo-metropol-3674027770?refId=qvKfK4KrAuw5Y1YTjx5zLA%3D%3D&trackingId=opqdaqdlV0h%2BPgttSuKeLg%3D%3D&position=22&pageNum=14&trk=public_jobs_jserp-result_search-card',\n",
       " 'https://ar.linkedin.com/jobs/view/analista-funcional-soporte-a-operaciones-infor-at-trf-transfarmaco-sa-3675840581?refId=qvKfK4KrAuw5Y1YTjx5zLA%3D%3D&trackingId=nftoo%2FZ2%2BsLZBTKrcap17Q%3D%3D&position=23&pageNum=14&trk=public_jobs_jserp-result_search-card',\n",
       " 'https://ar.linkedin.com/jobs/view/analista-de-administraci%C3%B3n-de-personal-rrhh-at-alejandra-molina-3675836850?refId=qvKfK4KrAuw5Y1YTjx5zLA%3D%3D&trackingId=6%2FCJ1iuLdTnG1VVGEnmR%2FA%3D%3D&position=24&pageNum=14&trk=public_jobs_jserp-result_search-card',\n",
       " 'https://ar.linkedin.com/jobs/view/analista-de-control-de-gesti%C3%B3n-%C3%A1rea-contable-at-adecco-3699644405?refId=qvKfK4KrAuw5Y1YTjx5zLA%3D%3D&trackingId=hf2K3zLhSS6ixZsTfKywHw%3D%3D&position=25&pageNum=14&trk=public_jobs_jserp-result_search-card',\n",
       " 'https://ar.linkedin.com/jobs/view/analista-de-control-de-gesti%C3%B3n-at-human-consulting-3675845383?refId=nWUZ%2B9hjAeARg9l3kVpRow%3D%3D&trackingId=Q%2BILRlE0przEPc%2FTso6E%2Bg%3D%3D&position=1&pageNum=15&trk=public_jobs_jserp-result_search-card',\n",
       " 'https://ar.linkedin.com/jobs/view/analista-funcional-sr-bt-at-carestino-3673573819?refId=nWUZ%2B9hjAeARg9l3kVpRow%3D%3D&trackingId=A9yfRpe9cYnRYg68u0JhQA%3D%3D&position=2&pageNum=15&trk=public_jobs_jserp-result_search-card',\n",
       " 'https://ar.linkedin.com/jobs/view/analista-crm-at-compre-ahora-argentina-3698379435?refId=nWUZ%2B9hjAeARg9l3kVpRow%3D%3D&trackingId=1RCt1WbM8dEaViIZIJNBcg%3D%3D&position=3&pageNum=15&trk=public_jobs_jserp-result_search-card',\n",
       " 'https://ar.linkedin.com/jobs/view/jefe-comercial-at-montironi-3702937338?refId=nWUZ%2B9hjAeARg9l3kVpRow%3D%3D&trackingId=HW%2F9c3mI34%2FAD9N3xJXGiw%3D%3D&position=4&pageNum=15&trk=public_jobs_jserp-result_search-card',\n",
       " 'https://ar.linkedin.com/jobs/view/arquitecto-de-datos-remoto-at-consultora-gestal-3697413897?refId=nWUZ%2B9hjAeARg9l3kVpRow%3D%3D&trackingId=DP0%2FiXHVn2E9Q%2BPyn3a1SQ%3D%3D&position=5&pageNum=15&trk=public_jobs_jserp-result_search-card',\n",
       " 'https://ar.linkedin.com/jobs/view/analista-sr-de-marketing-at-rex-3675833977?refId=nWUZ%2B9hjAeARg9l3kVpRow%3D%3D&trackingId=eqpSHR5%2BKMg0RoPJJynIFg%3D%3D&position=6&pageNum=15&trk=public_jobs_jserp-result_search-card',\n",
       " 'https://ar.linkedin.com/jobs/view/supervisor-de-produccio%CC%81n-junior-pilar-at-consultora-zivot-3696483479?refId=nWUZ%2B9hjAeARg9l3kVpRow%3D%3D&trackingId=H2AW5y3Lkic7D9u%2BYKEEIA%3D%3D&position=7&pageNum=15&trk=public_jobs_jserp-result_search-card',\n",
       " 'https://ar.linkedin.com/jobs/view/analista-funcional-ssr-ref-ms-ss-at-educacionit-3679337628?refId=nWUZ%2B9hjAeARg9l3kVpRow%3D%3D&trackingId=2irg%2BQ95SdfQLUSzKBjwIw%3D%3D&position=8&pageNum=15&trk=public_jobs_jserp-result_search-card',\n",
       " 'https://ar.linkedin.com/jobs/view/analista-de-control-de-gesti%C3%B3n-at-gen-staffing-recruiting-3675838743?refId=nWUZ%2B9hjAeARg9l3kVpRow%3D%3D&trackingId=RYQALE%2BFi3OBrohMP%2BrcgQ%3D%3D&position=10&pageNum=15&trk=public_jobs_jserp-result_search-card',\n",
       " 'https://ar.linkedin.com/jobs/view/analista-de-calidad-operacional-aseguramiento-eventual-zona-gari%CC%81n-req144910-at-manpower-argentina-3696485704?refId=nWUZ%2B9hjAeARg9l3kVpRow%3D%3D&trackingId=JNLM1TvCu2vnXqWHai8%2B8A%3D%3D&position=11&pageNum=15&trk=public_jobs_jserp-result_search-card',\n",
       " 'https://ar.linkedin.com/jobs/view/analista-comercial-para-importante-empresa-de-indumentaria-rosario-at-neobiz-consultores-3696483081?refId=nWUZ%2B9hjAeARg9l3kVpRow%3D%3D&trackingId=YmgsG%2BB6DvI4utZgcPzctw%3D%3D&position=12&pageNum=15&trk=public_jobs_jserp-result_search-card',\n",
       " 'https://ar.linkedin.com/jobs/view/responsable-de-e-commerce-at-bumeran-selecta-per%C3%BA-3675833794?refId=nWUZ%2B9hjAeARg9l3kVpRow%3D%3D&trackingId=ZihXzmClALToS2snwQKA0w%3D%3D&position=13&pageNum=15&trk=public_jobs_jserp-result_search-card',\n",
       " 'https://ar.linkedin.com/jobs/view/gerente-de-operaciones-at-it-hunter-international-3691616799?refId=nWUZ%2B9hjAeARg9l3kVpRow%3D%3D&trackingId=UM42Of70zLDHnMv5oVKXKg%3D%3D&position=14&pageNum=15&trk=public_jobs_jserp-result_search-card',\n",
       " 'https://ar.linkedin.com/jobs/view/sr-business-analyst-at-bizit-global-3686396818?refId=nWUZ%2B9hjAeARg9l3kVpRow%3D%3D&trackingId=ObOK7bJy%2FvHrU3ZU%2ByNWlQ%3D%3D&position=15&pageNum=15&trk=public_jobs_jserp-result_search-card',\n",
       " 'https://ar.linkedin.com/jobs/view/responsable-de-auditoria-at-maia-arzuaga-gesti%C3%B3n-de-personas-y-organizaciones-3681414988?refId=nWUZ%2B9hjAeARg9l3kVpRow%3D%3D&trackingId=Asj2ig69qfm5n1wkCLZWdA%3D%3D&position=18&pageNum=15&trk=public_jobs_jserp-result_search-card',\n",
       " 'https://ar.linkedin.com/jobs/view/analista-en-control-de-gesti%C3%B3n-at-glencore-3683728065?refId=nWUZ%2B9hjAeARg9l3kVpRow%3D%3D&trackingId=y8BFjc7pYHV5f9Aaj%2Budyw%3D%3D&position=20&pageNum=15&trk=public_jobs_jserp-result_search-card',\n",
       " 'https://ar.linkedin.com/jobs/view/analista-de-administracio%CC%81n-y-finanzas-para-zona-ramos-meji%CC%81a-at-estrategia-rrhh-3696487861?refId=nWUZ%2B9hjAeARg9l3kVpRow%3D%3D&trackingId=ejw%2BVCi2ChHvZ9J40io5Jg%3D%3D&position=21&pageNum=15&trk=public_jobs_jserp-result_search-card',\n",
       " 'https://ar.linkedin.com/jobs/view/jefe-de-planificaci%C3%B3n-at-emergencias-3659814605?refId=nWUZ%2B9hjAeARg9l3kVpRow%3D%3D&trackingId=2j5xVQr%2FIdQGB8VcLiVnSw%3D%3D&position=22&pageNum=15&trk=public_jobs_jserp-result_search-card',\n",
       " 'https://ar.linkedin.com/jobs/view/analista-de-comunicaci%C3%B3n-corporativa-at-camera-di-commercio-italiana-nella-repubblica-argentina-3675840565?refId=nWUZ%2B9hjAeARg9l3kVpRow%3D%3D&trackingId=%2Be2hGw7PSEUGnunvC55rjw%3D%3D&position=23&pageNum=15&trk=public_jobs_jserp-result_search-card',\n",
       " 'https://ar.linkedin.com/jobs/view/supervisor-de-laboratorio-ana%CC%81lisis-cli%CC%81nicos-at-vacunar-3696489373?refId=nWUZ%2B9hjAeARg9l3kVpRow%3D%3D&trackingId=5pLDUJgNxh8skThJInLBZQ%3D%3D&position=24&pageNum=15&trk=public_jobs_jserp-result_search-card',\n",
       " 'https://ar.linkedin.com/jobs/view/analista-de-control-de-gestio%CC%81n-at-lava-pictures-inc-3696488694?refId=nWUZ%2B9hjAeARg9l3kVpRow%3D%3D&trackingId=Fxar1zG1k2R834qlxXk1ZA%3D%3D&position=25&pageNum=15&trk=public_jobs_jserp-result_search-card',\n",
       " 'https://ar.linkedin.com/jobs/view/community-manager-at-draftline-bue-3684122200?refId=gbwBHYKe%2BIBcMnPf1ghCIg%3D%3D&trackingId=emYjEPyJxBwhGpHhC6H0tA%3D%3D&position=1&pageNum=16&trk=public_jobs_jserp-result_search-card',\n",
       " 'https://ar.linkedin.com/jobs/view/analista-de-control-de-costos-y-gestio%CC%81n-tigre-at-consultora-zivot-3696484412?refId=gbwBHYKe%2BIBcMnPf1ghCIg%3D%3D&trackingId=C6VvhLUkuV%2Bhb%2BXKj6JvGw%3D%3D&position=2&pageNum=16&trk=public_jobs_jserp-result_search-card',\n",
       " 'https://ar.linkedin.com/jobs/view/gerente-ti-at-it-hunter-international-3691083763?refId=gbwBHYKe%2BIBcMnPf1ghCIg%3D%3D&trackingId=8sMoLoACUe0Vo9i8eqtZSg%3D%3D&position=3&pageNum=16&trk=public_jobs_jserp-result_search-card',\n",
       " 'https://ar.linkedin.com/jobs/view/analista-de-gestio%CC%81n-de-talento-humano-zona-norte-pacheco-at-williams-equipment-engineering-3698218805?refId=gbwBHYKe%2BIBcMnPf1ghCIg%3D%3D&trackingId=641c5nBJIDjq%2BHk1qkqxIg%3D%3D&position=4&pageNum=16&trk=public_jobs_jserp-result_search-card',\n",
       " 'https://ar.linkedin.com/jobs/view/legal-counsel-at-ual%C3%A1-3693062014?refId=gbwBHYKe%2BIBcMnPf1ghCIg%3D%3D&trackingId=0TDoZ5UB%2FAcCJwAQopkJrQ%3D%3D&position=5&pageNum=16&trk=public_jobs_jserp-result_search-card',\n",
       " 'https://ar.linkedin.com/jobs/view/analista-de-gesti%C3%B3n-rrhh-temporal-at-cmpc-3670755991?refId=gbwBHYKe%2BIBcMnPf1ghCIg%3D%3D&trackingId=XBU3PmvOdeBdpZUw4nfb5Q%3D%3D&position=7&pageNum=16&trk=public_jobs_jserp-result_search-card',\n",
       " 'https://ar.linkedin.com/jobs/view/analista-de-control-de-gesti%C3%B3n-at-sinteplast-3676809401?refId=gbwBHYKe%2BIBcMnPf1ghCIg%3D%3D&trackingId=TqXN5cxHuHtRioxqLtqTTw%3D%3D&position=8&pageNum=16&trk=public_jobs_jserp-result_search-card',\n",
       " 'https://ar.linkedin.com/jobs/view/jefe-de-operaciones-at-michael-page-3615393799?refId=gbwBHYKe%2BIBcMnPf1ghCIg%3D%3D&trackingId=X7nWLqwaosrH83n8GjS0zA%3D%3D&position=9&pageNum=16&trk=public_jobs_jserp-result_search-card',\n",
       " 'https://ar.linkedin.com/jobs/view/junior-it-talent-sourcer-at-cognizant-3677976100?refId=gbwBHYKe%2BIBcMnPf1ghCIg%3D%3D&trackingId=jQf8069%2BYwcI2ZOZmn18ug%3D%3D&position=11&pageNum=16&trk=public_jobs_jserp-result_search-card',\n",
       " 'https://ar.linkedin.com/jobs/view/jefe-de-operaciones-at-maia-arzuaga-gesti%C3%B3n-de-personas-y-organizaciones-3696022820?refId=gbwBHYKe%2BIBcMnPf1ghCIg%3D%3D&trackingId=JZFdjbqC%2BiH%2BfAgx3xuviA%3D%3D&position=13&pageNum=16&trk=public_jobs_jserp-result_search-card',\n",
       " 'https://ar.linkedin.com/jobs/view/analista-en-mkt-estrate%CC%81gico-crowe-rosario-at-crowe-ar-3696487161?refId=gbwBHYKe%2BIBcMnPf1ghCIg%3D%3D&trackingId=YcQ19CoC6ZK3I8cEVJMhzQ%3D%3D&position=14&pageNum=16&trk=public_jobs_jserp-result_search-card',\n",
       " 'https://ar.linkedin.com/jobs/view/gerente-comercial-at-high-flow-3675836455?refId=gbwBHYKe%2BIBcMnPf1ghCIg%3D%3D&trackingId=Et5XG2H4MG0UPJBGSAipPA%3D%3D&position=15&pageNum=16&trk=public_jobs_jserp-result_search-card',\n",
       " 'https://ar.linkedin.com/jobs/view/analista-funcional-sr-bi-bs-as-at-michael-page-3630989240?refId=gbwBHYKe%2BIBcMnPf1ghCIg%3D%3D&trackingId=%2FTL%2BZd9IjKqUdYKfPl4FdA%3D%3D&position=16&pageNum=16&trk=public_jobs_jserp-result_search-card',\n",
       " 'https://ar.linkedin.com/jobs/view/ejecutivo-de-cuenta-at-emergencias-3675845850?refId=gbwBHYKe%2BIBcMnPf1ghCIg%3D%3D&trackingId=nqlgMLHbXaj17Jj0ghAnrw%3D%3D&position=17&pageNum=16&trk=public_jobs_jserp-result_search-card',\n",
       " 'https://ar.linkedin.com/jobs/view/analista-de-administracio%CC%81n-de-personal-sr-at-voicenter-s-a-3696489152?refId=gbwBHYKe%2BIBcMnPf1ghCIg%3D%3D&trackingId=yAb0LViLx3u1CvKR6dazyQ%3D%3D&position=18&pageNum=16&trk=public_jobs_jserp-result_search-card',\n",
       " 'https://ar.linkedin.com/jobs/view/analista-gesti%C3%B3n-de-calidad-at-interactuar-consultoria-coaching-3675840455?refId=gbwBHYKe%2BIBcMnPf1ghCIg%3D%3D&trackingId=H0YGVKCJBFjEKF3etWbRdw%3D%3D&position=19&pageNum=16&trk=public_jobs_jserp-result_search-card',\n",
       " 'https://ar.linkedin.com/jobs/view/analista-de-control-de-gesti%C3%B3n-at-egger-latam-3684594577?refId=gbwBHYKe%2BIBcMnPf1ghCIg%3D%3D&trackingId=mrV%2FxMaszl0U5nS32QhJpQ%3D%3D&position=20&pageNum=16&trk=public_jobs_jserp-result_search-card',\n",
       " 'https://ar.linkedin.com/jobs/view/analista-de-email-marketing-con-experiencia-at-solventa-lending-3696487348?refId=gbwBHYKe%2BIBcMnPf1ghCIg%3D%3D&trackingId=BGPN5HsGD2K5a1YaFuI%2Btw%3D%3D&position=21&pageNum=16&trk=public_jobs_jserp-result_search-card',\n",
       " 'https://ar.linkedin.com/jobs/view/analista-de-empleos-sr-at-wega-argentina-3696476543?refId=gbwBHYKe%2BIBcMnPf1ghCIg%3D%3D&trackingId=Zx2GLDJV9T7n3y2dhltvQQ%3D%3D&position=23&pageNum=16&trk=public_jobs_jserp-result_search-card',\n",
       " 'https://ar.linkedin.com/jobs/view/analista-gesti%C3%B3n-de-riesgos-de-la-informaci%C3%B3n-bs-as-sunchales-rafaela-at-sancor-salud-grupo-de-medicina-privada-3683348204?refId=gbwBHYKe%2BIBcMnPf1ghCIg%3D%3D&trackingId=4oiYxyOXbq7WDv0GA5Ylag%3D%3D&position=24&pageNum=16&trk=public_jobs_jserp-result_search-card',\n",
       " 'https://ar.linkedin.com/jobs/view/analista-de-control-de-gesti%C3%B3n-at-pilares-rrhh-3657067771?refId=gbwBHYKe%2BIBcMnPf1ghCIg%3D%3D&trackingId=nZe4TfzuB85tYu5HUySSLg%3D%3D&position=25&pageNum=16&trk=public_jobs_jserp-result_search-card',\n",
       " 'https://ar.linkedin.com/jobs/view/analista-de-infraestructura-de-redes-at-kunan-s-a-3675838881?refId=V94JwVL90%2FCYVwiRWaZAeg%3D%3D&trackingId=Rpmi0yHIRwqlx84y3ZL0Cw%3D%3D&position=1&pageNum=17&trk=public_jobs_jserp-result_search-card',\n",
       " 'https://ar.linkedin.com/jobs/view/analista-de-rrhh-at-reclutapro-argentina-3696485932?refId=V94JwVL90%2FCYVwiRWaZAeg%3D%3D&trackingId=f5dMA1LYggyC%2FJK0hzHf8A%3D%3D&position=2&pageNum=17&trk=public_jobs_jserp-result_search-card',\n",
       " 'https://ar.linkedin.com/jobs/view/analista-de-calidad-at-umbral-capital-humano-3697735909?refId=V94JwVL90%2FCYVwiRWaZAeg%3D%3D&trackingId=8jfvbx8dSHwYdhV8c2WbPQ%3D%3D&position=3&pageNum=17&trk=public_jobs_jserp-result_search-card',\n",
       " 'https://ar.linkedin.com/jobs/view/auditor-de-stock-at-grupo-cetrogar-3675841736?refId=V94JwVL90%2FCYVwiRWaZAeg%3D%3D&trackingId=h1DwAVbt%2FktK4VrMZPJnwQ%3D%3D&position=5&pageNum=17&trk=public_jobs_jserp-result_search-card',\n",
       " 'https://ar.linkedin.com/jobs/view/p-scm-business-analyst-at-chevron-3633044684?refId=V94JwVL90%2FCYVwiRWaZAeg%3D%3D&trackingId=9iaz%2BfpT47mG%2Fup7LUh5EQ%3D%3D&position=6&pageNum=17&trk=public_jobs_jserp-result_search-card',\n",
       " 'https://ar.linkedin.com/jobs/view/jefe-de-lean-manufacturing-at-grupo-myth-3675845265?refId=V94JwVL90%2FCYVwiRWaZAeg%3D%3D&trackingId=gye7DQVs7Buffc55Gu9JLg%3D%3D&position=7&pageNum=17&trk=public_jobs_jserp-result_search-card',\n",
       " 'https://ar.linkedin.com/jobs/view/jefe-de-producci%C3%B3n-at-ceta-capital-humano-3690733902?refId=V94JwVL90%2FCYVwiRWaZAeg%3D%3D&trackingId=H%2FLSnklm7tnuZsnaom5qdQ%3D%3D&position=8&pageNum=17&trk=public_jobs_jserp-result_search-card',\n",
       " 'https://ar.linkedin.com/jobs/view/analista-de-operaciones-leasing-at-banco-comafi-3661542565?refId=V94JwVL90%2FCYVwiRWaZAeg%3D%3D&trackingId=IARmCLCk0iAYbQf1BMclkQ%3D%3D&position=9&pageNum=17&trk=public_jobs_jserp-result_search-card',\n",
       " 'https://ar.linkedin.com/jobs/view/experts-local-partner-network-sea-2023-lot-6-%E2%80%93-macro-economic-analysis-fiscal-policies-budget-support-at-ntu-international-a-s-3693691392?refId=V94JwVL90%2FCYVwiRWaZAeg%3D%3D&trackingId=sPQQ7d3R14zC0mGm5b9BzQ%3D%3D&position=10&pageNum=17&trk=public_jobs_jserp-result_search-card',\n",
       " 'https://ar.linkedin.com/jobs/view/analista-funcional-aplicaciones-digitales-web-y-mobile-at-dabrein-solutions-3692696087?refId=V94JwVL90%2FCYVwiRWaZAeg%3D%3D&trackingId=9B38qYIY65DZndZm1hCLGA%3D%3D&position=11&pageNum=17&trk=public_jobs_jserp-result_search-card',\n",
       " 'https://ar.linkedin.com/jobs/view/analista-gesti%C3%B3n-energ%C3%ADa-at-bumeran-selecta-3688124063?refId=V94JwVL90%2FCYVwiRWaZAeg%3D%3D&trackingId=1l6Q2GjHSYNN7RUaIzWyCg%3D%3D&position=12&pageNum=17&trk=public_jobs_jserp-result_search-card',\n",
       " 'https://ar.linkedin.com/jobs/view/analista-sr-de-auditor%C3%ADa-interna-at-banco-comafi-3675837410?refId=V94JwVL90%2FCYVwiRWaZAeg%3D%3D&trackingId=2UrduanWSj38IzlVaN%2BhTA%3D%3D&position=13&pageNum=17&trk=public_jobs_jserp-result_search-card',\n",
       " 'https://ar.linkedin.com/jobs/view/te%CC%81cnico-implementador-at-remoters-me-3701336273?refId=V94JwVL90%2FCYVwiRWaZAeg%3D%3D&trackingId=Mecmpup7N7yjTDQkETJSVA%3D%3D&position=14&pageNum=17&trk=public_jobs_jserp-result_search-card',\n",
       " 'https://ar.linkedin.com/jobs/view/analista-de-calidad-operacional-y-aseguramiento-eventual-zona-gari%CC%81n-req144910-at-bellingrodt-reiseb%C3%BCro-gmbh-3696478002?refId=V94JwVL90%2FCYVwiRWaZAeg%3D%3D&trackingId=F4rFXts81Q1QCZ7FZQ8JLQ%3D%3D&position=15&pageNum=17&trk=public_jobs_jserp-result_search-card',\n",
       " 'https://ar.linkedin.com/jobs/view/restaurants-commercial-lead-at-rappi-3697492789?refId=V94JwVL90%2FCYVwiRWaZAeg%3D%3D&trackingId=S8VVwcLi6oUkvSQeRK0nDw%3D%3D&position=16&pageNum=17&trk=public_jobs_jserp-result_search-card',\n",
       " 'https://ar.linkedin.com/jobs/view/administrativo-gral-semi-sr-at-likework-3696479746?refId=V94JwVL90%2FCYVwiRWaZAeg%3D%3D&trackingId=JX3Zs3b1PPkfQsWGIIUG2Q%3D%3D&position=17&pageNum=17&trk=public_jobs_jserp-result_search-card',\n",
       " 'https://ar.linkedin.com/jobs/view/analista-de-control-de-gesti%C3%B3n-gregorio-de-laferrere-at-ceta-capital-humano-3675847014?refId=V94JwVL90%2FCYVwiRWaZAeg%3D%3D&trackingId=9idObsLI%2Byp%2Fl0NrgIFA8Q%3D%3D&position=18&pageNum=17&trk=public_jobs_jserp-result_search-card',\n",
       " 'https://ar.linkedin.com/jobs/view/sales-performance-analysis-specialist-at-accenture-argentina-3627557113?refId=V94JwVL90%2FCYVwiRWaZAeg%3D%3D&trackingId=QoO7f3dbkCweMuDoTQL5Qg%3D%3D&position=19&pageNum=17&trk=public_jobs_jserp-result_search-card',\n",
       " 'https://ar.linkedin.com/jobs/view/analista-de-marketing-investigacio%CC%81n-de-mercado-at-noao-3696482439?refId=V94JwVL90%2FCYVwiRWaZAeg%3D%3D&trackingId=%2BJ7FKSZzWo2IPVkYdvjFZw%3D%3D&position=20&pageNum=17&trk=public_jobs_jserp-result_search-card',\n",
       " 'https://ar.linkedin.com/jobs/view/analista-de-gestio%CC%81n-de-calidad-para-institucio%CC%81n-me%CC%81dica-zona-caba-at-agv-recursos-humanos-3696487783?refId=V94JwVL90%2FCYVwiRWaZAeg%3D%3D&trackingId=P3vCri4a5vUAXQySIXci7A%3D%3D&position=21&pageNum=17&trk=public_jobs_jserp-result_search-card',\n",
       " 'https://ar.linkedin.com/jobs/view/analista-sr-costos-y-presupuestos-con-experiencia-excluyente-at-food-service-3696478120?refId=V94JwVL90%2FCYVwiRWaZAeg%3D%3D&trackingId=p043iaxvbPCVynRFcCPlUQ%3D%3D&position=22&pageNum=17&trk=public_jobs_jserp-result_search-card',\n",
       " 'https://ar.linkedin.com/jobs/view/data-scientist-sr-at-michael-page-3569951148?refId=V94JwVL90%2FCYVwiRWaZAeg%3D%3D&trackingId=x08UpRBkmkF7Gl%2FOTxAoJA%3D%3D&position=23&pageNum=17&trk=public_jobs_jserp-result_search-card',\n",
       " 'https://ar.linkedin.com/jobs/view/community-manager-at-likework-3696490450?refId=jErn8%2BfFD1BgYbXWlAKpwg%3D%3D&trackingId=jA8QRc3mon9QE128sOo%2FQg%3D%3D&position=1&pageNum=18&trk=public_jobs_jserp-result_search-card',\n",
       " 'https://ar.linkedin.com/jobs/view/analista-sr-aseguramiento-de-la-calidad-at-vox-terra-3675840733?refId=jErn8%2BfFD1BgYbXWlAKpwg%3D%3D&trackingId=LXaCSoQOiHY74vPhieOwnQ%3D%3D&position=2&pageNum=18&trk=public_jobs_jserp-result_search-card',\n",
       " 'https://ar.linkedin.com/jobs/view/social-media-analysis-lead-at-cognizant-3578569343?refId=jErn8%2BfFD1BgYbXWlAKpwg%3D%3D&trackingId=DKlnCK6rVom5IcpPwiGOZA%3D%3D&position=3&pageNum=18&trk=public_jobs_jserp-result_search-card',\n",
       " 'https://ar.linkedin.com/jobs/view/jefe-de-producto-at-schneider-electric-3697501710?refId=jErn8%2BfFD1BgYbXWlAKpwg%3D%3D&trackingId=I1aw2KXbkH50WmRCQIEGYA%3D%3D&position=5&pageNum=18&trk=public_jobs_jserp-result_search-card',\n",
       " 'https://ar.linkedin.com/jobs/view/analista-de-control-de-gestion-rrhh-at-grupo-libertad-3675836446?refId=jErn8%2BfFD1BgYbXWlAKpwg%3D%3D&trackingId=W3YwwKKgsmREVDMscMqIAg%3D%3D&position=6&pageNum=18&trk=public_jobs_jserp-result_search-card',\n",
       " 'https://ar.linkedin.com/jobs/view/consultor-a-senior-transaction-services-at-deloitte-3702563757?refId=jErn8%2BfFD1BgYbXWlAKpwg%3D%3D&trackingId=2TqD4%2FPxQtMyixCdWmXaqQ%3D%3D&position=7&pageNum=18&trk=public_jobs_jserp-result_search-card',\n",
       " 'https://ar.linkedin.com/jobs/view/analista-de-log%C3%ADstica-hb4-at-rizobacter-3675838876?refId=jErn8%2BfFD1BgYbXWlAKpwg%3D%3D&trackingId=UqsU6MDfHgTtxr%2BTxYnvdQ%3D%3D&position=8&pageNum=18&trk=public_jobs_jserp-result_search-card',\n",
       " 'https://ar.linkedin.com/jobs/view/consultor-de-sap-sd-at-infosys-consulting-3699215055?refId=jErn8%2BfFD1BgYbXWlAKpwg%3D%3D&trackingId=cUhHmn3tQPSJBb9EkrreAg%3D%3D&position=9&pageNum=18&trk=public_jobs_jserp-result_search-card',\n",
       " 'https://ar.linkedin.com/jobs/view/analista-funcional-business-analyst-senior-at-itps-one-3679062231?refId=jErn8%2BfFD1BgYbXWlAKpwg%3D%3D&trackingId=SB1V1IKmxfMGxCjT9lpRGw%3D%3D&position=10&pageNum=18&trk=public_jobs_jserp-result_search-card',\n",
       " 'https://ar.linkedin.com/jobs/view/%231100-analista-desarrollador-vb6-sql-pl-sql-sr-at-vates-software-3696197821?refId=jErn8%2BfFD1BgYbXWlAKpwg%3D%3D&trackingId=YUiO1iNsVJ5RhCeY6PScow%3D%3D&position=11&pageNum=18&trk=public_jobs_jserp-result_search-card',\n",
       " 'https://ar.linkedin.com/jobs/view/consultor-a-senior-sap-fi-at-deloitte-3682795606?refId=jErn8%2BfFD1BgYbXWlAKpwg%3D%3D&trackingId=Bk%2B8wUT3Ua58KvUfJc1guA%3D%3D&position=12&pageNum=18&trk=public_jobs_jserp-result_search-card',\n",
       " 'https://ar.linkedin.com/jobs/view/gerencia-de-cumplimiento-de-sitio-at-newmont-corporation-3698288333?refId=jErn8%2BfFD1BgYbXWlAKpwg%3D%3D&trackingId=GTcmQl2ENAhR43BpBn0FCw%3D%3D&position=13&pageNum=18&trk=public_jobs_jserp-result_search-card',\n",
       " 'https://ar.linkedin.com/jobs/view/analista-de-administracio%CC%81n-de-personal-grupo-meditel-at-grupo-meditel-3696487493?refId=jErn8%2BfFD1BgYbXWlAKpwg%3D%3D&trackingId=t1X7nY1NuhLKTORJmBnKTw%3D%3D&position=14&pageNum=18&trk=public_jobs_jserp-result_search-card',\n",
       " 'https://ar.linkedin.com/jobs/view/arquitecto-sr-del-coe-de-anal%C3%ADtica-de-datos-e-ia-at-ra%C3%ADzen-argentina-3632034523?refId=jErn8%2BfFD1BgYbXWlAKpwg%3D%3D&trackingId=4eSWYcu5UkLB4ho1vmK1uQ%3D%3D&position=15&pageNum=18&trk=public_jobs_jserp-result_search-card',\n",
       " 'https://ar.linkedin.com/jobs/view/cyber-intelligence-analyst-strategic-industry-analysis-cmt-sector-at-accenture-argentina-3657390384?refId=jErn8%2BfFD1BgYbXWlAKpwg%3D%3D&trackingId=eTXj9%2BHfb98u2uHJFEsfVg%3D%3D&position=16&pageNum=18&trk=public_jobs_jserp-result_search-card',\n",
       " 'https://ar.linkedin.com/jobs/view/analista-de-control-de-gesti%C3%B3n-para-zona-de-pilar-at-de-elizalde-gesti%C3%B3n-del-talento-3675805835?refId=jErn8%2BfFD1BgYbXWlAKpwg%3D%3D&trackingId=0Hosz1PsJRqxqkalTnKBHQ%3D%3D&position=17&pageNum=18&trk=public_jobs_jserp-result_search-card',\n",
       " 'https://ar.linkedin.com/jobs/view/analista-de-trade-marketing-at-grupo-familia-3675836412?refId=jErn8%2BfFD1BgYbXWlAKpwg%3D%3D&trackingId=ZDDEtJtcVYqVL0%2BNBB7MXg%3D%3D&position=18&pageNum=18&trk=public_jobs_jserp-result_search-card',\n",
       " 'https://ar.linkedin.com/jobs/view/performance-re-marketing-sr-at-alprestamo-3696022813?refId=jErn8%2BfFD1BgYbXWlAKpwg%3D%3D&trackingId=ZWM1640k4inHenb3vadyWQ%3D%3D&position=19&pageNum=18&trk=public_jobs_jserp-result_search-card',\n",
       " 'https://ar.linkedin.com/jobs/view/analista-de-procesos-at-continuum-global-solutions-3703249542?refId=jErn8%2BfFD1BgYbXWlAKpwg%3D%3D&trackingId=eR4A%2BQUADFtAQy39MTlAnA%3D%3D&position=20&pageNum=18&trk=public_jobs_jserp-result_search-card',\n",
       " 'https://ar.linkedin.com/jobs/view/analista-de-administraci%C3%B3n-de-recursos-humanos-at-grupo-metropol-3675839707?refId=jErn8%2BfFD1BgYbXWlAKpwg%3D%3D&trackingId=zSKbP94NKiwSa5JLwWZASQ%3D%3D&position=21&pageNum=18&trk=public_jobs_jserp-result_search-card',\n",
       " 'https://ar.linkedin.com/jobs/view/community-manager-c-estrategia-en-comercializacio%CC%81n-at-mj-consulting-rrhh-3696476905?refId=jErn8%2BfFD1BgYbXWlAKpwg%3D%3D&trackingId=Y%2Bmf8%2F%2FGAccJ4yYJ%2BPyzbQ%3D%3D&position=22&pageNum=18&trk=public_jobs_jserp-result_search-card',\n",
       " 'https://ar.linkedin.com/jobs/view/auditor-a-interno-sr-at-ase-obra-social-3675851198?refId=jErn8%2BfFD1BgYbXWlAKpwg%3D%3D&trackingId=CU3fI4D6pn9XurK3IY%2BX3g%3D%3D&position=23&pageNum=18&trk=public_jobs_jserp-result_search-card',\n",
       " 'https://ar.linkedin.com/jobs/view/analista-de-gesti%C3%B3n-rrhh-temporal-at-softys-3670340754?refId=jErn8%2BfFD1BgYbXWlAKpwg%3D%3D&trackingId=cehFaMsOy4EEWA4JtEqgjw%3D%3D&position=24&pageNum=18&trk=public_jobs_jserp-result_search-card',\n",
       " 'https://ar.linkedin.com/jobs/view/responsable-de-calidad-operativa-at-andreani-grupo-log%C3%ADstico-3664947136?refId=jErn8%2BfFD1BgYbXWlAKpwg%3D%3D&trackingId=%2BmZc827kNkH8h42QgGu7%2BA%3D%3D&position=25&pageNum=18&trk=public_jobs_jserp-result_search-card',\n",
       " 'https://ar.linkedin.com/jobs/view/analista-de-gesti%C3%B3n-de-informaci%C3%B3n-prestacional-senior-at-sci-comunidad-3675847199?refId=Pso%2F0xC87YNnogCoT69UDQ%3D%3D&trackingId=hcgmfioZ3czJG2r64Po5nQ%3D%3D&position=1&pageNum=19&trk=public_jobs_jserp-result_search-card',\n",
       " 'https://ar.linkedin.com/jobs/view/analista-jr-de-gesti%C3%B3n-de-mantenimiento-at-idoneus-3689137462?refId=Pso%2F0xC87YNnogCoT69UDQ%3D%3D&trackingId=2RB3ZooLS4Ilmg47Rn0Eiw%3D%3D&position=2&pageNum=19&trk=public_jobs_jserp-result_search-card',\n",
       " 'https://ar.linkedin.com/jobs/view/business-analyst-funcional-%2B-proyect-manager-ssr-sr-at-empleos-it-argentina-3673836267?refId=Pso%2F0xC87YNnogCoT69UDQ%3D%3D&trackingId=WfTmWdE%2BZiFxhF%2B%2BxkVIPA%3D%3D&position=4&pageNum=19&trk=public_jobs_jserp-result_search-card',\n",
       " 'https://ar.linkedin.com/jobs/view/head-of-marketing-at-prisma-3688924979?refId=Pso%2F0xC87YNnogCoT69UDQ%3D%3D&trackingId=31BzVpmnaJLWr2gW1qlGZQ%3D%3D&position=5&pageNum=19&trk=public_jobs_jserp-result_search-card',\n",
       " 'https://ar.linkedin.com/jobs/view/quality-analyst-ssr-at-voolkia-software-services-3697418065?refId=Pso%2F0xC87YNnogCoT69UDQ%3D%3D&trackingId=te0pfk1GblFSWhxjBl1OKw%3D%3D&position=6&pageNum=19&trk=public_jobs_jserp-result_search-card',\n",
       " 'https://ar.linkedin.com/jobs/view/analista-de-administraci%C3%B3n-de-ventas-gba-norte-at-beinst-3675848579?refId=Pso%2F0xC87YNnogCoT69UDQ%3D%3D&trackingId=oM1AcC9M10YSZ%2BGZKJxjGQ%3D%3D&position=7&pageNum=19&trk=public_jobs_jserp-result_search-card',\n",
       " 'https://ar.linkedin.com/jobs/view/329be-analista-en-marketing-maquinaria-pesada-mineri%CC%81a-oi%CC%81l-gas-energi%CC%81as-renovables-presencial-at-cona-consultores-3696475460?refId=Pso%2F0xC87YNnogCoT69UDQ%3D%3D&trackingId=%2BBi4ET7Q7ph6RL3Op0rIsA%3D%3D&position=8&pageNum=19&trk=public_jobs_jserp-result_search-card',\n",
       " 'https://ar.linkedin.com/jobs/view/importante-empresa-del-rubro-salud-busca-incorporar-ejecutivo-de-ventas-at-indigo-consulting-s-a-3696483084?refId=Pso%2F0xC87YNnogCoT69UDQ%3D%3D&trackingId=J3SkOf8cJ6Z6E%2BNhcwSXIg%3D%3D&position=9&pageNum=19&trk=public_jobs_jserp-result_search-card',\n",
       " 'https://ar.linkedin.com/jobs/view/analista-de-operaciones-log%C3%ADsticas-contador-at-randstad-argentina-3689435579?refId=Pso%2F0xC87YNnogCoT69UDQ%3D%3D&trackingId=zarXqbnZW5Gbm%2BAJbA11ig%3D%3D&position=10&pageNum=19&trk=public_jobs_jserp-result_search-card',\n",
       " 'https://ar.linkedin.com/jobs/view/%E2%80%9Csupervisor-de-franquicias%E2%80%9D-at-springwall-3657067773?refId=Pso%2F0xC87YNnogCoT69UDQ%3D%3D&trackingId=W9ImLx88eKRlrzV0hCuwuA%3D%3D&position=12&pageNum=19&trk=public_jobs_jserp-result_search-card',\n",
       " 'https://ar.linkedin.com/jobs/view/l%C3%ADder-funcional-at-experis-argentina-3695030579?refId=Pso%2F0xC87YNnogCoT69UDQ%3D%3D&trackingId=jwqOZ5GECTL0%2B5eliXPg4A%3D%3D&position=13&pageNum=19&trk=public_jobs_jserp-result_search-card',\n",
       " 'https://ar.linkedin.com/jobs/view/analista-sr-de-marketing-digital-at-houston-management-hr-3684016204?refId=Pso%2F0xC87YNnogCoT69UDQ%3D%3D&trackingId=1QbPVn1S09TnNqajcz%2BYig%3D%3D&position=14&pageNum=19&trk=public_jobs_jserp-result_search-card',\n",
       " 'https://ar.linkedin.com/jobs/view/business-analyst-sr-ref-222-23-at-ecosistemas-3684797882?refId=Pso%2F0xC87YNnogCoT69UDQ%3D%3D&trackingId=aTBFBZ1DEdhRvmiWXwU4kQ%3D%3D&position=15&pageNum=19&trk=public_jobs_jserp-result_search-card',\n",
       " 'https://ar.linkedin.com/jobs/view/business-analyst-ba-at-media-monks-3671408728?refId=Pso%2F0xC87YNnogCoT69UDQ%3D%3D&trackingId=O9Doy60xvn4wmN%2F4ABQFdQ%3D%3D&position=17&pageNum=19&trk=public_jobs_jserp-result_search-card',\n",
       " 'https://ar.linkedin.com/jobs/view/analista-de-cierre-de-negocios-at-sci-comunidad-3675845604?refId=Pso%2F0xC87YNnogCoT69UDQ%3D%3D&trackingId=WL56L3Q1%2F8AJ8JHZ0c0RXA%3D%3D&position=19&pageNum=19&trk=public_jobs_jserp-result_search-card',\n",
       " 'https://ar.linkedin.com/jobs/view/analista-en-operaciones-y-aplicaciones-de-seguridad-ssr-at-concentrix-catalyst-3692572942?refId=Pso%2F0xC87YNnogCoT69UDQ%3D%3D&trackingId=ZvuvvXPV61w8jaTWCMZVTg%3D%3D&position=20&pageNum=19&trk=public_jobs_jserp-result_search-card',\n",
       " 'https://ar.linkedin.com/jobs/view/analista-de-operaciones-planta-capdeville-mendoza-at-holcim-argentina-3643870797?refId=Pso%2F0xC87YNnogCoT69UDQ%3D%3D&trackingId=UOp9c%2FltunZMnEn%2F3ovZOA%3D%3D&position=22&pageNum=19&trk=public_jobs_jserp-result_search-card',\n",
       " 'https://ar.linkedin.com/jobs/view/management-consulting-analyst-advance-customer-engagement-at-accenture-argentina-3698533527?refId=Pso%2F0xC87YNnogCoT69UDQ%3D%3D&trackingId=Om48uXwdVUo2YcYOEhikZw%3D%3D&position=23&pageNum=19&trk=public_jobs_jserp-result_search-card',\n",
       " 'https://ar.linkedin.com/jobs/view/tms-operations-analyst-classification-at-ups-3673187944?refId=Pso%2F0xC87YNnogCoT69UDQ%3D%3D&trackingId=v7oQIi9ohMRkPuDEdxV0Gw%3D%3D&position=24&pageNum=19&trk=public_jobs_jserp-result_search-card',\n",
       " 'https://ar.linkedin.com/jobs/view/analista-gesti%C3%B3n-del-cambio-eventual-at-inspired-way-3675833791?refId=Pso%2F0xC87YNnogCoT69UDQ%3D%3D&trackingId=xBFp5EBSE4ZNC%2BS4I7BqCA%3D%3D&position=25&pageNum=19&trk=public_jobs_jserp-result_search-card',\n",
       " 'https://ar.linkedin.com/jobs/view/contador-jr-controller-para-at-poncio-3696477083?refId=OAIAcYxa5J7A8l3wHx8nnw%3D%3D&trackingId=xONeZWIJhFhX5d5dG3N%2FXg%3D%3D&position=1&pageNum=20&trk=public_jobs_jserp-result_search-card',\n",
       " 'https://ar.linkedin.com/jobs/view/gestor-a-at-icars-3696491006?refId=OAIAcYxa5J7A8l3wHx8nnw%3D%3D&trackingId=lxOzS0L6xKmeKe%2BZ%2BI5cMg%3D%3D&position=2&pageNum=20&trk=public_jobs_jserp-result_search-card',\n",
       " 'https://ar.linkedin.com/jobs/view/influecer-marketing-executive-at-grupo-abans-3687473911?refId=OAIAcYxa5J7A8l3wHx8nnw%3D%3D&trackingId=tmaOzddiANCY9SbwyOyfUA%3D%3D&position=3&pageNum=20&trk=public_jobs_jserp-result_search-card',\n",
       " 'https://ar.linkedin.com/jobs/view/gestor-a-para-importante-grupo-de-concesionarios-oficiales-at-icars-3696488138?refId=OAIAcYxa5J7A8l3wHx8nnw%3D%3D&trackingId=tIK7rvRZntm1RkGilmdqnA%3D%3D&position=4&pageNum=20&trk=public_jobs_jserp-result_search-card',\n",
       " 'https://ar.linkedin.com/jobs/view/rrhh-analista-de-gesti%C3%B3n-para-planta-baradero-at-bumeran-selecta-per%C3%BA-3675838814?refId=OAIAcYxa5J7A8l3wHx8nnw%3D%3D&trackingId=fJRSFb8xCXwXG1K3hXd4bg%3D%3D&position=6&pageNum=20&trk=public_jobs_jserp-result_search-card',\n",
       " 'https://ar.linkedin.com/jobs/view/analista-t%C3%A9cnico-funcional-sr-bi-at-michael-page-3575868619?refId=OAIAcYxa5J7A8l3wHx8nnw%3D%3D&trackingId=qk4nn%2F4uBOOC8rw%2Fdy2oQg%3D%3D&position=7&pageNum=20&trk=public_jobs_jserp-result_search-card',\n",
       " 'https://ar.linkedin.com/jobs/view/analista-de-control-de-gestion-semi-senior-para-empresa-at-consejo-profesional-de-ciencias-econ%C3%B3micas-de-la-ciudad-aut%C3%B3noma-de-buenos-aires-3664092559?refId=OAIAcYxa5J7A8l3wHx8nnw%3D%3D&trackingId=vtVCN5n%2F3AAMmSQCYEGCoQ%3D%3D&position=9&pageNum=20&trk=public_jobs_jserp-result_search-card',\n",
       " 'https://ar.linkedin.com/jobs/view/erp-development-specialist-at-despegar-3700458949?refId=OAIAcYxa5J7A8l3wHx8nnw%3D%3D&trackingId=owm1qOpFFtIfnvdm%2B0QvdQ%3D%3D&position=10&pageNum=20&trk=public_jobs_jserp-result_search-card',\n",
       " 'https://ar.linkedin.com/jobs/view/jefe-de-producto-at-dp-consultores-3675839872?refId=OAIAcYxa5J7A8l3wHx8nnw%3D%3D&trackingId=u1n0oKcvjmwdPJCIywzxoQ%3D%3D&position=11&pageNum=20&trk=public_jobs_jserp-result_search-card',\n",
       " 'https://ar.linkedin.com/jobs/view/analista-de-control-de-gesti%C3%B3n-y-contabilidad-para-agroindustria-at-consejo-profesional-de-ciencias-econ%C3%B3micas-de-la-ciudad-aut%C3%B3noma-de-buenos-aires-3672782722?refId=OAIAcYxa5J7A8l3wHx8nnw%3D%3D&trackingId=Gwehn3NwyJFuS%2B4X6BdVJw%3D%3D&position=12&pageNum=20&trk=public_jobs_jserp-result_search-card',\n",
       " 'https://ar.linkedin.com/jobs/view/analista-operaciones-wyndham-at-aadesa-hotel-management-3675836661?refId=OAIAcYxa5J7A8l3wHx8nnw%3D%3D&trackingId=VQdUfuz4lGKwzzig6AcmAQ%3D%3D&position=13&pageNum=20&trk=public_jobs_jserp-result_search-card',\n",
       " 'https://ar.linkedin.com/jobs/view/ejecutivo-de-cuentas-seo-at-bullmetrix-3675837337?refId=OAIAcYxa5J7A8l3wHx8nnw%3D%3D&trackingId=YL0HkWz8gdvI9hfzDwGGsw%3D%3D&position=14&pageNum=20&trk=public_jobs_jserp-result_search-card',\n",
       " 'https://ar.linkedin.com/jobs/view/data-analytics-associate-manager-at-accenture-argentina-3660472228?refId=OAIAcYxa5J7A8l3wHx8nnw%3D%3D&trackingId=RMPjfXIfbWIBuq3FTrLn7g%3D%3D&position=15&pageNum=20&trk=public_jobs_jserp-result_search-card',\n",
       " 'https://ar.linkedin.com/jobs/view/especialista-en-hidrolog%C3%ADa-at-the-nature-conservancy-tnc-3690912594?refId=OAIAcYxa5J7A8l3wHx8nnw%3D%3D&trackingId=c5G9mat1iRRv9HB%2BIeveow%3D%3D&position=16&pageNum=20&trk=public_jobs_jserp-result_search-card',\n",
       " 'https://ar.linkedin.com/jobs/view/analista-senior-de-seguridad-de-procesos-calidad-operadora-gas-y-petro%CC%81leo-at-estudio-sanchez-salas-consultora-rr-hh-3696480026?refId=OAIAcYxa5J7A8l3wHx8nnw%3D%3D&trackingId=G80tof4Y%2BSVairvV1V1Xnw%3D%3D&position=17&pageNum=20&trk=public_jobs_jserp-result_search-card',\n",
       " 'https://ar.linkedin.com/jobs/view/ingeniero-sr-en-vibraciones-at-allkem-limited-3682646394?refId=OAIAcYxa5J7A8l3wHx8nnw%3D%3D&trackingId=VxOp%2FCkj%2Fhmoy9bPOWJZtA%3D%3D&position=19&pageNum=20&trk=public_jobs_jserp-result_search-card',\n",
       " 'https://ar.linkedin.com/jobs/view/analista-it-gestio%CC%81n-de-activos-san-nicolas-de-los-arroyos-pcia-bs-as-at-yel-solutions-3696490161?refId=OAIAcYxa5J7A8l3wHx8nnw%3D%3D&trackingId=rsNL1ElvCF8oL7Af7SuMGA%3D%3D&position=20&pageNum=20&trk=public_jobs_jserp-result_search-card',\n",
       " 'https://ar.linkedin.com/jobs/view/analista-ssr-de-administraci%C3%B3n-de-producci%C3%B3n-campo-at-b-b-consultores-3675846829?refId=OAIAcYxa5J7A8l3wHx8nnw%3D%3D&trackingId=nMjM82GzQynaEbR6VKMpyg%3D%3D&position=21&pageNum=20&trk=public_jobs_jserp-result_search-card',\n",
       " 'https://ar.linkedin.com/jobs/view/data-engineer-ssr-sr-at-coa-tecnolog%C3%ADa-3675851124?refId=OAIAcYxa5J7A8l3wHx8nnw%3D%3D&trackingId=KN0PyAwZtIO%2BWDHaERWQgQ%3D%3D&position=22&pageNum=20&trk=public_jobs_jserp-result_search-card',\n",
       " 'https://ar.linkedin.com/jobs/view/arquitecto-de-datos-at-michael-page-3688496898?refId=OAIAcYxa5J7A8l3wHx8nnw%3D%3D&trackingId=M0RfrurBJoDIPcQymr1zSA%3D%3D&position=23&pageNum=20&trk=public_jobs_jserp-result_search-card',\n",
       " 'https://ar.linkedin.com/jobs/view/analista-de-negocios-digitales-at-sinteplast-3681942822?refId=OAIAcYxa5J7A8l3wHx8nnw%3D%3D&trackingId=azrt8jlDML6xhvXXIU4wZQ%3D%3D&position=25&pageNum=20&trk=public_jobs_jserp-result_search-card',\n",
       " 'https://ar.linkedin.com/jobs/view/analista-de-negocios-digitales-at-sinteplast-3681942822?refId=UF4oTiekhjE7A0xM9ExGRg%3D%3D&trackingId=xfoH8CzHvwaRjKzVRFJB5w%3D%3D&position=1&pageNum=21&trk=public_jobs_jserp-result_search-card',\n",
       " 'https://ar.linkedin.com/jobs/view/analista-en-gesti%C3%B3n-del-mantenimiento-at-slc-recursos-humanos-3672932840?refId=UF4oTiekhjE7A0xM9ExGRg%3D%3D&trackingId=NkxFicaSPRx0bXnu%2F6a5uA%3D%3D&position=2&pageNum=21&trk=public_jobs_jserp-result_search-card',\n",
       " 'https://ar.linkedin.com/jobs/view/business-inteligence-at-aiesec-en-argentina-3693008485?refId=UF4oTiekhjE7A0xM9ExGRg%3D%3D&trackingId=tR2YDYLxggfGBSkuHc%2Fhzw%3D%3D&position=3&pageNum=21&trk=public_jobs_jserp-result_search-card',\n",
       " 'https://ar.linkedin.com/jobs/view/ejecutivo-comercial-req159923-at-manpower-argentina-3700879113?refId=UF4oTiekhjE7A0xM9ExGRg%3D%3D&trackingId=%2FU%2Bt1ygey6cJ2LkAXDro8w%3D%3D&position=4&pageNum=21&trk=public_jobs_jserp-result_search-card',\n",
       " 'https://ar.linkedin.com/jobs/view/ad-ops-analyst-at-dentsu-3599412292?refId=UF4oTiekhjE7A0xM9ExGRg%3D%3D&trackingId=J4aIcReOntVkiB6EYMzyTQ%3D%3D&position=5&pageNum=21&trk=public_jobs_jserp-result_search-card',\n",
       " 'https://ar.linkedin.com/jobs/view/analista-de-administraci%C3%B3n-de-ventas-at-slc-recursos-humanos-3675838808?refId=UF4oTiekhjE7A0xM9ExGRg%3D%3D&trackingId=HDwumoclU5z%2BGrK54Ir5Qg%3D%3D&position=6&pageNum=21&trk=public_jobs_jserp-result_search-card',\n",
       " 'https://ar.linkedin.com/jobs/view/analista-calidad-semi-senior-at-sanatorio-del-oeste-3686365062?refId=UF4oTiekhjE7A0xM9ExGRg%3D%3D&trackingId=zGYpo0VxJYc%2BYVTnPA05hQ%3D%3D&position=7&pageNum=21&trk=public_jobs_jserp-result_search-card',\n",
       " 'https://ar.linkedin.com/jobs/view/analista-de-remarketing-y-fidelizaci%C3%B3n-de-cliente-at-car-one-3680816455?refId=UF4oTiekhjE7A0xM9ExGRg%3D%3D&trackingId=CZYYNMLTw0uIeac5z9zwBw%3D%3D&position=9&pageNum=21&trk=public_jobs_jserp-result_search-card',\n",
       " 'https://ar.linkedin.com/jobs/view/analista-de-control-de-gesti%C3%B3n-at-cerolini-ferrari-abogados-3675837557?refId=UF4oTiekhjE7A0xM9ExGRg%3D%3D&trackingId=rzXU1F7sUM29YtoPQnZ%2BxQ%3D%3D&position=10&pageNum=21&trk=public_jobs_jserp-result_search-card',\n",
       " 'https://ar.linkedin.com/jobs/view/analista-de-comunicaci%C3%B3n-y-marketing-at-grupo-metropol-3674025955?refId=UF4oTiekhjE7A0xM9ExGRg%3D%3D&trackingId=0iy2aq%2F0LqoU8emZ6dmRxQ%3D%3D&position=13&pageNum=21&trk=public_jobs_jserp-result_search-card',\n",
       " 'https://ar.linkedin.com/jobs/view/analista-de-procesos-at-continuum-global-solutions-3703296890?refId=UF4oTiekhjE7A0xM9ExGRg%3D%3D&trackingId=T01v4S8VKmmWGL8MyVumIg%3D%3D&position=14&pageNum=21&trk=public_jobs_jserp-result_search-card',\n",
       " 'https://ar.linkedin.com/jobs/view/rrhh-analista-de-gesti%C3%B3n-para-planta-chacabuco-at-bumeran-selecta-per%C3%BA-3675841213?refId=UF4oTiekhjE7A0xM9ExGRg%3D%3D&trackingId=EtUf8yChXf7QnmVJnq%2BWKQ%3D%3D&position=15&pageNum=21&trk=public_jobs_jserp-result_search-card',\n",
       " 'https://ar.linkedin.com/jobs/view/retail-manager-at-l-or%C3%A9al-3689787771?refId=UF4oTiekhjE7A0xM9ExGRg%3D%3D&trackingId=%2FI64BM57997hrn%2B8pzFouw%3D%3D&position=16&pageNum=21&trk=public_jobs_jserp-result_search-card',\n",
       " 'https://ar.linkedin.com/jobs/view/jefe-en-seguridad-de-la-informaci%C3%B3n-at-bumeran-selecta-3675847587?refId=UF4oTiekhjE7A0xM9ExGRg%3D%3D&trackingId=Yra%2FZNX2TP321q2C6F409A%3D%3D&position=17&pageNum=21&trk=public_jobs_jserp-result_search-card',\n",
       " 'https://ar.linkedin.com/jobs/view/jefe-de-costos-y-presupuestos-at-food-service-3696483635?refId=UF4oTiekhjE7A0xM9ExGRg%3D%3D&trackingId=IgE7O%2BluBdbxqIIVWdsgfQ%3D%3D&position=18&pageNum=21&trk=public_jobs_jserp-result_search-card',\n",
       " 'https://ar.linkedin.com/jobs/view/business-assurance-manager-at-michael-page-3659351000?refId=UF4oTiekhjE7A0xM9ExGRg%3D%3D&trackingId=KXwrz3bSwQ8qteBJtz%2Bf9Q%3D%3D&position=19&pageNum=21&trk=public_jobs_jserp-result_search-card',\n",
       " 'https://ar.linkedin.com/jobs/view/management-consulting-analyst-advance-customer-engagement-at-accenture-argentina-3698536081?refId=UF4oTiekhjE7A0xM9ExGRg%3D%3D&trackingId=u3zm3mBsFcUwJqBUaTPVfg%3D%3D&position=20&pageNum=21&trk=public_jobs_jserp-result_search-card',\n",
       " 'https://ar.linkedin.com/jobs/view/tms-operations-analyst-solicitation-at-ups-3673187687?refId=UF4oTiekhjE7A0xM9ExGRg%3D%3D&trackingId=kTRa4sSCTqASbVrXtp0tGQ%3D%3D&position=21&pageNum=21&trk=public_jobs_jserp-result_search-card',\n",
       " 'https://ar.linkedin.com/jobs/view/ejecutivo-de-cuentas-at-restaurant-old-skool-3696491233?refId=UF4oTiekhjE7A0xM9ExGRg%3D%3D&trackingId=OmJ8X1qxSUkf3zXELF%2Fl9w%3D%3D&position=22&pageNum=21&trk=public_jobs_jserp-result_search-card',\n",
       " 'https://ar.linkedin.com/jobs/view/consultor-crm-ssr-sr-belgrano-id-131-at-educacionit-3679320209?refId=UF4oTiekhjE7A0xM9ExGRg%3D%3D&trackingId=%2BgnNT5EWfPEImseuDCyJDA%3D%3D&position=23&pageNum=21&trk=public_jobs_jserp-result_search-card',\n",
       " 'https://ar.linkedin.com/jobs/view/hr-advisor-administraci%C3%B3n-de-personal-at-human-consulting-3675850717?refId=UF4oTiekhjE7A0xM9ExGRg%3D%3D&trackingId=SKJHSBuzn4v67gflYPiQlw%3D%3D&position=24&pageNum=21&trk=public_jobs_jserp-result_search-card',\n",
       " 'https://ar.linkedin.com/jobs/view/consultor-a-sap-basis-at-process-technologies-3675850336?refId=UF4oTiekhjE7A0xM9ExGRg%3D%3D&trackingId=bUhx263g35AiemV52KljZg%3D%3D&position=25&pageNum=21&trk=public_jobs_jserp-result_search-card',\n",
       " 'https://ar.linkedin.com/jobs/view/arquitecto-sr-de-datos-at-zeo-consulting-3675844112?refId=Qhn8N4Np1tWtLQFcnWj%2BXg%3D%3D&trackingId=K7EjEUAtCWRe3p%2BUMT7X8A%3D%3D&position=1&pageNum=22&trk=public_jobs_jserp-result_search-card',\n",
       " 'https://ar.linkedin.com/jobs/view/especialista-en-gestio%CC%81n-de-informacio%CC%81n-y-tecnologi%CC%81a-microsoft-sharepoint-operadora-de-gas-y-petroleo-at-estudio-sanchez-salas-consultora-rr-hh-3696476890?refId=Qhn8N4Np1tWtLQFcnWj%2BXg%3D%3D&trackingId=NWqmsXkWtWAXOLQxM5CkJQ%3D%3D&position=2&pageNum=22&trk=public_jobs_jserp-result_search-card',\n",
       " 'https://ar.linkedin.com/jobs/view/ad-ops-analyst-at-dentsu-3671076571?refId=Qhn8N4Np1tWtLQFcnWj%2BXg%3D%3D&trackingId=RUsTre0eHa21CXPTComx6w%3D%3D&position=3&pageNum=22&trk=public_jobs_jserp-result_search-card',\n",
       " 'https://ar.linkedin.com/jobs/view/gerente-de-marketing-digital-at-acento-consultor%C3%ADa-%23culturasqueevolucionan-3696485788?refId=Qhn8N4Np1tWtLQFcnWj%2BXg%3D%3D&trackingId=Y1Www5MhSoYS2Y9CNatI2Q%3D%3D&position=4&pageNum=22&trk=public_jobs_jserp-result_search-card',\n",
       " 'https://ar.linkedin.com/jobs/view/analista-control-de-gesti%C3%B3n-hotelera-at-startia-consultores-3675837843?refId=Qhn8N4Np1tWtLQFcnWj%2BXg%3D%3D&trackingId=CCuNODLJIXexaVzOBLWjFg%3D%3D&position=5&pageNum=22&trk=public_jobs_jserp-result_search-card',\n",
       " 'https://ar.linkedin.com/jobs/view/analista-de-administracion-de-recursos-humanos-at-esentia-recursos-humanos-3675837423?refId=Qhn8N4Np1tWtLQFcnWj%2BXg%3D%3D&trackingId=BK9LNWkKuyMB1xUzJXX0Mg%3D%3D&position=6&pageNum=22&trk=public_jobs_jserp-result_search-card',\n",
       " 'https://ar.linkedin.com/jobs/view/analista-de-gesti%C3%B3n-de-cobranzas-en-bah%C3%ADa-blanca-at-securitas-argentina-3689593130?refId=Qhn8N4Np1tWtLQFcnWj%2BXg%3D%3D&trackingId=Wpv9cv6wyXKqUHLq0ZSueQ%3D%3D&position=7&pageNum=22&trk=public_jobs_jserp-result_search-card',\n",
       " 'https://ar.linkedin.com/jobs/view/analista-de-proyectos-ti-orientado-a-zabbix-at-synchro-technologies-3696482701?refId=Qhn8N4Np1tWtLQFcnWj%2BXg%3D%3D&trackingId=uApquLE5lpTVrXnO2HFxDg%3D%3D&position=8&pageNum=22&trk=public_jobs_jserp-result_search-card',\n",
       " 'https://ar.linkedin.com/jobs/view/data-architect-at-dirmod-3657067787?refId=Qhn8N4Np1tWtLQFcnWj%2BXg%3D%3D&trackingId=7v5CoQDTuyniTSZv6E2WoQ%3D%3D&position=9&pageNum=22&trk=public_jobs_jserp-result_search-card',\n",
       " 'https://ar.linkedin.com/jobs/view/analista-de-gesti%C3%B3n-de-informaci%C3%B3n-prestacional-senior-copia-at-sci-comunidad-3675839718?refId=Qhn8N4Np1tWtLQFcnWj%2BXg%3D%3D&trackingId=iM%2B8fDPdvYuyRD4LePk1tA%3D%3D&position=10&pageNum=22&trk=public_jobs_jserp-result_search-card',\n",
       " 'https://ar.linkedin.com/jobs/view/auditor-de-sistemas-ssr-sector-bancario-at-bdo-argentina-3674030092?refId=Qhn8N4Np1tWtLQFcnWj%2BXg%3D%3D&trackingId=o2Ccjt4FLJN4lEMBBZiGNQ%3D%3D&position=11&pageNum=22&trk=public_jobs_jserp-result_search-card',\n",
       " 'https://ar.linkedin.com/jobs/view/gerente-de-ciberseguridad-ciso-at-it-hunter-international-3691618668?refId=Qhn8N4Np1tWtLQFcnWj%2BXg%3D%3D&trackingId=uZ7v0cLughB1Giw3Af3iEQ%3D%3D&position=12&pageNum=22&trk=public_jobs_jserp-result_search-card',\n",
       " 'https://ar.linkedin.com/jobs/view/jefe-de-ventas-at-steinhardt-3698220666?refId=Qhn8N4Np1tWtLQFcnWj%2BXg%3D%3D&trackingId=1y9i%2BFQP%2Fx5s0dQcnsQphw%3D%3D&position=13&pageNum=22&trk=public_jobs_jserp-result_search-card',\n",
       " 'https://ar.linkedin.com/jobs/view/regional-med-affairs-operations-analyst-at-boehringer-ingelheim-3690628514?refId=Qhn8N4Np1tWtLQFcnWj%2BXg%3D%3D&trackingId=xKX%2FXQ%2FF3VWwNXzgFC7smQ%3D%3D&position=14&pageNum=22&trk=public_jobs_jserp-result_search-card',\n",
       " 'https://ar.linkedin.com/jobs/view/importante-empresa-del-rubro-agri%CC%81cola-busca-analista-senior-operativo-at-indigo-consulting-s-a-3696487799?refId=Qhn8N4Np1tWtLQFcnWj%2BXg%3D%3D&trackingId=YWuP9SbTV%2Fl%2BLnETdiJf%2Bg%3D%3D&position=15&pageNum=22&trk=public_jobs_jserp-result_search-card',\n",
       " 'https://ar.linkedin.com/jobs/view/analista-funcional-sr-con-ingle%CC%81s-avanzado-importante-entidad-bancaria-martinez-at-c-s-3696484015?refId=Qhn8N4Np1tWtLQFcnWj%2BXg%3D%3D&trackingId=IZCa2uUTS5Db36CLKjsqvw%3D%3D&position=17&pageNum=22&trk=public_jobs_jserp-result_search-card',\n",
       " 'https://ar.linkedin.com/jobs/view/analista-funcional-sr-con-ingle%CC%81s-avanzado-importante-entidad-bancaria-martinez-at-c-s-3696481397?refId=Qhn8N4Np1tWtLQFcnWj%2BXg%3D%3D&trackingId=rxFYdYRcf5RH2FBmVdsG9w%3D%3D&position=18&pageNum=22&trk=public_jobs_jserp-result_search-card',\n",
       " 'https://ar.linkedin.com/jobs/view/analista-funcional-sr-con-ingle%CC%81s-avanzado-importante-entidad-bancaria-martinez-at-c-s-3696478858?refId=Qhn8N4Np1tWtLQFcnWj%2BXg%3D%3D&trackingId=lAh6XoYo6cyarFXyEqMAQQ%3D%3D&position=19&pageNum=22&trk=public_jobs_jserp-result_search-card',\n",
       " 'https://ar.linkedin.com/jobs/view/analista-funcional-sr-con-ingle%CC%81s-avanzado-importante-entidad-bancaria-martinez-at-c-s-3696476869?refId=Qhn8N4Np1tWtLQFcnWj%2BXg%3D%3D&trackingId=oh5uDGtY6eo9T2RdIY8Mpg%3D%3D&position=20&pageNum=22&trk=public_jobs_jserp-result_search-card',\n",
       " 'https://ar.linkedin.com/jobs/view/consultor-de-mantenimiento-y-confiabilidad-at-accenture-argentina-3609507516?refId=Qhn8N4Np1tWtLQFcnWj%2BXg%3D%3D&trackingId=9lk7oTLte5f2m6CwjzvsQA%3D%3D&position=21&pageNum=22&trk=public_jobs_jserp-result_search-card',\n",
       " 'https://ar.linkedin.com/jobs/view/analista-semi-senior-tms-at-nexo-group-3696481354?refId=Qhn8N4Np1tWtLQFcnWj%2BXg%3D%3D&trackingId=SwS7q2jX74FUf6l%2BmIqCeQ%3D%3D&position=23&pageNum=22&trk=public_jobs_jserp-result_search-card',\n",
       " 'https://ar.linkedin.com/jobs/view/jefe-de-ventas-pymes-y-comercios-at-emergencias-3665749706?refId=Qhn8N4Np1tWtLQFcnWj%2BXg%3D%3D&trackingId=SJbNIULqPbqGUtOlvhZngA%3D%3D&position=24&pageNum=22&trk=public_jobs_jserp-result_search-card',\n",
       " 'https://ar.linkedin.com/jobs/view/command-center-specialist-especialista-informa%CC%81tico-de-monitoreo-de-centro-de-co%CC%81mputos-l-a-v-de-13-a-22-hs-ref123-at-yel-solutions-3696475978?refId=Qhn8N4Np1tWtLQFcnWj%2BXg%3D%3D&trackingId=H9PgHSlArBnA2WWzOU58tg%3D%3D&position=25&pageNum=22&trk=public_jobs_jserp-result_search-card',\n",
       " 'https://ar.linkedin.com/jobs/view/customer-service-executive-at-michael-page-3664638586?refId=hiwohyGH4SilUm1AyCezIQ%3D%3D&trackingId=RYDOy5rH3%2B3Wau6%2FrE%2BIoQ%3D%3D&position=1&pageNum=23&trk=public_jobs_jserp-result_search-card',\n",
       " 'https://ar.linkedin.com/jobs/view/contador-analista-de-control-de-gestio%CC%81n-at-nexo-group-3696474798?refId=hiwohyGH4SilUm1AyCezIQ%3D%3D&trackingId=C3C51OpLP7BZ90iUZbIDIw%3D%3D&position=2&pageNum=23&trk=public_jobs_jserp-result_search-card',\n",
       " 'https://ar.linkedin.com/jobs/view/ejecutivo-de-cuentas-san-ignacio-at-bumeran-selecta-3675837927?refId=hiwohyGH4SilUm1AyCezIQ%3D%3D&trackingId=7R%2BDKfWpZICAPFU8e8gQeQ%3D%3D&position=3&pageNum=23&trk=public_jobs_jserp-result_search-card',\n",
       " 'https://ar.linkedin.com/jobs/view/analista-de-gesti%C3%B3n-de-mantenimiento-turnos-rotativos-at-idoneus-3691018079?refId=hiwohyGH4SilUm1AyCezIQ%3D%3D&trackingId=cvKlSxE8qYZxLL0Iwgp2Rg%3D%3D&position=4&pageNum=23&trk=public_jobs_jserp-result_search-card',\n",
       " 'https://ar.linkedin.com/jobs/view/analista-sr-de-research-essence-mediacom-at-suma-3-consultores-rrhh-3691501315?refId=hiwohyGH4SilUm1AyCezIQ%3D%3D&trackingId=VzscIuzIucmVNV0xrtP8Ug%3D%3D&position=5&pageNum=23&trk=public_jobs_jserp-result_search-card',\n",
       " 'https://ar.linkedin.com/jobs/view/analista-sr-de-operaciones-de-ciberseguridad-at-emergencias-3675841203?refId=hiwohyGH4SilUm1AyCezIQ%3D%3D&trackingId=PBSaL1TU0%2FnOsTbsTx0xcA%3D%3D&position=6&pageNum=23&trk=public_jobs_jserp-result_search-card',\n",
       " 'https://ar.linkedin.com/jobs/view/management-consulting-analyst-advance-customer-engagement-at-accenture-argentina-3698533516?refId=hiwohyGH4SilUm1AyCezIQ%3D%3D&trackingId=dqqaONeiVbtioCk85PL4zg%3D%3D&position=7&pageNum=23&trk=public_jobs_jserp-result_search-card',\n",
       " 'https://ar.linkedin.com/jobs/view/analista-de-administracio%CC%81n-de-obras-con-experiencia-at-pro-selection-capital-humano-3696478437?refId=hiwohyGH4SilUm1AyCezIQ%3D%3D&trackingId=vlYz5KpfOwk21KgPTqjTUQ%3D%3D&position=11&pageNum=23&trk=public_jobs_jserp-result_search-card',\n",
       " 'https://ar.linkedin.com/jobs/view/consultor-y-analista-funcional-de-aplicaciones-core-banking-at-unisys-3633543370?refId=hiwohyGH4SilUm1AyCezIQ%3D%3D&trackingId=ZdpqEKGA%2FT3fKFjP16x8EQ%3D%3D&position=12&pageNum=23&trk=public_jobs_jserp-result_search-card',\n",
       " 'https://ar.linkedin.com/jobs/view/analista-de-administraci%C3%B3n-del-personal-y-n%C3%B3mina-at-grupo-iraola-3659866627?refId=hiwohyGH4SilUm1AyCezIQ%3D%3D&trackingId=46B7bIb%2Fb0ey3xKkrls9Mw%3D%3D&position=13&pageNum=23&trk=public_jobs_jserp-result_search-card',\n",
       " 'https://ar.linkedin.com/jobs/view/business-resilience-analyst-at-accenture-argentina-3686012682?refId=hiwohyGH4SilUm1AyCezIQ%3D%3D&trackingId=CyRYE8VHqOG3nmwg19%2FIlA%3D%3D&position=14&pageNum=23&trk=public_jobs_jserp-result_search-card',\n",
       " 'https://ar.linkedin.com/jobs/view/analista-de-administracio%CC%81n-de-obras-senior-at-pro-selection-capital-humano-3696472880?refId=hiwohyGH4SilUm1AyCezIQ%3D%3D&trackingId=JR563gr9%2BiGcEN%2FoKQZTgg%3D%3D&position=15&pageNum=23&trk=public_jobs_jserp-result_search-card',\n",
       " 'https://ar.linkedin.com/jobs/view/management-consulting-analyst-advance-customer-engagement-at-accenture-argentina-3698530860?refId=hiwohyGH4SilUm1AyCezIQ%3D%3D&trackingId=i%2FKczFzUSEwYtqZDwEoFBA%3D%3D&position=17&pageNum=23&trk=public_jobs_jserp-result_search-card',\n",
       " 'https://ar.linkedin.com/jobs/view/analista-de-gesti%C3%B3n-de-mantenimiento-turnos-rotativos-renault-c%C3%B3rdoba-at-idoneus-3692686827?refId=hiwohyGH4SilUm1AyCezIQ%3D%3D&trackingId=%2Fr8HVu%2Fst8tH6K68kLT7%2Bg%3D%3D&position=18&pageNum=23&trk=public_jobs_jserp-result_search-card',\n",
       " 'https://ar.linkedin.com/jobs/view/automation-marketing-lead-at-centro-de-e-learning-utn-frba-3691831154?refId=hiwohyGH4SilUm1AyCezIQ%3D%3D&trackingId=v4u8UVvWEn0ggARRQIsNVA%3D%3D&position=19&pageNum=23&trk=public_jobs_jserp-result_search-card',\n",
       " 'https://ar.linkedin.com/jobs/view/ejecutivo-de-desarrollo-de-alianzas-latinoam%C3%A9rica-at-open-english-3616126590?refId=hiwohyGH4SilUm1AyCezIQ%3D%3D&trackingId=wqk5%2FudKZcCVuT96LVhluw%3D%3D&position=21&pageNum=23&trk=public_jobs_jserp-result_search-card',\n",
       " 'https://ar.linkedin.com/jobs/view/jefe-de-administracio%CC%81n-para-empresa-del-rubro-salud-dedicada-a-la-comercializacio%CC%81n-y-distribucio%CC%81n-de-equipos-me%CC%81dicos-de-mediana-y-alta-complejidad-at-nexo-group-3696480262?refId=hiwohyGH4SilUm1AyCezIQ%3D%3D&trackingId=rLdIkA0VYipxofidbWMw6Q%3D%3D&position=22&pageNum=23&trk=public_jobs_jserp-result_search-card',\n",
       " 'https://ar.linkedin.com/jobs/view/command-center-specialist-especialista-informa%CC%81tico-de-monitoreo-de-centro-de-co%CC%81mputos-sadofe-nocturno-21-a-09-am-ref121-at-yel-solutions-3696484263?refId=hiwohyGH4SilUm1AyCezIQ%3D%3D&trackingId=78d8BkW03VPjxe43RZwxfA%3D%3D&position=23&pageNum=23&trk=public_jobs_jserp-result_search-card',\n",
       " 'https://ar.linkedin.com/jobs/view/command-center-specialist-especialista-informa%CC%81tico-de-monitoreo-de-centro-de-co%CC%81mputos-sadofe-nocturno-21-a-09-am-ref121-at-yel-solutions-3696484108?refId=hiwohyGH4SilUm1AyCezIQ%3D%3D&trackingId=y0pu1x9UqFyVnuzI3XKkDg%3D%3D&position=24&pageNum=23&trk=public_jobs_jserp-result_search-card',\n",
       " 'https://ar.linkedin.com/jobs/view/analista-funcional-con-orientaci%C3%B3n-ux-remoto-at-cl-select-consultoria-en-rrhh-3675850705?refId=hiwohyGH4SilUm1AyCezIQ%3D%3D&trackingId=E6mptNTf585LBvGb%2Fbhz6w%3D%3D&position=25&pageNum=23&trk=public_jobs_jserp-result_search-card',\n",
       " 'https://ar.linkedin.com/jobs/view/gerente-de-activos-de-generacion-de-energia-pilar-at-expertise-consultores-3675841765?refId=ruMrNBmKjXtSVXd2EBZ%2FlA%3D%3D&trackingId=LETM5Pqd976uNW7lovJ4SQ%3D%3D&position=2&pageNum=24&trk=public_jobs_jserp-result_search-card',\n",
       " 'https://ar.linkedin.com/jobs/view/analista-senior-de-operaciones-de-ciberseguridad-at-penta-security-solutions-3682023306?refId=ruMrNBmKjXtSVXd2EBZ%2FlA%3D%3D&trackingId=yc19kLXBrKbfTVbhPZEttA%3D%3D&position=3&pageNum=24&trk=public_jobs_jserp-result_search-card',\n",
       " 'https://ar.linkedin.com/jobs/view/ejecutivo-de-ventas-at-grupo-myth-3678037720?refId=ruMrNBmKjXtSVXd2EBZ%2FlA%3D%3D&trackingId=WhbJuf4aEfgCcD49yMWDKg%3D%3D&position=4&pageNum=24&trk=public_jobs_jserp-result_search-card',\n",
       " 'https://ar.linkedin.com/jobs/view/contador-estudiante-avanzado-con-experiencia-at-nexo-group-3696482172?refId=ruMrNBmKjXtSVXd2EBZ%2FlA%3D%3D&trackingId=vcRs1MciRAqXfj4cuz8DDQ%3D%3D&position=5&pageNum=24&trk=public_jobs_jserp-result_search-card',\n",
       " 'https://ar.linkedin.com/jobs/view/analista-ssr-de-gesti%C3%B3n-de-rrhh-at-psa-industrias-pugliese-s-a-3700416418?refId=ruMrNBmKjXtSVXd2EBZ%2FlA%3D%3D&trackingId=CLdx1ts2DkMl%2Fj0f1Wyrew%3D%3D&position=6&pageNum=24&trk=public_jobs_jserp-result_search-card',\n",
       " 'https://ar.linkedin.com/jobs/view/human-capital-operations-analyst-us-client-at-pwc-argentina-3685773097?refId=ruMrNBmKjXtSVXd2EBZ%2FlA%3D%3D&trackingId=cLaSrJ3gHGj6vMYEzMEpDQ%3D%3D&position=7&pageNum=24&trk=public_jobs_jserp-result_search-card',\n",
       " 'https://ar.linkedin.com/jobs/view/analista-rrhh-ssr-empresa-de-servicios-funes-at-crowe-ar-3696485276?refId=ruMrNBmKjXtSVXd2EBZ%2FlA%3D%3D&trackingId=R9vX20CETfN2BMyNsrTkMA%3D%3D&position=9&pageNum=24&trk=public_jobs_jserp-result_search-card',\n",
       " 'https://ar.linkedin.com/jobs/view/total-rewards-sr-regional-analyst-at-michael-page-3688180567?refId=ruMrNBmKjXtSVXd2EBZ%2FlA%3D%3D&trackingId=C%2FauHyjUS9ErbU1rZPrAtw%3D%3D&position=10&pageNum=24&trk=public_jobs_jserp-result_search-card',\n",
       " 'https://ar.linkedin.com/jobs/view/supervisor-de-producci%C3%B3n-at-bumeran-selecta-3675837492?refId=ruMrNBmKjXtSVXd2EBZ%2FlA%3D%3D&trackingId=b84%2FbjdrIRSTJHQeWb8NNQ%3D%3D&position=11&pageNum=24&trk=public_jobs_jserp-result_search-card',\n",
       " 'https://ar.linkedin.com/jobs/view/analista-funcional-sr-on-site-at-aliantec-3692689330?refId=ruMrNBmKjXtSVXd2EBZ%2FlA%3D%3D&trackingId=iDQ99nhhC0QWKgZJkZKgfg%3D%3D&position=12&pageNum=24&trk=public_jobs_jserp-result_search-card',\n",
       " 'https://ar.linkedin.com/jobs/view/importante-institucion-de-salud-incorpora-bioqui%CC%81mico-de-guardia-at-sanatorio-de-la-ca%C3%B1ada-3696483142?refId=ruMrNBmKjXtSVXd2EBZ%2FlA%3D%3D&trackingId=M%2F9WNXA3KdbV1nCfPofWkg%3D%3D&position=16&pageNum=24&trk=public_jobs_jserp-result_search-card',\n",
       " 'https://ar.linkedin.com/jobs/view/consultor-sap-hana-datos-maestros-ssr-at-ibm-3648535143?refId=ruMrNBmKjXtSVXd2EBZ%2FlA%3D%3D&trackingId=suox8jLH%2BeJE19J9uZzU%2FA%3D%3D&position=18&pageNum=24&trk=public_jobs_jserp-result_search-card',\n",
       " 'https://ar.linkedin.com/jobs/view/command-center-specialist-especialista-informa%CC%81tico-de-monitoreo-de-centro-de-co%CC%81mputos-sadofe-nocturno-21-a-09-am-ref121-at-yel-solutions-3696484198?refId=ruMrNBmKjXtSVXd2EBZ%2FlA%3D%3D&trackingId=RZx0H4w9eUXrtm0jKLYrFw%3D%3D&position=19&pageNum=24&trk=public_jobs_jserp-result_search-card',\n",
       " 'https://ar.linkedin.com/jobs/view/command-center-specialist-especialista-informa%CC%81tico-de-monitoreo-de-centro-de-co%CC%81mputos-sadofe-9-a-21-hs-ref122-at-yel-solutions-3696478748?refId=ruMrNBmKjXtSVXd2EBZ%2FlA%3D%3D&trackingId=QtIAYapHINch66UbYt6Xqw%3D%3D&position=20&pageNum=24&trk=public_jobs_jserp-result_search-card',\n",
       " 'https://ar.linkedin.com/jobs/view/comprador-tecnico-at-grupo-consultores-de-empresas-3681909999?refId=ruMrNBmKjXtSVXd2EBZ%2FlA%3D%3D&trackingId=fxg4kT6Qj1iNepy5pU3XwA%3D%3D&position=21&pageNum=24&trk=public_jobs_jserp-result_search-card',\n",
       " 'https://ar.linkedin.com/jobs/view/analista-funcional-sr-con-ingl%C3%A9s-avanzado-at-empleos-it-argentina-3700130556?refId=ruMrNBmKjXtSVXd2EBZ%2FlA%3D%3D&trackingId=V%2FN9MsTqGhVpsWqmvpDgHg%3D%3D&position=23&pageNum=24&trk=public_jobs_jserp-result_search-card',\n",
       " 'https://ar.linkedin.com/jobs/view/coordinador-leader-networking-infra-vicente-lopez-674-at-yel-solutions-3696480750?refId=ruMrNBmKjXtSVXd2EBZ%2FlA%3D%3D&trackingId=EEfRLoL1VBh%2FkgS80nP5CA%3D%3D&position=24&pageNum=24&trk=public_jobs_jserp-result_search-card',\n",
       " 'https://ar.linkedin.com/jobs/view/gestor-a-para-importante-grupo-de-concesionarios-oficiales-at-icars-3696491207?refId=DB5cwUpAKonJICvEwN0JLQ%3D%3D&trackingId=1V0qut0ILIjTOrmYLt1i8A%3D%3D&position=1&pageNum=25&trk=public_jobs_jserp-result_search-card',\n",
       " 'https://ar.linkedin.com/jobs/view/jefe-de-planta-para-empresa-de-transporte-y-tratamiento-de-residuos-peligrosos-at-nexo-group-3701875405?refId=DB5cwUpAKonJICvEwN0JLQ%3D%3D&trackingId=WeTd2K5uUytmLW5jbo9QcQ%3D%3D&position=2&pageNum=25&trk=public_jobs_jserp-result_search-card',\n",
       " 'https://ar.linkedin.com/jobs/view/team-leader-de-equipos-de-ventas-at-voicenter-s-a-3696489108?refId=DB5cwUpAKonJICvEwN0JLQ%3D%3D&trackingId=KSx05m2s1H6s7dpETPAyHA%3D%3D&position=3&pageNum=25&trk=public_jobs_jserp-result_search-card',\n",
       " 'https://ar.linkedin.com/jobs/view/human-resources-office-management-analyst-at-edelman-3630120605?refId=DB5cwUpAKonJICvEwN0JLQ%3D%3D&trackingId=mjk2k5jP8zvYsQaj3AOjUQ%3D%3D&position=4&pageNum=25&trk=public_jobs_jserp-result_search-card',\n",
       " 'https://ar.linkedin.com/jobs/view/auditor-interno-freelance-para-estudio-contable-at-consejo-profesional-de-ciencias-econ%C3%B3micas-de-la-ciudad-aut%C3%B3noma-de-buenos-aires-3681943687?refId=DB5cwUpAKonJICvEwN0JLQ%3D%3D&trackingId=Mj5KpqrjEMxu%2FPX9jZclOQ%3D%3D&position=5&pageNum=25&trk=public_jobs_jserp-result_search-card',\n",
       " 'https://ar.linkedin.com/jobs/view/human-capital-operations-analyst-us-client-at-pwc-argentina-3661947011?refId=DB5cwUpAKonJICvEwN0JLQ%3D%3D&trackingId=WUf%2BNfnd7swQh48Ru5Xiiw%3D%3D&position=6&pageNum=25&trk=public_jobs_jserp-result_search-card',\n",
       " 'https://ar.linkedin.com/jobs/view/gerente-sap-fi-con-experiencia-en-localizaci%C3%B3n-at-deloitte-3682792590?refId=DB5cwUpAKonJICvEwN0JLQ%3D%3D&trackingId=45GipNuoiUAXCRuk7I2DCQ%3D%3D&position=7&pageNum=25&trk=public_jobs_jserp-result_search-card',\n",
       " 'https://ar.linkedin.com/jobs/view/human-capital-operations-analyst-us-client-at-pwc-argentina-3695888066?refId=DB5cwUpAKonJICvEwN0JLQ%3D%3D&trackingId=nq3LzqFAxIP%2F3BAnXVZqcA%3D%3D&position=9&pageNum=25&trk=public_jobs_jserp-result_search-card',\n",
       " 'https://ar.linkedin.com/jobs/view/analista-de-arquitectura-empresarial-cod-2112-at-algar-tech-latam-3696486603?refId=DB5cwUpAKonJICvEwN0JLQ%3D%3D&trackingId=3M%2Fd%2FhY1tJGgpjRMYCpR6A%3D%3D&position=10&pageNum=25&trk=public_jobs_jserp-result_search-card',\n",
       " 'https://ar.linkedin.com/jobs/view/director-a-de-recursos-humanos-at-acento-consultor%C3%ADa-%23culturasqueevolucionan-3696479694?refId=DB5cwUpAKonJICvEwN0JLQ%3D%3D&trackingId=5t5%2F8L0ZXjNVAgpXXAbWPQ%3D%3D&position=11&pageNum=25&trk=public_jobs_jserp-result_search-card',\n",
       " 'https://ar.linkedin.com/jobs/view/ejecutivo-de-ventas-comex-at-grupo-myth-3675837735?refId=DB5cwUpAKonJICvEwN0JLQ%3D%3D&trackingId=HIdWj%2BBdlVVnADywP%2BdF%2BQ%3D%3D&position=12&pageNum=25&trk=public_jobs_jserp-result_search-card',\n",
       " 'https://ar.linkedin.com/jobs/view/analista-de-recursos-humanos-generalista-at-manzur-administraciones-3696485250?refId=DB5cwUpAKonJICvEwN0JLQ%3D%3D&trackingId=kJh1B8nMGpcbC1ETRq0VNw%3D%3D&position=13&pageNum=25&trk=public_jobs_jserp-result_search-card',\n",
       " 'https://ar.linkedin.com/jobs/view/command-center-specialist-especialista-informa%CC%81tico-de-monitoreo-de-centro-de-co%CC%81mputos-sadofe-9-a-21-hs-ref122-at-yel-solutions-3696479633?refId=DB5cwUpAKonJICvEwN0JLQ%3D%3D&trackingId=0FKV3KEiO8QZFoWNayMJEQ%3D%3D&position=14&pageNum=25&trk=public_jobs_jserp-result_search-card',\n",
       " 'https://ar.linkedin.com/jobs/view/ssr-actuary-at-metlife-3630117307?refId=DB5cwUpAKonJICvEwN0JLQ%3D%3D&trackingId=RUu2jh42geViH4AlbfqBYQ%3D%3D&position=15&pageNum=25&trk=public_jobs_jserp-result_search-card',\n",
       " 'https://ar.linkedin.com/jobs/view/especialista-en-administracio%CC%81n-de-infraestructura-sr-at-yel-solutions-3696476306?refId=DB5cwUpAKonJICvEwN0JLQ%3D%3D&trackingId=GZFW0h3FeZ7yXsvc6g%2B1yQ%3D%3D&position=16&pageNum=25&trk=public_jobs_jserp-result_search-card',\n",
       " 'https://ar.linkedin.com/jobs/view/analista-de-desarrollo-y-formaci%C3%B3n-universidad-siglo-21-c%C3%B3rdoba-capital-at-cl-select-consultoria-en-rrhh-3676839089?refId=DB5cwUpAKonJICvEwN0JLQ%3D%3D&trackingId=RipnYV8ynID9rTZkf%2Bsi0A%3D%3D&position=18&pageNum=25&trk=public_jobs_jserp-result_search-card',\n",
       " 'https://ar.linkedin.com/jobs/view/perfiles-financieros-contables-con-italiano-control-de-gesti%C3%B3n-at-accenture-argentina-3662414404?refId=DB5cwUpAKonJICvEwN0JLQ%3D%3D&trackingId=61TXCl20yUI%2FU8BsMQcbyw%3D%3D&position=19&pageNum=25&trk=public_jobs_jserp-result_search-card',\n",
       " 'https://ar.linkedin.com/jobs/view/auditor-senior-campana-buenos-aires-grupo-cetrogar-at-grupo-cetrogar-3688418279?refId=DB5cwUpAKonJICvEwN0JLQ%3D%3D&trackingId=20912tPtb4x760rz5NNdmQ%3D%3D&position=20&pageNum=25&trk=public_jobs_jserp-result_search-card',\n",
       " 'https://ar.linkedin.com/jobs/view/bid-management-analyst-at-accenture-argentina-3704174758?refId=DB5cwUpAKonJICvEwN0JLQ%3D%3D&trackingId=hZmNgCMTDWtD0%2Febt%2Fz12A%3D%3D&position=21&pageNum=25&trk=public_jobs_jserp-result_search-card',\n",
       " 'https://ar.linkedin.com/jobs/view/analista-funcional-meta4-mix-on-site-remoto-at-aliantec-3691571657?refId=DB5cwUpAKonJICvEwN0JLQ%3D%3D&trackingId=3TaO2SMS7wM3u2RkthBXaQ%3D%3D&position=22&pageNum=25&trk=public_jobs_jserp-result_search-card',\n",
       " 'https://ar.linkedin.com/jobs/view/gerente-de-digital-buenos-aires-argentina-at-llyc-3676483885?refId=DB5cwUpAKonJICvEwN0JLQ%3D%3D&trackingId=QDAC0J6fnXZ08BbKvAn2rQ%3D%3D&position=23&pageNum=25&trk=public_jobs_jserp-result_search-card',\n",
       " 'https://ar.linkedin.com/jobs/view/importante-institucion-de-salud-incorpora-bioqui%CC%81mico-con-experiencia-en-laboratorio-at-sanatorio-de-la-ca%C3%B1ada-3696488053?refId=DB5cwUpAKonJICvEwN0JLQ%3D%3D&trackingId=isFIVvxiKAMLw8g9vR%2FR%2Bg%3D%3D&position=24&pageNum=25&trk=public_jobs_jserp-result_search-card',\n",
       " 'https://ar.linkedin.com/jobs/view/team-leader-de-equipos-de-ventas-at-voicenter-s-a-3696485582?refId=DB5cwUpAKonJICvEwN0JLQ%3D%3D&trackingId=ifTj4JKFZXyPtXCxeTfl4g%3D%3D&position=25&pageNum=25&trk=public_jobs_jserp-result_search-card',\n",
       " 'https://ar.linkedin.com/jobs/view/team-leader-de-equipos-de-ventas-at-voicenter-s-a-3696485430?refId=AHotIbLWWyK70qgztheP%2Bg%3D%3D&trackingId=XZ7k%2Fz7rFVnkjZZC3YCYtQ%3D%3D&position=1&pageNum=26&trk=public_jobs_jserp-result_search-card',\n",
       " 'https://ar.linkedin.com/jobs/view/business-solution-implementer-at-hr-net-consulting-3694215216?refId=AHotIbLWWyK70qgztheP%2Bg%3D%3D&trackingId=%2BL%2B5nD%2BA0N3wci%2Fq0YmuMQ%3D%3D&position=2&pageNum=26&trk=public_jobs_jserp-result_search-card',\n",
       " 'https://ar.linkedin.com/jobs/view/especialista-en-administracio%CC%81n-de-infraestructura-ssr-retiro-at-yel-solutions-3696481968?refId=AHotIbLWWyK70qgztheP%2Bg%3D%3D&trackingId=pvnMGKBat%2Fk1StywkJNzoQ%3D%3D&position=4&pageNum=26&trk=public_jobs_jserp-result_search-card',\n",
       " 'https://ar.linkedin.com/jobs/view/utilities-industry-management-consulting-analyst-consultant-at-accenture-argentina-3644410748?refId=AHotIbLWWyK70qgztheP%2Bg%3D%3D&trackingId=0pwXdG8ZeDugYcPafEQiXQ%3D%3D&position=5&pageNum=26&trk=public_jobs_jserp-result_search-card',\n",
       " 'https://ar.linkedin.com/jobs/view/supervisor-de-contabilidad-impuestos-y-legales-at-michael-page-3607224845?refId=AHotIbLWWyK70qgztheP%2Bg%3D%3D&trackingId=bjRZF2v30AeLzhQ1x6pgUA%3D%3D&position=6&pageNum=26&trk=public_jobs_jserp-result_search-card',\n",
       " 'https://ar.linkedin.com/jobs/view/consultor-a-senior-pci-at-deloitte-3704107205?refId=AHotIbLWWyK70qgztheP%2Bg%3D%3D&trackingId=Lwk0z651aWrZ1NtIqBL6yA%3D%3D&position=7&pageNum=26&trk=public_jobs_jserp-result_search-card',\n",
       " 'https://ar.linkedin.com/jobs/view/consultor-sap-abap-ssr-at-tgv-3701179218?refId=AHotIbLWWyK70qgztheP%2Bg%3D%3D&trackingId=1sXKmxncUWTvZjP1AeJauA%3D%3D&position=8&pageNum=26&trk=public_jobs_jserp-result_search-card',\n",
       " 'https://ar.linkedin.com/jobs/view/sales-performance-analysis-support-senior-analyst-at-accenture-argentina-3651959395?refId=AHotIbLWWyK70qgztheP%2Bg%3D%3D&trackingId=2z%2F3rdaprrNINUPApDsvZQ%3D%3D&position=10&pageNum=26&trk=public_jobs_jserp-result_search-card',\n",
       " 'https://ar.linkedin.com/jobs/view/encargado-a-de-calidad-con-experiencia-en-industria-alimenticia-ri%CC%81o-segundo-at-pro-selection-capital-humano-3696477197?refId=AHotIbLWWyK70qgztheP%2Bg%3D%3D&trackingId=xjmqSrbBCyLt60ehUVOHlw%3D%3D&position=13&pageNum=26&trk=public_jobs_jserp-result_search-card',\n",
       " 'https://ar.linkedin.com/jobs/view/1983-analista-de-control-de-gesti%C3%B3n-z-lomas-de-zamora-at-aptitud-estrat%C3%A9gica-srl%C2%AE-3628247910?refId=AHotIbLWWyK70qgztheP%2Bg%3D%3D&trackingId=YloARWiykqroXvOz5DlVEQ%3D%3D&position=14&pageNum=26&trk=public_jobs_jserp-result_search-card',\n",
       " 'https://ar.linkedin.com/jobs/view/auditor-it-sox-sr-at-btr-consulting-3702353213?refId=AHotIbLWWyK70qgztheP%2Bg%3D%3D&trackingId=ydDP0VYjKZ6xplyv4VvsEA%3D%3D&position=15&pageNum=26&trk=public_jobs_jserp-result_search-card',\n",
       " 'https://ar.linkedin.com/jobs/view/consultor-funcional-kronos-senior-at-c-s-3696486129?refId=AHotIbLWWyK70qgztheP%2Bg%3D%3D&trackingId=9uM9u8o683z5dUPCzMMK0w%3D%3D&position=16&pageNum=26&trk=public_jobs_jserp-result_search-card',\n",
       " 'https://ar.linkedin.com/jobs/view/windows-system-administrator-at-donweb-3700280839?refId=AHotIbLWWyK70qgztheP%2Bg%3D%3D&trackingId=hGZQHjHX1NzxXxjOuCuL1g%3D%3D&position=18&pageNum=26&trk=public_jobs_jserp-result_search-card',\n",
       " 'https://ar.linkedin.com/jobs/view/sap-fi-sr-at-nativa-consulting-3664062203?refId=AHotIbLWWyK70qgztheP%2Bg%3D%3D&trackingId=LusGIvRQFlv3Q4kuLmx%2F%2BA%3D%3D&position=19&pageNum=26&trk=public_jobs_jserp-result_search-card',\n",
       " 'https://ar.linkedin.com/jobs/view/abogado-laboralista-at-lx-argentina-s-a-3696475282?refId=AHotIbLWWyK70qgztheP%2Bg%3D%3D&trackingId=LS9mKvh06RYi9aJxtYtT8w%3D%3D&position=20&pageNum=26&trk=public_jobs_jserp-result_search-card',\n",
       " 'https://ar.linkedin.com/jobs/view/arquitecto-soluciones-y-app-it-s-sr-hibrido-at-yel-solutions-3696481796?refId=AHotIbLWWyK70qgztheP%2Bg%3D%3D&trackingId=IGLGT4UMy7UTwn4R2%2BQE6A%3D%3D&position=22&pageNum=26&trk=public_jobs_jserp-result_search-card',\n",
       " 'https://ar.linkedin.com/jobs/view/tech-enterprise-agility-consultant-at-accenture-argentina-3506846852?refId=AHotIbLWWyK70qgztheP%2Bg%3D%3D&trackingId=NRK%2BcHDyevxj92jjII%2BTRg%3D%3D&position=23&pageNum=26&trk=public_jobs_jserp-result_search-card',\n",
       " 'https://ar.linkedin.com/jobs/view/ref-4865-analista-funcional-senior-jd-edwards-enterprise-one-at-implementar-consultores-srl-3696479110?refId=AHotIbLWWyK70qgztheP%2Bg%3D%3D&trackingId=K6FO87ef3D3EvY75siiuqg%3D%3D&position=25&pageNum=26&trk=public_jobs_jserp-result_search-card',\n",
       " 'https://ar.linkedin.com/jobs/view/ref-4855-analista-funcional-senior-jd-edwards-enterprise-one-at-implementar-consultores-srl-3696479099?refId=rq9RR5C%2BwcB8y%2FlyB7u1Yw%3D%3D&trackingId=uvMEkwOCi8Gw%2BjmRQKIXFQ%3D%3D&position=1&pageNum=27&trk=public_jobs_jserp-result_search-card',\n",
       " 'https://ar.linkedin.com/jobs/view/importante-estudio-contable-seleccionara%CC%81-contador-pu%CC%81blico-nacional-at-indigo-consulting-s-a-3696479570?refId=rq9RR5C%2BwcB8y%2FlyB7u1Yw%3D%3D&trackingId=C1kmr3kQ44VPiNBNwWKRZw%3D%3D&position=2&pageNum=27&trk=public_jobs_jserp-result_search-card',\n",
       " 'https://ar.linkedin.com/jobs/view/ref-4865-analista-funcional-senior-jd-edwards-enterprise-one-at-implementar-consultores-srl-3696476322?refId=rq9RR5C%2BwcB8y%2FlyB7u1Yw%3D%3D&trackingId=b1FmxhiTe%2BPJ1tVi2mpo2A%3D%3D&position=3&pageNum=27&trk=public_jobs_jserp-result_search-card',\n",
       " 'https://ar.linkedin.com/jobs/view/sap-mm-consultant-data-analyst-at-cognizant-3691614817?refId=rq9RR5C%2BwcB8y%2FlyB7u1Yw%3D%3D&trackingId=Lc%2FaVRINxBh6C%2BDpC3QqrA%3D%3D&position=6&pageNum=27&trk=public_jobs_jserp-result_search-card',\n",
       " 'https://ar.linkedin.com/jobs/view/cyber-threat-intelligence-resources-industry-account-associate-manager-at-accenture-argentina-3658381544?refId=rq9RR5C%2BwcB8y%2FlyB7u1Yw%3D%3D&trackingId=AKPjlIhcwywP1qp8qTPzWA%3D%3D&position=9&pageNum=27&trk=public_jobs_jserp-result_search-card',\n",
       " 'https://ar.linkedin.com/jobs/view/consulting-fulfillment-at-accenture-argentina-3506856038?refId=rq9RR5C%2BwcB8y%2FlyB7u1Yw%3D%3D&trackingId=wgEoPermaWximwAE49610w%3D%3D&position=10&pageNum=27&trk=public_jobs_jserp-result_search-card',\n",
       " 'https://ar.linkedin.com/jobs/view/automotive-heavy-equipment-industry-management-consulting-analyst-consultant-at-accenture-argentina-3506851483?refId=rq9RR5C%2BwcB8y%2FlyB7u1Yw%3D%3D&trackingId=bi9ykT5RbU3POvt99l1sXg%3D%3D&position=11&pageNum=27&trk=public_jobs_jserp-result_search-card',\n",
       " 'https://ar.linkedin.com/jobs/view/consultor-funcional-kronos-senior-13806884-at-itps-one-3675835730?refId=rq9RR5C%2BwcB8y%2FlyB7u1Yw%3D%3D&trackingId=sMHFiXToAgZ2S3%2BwjYwAbw%3D%3D&position=12&pageNum=27&trk=public_jobs_jserp-result_search-card',\n",
       " 'https://ar.linkedin.com/jobs/view/arquitecto-business-intelligence-sr-at-adviters-3700455872?refId=rq9RR5C%2BwcB8y%2FlyB7u1Yw%3D%3D&trackingId=dGDu9Xop0KrJ4foJaI8VIA%3D%3D&position=13&pageNum=27&trk=public_jobs_jserp-result_search-card',\n",
       " 'https://ar.linkedin.com/jobs/view/cyber-threat-intelligence-finance-industry-account-associate-manager-at-accenture-argentina-3658382488?refId=rq9RR5C%2BwcB8y%2FlyB7u1Yw%3D%3D&trackingId=gFEzZiSStz1x64KFp6ZMkQ%3D%3D&position=14&pageNum=27&trk=public_jobs_jserp-result_search-card',\n",
       " 'https://ar.linkedin.com/jobs/view/cloud-first-data-ai-business-operations-senior-analyst-at-accenture-argentina-3666071177?refId=rq9RR5C%2BwcB8y%2FlyB7u1Yw%3D%3D&trackingId=uS7hEZdJnOkD8N33QwnPlw%3D%3D&position=15&pageNum=27&trk=public_jobs_jserp-result_search-card',\n",
       " 'https://ar.linkedin.com/jobs/view/responsable-de-calidad-master-kaizen-rubro-automotriz-at-scala-consultora-3696482044?refId=rq9RR5C%2BwcB8y%2FlyB7u1Yw%3D%3D&trackingId=O0tz40%2BQuYzZoU8Gbdy1Mg%3D%3D&position=17&pageNum=27&trk=public_jobs_jserp-result_search-card',\n",
       " 'https://ar.linkedin.com/jobs/view/responsable-de-a%CC%81rea-contable-para-importante-empresa-at-agencia-yak%C3%BA-3696488326?refId=rq9RR5C%2BwcB8y%2FlyB7u1Yw%3D%3D&trackingId=yrGx9zgLxzTsIUIHqHFAHw%3D%3D&position=19&pageNum=27&trk=public_jobs_jserp-result_search-card',\n",
       " 'https://ar.linkedin.com/jobs/view/sap-pp-s4-hana-senior-consultant-argentina-at-sapindex-3675840860?refId=rq9RR5C%2BwcB8y%2FlyB7u1Yw%3D%3D&trackingId=HMy2xvlaweb4rphikPJaxQ%3D%3D&position=21&pageNum=27&trk=public_jobs_jserp-result_search-card',\n",
       " 'https://ar.linkedin.com/jobs/view/consultor-de-implementaci%C3%B3n-5-at-sonda-3695069715?refId=rq9RR5C%2BwcB8y%2FlyB7u1Yw%3D%3D&trackingId=qMYxES8CbO9dFjVwCTu3Eg%3D%3D&position=22&pageNum=27&trk=public_jobs_jserp-result_search-card',\n",
       " 'https://ar.linkedin.com/jobs/view/command-center-especialist-noc-ref-123-at-yel-solutions-3689701901?refId=rq9RR5C%2BwcB8y%2FlyB7u1Yw%3D%3D&trackingId=Ab3LkN1kYk4XY5r%2F81xNJg%3D%3D&position=24&pageNum=27&trk=public_jobs_jserp-result_search-card',\n",
       " 'https://ar.linkedin.com/jobs/view/jefe-de-secci%C3%B3n-sanidad-vegetal-semilleros-y-campos-experimentales-at-ledesma-3688413992?refId=rq9RR5C%2BwcB8y%2FlyB7u1Yw%3D%3D&trackingId=QMJxJ%2BLFuo7X8uDYotP2rg%3D%3D&position=25&pageNum=27&trk=public_jobs_jserp-result_search-card',\n",
       " 'https://ar.linkedin.com/jobs/view/manager-risk-assurance-services-at-pwc-argentina-3677051555?refId=hyOdGWIF242Z5KlycOeiMw%3D%3D&trackingId=b7Vtpy53fRwIpzv59UX1VA%3D%3D&position=1&pageNum=28&trk=public_jobs_jserp-result_search-card',\n",
       " 'https://ar.linkedin.com/jobs/view/asesor-crea-elisa-humberto-primo-regi%C3%B3n-santa-fe-centro-at-movimiento-crea-3672466902?refId=hyOdGWIF242Z5KlycOeiMw%3D%3D&trackingId=903nvnF%2Bjo4s%2FwGBNcJ9cw%3D%3D&position=9&pageNum=28&trk=public_jobs_jserp-result_search-card',\n",
       " 'https://ar.linkedin.com/jobs/view/analista-de-datos-at-suizo-argentina-3696477677?refId=hyOdGWIF242Z5KlycOeiMw%3D%3D&trackingId=QRxva2Mb%2Bs4kutsM5iR4NQ%3D%3D&position=10&pageNum=28&trk=public_jobs_jserp-result_search-card',\n",
       " 'https://ar.linkedin.com/jobs/view/analista-de-procesamiento-de-datos-at-suizo-argentina-3696484478?refId=hyOdGWIF242Z5KlycOeiMw%3D%3D&trackingId=HWxzPw1lP7d3fsxqR9KPBg%3D%3D&position=11&pageNum=28&trk=public_jobs_jserp-result_search-card',\n",
       " 'https://ar.linkedin.com/jobs/view/analista-de-procesamiento-de-datos-at-suizo-argentina-3696485429?refId=hyOdGWIF242Z5KlycOeiMw%3D%3D&trackingId=yRYOeKrm3VBwHYE9uw23rQ%3D%3D&position=12&pageNum=28&trk=public_jobs_jserp-result_search-card',\n",
       " 'https://ar.linkedin.com/jobs/view/analista-de-datos-at-nosis-3675835828?refId=hyOdGWIF242Z5KlycOeiMw%3D%3D&trackingId=xpG4VyelG%2F%2Fjl77k6EqRJA%3D%3D&position=13&pageNum=28&trk=public_jobs_jserp-result_search-card',\n",
       " 'https://ar.linkedin.com/jobs/view/data-visualization-analyst-at-ual%C3%A1-3685416034?refId=hyOdGWIF242Z5KlycOeiMw%3D%3D&trackingId=%2FQfAVPFYqgmE%2Bw1JQFubBg%3D%3D&position=14&pageNum=28&trk=public_jobs_jserp-result_search-card',\n",
       " 'https://ar.linkedin.com/jobs/view/analista-de-datos-ssr-100%25-remoto-bi-analytics-visualizaci%C3%B3n-de-datos-at-progres-s-a-3683951266?refId=hyOdGWIF242Z5KlycOeiMw%3D%3D&trackingId=OLj26aBgUf2ORcvtYKBylQ%3D%3D&position=15&pageNum=28&trk=public_jobs_jserp-result_search-card',\n",
       " 'https://ar.linkedin.com/jobs/view/data-analyst-riesgos-at-bbva-en-argentina-3693063493?refId=hyOdGWIF242Z5KlycOeiMw%3D%3D&trackingId=hzREJXeiD2vEAGvmZd%2FB%2FQ%3D%3D&position=16&pageNum=28&trk=public_jobs_jserp-result_search-card',\n",
       " 'https://ar.linkedin.com/jobs/view/analista-data-scientist-at-seguros-supervielle-3684979194?refId=hyOdGWIF242Z5KlycOeiMw%3D%3D&trackingId=Nz2Yta0h7mFKHwrMDrBJHQ%3D%3D&position=17&pageNum=28&trk=public_jobs_jserp-result_search-card',\n",
       " 'https://ar.linkedin.com/jobs/view/data-analyst-science-at-cervecer%C3%ADa-y-malter%C3%ADa-quilmes-3699435220?refId=hyOdGWIF242Z5KlycOeiMw%3D%3D&trackingId=rKjfhTw5ft0ibUXBegR7mA%3D%3D&position=18&pageNum=28&trk=public_jobs_jserp-result_search-card',\n",
       " 'https://ar.linkedin.com/jobs/view/analista-de-datos-at-efrh-argentina-3690774376?refId=hyOdGWIF242Z5KlycOeiMw%3D%3D&trackingId=McuXhkingwHfBjxOpUHtvg%3D%3D&position=19&pageNum=28&trk=public_jobs_jserp-result_search-card',\n",
       " 'https://ar.linkedin.com/jobs/view/coordinador-a-de-inteligencia-de-negocios-at-natura-3687027764?refId=hyOdGWIF242Z5KlycOeiMw%3D%3D&trackingId=G%2B2TeO8MD7IXHVSeA3SVuw%3D%3D&position=20&pageNum=28&trk=public_jobs_jserp-result_search-card',\n",
       " 'https://ar.linkedin.com/jobs/view/analista-de-datos-reporting-puerto-madero-sur-at-manpower-argentina-3701336259?refId=hyOdGWIF242Z5KlycOeiMw%3D%3D&trackingId=6saFCmy8YbwylHdETCqOrg%3D%3D&position=21&pageNum=28&trk=public_jobs_jserp-result_search-card',\n",
       " 'https://ar.linkedin.com/jobs/view/analista-de-datos-reporting-puerto-madero-sur-at-manpower-argentina-3696489087?refId=hyOdGWIF242Z5KlycOeiMw%3D%3D&trackingId=qBvV5V9KVIwh6Sj1ZsGDDw%3D%3D&position=22&pageNum=28&trk=public_jobs_jserp-result_search-card',\n",
       " 'https://ar.linkedin.com/jobs/view/analista-de-datos-at-megatone-3675847138?refId=hyOdGWIF242Z5KlycOeiMw%3D%3D&trackingId=b%2FsKaD%2Fw5mT8HpX4iLK2Yw%3D%3D&position=23&pageNum=28&trk=public_jobs_jserp-result_search-card',\n",
       " 'https://ar.linkedin.com/jobs/view/analista-bi-jr-at-alprestamo-3695405979?refId=hyOdGWIF242Z5KlycOeiMw%3D%3D&trackingId=pMbBWwxJW%2FvZHoXDW1PrNQ%3D%3D&position=24&pageNum=28&trk=public_jobs_jserp-result_search-card',\n",
       " 'https://ar.linkedin.com/jobs/view/analista-de-datos-at-el-cronista-3680164900?refId=hyOdGWIF242Z5KlycOeiMw%3D%3D&trackingId=YwKP7BA2bRCEi4VE%2F6ASOw%3D%3D&position=25&pageNum=28&trk=public_jobs_jserp-result_search-card',\n",
       " 'https://ar.linkedin.com/jobs/view/analista-de-seguros-junior-at-bbva-en-argentina-3693593404?refId=RQMbk7KA7cYsWHHC0YBaRw%3D%3D&trackingId=B3ICwfVjfcyUlmKhH0gslA%3D%3D&position=1&pageNum=29&trk=public_jobs_jserp-result_search-card',\n",
       " 'https://ar.linkedin.com/jobs/view/analista-de-datos-y-reporting-at-evoltis-3704264223?refId=RQMbk7KA7cYsWHHC0YBaRw%3D%3D&trackingId=7A516zgKIJvbVyQbuvwnCg%3D%3D&position=2&pageNum=29&trk=public_jobs_jserp-result_search-card',\n",
       " 'https://ar.linkedin.com/jobs/view/data-analyst-at-adtomic-3674030088?refId=RQMbk7KA7cYsWHHC0YBaRw%3D%3D&trackingId=V%2FPV8Nisa%2BdoEO9B5UTbMw%3D%3D&position=3&pageNum=29&trk=public_jobs_jserp-result_search-card',\n",
       " 'https://ar.linkedin.com/jobs/view/data-analytics-analyst-at-bleett-3675838427?refId=RQMbk7KA7cYsWHHC0YBaRw%3D%3D&trackingId=6awEtI1PnmNPSGzSEN3KTQ%3D%3D&position=4&pageNum=29&trk=public_jobs_jserp-result_search-card',\n",
       " 'https://ar.linkedin.com/jobs/view/bi-analyst-jr-at-lc-consultora-recursos-humanos-3685417316?refId=RQMbk7KA7cYsWHHC0YBaRw%3D%3D&trackingId=xxbhty6eSEzJ97LpAGbqMA%3D%3D&position=5&pageNum=29&trk=public_jobs_jserp-result_search-card',\n",
       " 'https://ar.linkedin.com/jobs/view/analista-de-datos-y-bi-at-gdn-ar-3673189316?refId=RQMbk7KA7cYsWHHC0YBaRw%3D%3D&trackingId=ZWcw35Y2V3%2ByGlQOhXS9Xw%3D%3D&position=6&pageNum=29&trk=public_jobs_jserp-result_search-card',\n",
       " 'https://ar.linkedin.com/jobs/view/recepcionista-de-laboratorio-de-ana%CC%81lisis-cli%CC%81nicos-at-vacunar-3696483812?refId=RQMbk7KA7cYsWHHC0YBaRw%3D%3D&trackingId=5OmK8tayYtuUjV4ghlCcZw%3D%3D&position=7&pageNum=29&trk=public_jobs_jserp-result_search-card',\n",
       " 'https://ar.linkedin.com/jobs/view/analista-de-datos-at-mydna-3675841959?refId=RQMbk7KA7cYsWHHC0YBaRw%3D%3D&trackingId=feYJ3kvFjfYgGYwp0bozaw%3D%3D&position=8&pageNum=29&trk=public_jobs_jserp-result_search-card',\n",
       " 'https://ar.linkedin.com/jobs/view/analista-de-datos-abm-at-nini-mayorista-3696482095?refId=RQMbk7KA7cYsWHHC0YBaRw%3D%3D&trackingId=uBPNPd9dIRPhm6pEkEk0KQ%3D%3D&position=9&pageNum=29&trk=public_jobs_jserp-result_search-card',\n",
       " 'https://ar.linkedin.com/jobs/view/analista-de-bi-at-roemmers-3683215387?refId=RQMbk7KA7cYsWHHC0YBaRw%3D%3D&trackingId=W0plIgwR0iEgQlUiUt5E4A%3D%3D&position=10&pageNum=29&trk=public_jobs_jserp-result_search-card',\n",
       " 'https://ar.linkedin.com/jobs/view/analista-de-datos-at-kunan-s-a-3675843246?refId=RQMbk7KA7cYsWHHC0YBaRw%3D%3D&trackingId=8FZASremvr26Fw5vcZmqbw%3D%3D&position=11&pageNum=29&trk=public_jobs_jserp-result_search-card',\n",
       " 'https://ar.linkedin.com/jobs/view/analista-de-convenios-at-suizo-argentina-3696489240?refId=RQMbk7KA7cYsWHHC0YBaRw%3D%3D&trackingId=c6cZtUuld47f4tDBmf8Tzg%3D%3D&position=12&pageNum=29&trk=public_jobs_jserp-result_search-card',\n",
       " 'https://ar.linkedin.com/jobs/view/analista-de-datos-cientifico-de-datos-ref-ms-at-educacionit-3679337627?refId=RQMbk7KA7cYsWHHC0YBaRw%3D%3D&trackingId=vZdmt1Jd4C0Swol2Y1GyYQ%3D%3D&position=13&pageNum=29&trk=public_jobs_jserp-result_search-card',\n",
       " 'https://ar.linkedin.com/jobs/view/analista-de-datos-bi-at-bumeran-selecta-3675843084?refId=RQMbk7KA7cYsWHHC0YBaRw%3D%3D&trackingId=eqpgABhLn4PacXEaoCb46w%3D%3D&position=14&pageNum=29&trk=public_jobs_jserp-result_search-card',\n",
       " 'https://ar.linkedin.com/jobs/view/analista-de-cr%C3%A9dito-minorista-at-ual%C3%A1-3659853408?refId=RQMbk7KA7cYsWHHC0YBaRw%3D%3D&trackingId=cJrh6voN9lPQzluXLKmqew%3D%3D&position=15&pageNum=29&trk=public_jobs_jserp-result_search-card',\n",
       " 'https://ar.linkedin.com/jobs/view/analista-de-datos-at-cesa-3696478232?refId=RQMbk7KA7cYsWHHC0YBaRw%3D%3D&trackingId=cGCMo6D2XZVYplIXVTxv0w%3D%3D&position=16&pageNum=29&trk=public_jobs_jserp-result_search-card',\n",
       " 'https://ar.linkedin.com/jobs/view/data-analyst-at-bumeran-selecta-3677198903?refId=RQMbk7KA7cYsWHHC0YBaRw%3D%3D&trackingId=CIzI9J6zXTDm60KpVKqLOA%3D%3D&position=17&pageNum=29&trk=public_jobs_jserp-result_search-card',\n",
       " 'https://ar.linkedin.com/jobs/view/analista-jr-planeamiento-estrat%C3%A9gico-y-comercial-at-banco-hipotecario-3693064308?refId=RQMbk7KA7cYsWHHC0YBaRw%3D%3D&trackingId=4zRAheFHZ5I72x173Qq2pw%3D%3D&position=18&pageNum=29&trk=public_jobs_jserp-result_search-card',\n",
       " 'https://ar.linkedin.com/jobs/view/data-analyst-at-connectingology-3633931184?refId=RQMbk7KA7cYsWHHC0YBaRw%3D%3D&trackingId=SMDldsnxXW3mKapjSGpGoQ%3D%3D&position=19&pageNum=29&trk=public_jobs_jserp-result_search-card',\n",
       " 'https://ar.linkedin.com/jobs/view/analista-de-datos-data-analyst-at-amnist%C3%ADa-internacional-argentina-3696853085?refId=RQMbk7KA7cYsWHHC0YBaRw%3D%3D&trackingId=y17VW5hyyOs1%2BQR0crwgyg%3D%3D&position=20&pageNum=29&trk=public_jobs_jserp-result_search-card',\n",
       " 'https://ar.linkedin.com/jobs/view/data-analyst-con-teradata-at-bbva-en-argentina-3664061310?refId=RQMbk7KA7cYsWHHC0YBaRw%3D%3D&trackingId=NqcA5uPAv3XwjKeNZElAyg%3D%3D&position=21&pageNum=29&trk=public_jobs_jserp-result_search-card',\n",
       " 'https://ar.linkedin.com/jobs/view/data-specialist-at-bbva-en-argentina-3675840650?refId=RQMbk7KA7cYsWHHC0YBaRw%3D%3D&trackingId=UBKsz8KKNypklnO%2FPwlIxw%3D%3D&position=22&pageNum=29&trk=public_jobs_jserp-result_search-card',\n",
       " 'https://ar.linkedin.com/jobs/view/analista-data-scientist-at-hsbc-3698147757?refId=RQMbk7KA7cYsWHHC0YBaRw%3D%3D&trackingId=QF%2BFVMD6U9v52XVJjtVlgA%3D%3D&position=23&pageNum=29&trk=public_jobs_jserp-result_search-card',\n",
       " 'https://ar.linkedin.com/jobs/view/tutor-a-de-data-analytics-remote-at-coderhouse-3437005315?refId=RQMbk7KA7cYsWHHC0YBaRw%3D%3D&trackingId=ZiB1hwy4wt0r3F%2B4T0txIQ%3D%3D&position=24&pageNum=29&trk=public_jobs_jserp-result_search-card',\n",
       " 'https://ar.linkedin.com/jobs/view/cient%C3%ADfico-de-datos-junior-at-movimiento-crea-3675839956?refId=RQMbk7KA7cYsWHHC0YBaRw%3D%3D&trackingId=jdTxcral6t5dIStUyHPobA%3D%3D&position=25&pageNum=29&trk=public_jobs_jserp-result_search-card',\n",
       " 'https://ar.linkedin.com/jobs/view/analista-bi-at-cat-technologies-argentina-3696490102?refId=eSfl8UhMIxdh2D7iCgw21Q%3D%3D&trackingId=BeGbvtZstbZURQXi2%2Fv%2F6g%3D%3D&position=1&pageNum=30&trk=public_jobs_jserp-result_search-card',\n",
       " 'https://ar.linkedin.com/jobs/view/tutores-power-bi-remote-at-coderhouse-3437003560?refId=eSfl8UhMIxdh2D7iCgw21Q%3D%3D&trackingId=2g1O2adxc6Fz0MKr0MdDgg%3D%3D&position=2&pageNum=30&trk=public_jobs_jserp-result_search-card',\n",
       " 'https://ar.linkedin.com/jobs/view/tutor-a-business-analytics-remote-at-coderhouse-3437008029?refId=eSfl8UhMIxdh2D7iCgw21Q%3D%3D&trackingId=0iqvQPkHENwbHgvzlS%2Fn2w%3D%3D&position=3&pageNum=30&trk=public_jobs_jserp-result_search-card',\n",
       " 'https://ar.linkedin.com/jobs/view/jefatura-de-gesti%C3%B3n-y-an%C3%A1lisis-de-precios-promociones-y-presupuesto-at-mastellone-hnos-s-a-3680166752?refId=eSfl8UhMIxdh2D7iCgw21Q%3D%3D&trackingId=bQBRyDvyeCDXm3A%2FSpN%2FbQ%3D%3D&position=4&pageNum=30&trk=public_jobs_jserp-result_search-card',\n",
       " 'https://ar.linkedin.com/jobs/view/empleado-de-depo%CC%81sito-at-neumen-3696482308?refId=eSfl8UhMIxdh2D7iCgw21Q%3D%3D&trackingId=mPFe4AQd%2Bmo%2FI5KOWqPBzQ%3D%3D&position=5&pageNum=30&trk=public_jobs_jserp-result_search-card',\n",
       " 'https://ar.linkedin.com/jobs/view/399-bu-data-analytics-jr-ssr-at-cona-consultores-3696480303?refId=eSfl8UhMIxdh2D7iCgw21Q%3D%3D&trackingId=OD%2Br2LTAoRYcW7Ev1MwlZA%3D%3D&position=6&pageNum=30&trk=public_jobs_jserp-result_search-card',\n",
       " 'https://ar.linkedin.com/jobs/view/analista-de-datos-de-consumo-eventual-sunchales-rafaela-bs-as-at-sancor-salud-grupo-de-medicina-privada-3688229054?refId=eSfl8UhMIxdh2D7iCgw21Q%3D%3D&trackingId=DWOjDvYsMzW7xijnBgEqKw%3D%3D&position=7&pageNum=30&trk=public_jobs_jserp-result_search-card',\n",
       " 'https://ar.linkedin.com/jobs/view/analista-de-datos-bi-at-bumeran-selecta-3675833916?refId=eSfl8UhMIxdh2D7iCgw21Q%3D%3D&trackingId=L1ex5u4WubM8aBdobnhySQ%3D%3D&position=8&pageNum=30&trk=public_jobs_jserp-result_search-card',\n",
       " 'https://ar.linkedin.com/jobs/view/analista-de-datos-y-key-user-at-bumeran-selecta-per%C3%BA-3675841223?refId=eSfl8UhMIxdh2D7iCgw21Q%3D%3D&trackingId=GKJT9dUwz2HzRfg14paIIA%3D%3D&position=9&pageNum=30&trk=public_jobs_jserp-result_search-card',\n",
       " 'https://ar.linkedin.com/jobs/view/analista-de-mesada-an%C3%A1lisis-fisicoqu%C3%ADmicos-alimentos-y-aguas-at-suple-servicios-empresarios-3683600410?refId=eSfl8UhMIxdh2D7iCgw21Q%3D%3D&trackingId=bz5uofQhNL0HUJHZHcBdLQ%3D%3D&position=10&pageNum=30&trk=public_jobs_jserp-result_search-card',\n",
       " 'https://ar.linkedin.com/jobs/view/data-analytics-para-%C3%A1rea-comercial-at-megatlon-3675837602?refId=eSfl8UhMIxdh2D7iCgw21Q%3D%3D&trackingId=8nAtII%2Ftc78ka5C3vtMWnQ%3D%3D&position=12&pageNum=30&trk=public_jobs_jserp-result_search-card',\n",
       " 'https://ar.linkedin.com/jobs/view/data-analyst-at-kdtalent-3689594118?refId=eSfl8UhMIxdh2D7iCgw21Q%3D%3D&trackingId=NF2wkGHJQqRO6iawfU8isA%3D%3D&position=13&pageNum=30&trk=public_jobs_jserp-result_search-card',\n",
       " 'https://ar.linkedin.com/jobs/view/business-intelligence-at-connectingology-3633927675?refId=eSfl8UhMIxdh2D7iCgw21Q%3D%3D&trackingId=jB%2FZm2Ve8xNcyr12uMguLg%3D%3D&position=14&pageNum=30&trk=public_jobs_jserp-result_search-card',\n",
       " 'https://ar.linkedin.com/jobs/view/148co-data-analyst-at-cona-consultores-3696487420?refId=eSfl8UhMIxdh2D7iCgw21Q%3D%3D&trackingId=MPi%2B%2FwJOurXxHLcYFqqabA%3D%3D&position=15&pageNum=30&trk=public_jobs_jserp-result_search-card',\n",
       " 'https://ar.linkedin.com/jobs/view/analista-bi-at-kdtalent-3681947165?refId=eSfl8UhMIxdh2D7iCgw21Q%3D%3D&trackingId=WREv8ZpPduQtM5gga%2FNGTA%3D%3D&position=16&pageNum=30&trk=public_jobs_jserp-result_search-card',\n",
       " 'https://ar.linkedin.com/jobs/view/data-scientist-at-ual%C3%A1-3673175543?refId=eSfl8UhMIxdh2D7iCgw21Q%3D%3D&trackingId=K%2BdeMXpLOmcy7uB7D42vmw%3D%3D&position=17&pageNum=30&trk=public_jobs_jserp-result_search-card',\n",
       " 'https://ar.linkedin.com/jobs/view/analista-de-reporte-at-clever-for-tech-3667486258?refId=eSfl8UhMIxdh2D7iCgw21Q%3D%3D&trackingId=0dy9x3qylhYIwTMJ2PeXog%3D%3D&position=18&pageNum=30&trk=public_jobs_jserp-result_search-card',\n",
       " 'https://ar.linkedin.com/jobs/view/analista-de-datos-capital-federal-at-tmt-trade-marketing-technologies-3696481602?refId=eSfl8UhMIxdh2D7iCgw21Q%3D%3D&trackingId=pVjOVr8mZ7OPWiKuV0GigQ%3D%3D&position=19&pageNum=30&trk=public_jobs_jserp-result_search-card',\n",
       " 'https://ar.linkedin.com/jobs/view/analista-de-datos-capital-federal-at-tmt-trade-marketing-technologies-3696481571?refId=eSfl8UhMIxdh2D7iCgw21Q%3D%3D&trackingId=gv7TRzm%2Ba7esa3jQ0B9%2F7Q%3D%3D&position=20&pageNum=30&trk=public_jobs_jserp-result_search-card',\n",
       " 'https://ar.linkedin.com/jobs/view/analista-de-datos-comercial-at-nexo-group-3696472883?refId=eSfl8UhMIxdh2D7iCgw21Q%3D%3D&trackingId=D1pnF2mwkefpIKdNHydeUw%3D%3D&position=21&pageNum=30&trk=public_jobs_jserp-result_search-card',\n",
       " 'https://ar.linkedin.com/jobs/view/analista-de-gobierno-de-datos-at-servicios-compartidos-de-empleos-3675842495?refId=eSfl8UhMIxdh2D7iCgw21Q%3D%3D&trackingId=eEgFVAbrYJ52Qm2wFFKFkg%3D%3D&position=22&pageNum=30&trk=public_jobs_jserp-result_search-card',\n",
       " 'https://ar.linkedin.com/jobs/view/analista-data-visualization-at-biwini-3703423988?refId=eSfl8UhMIxdh2D7iCgw21Q%3D%3D&trackingId=nUCeKyCVSzVeMnXs1L8lKA%3D%3D&position=23&pageNum=30&trk=public_jobs_jserp-result_search-card',\n",
       " 'https://ar.linkedin.com/jobs/view/analista-de-gobierno-de-datos-at-esentia-recursos-humanos-3695409426?refId=eSfl8UhMIxdh2D7iCgw21Q%3D%3D&trackingId=vvVmZel9VjADLwPg6ZuwUw%3D%3D&position=24&pageNum=30&trk=public_jobs_jserp-result_search-card',\n",
       " 'https://ar.linkedin.com/jobs/view/especialista-en-data-science-de-marketing-para-mercado-pago-at-mercado-libre-3698397597?refId=eSfl8UhMIxdh2D7iCgw21Q%3D%3D&trackingId=heqni9D9RbqgcRJ0NeM6hg%3D%3D&position=25&pageNum=30&trk=public_jobs_jserp-result_search-card',\n",
       " 'https://ar.linkedin.com/jobs/view/analista-jr-de-administraci%C3%B3n-y-finanzas-at-michael-page-3690242288?refId=YMKLlnyAzMRmp7VjdqkmJw%3D%3D&trackingId=OdaX2hvGTZlmke5V%2BciphA%3D%3D&position=1&pageNum=31&trk=public_jobs_jserp-result_search-card',\n",
       " 'https://ar.linkedin.com/jobs/view/analista-de-cuentas-a-cobrar-jr-at-brandlive-3680820002?refId=YMKLlnyAzMRmp7VjdqkmJw%3D%3D&trackingId=NkdJMeQkgiIabkITovDMwg%3D%3D&position=2&pageNum=31&trk=public_jobs_jserp-result_search-card',\n",
       " 'https://ar.linkedin.com/jobs/view/analista-de-datos-at-b-b-consultores-3675841088?refId=YMKLlnyAzMRmp7VjdqkmJw%3D%3D&trackingId=8EnjW1nKJw8E3BaD%2F2p3tg%3D%3D&position=4&pageNum=31&trk=public_jobs_jserp-result_search-card',\n",
       " 'https://ar.linkedin.com/jobs/view/optimization-analyst-at-despegar-3680707204?refId=YMKLlnyAzMRmp7VjdqkmJw%3D%3D&trackingId=9FJxSrP2LFnIvuoF2iOy3Q%3D%3D&position=5&pageNum=31&trk=public_jobs_jserp-result_search-card',\n",
       " 'https://ar.linkedin.com/jobs/view/analista-de-business-intelligence-at-pacifica-continental-3706124806?refId=YMKLlnyAzMRmp7VjdqkmJw%3D%3D&trackingId=jH1GyyQH2BH9rkE0%2FcLbhQ%3D%3D&position=6&pageNum=31&trk=public_jobs_jserp-result_search-card',\n",
       " 'https://ar.linkedin.com/jobs/view/digital-analytics-at-human-wealth-3675844539?refId=YMKLlnyAzMRmp7VjdqkmJw%3D%3D&trackingId=Ikle2pw%2BeUqwaLB33lH1%2Fg%3D%3D&position=7&pageNum=31&trk=public_jobs_jserp-result_search-card',\n",
       " 'https://ar.linkedin.com/jobs/view/insights-analytics-sr-analyst-at-aprende-institute-3694898691?refId=YMKLlnyAzMRmp7VjdqkmJw%3D%3D&trackingId=LFc%2FMawoWDYsQ4AJyela2g%3D%3D&position=8&pageNum=31&trk=public_jobs_jserp-result_search-card',\n",
       " 'https://ar.linkedin.com/jobs/view/analytics-and-modeling-at-accenture-argentina-3681317572?refId=YMKLlnyAzMRmp7VjdqkmJw%3D%3D&trackingId=FavjkYbtCsyJ8yGEh8Sjqw%3D%3D&position=9&pageNum=31&trk=public_jobs_jserp-result_search-card',\n",
       " 'https://ar.linkedin.com/jobs/view/data-scientist-at-carestino-3673579185?refId=YMKLlnyAzMRmp7VjdqkmJw%3D%3D&trackingId=cHXFkZkELDgW5CSpbNQliQ%3D%3D&position=10&pageNum=31&trk=public_jobs_jserp-result_search-card',\n",
       " 'https://ar.linkedin.com/jobs/view/segment-analyst-mkt-at-banco-galicia-3695481520?refId=YMKLlnyAzMRmp7VjdqkmJw%3D%3D&trackingId=OcH5%2FyQuBgHqK%2Ba8CxEknA%3D%3D&position=11&pageNum=31&trk=public_jobs_jserp-result_search-card',\n",
       " 'https://ar.linkedin.com/jobs/view/intelligence-analyst-at-trg-solutions-3667185507?refId=YMKLlnyAzMRmp7VjdqkmJw%3D%3D&trackingId=3aGHd%2F9gxbPVRd2zPvrOEA%3D%3D&position=12&pageNum=31&trk=public_jobs_jserp-result_search-card',\n",
       " 'https://ar.linkedin.com/jobs/view/administrativo-a-excel-avanzado-at-restaurant-old-skool-3696480964?refId=YMKLlnyAzMRmp7VjdqkmJw%3D%3D&trackingId=DfFhGCVrKhnCYxJGWdrUlA%3D%3D&position=14&pageNum=31&trk=public_jobs_jserp-result_search-card',\n",
       " 'https://ar.linkedin.com/jobs/view/asistente-de-an%C3%A1lisis-biol%C3%B3gico-at-laboratorios-casasco-saic-3675838744?refId=YMKLlnyAzMRmp7VjdqkmJw%3D%3D&trackingId=Nd7gXGfH8I5Fp5WWw3uWfw%3D%3D&position=15&pageNum=31&trk=public_jobs_jserp-result_search-card',\n",
       " 'https://ar.linkedin.com/jobs/view/data-entry-at-nexo-group-3696472986?refId=YMKLlnyAzMRmp7VjdqkmJw%3D%3D&trackingId=nCSzhUW2qeCPas1WPb2Ddw%3D%3D&position=16&pageNum=31&trk=public_jobs_jserp-result_search-card',\n",
       " 'https://ar.linkedin.com/jobs/view/analista-control-de-calidad-at-johnson-johnson-3706089442?refId=YMKLlnyAzMRmp7VjdqkmJw%3D%3D&trackingId=Fm0mSGCO%2FJgUh5a9nqLmoA%3D%3D&position=17&pageNum=31&trk=public_jobs_jserp-result_search-card',\n",
       " 'https://ar.linkedin.com/jobs/view/analista-administrativo-de-operaciones-at-michael-page-3684087592?refId=YMKLlnyAzMRmp7VjdqkmJw%3D%3D&trackingId=dIOQQBKcJf7wL5cIKw7Wsg%3D%3D&position=18&pageNum=31&trk=public_jobs_jserp-result_search-card',\n",
       " 'https://ar.linkedin.com/jobs/view/analista-de-business-intelligence-sector-energi%CC%81a-full-remoto-%2B-beneficios-at-bd-capital-humano-3696485334?refId=YMKLlnyAzMRmp7VjdqkmJw%3D%3D&trackingId=ipjzD00MAiG6n1axmijyCA%3D%3D&position=19&pageNum=31&trk=public_jobs_jserp-result_search-card',\n",
       " 'https://ar.linkedin.com/jobs/view/analista-gobierno-de-datos-calidad-de-datos-at-dicsys-3580806847?refId=YMKLlnyAzMRmp7VjdqkmJw%3D%3D&trackingId=nL2GyzRI2jxkdjsB7GEigQ%3D%3D&position=20&pageNum=31&trk=public_jobs_jserp-result_search-card',\n",
       " 'https://ar.linkedin.com/jobs/view/coordinador-a-de-business-intelligence-y-data-analytics-at-cat-technologies-argentina-3696477324?refId=YMKLlnyAzMRmp7VjdqkmJw%3D%3D&trackingId=U%2BBVvf%2FK9CoFQ%2BZ8OZdqJw%3D%3D&position=21&pageNum=31&trk=public_jobs_jserp-result_search-card',\n",
       " 'https://ar.linkedin.com/jobs/view/ey-consultores-as-con-experiencia-en-mejora-de-procesos-at-ey-3689790395?refId=YMKLlnyAzMRmp7VjdqkmJw%3D%3D&trackingId=zTs%2FYAC%2F7dmy%2FBEe24UgTA%3D%3D&position=22&pageNum=31&trk=public_jobs_jserp-result_search-card',\n",
       " 'https://ar.linkedin.com/jobs/view/digital-analytics-analyst-remote-working-at-mrm-3666015431?refId=YMKLlnyAzMRmp7VjdqkmJw%3D%3D&trackingId=eUX9XhmtGEazHvcInKxe7w%3D%3D&position=23&pageNum=31&trk=public_jobs_jserp-result_search-card',\n",
       " 'https://ar.linkedin.com/jobs/view/profesor-a-data-analytics-remote-at-coderhouse-3437005289?refId=YMKLlnyAzMRmp7VjdqkmJw%3D%3D&trackingId=hmleelyJ%2FFoTGdUPVqJGow%3D%3D&position=24&pageNum=31&trk=public_jobs_jserp-result_search-card',\n",
       " 'https://ar.linkedin.com/jobs/view/analista-de-compras-e-inventarios-id-23000dh9-at-prosegur-3689019731?refId=YMKLlnyAzMRmp7VjdqkmJw%3D%3D&trackingId=Q1sxnjEqperaP8NPUjUCQQ%3D%3D&position=25&pageNum=31&trk=public_jobs_jserp-result_search-card',\n",
       " 'https://ar.linkedin.com/jobs/view/analista-de-monitoreo-de-ti-at-banco-patagonia-3693560683?refId=OXYyafp2jSrA7PzNbVo8Vg%3D%3D&trackingId=Z4Rd%2FuJGTTiesTqrk6Anag%3D%3D&position=1&pageNum=32&trk=public_jobs_jserp-result_search-card',\n",
       " 'https://ar.linkedin.com/jobs/view/administrativo-a-excel-avanzado-at-restaurant-old-skool-3696491109?refId=OXYyafp2jSrA7PzNbVo8Vg%3D%3D&trackingId=e%2BVMGusFx4J5hPFf4grLnw%3D%3D&position=2&pageNum=32&trk=public_jobs_jserp-result_search-card',\n",
       " 'https://ar.linkedin.com/jobs/view/administrativo-a-excel-avanzado-at-restaurant-old-skool-3696489651?refId=OXYyafp2jSrA7PzNbVo8Vg%3D%3D&trackingId=jqa8jZ3f6n7zDtiK8M9CTg%3D%3D&position=3&pageNum=32&trk=public_jobs_jserp-result_search-card',\n",
       " 'https://ar.linkedin.com/jobs/view/administrativo-a-excel-avanzado-at-restaurant-old-skool-3696485317?refId=OXYyafp2jSrA7PzNbVo8Vg%3D%3D&trackingId=4DxMAHYP0yAuoKZ76zTXQw%3D%3D&position=4&pageNum=32&trk=public_jobs_jserp-result_search-card',\n",
       " 'https://ar.linkedin.com/jobs/view/data-analyst-security-buenos-aires-argentina-at-western-union-3693795182?refId=OXYyafp2jSrA7PzNbVo8Vg%3D%3D&trackingId=uAjrp4rS%2FOpOFAuRG9D79A%3D%3D&position=5&pageNum=32&trk=public_jobs_jserp-result_search-card',\n",
       " 'https://ar.linkedin.com/jobs/view/especialista-power-bi-experiencia-en-procesos-y-mejora-continua-at-dabrein-solutions-3693626474?refId=OXYyafp2jSrA7PzNbVo8Vg%3D%3D&trackingId=2dYQI6sNZ61GA9jUjXSSrg%3D%3D&position=6&pageNum=32&trk=public_jobs_jserp-result_search-card',\n",
       " 'https://ar.linkedin.com/jobs/view/analista-sr-bi-at-carestino-3673574476?refId=OXYyafp2jSrA7PzNbVo8Vg%3D%3D&trackingId=NpZvTDiL%2Fh7La8ZMpQ6JCA%3D%3D&position=7&pageNum=32&trk=public_jobs_jserp-result_search-card',\n",
       " 'https://ar.linkedin.com/jobs/view/asistente-te%CC%81cnico-para-a%CC%81reas-educativas-sede-almagro-part-time-at-ort-argentina-3696481793?refId=OXYyafp2jSrA7PzNbVo8Vg%3D%3D&trackingId=wKK7hiIoblujpbAC9Sc0XA%3D%3D&position=8&pageNum=32&trk=public_jobs_jserp-result_search-card',\n",
       " 'https://ar.linkedin.com/jobs/view/l%C3%ADder-anal%C3%ADtica-cliente-at-dia-argentina-3675833985?refId=OXYyafp2jSrA7PzNbVo8Vg%3D%3D&trackingId=0tSQfpxjkVEeCXruZxZLuQ%3D%3D&position=9&pageNum=32&trk=public_jobs_jserp-result_search-card',\n",
       " 'https://ar.linkedin.com/jobs/view/analista-it-at-educacionit-3679342409?refId=OXYyafp2jSrA7PzNbVo8Vg%3D%3D&trackingId=3P7oOjhDW1ty%2BLDFnL%2BgUA%3D%3D&position=10&pageNum=32&trk=public_jobs_jserp-result_search-card',\n",
       " 'https://ar.linkedin.com/jobs/view/digital-analytics-analyst-remote-working-at-new-world-symphony-3693645973?refId=OXYyafp2jSrA7PzNbVo8Vg%3D%3D&trackingId=XomS8Kbeb5B%2B0ZH%2FI0ykhA%3D%3D&position=11&pageNum=32&trk=public_jobs_jserp-result_search-card',\n",
       " 'https://ar.linkedin.com/jobs/view/analista-comercial-at-recursos-en-tus-manos-3699026798?refId=OXYyafp2jSrA7PzNbVo8Vg%3D%3D&trackingId=DFsDjA6Q6BzaO0BRwY%2FtKQ%3D%3D&position=12&pageNum=32&trk=public_jobs_jserp-result_search-card',\n",
       " 'https://ar.linkedin.com/jobs/view/administrativo-back-office-at-acceda-3696479614?refId=OXYyafp2jSrA7PzNbVo8Vg%3D%3D&trackingId=6Yoc%2Bmdbwne8sDtjJ2ElaQ%3D%3D&position=14&pageNum=32&trk=public_jobs_jserp-result_search-card',\n",
       " 'https://ar.linkedin.com/jobs/view/administrativo-de-produccio%CC%81n-at-marini-cia-s-a-3696493030?refId=OXYyafp2jSrA7PzNbVo8Vg%3D%3D&trackingId=Ox7qq%2FnntieajQBvwtP9fg%3D%3D&position=15&pageNum=32&trk=public_jobs_jserp-result_search-card',\n",
       " 'https://ar.linkedin.com/jobs/view/administrativo-a-at-reclutapro-argentina-3696486669?refId=OXYyafp2jSrA7PzNbVo8Vg%3D%3D&trackingId=3H0HYLavmNCNn7n9Wt5qGw%3D%3D&position=16&pageNum=32&trk=public_jobs_jserp-result_search-card',\n",
       " 'https://ar.linkedin.com/jobs/view/analista-contable-y-de-gesti%C3%B3n-junior-at-sms-buenos-aires-3675833899?refId=OXYyafp2jSrA7PzNbVo8Vg%3D%3D&trackingId=BF%2BOnIkezi%2BsaqmOyoSKPQ%3D%3D&position=17&pageNum=32&trk=public_jobs_jserp-result_search-card',\n",
       " 'https://ar.linkedin.com/jobs/view/data-analyst-ar-remote-at-simera-3704744369?refId=OXYyafp2jSrA7PzNbVo8Vg%3D%3D&trackingId=fjgrAHh%2Bh7uC1k1zgCG7tA%3D%3D&position=18&pageNum=32&trk=public_jobs_jserp-result_search-card',\n",
       " 'https://ar.linkedin.com/jobs/view/planner-comercial-jr-at-gdn-ar-3686365065?refId=OXYyafp2jSrA7PzNbVo8Vg%3D%3D&trackingId=3sGubhPfAxx%2BeRjx%2BFICbw%3D%3D&position=19&pageNum=32&trk=public_jobs_jserp-result_search-card',\n",
       " 'https://ar.linkedin.com/jobs/view/administrativo-a-excel-avanzado-2-3-0-at-restaurant-old-skool-3696485843?refId=OXYyafp2jSrA7PzNbVo8Vg%3D%3D&trackingId=%2FX%2F%2BLpOH3mrgfW2%2Bdh5LwQ%3D%3D&position=20&pageNum=32&trk=public_jobs_jserp-result_search-card',\n",
       " 'https://ar.linkedin.com/jobs/view/administrativo-a-at-reclutapro-argentina-3696489352?refId=OXYyafp2jSrA7PzNbVo8Vg%3D%3D&trackingId=VaazCshtAsjiXD2tmlx8Mg%3D%3D&position=22&pageNum=32&trk=public_jobs_jserp-result_search-card',\n",
       " 'https://ar.linkedin.com/jobs/view/analista-de-planificacio%CC%81n-financiera-at-in-corporate-3696482798?refId=OXYyafp2jSrA7PzNbVo8Vg%3D%3D&trackingId=Iw1kyAV1GvwUC%2Bni2aUfbw%3D%3D&position=23&pageNum=32&trk=public_jobs_jserp-result_search-card',\n",
       " 'https://ar.linkedin.com/jobs/view/analista-contable-para-departamento-de-administraci%C3%B3n-y-finanzas-at-pontificia-universidad-cat%C3%B3lica-argentina-3693061534?refId=OXYyafp2jSrA7PzNbVo8Vg%3D%3D&trackingId=8U0zE8LUx%2FWByiptmFiO5w%3D%3D&position=24&pageNum=32&trk=public_jobs_jserp-result_search-card',\n",
       " 'https://ar.linkedin.com/jobs/view/bi-business-analyst-at-cognizant-3689785311?refId=7L5rTs%2BtP9JK%2Fm8QRBN9Xg%3D%3D&trackingId=gMayTfPy5M6xJ8lXfYZ49w%3D%3D&position=1&pageNum=33&trk=public_jobs_jserp-result_search-card',\n",
       " 'https://ar.linkedin.com/jobs/view/data-scientist-at-la-caja-de-ahorro-y-seguro-3695407667?refId=7L5rTs%2BtP9JK%2Fm8QRBN9Xg%3D%3D&trackingId=5E1fdiaVmAY05HWDERVQhw%3D%3D&position=2&pageNum=33&trk=public_jobs_jserp-result_search-card',\n",
       " 'https://ar.linkedin.com/jobs/view/data-analyst-b2b-sr-at-telecentro-3672534113?refId=7L5rTs%2BtP9JK%2Fm8QRBN9Xg%3D%3D&trackingId=NRLRBlNiKHXaq2mxHsvl3g%3D%3D&position=3&pageNum=33&trk=public_jobs_jserp-result_search-card',\n",
       " 'https://ar.linkedin.com/jobs/view/analista-comercial-at-gdn-ar-3689266684?refId=7L5rTs%2BtP9JK%2Fm8QRBN9Xg%3D%3D&trackingId=NGaVehrN%2BZfkNstRNRVXIQ%3D%3D&position=4&pageNum=33&trk=public_jobs_jserp-result_search-card',\n",
       " 'https://ar.linkedin.com/jobs/view/tutor-a-de-r-remote-at-coderhouse-3437003556?refId=7L5rTs%2BtP9JK%2Fm8QRBN9Xg%3D%3D&trackingId=m6chEy%2FXhqVpjLN0N4NSqw%3D%3D&position=5&pageNum=33&trk=public_jobs_jserp-result_search-card',\n",
       " 'https://ar.linkedin.com/jobs/view/profesor-a-de-r-remote-at-coderhouse-3437005288?refId=7L5rTs%2BtP9JK%2Fm8QRBN9Xg%3D%3D&trackingId=HAYNCfBGsYnWJuKqI3W5xA%3D%3D&position=6&pageNum=33&trk=public_jobs_jserp-result_search-card',\n",
       " 'https://ar.linkedin.com/jobs/view/strategy-insights-analyst-amplitude-at-aprende-institute-3679416830?refId=7L5rTs%2BtP9JK%2Fm8QRBN9Xg%3D%3D&trackingId=RZil%2BXjmTYm5Cej2PaDVvg%3D%3D&position=7&pageNum=33&trk=public_jobs_jserp-result_search-card',\n",
       " 'https://ar.linkedin.com/jobs/view/data-entry-at-nexo-group-3696473743?refId=7L5rTs%2BtP9JK%2Fm8QRBN9Xg%3D%3D&trackingId=mOjg5Bz7KzcIg%2Bg9AD5eTw%3D%3D&position=8&pageNum=33&trk=public_jobs_jserp-result_search-card',\n",
       " 'https://ar.linkedin.com/jobs/view/analista-creditos-empresas-para-alyc-en-crecimiento-at-gd-hr-value-3675834953?refId=7L5rTs%2BtP9JK%2Fm8QRBN9Xg%3D%3D&trackingId=L2QCaZxD22IZp6nRAKtABg%3D%3D&position=9&pageNum=33&trk=public_jobs_jserp-result_search-card',\n",
       " 'https://ar.linkedin.com/jobs/view/infraestructere-networking-jr-adm-redes-jr-avellaneda-monte-chingolo-at-yel-solutions-3696481879?refId=7L5rTs%2BtP9JK%2Fm8QRBN9Xg%3D%3D&trackingId=ljmIVukj7ISq7MYdFaY6Tw%3D%3D&position=10&pageNum=33&trk=public_jobs_jserp-result_search-card',\n",
       " 'https://ar.linkedin.com/jobs/view/back-office-at-bumeran-selecta-3691827980?refId=7L5rTs%2BtP9JK%2Fm8QRBN9Xg%3D%3D&trackingId=Yv0KU4ksiO1%2FNn1S9rPriw%3D%3D&position=11&pageNum=33&trk=public_jobs_jserp-result_search-card',\n",
       " 'https://ar.linkedin.com/jobs/view/business-intelligence-specialist-at-entravision-mobile-growth-solutions-3618154529?refId=7L5rTs%2BtP9JK%2Fm8QRBN9Xg%3D%3D&trackingId=gqUZPBZ782rDJX2YG2mljA%3D%3D&position=12&pageNum=33&trk=public_jobs_jserp-result_search-card',\n",
       " 'https://ar.linkedin.com/jobs/view/secondment-criminal-intelligence-analyst-rb-buenos-aires-at-interpol-3693583983?refId=7L5rTs%2BtP9JK%2Fm8QRBN9Xg%3D%3D&trackingId=wKuNTLXV3uZ3ftUpb6IUpQ%3D%3D&position=13&pageNum=33&trk=public_jobs_jserp-result_search-card',\n",
       " 'https://ar.linkedin.com/jobs/view/analista-de-datos-at-turing-3697401654?refId=7L5rTs%2BtP9JK%2Fm8QRBN9Xg%3D%3D&trackingId=JwwomlUPZ1FBTlPpqqlltw%3D%3D&position=14&pageNum=33&trk=public_jobs_jserp-result_search-card',\n",
       " 'https://ar.linkedin.com/jobs/view/analista-de-pricing-at-autom%C3%B3viles-san-jorge-3675846187?refId=7L5rTs%2BtP9JK%2Fm8QRBN9Xg%3D%3D&trackingId=zEKMWZTqooPPYbHAm7a1EQ%3D%3D&position=15&pageNum=33&trk=public_jobs_jserp-result_search-card',\n",
       " 'https://ar.linkedin.com/jobs/view/analista-ssr-sr-de-inteligencia-de-negocios-art-at-mercantil-andina-3675838749?refId=7L5rTs%2BtP9JK%2Fm8QRBN9Xg%3D%3D&trackingId=%2BEDjMMK5WW4tlmznfxgHSA%3D%3D&position=16&pageNum=33&trk=public_jobs_jserp-result_search-card',\n",
       " 'https://ar.linkedin.com/jobs/view/analista-funcional-at-contabilium-3650200322?refId=7L5rTs%2BtP9JK%2Fm8QRBN9Xg%3D%3D&trackingId=hFyrMvpf%2FhD9ZLtmvy7pig%3D%3D&position=17&pageNum=33&trk=public_jobs_jserp-result_search-card',\n",
       " 'https://ar.linkedin.com/jobs/view/l%C3%ADder-de-gobierno-de-datos-calidad-de-datos-at-dicsys-3580808106?refId=7L5rTs%2BtP9JK%2Fm8QRBN9Xg%3D%3D&trackingId=ILG%2B2XzbzGuORpKCwT56%2BA%3D%3D&position=18&pageNum=33&trk=public_jobs_jserp-result_search-card',\n",
       " 'https://ar.linkedin.com/jobs/view/analista-t%C3%A9cnico-at-evasa-3700450446?refId=7L5rTs%2BtP9JK%2Fm8QRBN9Xg%3D%3D&trackingId=uwX97K5oFHOOrkkXtnLtBw%3D%3D&position=19&pageNum=33&trk=public_jobs_jserp-result_search-card',\n",
       " 'https://ar.linkedin.com/jobs/view/business-intelligence-analyst-ingl%C3%A9s-avanzado-at-brandlive-3675842021?refId=7L5rTs%2BtP9JK%2Fm8QRBN9Xg%3D%3D&trackingId=QAFR0KTyclmYiVI9up5PgQ%3D%3D&position=20&pageNum=33&trk=public_jobs_jserp-result_search-card',\n",
       " 'https://ar.linkedin.com/jobs/view/data-entry-e-commerce-at-natural-life-apasionados-por-tu-mascota-3675835635?refId=7L5rTs%2BtP9JK%2Fm8QRBN9Xg%3D%3D&trackingId=uwP7NCbU660bXmijsXAzkg%3D%3D&position=21&pageNum=33&trk=public_jobs_jserp-result_search-card',\n",
       " 'https://ar.linkedin.com/jobs/view/asistente-experimentado-para-auditor%C3%ADa-at-auren-argentina-3658962226?refId=7L5rTs%2BtP9JK%2Fm8QRBN9Xg%3D%3D&trackingId=vbCnNl%2BAIXOJq3yLaiNIfA%3D%3D&position=22&pageNum=33&trk=public_jobs_jserp-result_search-card',\n",
       " 'https://ar.linkedin.com/jobs/view/profesor-a-power-bi-remote-at-coderhouse-3437001662?refId=7L5rTs%2BtP9JK%2Fm8QRBN9Xg%3D%3D&trackingId=zj7dUbuej6i1Qq610BNnJA%3D%3D&position=23&pageNum=33&trk=public_jobs_jserp-result_search-card',\n",
       " 'https://ar.linkedin.com/jobs/view/asistente-sin-experiencia-para-auditor%C3%ADa-zona-norte-at-auren-argentina-3658963025?refId=7L5rTs%2BtP9JK%2Fm8QRBN9Xg%3D%3D&trackingId=bbxgmfaeFToXZHLv91hG1Q%3D%3D&position=24&pageNum=33&trk=public_jobs_jserp-result_search-card',\n",
       " 'https://ar.linkedin.com/jobs/view/analista-funcional-it-at-byb-global-3675844171?refId=7L5rTs%2BtP9JK%2Fm8QRBN9Xg%3D%3D&trackingId=9yJ3qfWQozR5zmCj0wc9AQ%3D%3D&position=25&pageNum=33&trk=public_jobs_jserp-result_search-card',\n",
       " 'https://ar.linkedin.com/jobs/view/asistente-comercial-back-office-at-crucijuegos-3696490555?refId=QNBD6Gsfh%2Bgo7kBOsgdcAg%3D%3D&trackingId=2Kzpoc0yg7Sk5s%2Bb%2Fr1rsg%3D%3D&position=1&pageNum=34&trk=public_jobs_jserp-result_search-card',\n",
       " 'https://ar.linkedin.com/jobs/view/analista-bi-sr-at-alprestamo-3695406870?refId=QNBD6Gsfh%2Bgo7kBOsgdcAg%3D%3D&trackingId=w3InaKhRgtCSlTHs8CE3tw%3D%3D&position=2&pageNum=34&trk=public_jobs_jserp-result_search-card',\n",
       " 'https://ar.linkedin.com/jobs/view/business-intelligence-specialist-at-entravision-digital-global-advertising-powered-by-technology-3667150132?refId=QNBD6Gsfh%2Bgo7kBOsgdcAg%3D%3D&trackingId=YGUWSLyP%2FM9nPNNjuEHcSQ%3D%3D&position=3&pageNum=34&trk=public_jobs_jserp-result_search-card',\n",
       " 'https://ar.linkedin.com/jobs/view/bioqui%CC%81mico-para-laboratorio-de-ana%CC%81lisis-cli%CC%81nicos-at-vacunar-3696490481?refId=QNBD6Gsfh%2Bgo7kBOsgdcAg%3D%3D&trackingId=MMIqRU8pI3AU3w0EzeAh5Q%3D%3D&position=4&pageNum=34&trk=public_jobs_jserp-result_search-card',\n",
       " 'https://ar.linkedin.com/jobs/view/analista-para-el-equipo-de-customer-success-at-logytsud-3698166219?refId=QNBD6Gsfh%2Bgo7kBOsgdcAg%3D%3D&trackingId=gKRc92JhbyfnBYKBJcaPUA%3D%3D&position=5&pageNum=34&trk=public_jobs_jserp-result_search-card',\n",
       " 'https://ar.linkedin.com/jobs/view/bu-399-business-analytics-data-analytics-at-cona-consultores-3696476783?refId=QNBD6Gsfh%2Bgo7kBOsgdcAg%3D%3D&trackingId=JMEjpBjAWd9yRkcp8O8aXA%3D%3D&position=6&pageNum=34&trk=public_jobs_jserp-result_search-card',\n",
       " 'https://ar.linkedin.com/jobs/view/l%C3%ADder-bi-at-cl-select-consultoria-en-rrhh-3675838679?refId=QNBD6Gsfh%2Bgo7kBOsgdcAg%3D%3D&trackingId=KPhejV8QAtwSMrqZWEvRGg%3D%3D&position=7&pageNum=34&trk=public_jobs_jserp-result_search-card',\n",
       " 'https://ar.linkedin.com/jobs/view/especialista-de-business-intelligence-bi-at-grupo-iraola-3664948082?refId=QNBD6Gsfh%2Bgo7kBOsgdcAg%3D%3D&trackingId=ZMXWvRc54xUyobs%2B4TbG1A%3D%3D&position=8&pageNum=34&trk=public_jobs_jserp-result_search-card',\n",
       " 'https://ar.linkedin.com/jobs/view/business-intelligence-consultant-at-kolibri-3677149226?refId=QNBD6Gsfh%2Bgo7kBOsgdcAg%3D%3D&trackingId=KbRkjKOncqduwbBFgSGpGA%3D%3D&position=9&pageNum=34&trk=public_jobs_jserp-result_search-card',\n",
       " 'https://ar.linkedin.com/jobs/view/data-entry-catalogaci%C3%B3n-y-generaci%C3%B3n-de-contenido-ecommerce-at-be-singular-3702390439?refId=QNBD6Gsfh%2Bgo7kBOsgdcAg%3D%3D&trackingId=GOhmSXLSwbyh0EQNMxl5TA%3D%3D&position=10&pageNum=34&trk=public_jobs_jserp-result_search-card',\n",
       " 'https://ar.linkedin.com/jobs/view/analista-comercial-capital-federal-at-consultora-zivot-3696475261?refId=QNBD6Gsfh%2Bgo7kBOsgdcAg%3D%3D&trackingId=XLJJXUmbREAO8jmd8fmp2A%3D%3D&position=11&pageNum=34&trk=public_jobs_jserp-result_search-card',\n",
       " 'https://ar.linkedin.com/jobs/view/asistente-experimentado-para-auditor%C3%ADa-at-auren-argentina-3658963028?refId=QNBD6Gsfh%2Bgo7kBOsgdcAg%3D%3D&trackingId=lm4rUQRG03NSV6rf%2BUAnPA%3D%3D&position=12&pageNum=34&trk=public_jobs_jserp-result_search-card',\n",
       " 'https://ar.linkedin.com/jobs/view/financial-planning-analyst-south-cone-at-mccain-foods-3674700723?refId=QNBD6Gsfh%2Bgo7kBOsgdcAg%3D%3D&trackingId=MLYwB4Rw8b8Y%2FTVQmaXrWQ%3D%3D&position=13&pageNum=34&trk=public_jobs_jserp-result_search-card',\n",
       " 'https://ar.linkedin.com/jobs/view/crypto-quantitative-analyst-at-token-metrics-3409493154?refId=QNBD6Gsfh%2Bgo7kBOsgdcAg%3D%3D&trackingId=Oh4CO1wZiF6JxnQ3nxBs7w%3D%3D&position=14&pageNum=34&trk=public_jobs_jserp-result_search-card',\n",
       " 'https://ar.linkedin.com/jobs/view/analista-de-administracio%CC%81n-comercial-at-syntesys-consultora-en-recursos-humanos-3696482148?refId=QNBD6Gsfh%2Bgo7kBOsgdcAg%3D%3D&trackingId=uPv6NRi%2F4tT%2F0gOPgYB36g%3D%3D&position=15&pageNum=34&trk=public_jobs_jserp-result_search-card',\n",
       " 'https://ar.linkedin.com/jobs/view/analista-contable-para-ana%CC%81lisis-de-cuentas-tapiales-at-noao-3696476400?refId=QNBD6Gsfh%2Bgo7kBOsgdcAg%3D%3D&trackingId=AOdf%2BjYdb6QhBnXML%2B3llw%3D%3D&position=16&pageNum=34&trk=public_jobs_jserp-result_search-card',\n",
       " 'https://ar.linkedin.com/jobs/view/r-r-consultor-jr-forensic-at-pwc-argentina-3604040359?refId=QNBD6Gsfh%2Bgo7kBOsgdcAg%3D%3D&trackingId=1bp2O3Ld4v0kJyirbg71TA%3D%3D&position=17&pageNum=34&trk=public_jobs_jserp-result_search-card',\n",
       " 'https://ar.linkedin.com/jobs/view/analista-de-cr%C3%A9dito-y-cartera-at-grupo-familia-3679064114?refId=QNBD6Gsfh%2Bgo7kBOsgdcAg%3D%3D&trackingId=I0I2oEZVDjBzydi6i85R7w%3D%3D&position=18&pageNum=34&trk=public_jobs_jserp-result_search-card',\n",
       " 'https://ar.linkedin.com/jobs/view/coordinador-research-at-bumeran-selecta-3657066867?refId=QNBD6Gsfh%2Bgo7kBOsgdcAg%3D%3D&trackingId=7S4Wz%2FKg4AhDM0dPNEffHw%3D%3D&position=19&pageNum=34&trk=public_jobs_jserp-result_search-card',\n",
       " 'https://ar.linkedin.com/jobs/view/asistente-de-medios-groupm-at-suma-3-consultores-rrhh-3677146527?refId=QNBD6Gsfh%2Bgo7kBOsgdcAg%3D%3D&trackingId=Oa5rb4Du7OnJ%2BmzRltVSQQ%3D%3D&position=20&pageNum=34&trk=public_jobs_jserp-result_search-card',\n",
       " 'https://ar.linkedin.com/jobs/view/analista-comercial-at-angel-baraldo-3675840803?refId=QNBD6Gsfh%2Bgo7kBOsgdcAg%3D%3D&trackingId=L2jPsrqC0YthfIBRtHeGQw%3D%3D&position=21&pageNum=34&trk=public_jobs_jserp-result_search-card',\n",
       " 'https://ar.linkedin.com/jobs/view/analista-administrativo-contable-at-hidalgo-asociados-3696021890?refId=QNBD6Gsfh%2Bgo7kBOsgdcAg%3D%3D&trackingId=IDEg1whxwrPhVE8xKUYZrQ%3D%3D&position=22&pageNum=34&trk=public_jobs_jserp-result_search-card',\n",
       " 'https://ar.linkedin.com/jobs/view/administrativo-o-administrativa-para-departamento-de-clientes-at-w%C3%BCrth-argentina-s-a-3696479718?refId=QNBD6Gsfh%2Bgo7kBOsgdcAg%3D%3D&trackingId=jF1peqd7U8YuJ5EEmeQziw%3D%3D&position=23&pageNum=34&trk=public_jobs_jserp-result_search-card',\n",
       " 'https://ar.linkedin.com/jobs/view/analista-cr%C3%A9ditos-segmento-corporativo-at-banco-comafi-3675837616?refId=QNBD6Gsfh%2Bgo7kBOsgdcAg%3D%3D&trackingId=qSK21WKBQuLQ0czR2ryLGQ%3D%3D&position=24&pageNum=34&trk=public_jobs_jserp-result_search-card',\n",
       " 'https://ar.linkedin.com/jobs/view/data-scientist-specialist-at-accenture-argentina-3706123728?refId=QNBD6Gsfh%2Bgo7kBOsgdcAg%3D%3D&trackingId=3xw%2BDQWwHGkpy9A7s287oQ%3D%3D&position=25&pageNum=34&trk=public_jobs_jserp-result_search-card',\n",
       " 'https://ar.linkedin.com/jobs/view/tutor-a-looker-studio-con-google-analytics-4-remote-at-coderhouse-3522095353?refId=ggC5nGh0r46FGsth2u9OxQ%3D%3D&trackingId=TfyNjrQxG5nCLsoWhchchA%3D%3D&position=1&pageNum=35&trk=public_jobs_jserp-result_search-card',\n",
       " 'https://ar.linkedin.com/jobs/view/remote-business-intelligence-specialist-at-scopic-software-3690692076?refId=ggC5nGh0r46FGsth2u9OxQ%3D%3D&trackingId=HbbswkmmGbNdBgnLjYvIMg%3D%3D&position=2&pageNum=35&trk=public_jobs_jserp-result_search-card',\n",
       " 'https://ar.linkedin.com/jobs/view/responsable-de-control-de-calidad-para-coordinaci%C3%B3n-y-mejora-de-producci%C3%B3n-at-camera-di-commercio-italiana-nella-repubblica-argentina-3684011895?refId=ggC5nGh0r46FGsth2u9OxQ%3D%3D&trackingId=KOSY%2BVrxnVT%2B%2F1zqr17Itg%3D%3D&position=3&pageNum=35&trk=public_jobs_jserp-result_search-card',\n",
       " 'https://ar.linkedin.com/jobs/view/analista-sr-de-insights-analytics-at-mindshare-3685778944?refId=ggC5nGh0r46FGsth2u9OxQ%3D%3D&trackingId=c6znFJUqjSMpsh665W97Aw%3D%3D&position=4&pageNum=35&trk=public_jobs_jserp-result_search-card',\n",
       " 'https://ar.linkedin.com/jobs/view/asistente-de-auditor%C3%ADa-interna-c-i-t-i-at-bdo-argentina-3693062525?refId=ggC5nGh0r46FGsth2u9OxQ%3D%3D&trackingId=NNC8VQpiOlD8jqb3BAIVbQ%3D%3D&position=5&pageNum=35&trk=public_jobs_jserp-result_search-card',\n",
       " 'https://ar.linkedin.com/jobs/view/infraestructere-networking-jr-adm-redes-jr-el-palomar-gba-at-yel-solutions-3696479292?refId=ggC5nGh0r46FGsth2u9OxQ%3D%3D&trackingId=TEarDwNm%2BbVWTGva%2Bcw%2Bag%3D%3D&position=6&pageNum=35&trk=public_jobs_jserp-result_search-card',\n",
       " 'https://ar.linkedin.com/jobs/view/asistente-sin-experiencia-para-auditor%C3%ADa-zona-sur-at-auren-argentina-3658961333?refId=ggC5nGh0r46FGsth2u9OxQ%3D%3D&trackingId=cw%2Fw0FuKmwxQl%2F5CMA%2Bszg%3D%3D&position=7&pageNum=35&trk=public_jobs_jserp-result_search-card',\n",
       " 'https://ar.linkedin.com/jobs/view/data-engineer-at-quales-group-3690872319?refId=ggC5nGh0r46FGsth2u9OxQ%3D%3D&trackingId=Rs5JKeDnf62V%2FRziUg6BRw%3D%3D&position=8&pageNum=35&trk=public_jobs_jserp-result_search-card',\n",
       " 'https://ar.linkedin.com/jobs/view/tutor-a-de-tableau-remote-at-coderhouse-3437008026?refId=ggC5nGh0r46FGsth2u9OxQ%3D%3D&trackingId=Ornr0Ivo6AN0hXH3hV%2FeYg%3D%3D&position=9&pageNum=35&trk=public_jobs_jserp-result_search-card',\n",
       " 'https://ar.linkedin.com/jobs/view/responsable-de-producto-turismo-at-travel-services-3675841411?refId=ggC5nGh0r46FGsth2u9OxQ%3D%3D&trackingId=OCTqAQ7lah66psWe56yCcA%3D%3D&position=10&pageNum=35&trk=public_jobs_jserp-result_search-card',\n",
       " 'https://ar.linkedin.com/jobs/view/analista-de-costos-e-inventarios-at-human-wealth-3675843490?refId=ggC5nGh0r46FGsth2u9OxQ%3D%3D&trackingId=X8VuXx96ai3CMrPpbwj%2BsQ%3D%3D&position=11&pageNum=35&trk=public_jobs_jserp-result_search-card',\n",
       " 'https://ar.linkedin.com/jobs/view/analista-sr-control-de-gesti%C3%B3n-at-minera-santa-cruz-3675837905?refId=ggC5nGh0r46FGsth2u9OxQ%3D%3D&trackingId=KtxBG5aGhS0xHLNFokgvhg%3D%3D&position=12&pageNum=35&trk=public_jobs_jserp-result_search-card',\n",
       " 'https://ar.linkedin.com/jobs/view/help-desk-it-caba-at-ctl-information-technology-3696480009?refId=ggC5nGh0r46FGsth2u9OxQ%3D%3D&trackingId=E0yuxftqZfBGdhRX9yBxRQ%3D%3D&position=13&pageNum=35&trk=public_jobs_jserp-result_search-card',\n",
       " 'https://ar.linkedin.com/jobs/view/analista-de-seguridad-informa%CC%81tica-at-penta-security-solutions-3696474704?refId=ggC5nGh0r46FGsth2u9OxQ%3D%3D&trackingId=3bExYtAnWCw6%2FxEsz09lig%3D%3D&position=14&pageNum=35&trk=public_jobs_jserp-result_search-card',\n",
       " 'https://ar.linkedin.com/jobs/view/399-bu-data-analyst-para-sector-comercial-at-cona-consultores-3696494010?refId=ggC5nGh0r46FGsth2u9OxQ%3D%3D&trackingId=7VJkwKreIMt37WV3XX%2F9fg%3D%3D&position=15&pageNum=35&trk=public_jobs_jserp-result_search-card',\n",
       " 'https://ar.linkedin.com/jobs/view/l%C3%ADder-de-ingenier%C3%ADa-de-procesos-at-brandlive-3675839912?refId=ggC5nGh0r46FGsth2u9OxQ%3D%3D&trackingId=S3ExMQBu1wELZYVOkj1NCA%3D%3D&position=16&pageNum=35&trk=public_jobs_jserp-result_search-card',\n",
       " 'https://ar.linkedin.com/jobs/view/administrativo-a-contable-zona-recoleta-caba-at-manpowergroup-3701339110?refId=ggC5nGh0r46FGsth2u9OxQ%3D%3D&trackingId=oaHLNGguru8V2bwzKN1fUA%3D%3D&position=17&pageNum=35&trk=public_jobs_jserp-result_search-card',\n",
       " 'https://ar.linkedin.com/jobs/view/administrativa-contable-at-syntesys-consultora-en-recursos-humanos-3696479660?refId=ggC5nGh0r46FGsth2u9OxQ%3D%3D&trackingId=Zu56UQpgtBOtjzYN28uidA%3D%3D&position=18&pageNum=35&trk=public_jobs_jserp-result_search-card',\n",
       " 'https://ar.linkedin.com/jobs/view/analista-de-cr%C3%A9dito-at-grupo-petersen-3675844641?refId=ggC5nGh0r46FGsth2u9OxQ%3D%3D&trackingId=0kpXcl%2BU%2BuikWaEf1xtR5w%3D%3D&position=19&pageNum=35&trk=public_jobs_jserp-result_search-card',\n",
       " 'https://ar.linkedin.com/jobs/view/responsable-de-control-de-calidad-para-coordinaci%C3%B3n-y-mejora-de-producci%C3%B3n-at-camera-di-commercio-italiana-nella-repubblica-argentina-3698164366?refId=ggC5nGh0r46FGsth2u9OxQ%3D%3D&trackingId=rU6Y85R1cIlnDVs0zvOoWg%3D%3D&position=20&pageNum=35&trk=public_jobs_jserp-result_search-card',\n",
       " 'https://ar.linkedin.com/jobs/view/data-visualization-at-michael-page-3611161848?refId=ggC5nGh0r46FGsth2u9OxQ%3D%3D&trackingId=xG2h%2BhTPZYpTOsuQL4%2FtCw%3D%3D&position=21&pageNum=35&trk=public_jobs_jserp-result_search-card',\n",
       " 'https://ar.linkedin.com/jobs/view/analista-de-cromatografi%CC%81a-gaseosa-at-sa-veracruz-3696488795?refId=ggC5nGh0r46FGsth2u9OxQ%3D%3D&trackingId=8PDA6wnWTk7XPhKgsQ4ABg%3D%3D&position=22&pageNum=35&trk=public_jobs_jserp-result_search-card',\n",
       " 'https://ar.linkedin.com/jobs/view/analista-administrativo-de-ventas-at-hidromec-argentina-3696481545?refId=ggC5nGh0r46FGsth2u9OxQ%3D%3D&trackingId=3zr%2BHpfgw9pk1uZK0apwZg%3D%3D&position=23&pageNum=35&trk=public_jobs_jserp-result_search-card',\n",
       " 'https://ar.linkedin.com/jobs/view/it-solution-specialist-data-analytics-at-stefanini-latam-3696478782?refId=ggC5nGh0r46FGsth2u9OxQ%3D%3D&trackingId=28pJ1Fa%2F%2FSke1MaVAgn3EA%3D%3D&position=24&pageNum=35&trk=public_jobs_jserp-result_search-card',\n",
       " 'https://ar.linkedin.com/jobs/view/administrativo-turno-noche-at-coto-3696482347?refId=ggC5nGh0r46FGsth2u9OxQ%3D%3D&trackingId=qj2j2DwLTnQ9RIWQlUVQlg%3D%3D&position=25&pageNum=35&trk=public_jobs_jserp-result_search-card',\n",
       " 'https://ar.linkedin.com/jobs/view/strategic-planning-analysis-finance-business-management-associate-buenos-aires-at-jpmorgan-chase-co-3677644498?refId=BtluznROziRQK5A1JQ1BYQ%3D%3D&trackingId=cF9wrmB%2BdyZu6JOMDizJCA%3D%3D&position=1&pageNum=36&trk=public_jobs_jserp-result_search-card',\n",
       " 'https://ar.linkedin.com/jobs/view/analista-comercial-at-serena-hr-consultoras-3693703177?refId=BtluznROziRQK5A1JQ1BYQ%3D%3D&trackingId=xBpmfrZrXvUswwbIhrubiw%3D%3D&position=4&pageNum=36&trk=public_jobs_jserp-result_search-card',\n",
       " 'https://ar.linkedin.com/jobs/view/administrador-de-base-de-datos-para-empresa-de-ti-at-wurzel-recruitment-3680005646?refId=BtluznROziRQK5A1JQ1BYQ%3D%3D&trackingId=a3htOnqdVrZryEW%2BBVtaCw%3D%3D&position=5&pageNum=36&trk=public_jobs_jserp-result_search-card',\n",
       " 'https://ar.linkedin.com/jobs/view/analista-de-help-desk-it-at-ctl-information-technology-3661509894?refId=BtluznROziRQK5A1JQ1BYQ%3D%3D&trackingId=8kJJT8hG9GRk9M5%2BHbH6Pw%3D%3D&position=6&pageNum=36&trk=public_jobs_jserp-result_search-card',\n",
       " 'https://ar.linkedin.com/jobs/view/analista-jr-de-despacho-de-gas-y-combustibles-l%C3%ADquidos-at-central-puerto-3675839616?refId=BtluznROziRQK5A1JQ1BYQ%3D%3D&trackingId=dChUzYZiElUB7cvbeIaDTQ%3D%3D&position=7&pageNum=36&trk=public_jobs_jserp-result_search-card',\n",
       " 'https://ar.linkedin.com/jobs/view/administrativo-a-ssr-de-compras-at-ilyg-3661103484?refId=BtluznROziRQK5A1JQ1BYQ%3D%3D&trackingId=9sSKhnWXmtM8uZWvqs6T8Q%3D%3D&position=8&pageNum=36&trk=public_jobs_jserp-result_search-card',\n",
       " 'https://ar.linkedin.com/jobs/view/ingeniero-de-datos-at-it-solutions-group-sa-3675836647?refId=BtluznROziRQK5A1JQ1BYQ%3D%3D&trackingId=1iV382HRqHSjj0l2hrTASA%3D%3D&position=9&pageNum=36&trk=public_jobs_jserp-result_search-card',\n",
       " 'https://ar.linkedin.com/jobs/view/tecnico-asistente-de-proyectos-at-agidea-3675837754?refId=BtluznROziRQK5A1JQ1BYQ%3D%3D&trackingId=CVMWAVF6hBxECsK4ur9Zzw%3D%3D&position=10&pageNum=36&trk=public_jobs_jserp-result_search-card',\n",
       " 'https://ar.linkedin.com/jobs/view/analista-de-consumo-at-cee-enriquez-3696489253?refId=BtluznROziRQK5A1JQ1BYQ%3D%3D&trackingId=fnS8KyCXhvgwtmrEM%2BLJNA%3D%3D&position=11&pageNum=36&trk=public_jobs_jserp-result_search-card',\n",
       " 'https://ar.linkedin.com/jobs/view/analista-de-pricing-at-michael-page-3697771166?refId=BtluznROziRQK5A1JQ1BYQ%3D%3D&trackingId=ual6LXKXGxZQI70rXcirvQ%3D%3D&position=12&pageNum=36&trk=public_jobs_jserp-result_search-card',\n",
       " 'https://ar.linkedin.com/jobs/view/asistente-de-cobranzas-at-schindler-group-3688773136?refId=BtluznROziRQK5A1JQ1BYQ%3D%3D&trackingId=Pau%2BjFWdP%2BDVSo2aEkPXJw%3D%3D&position=13&pageNum=36&trk=public_jobs_jserp-result_search-card',\n",
       " 'https://ar.linkedin.com/jobs/view/data-analyst-ssr-at-grupo-abans-3664022042?refId=BtluznROziRQK5A1JQ1BYQ%3D%3D&trackingId=4HnuXYV70LGQxpx5WHs%2Bug%3D%3D&position=14&pageNum=36&trk=public_jobs_jserp-result_search-card',\n",
       " 'https://ar.linkedin.com/jobs/view/analista-de-control-de-gestio%CC%81n-at-grupo-lucci-3696469986?refId=BtluznROziRQK5A1JQ1BYQ%3D%3D&trackingId=0t8OZpknlDuivIB5gMB31A%3D%3D&position=15&pageNum=36&trk=public_jobs_jserp-result_search-card',\n",
       " 'https://ar.linkedin.com/jobs/view/analista-de-sistemas-at-penta-security-solutions-3696482729?refId=BtluznROziRQK5A1JQ1BYQ%3D%3D&trackingId=QOfOTr%2BdYNOEPC7EeCi6vQ%3D%3D&position=16&pageNum=36&trk=public_jobs_jserp-result_search-card',\n",
       " 'https://ar.linkedin.com/jobs/view/data-researcher-i-at-s-p-global-3696150372?refId=BtluznROziRQK5A1JQ1BYQ%3D%3D&trackingId=93loWwrYV6KtnJWEXskB7w%3D%3D&position=17&pageNum=36&trk=public_jobs_jserp-result_search-card',\n",
       " 'https://ar.linkedin.com/jobs/view/especialista-de-operaciones-y-mantenimiento-b2b-at-telecentro-3688927174?refId=BtluznROziRQK5A1JQ1BYQ%3D%3D&trackingId=trGbVWpja0qaDt8IhhiSxA%3D%3D&position=18&pageNum=36&trk=public_jobs_jserp-result_search-card',\n",
       " 'https://ar.linkedin.com/jobs/view/soporte-t%C3%A9cnico-monte-grande-h%C3%ADbrido-at-kaver-3675839711?refId=BtluznROziRQK5A1JQ1BYQ%3D%3D&trackingId=8Q3pLodMWFGB5q4ZuITifw%3D%3D&position=19&pageNum=36&trk=public_jobs_jserp-result_search-card',\n",
       " 'https://ar.linkedin.com/jobs/view/pasante-de-pricing-at-bic-3673332434?refId=BtluznROziRQK5A1JQ1BYQ%3D%3D&trackingId=GYIoYeznjasxBOhGWFBrYg%3D%3D&position=20&pageNum=36&trk=public_jobs_jserp-result_search-card',\n",
       " 'https://ar.linkedin.com/jobs/view/associate-i-forensic-investigations-and-intelligence-at-kroll-3598761278?refId=BtluznROziRQK5A1JQ1BYQ%3D%3D&trackingId=x1i2h%2BI94tHEs2U4rqCyXg%3D%3D&position=21&pageNum=36&trk=public_jobs_jserp-result_search-card',\n",
       " 'https://ar.linkedin.com/jobs/view/analista-junior-de-gestio%CC%81n-ehs-at-co%2B-recursos-humanos-3696485356?refId=BtluznROziRQK5A1JQ1BYQ%3D%3D&trackingId=iI8N1ewnJRjPS2G6qK0MvQ%3D%3D&position=22&pageNum=36&trk=public_jobs_jserp-result_search-card',\n",
       " 'https://ar.linkedin.com/jobs/view/project-manager-jr-at-educacionit-3679318055?refId=BtluznROziRQK5A1JQ1BYQ%3D%3D&trackingId=gvsAjxygbsJO4Qk0KWctOg%3D%3D&position=23&pageNum=36&trk=public_jobs_jserp-result_search-card',\n",
       " 'https://ar.linkedin.com/jobs/view/analista-de-cuentas-corrientes-at-likework-3696492152?refId=BtluznROziRQK5A1JQ1BYQ%3D%3D&trackingId=Xx6FZ1hIaCEF2DTaEYIPEg%3D%3D&position=24&pageNum=36&trk=public_jobs_jserp-result_search-card',\n",
       " 'https://ar.linkedin.com/jobs/view/sr-finance-analyst-h%C3%ADbrido-caba-at-randstad-argentina-3699050378?refId=BtluznROziRQK5A1JQ1BYQ%3D%3D&trackingId=8kfJfA5WBJvviPvEm47wNg%3D%3D&position=25&pageNum=36&trk=public_jobs_jserp-result_search-card',\n",
       " 'https://ar.linkedin.com/jobs/view/analista-contable-de-gesti%C3%B3n-jr-at-sv-matesur-3672534123?refId=HQv7XrcYtr0iW8iLjvr71w%3D%3D&trackingId=zQt%2BDIL7TVM%2BqUxEdgHUbA%3D%3D&position=1&pageNum=37&trk=public_jobs_jserp-result_search-card',\n",
       " 'https://ar.linkedin.com/jobs/view/analista-contable-at-megatone-3685420037?refId=HQv7XrcYtr0iW8iLjvr71w%3D%3D&trackingId=gJSLz%2FnRdtprxg%2Fpzqv7AA%3D%3D&position=2&pageNum=37&trk=public_jobs_jserp-result_search-card',\n",
       " 'https://ar.linkedin.com/jobs/view/analistas-de-control-y-gesti%C3%B3n-de-calidad-at-pecom-3627172978?refId=HQv7XrcYtr0iW8iLjvr71w%3D%3D&trackingId=YdKY6ZDAnF50rMShlyiCTg%3D%3D&position=3&pageNum=37&trk=public_jobs_jserp-result_search-card',\n",
       " 'https://ar.linkedin.com/jobs/view/ingeniero-inteligencia-artificial-at-rocketbot-robotic-process-automation-rpa-3701314085?refId=HQv7XrcYtr0iW8iLjvr71w%3D%3D&trackingId=cjM4qkkBTJwA2zrWtwwhSw%3D%3D&position=4&pageNum=37&trk=public_jobs_jserp-result_search-card',\n",
       " 'https://ar.linkedin.com/jobs/view/analista-funcional-sap-mm-jr-ref-mjh-at-educacionit-3679313060?refId=HQv7XrcYtr0iW8iLjvr71w%3D%3D&trackingId=S0OFyqKxTuSFo57VRmCKyg%3D%3D&position=5&pageNum=37&trk=public_jobs_jserp-result_search-card',\n",
       " 'https://ar.linkedin.com/jobs/view/data-analytics-and-insights-analytics-and-modeling-specialist-at-accenture-argentina-3672022000?refId=HQv7XrcYtr0iW8iLjvr71w%3D%3D&trackingId=tWGzbnnP4sK9P9Dzz2Lriw%3D%3D&position=6&pageNum=37&trk=public_jobs_jserp-result_search-card',\n",
       " 'https://ar.linkedin.com/jobs/view/data-scientist-ssr-sr-at-kilimo-3672786383?refId=HQv7XrcYtr0iW8iLjvr71w%3D%3D&trackingId=uPqk0vH9It7DAO18OBkJdg%3D%3D&position=7&pageNum=37&trk=public_jobs_jserp-result_search-card',\n",
       " 'https://ar.linkedin.com/jobs/view/especialista-en-mejora-continua-at-haleon-3689164701?refId=HQv7XrcYtr0iW8iLjvr71w%3D%3D&trackingId=Fhyn6tXcF71cNuoUyfVhEg%3D%3D&position=8&pageNum=37&trk=public_jobs_jserp-result_search-card',\n",
       " 'https://ar.linkedin.com/jobs/view/ingeniero-de-datos-at-bumeran-selecta-per%C3%BA-3675842967?refId=HQv7XrcYtr0iW8iLjvr71w%3D%3D&trackingId=dspwflv%2FeSAMM8w3Zdl4Qg%3D%3D&position=9&pageNum=37&trk=public_jobs_jserp-result_search-card',\n",
       " 'https://ar.linkedin.com/jobs/view/ingeniero-de-datos-at-bumeran-selecta-per%C3%BA-3675847447?refId=HQv7XrcYtr0iW8iLjvr71w%3D%3D&trackingId=cy%2FOKqUdnaZJRuj7q4o21g%3D%3D&position=10&pageNum=37&trk=public_jobs_jserp-result_search-card',\n",
       " 'https://ar.linkedin.com/jobs/view/analista-experiencia-del-prestador-c%C3%B3rdoba-at-medif%C3%A9-3674026880?refId=HQv7XrcYtr0iW8iLjvr71w%3D%3D&trackingId=01DWIWDKpIwGTHBAu%2FwaXg%3D%3D&position=12&pageNum=37&trk=public_jobs_jserp-result_search-card',\n",
       " 'https://ar.linkedin.com/jobs/view/pricing-analyst-at-michael-page-3694165763?refId=HQv7XrcYtr0iW8iLjvr71w%3D%3D&trackingId=cQXXqd%2B%2BIQEfTmJWvtRohw%3D%3D&position=13&pageNum=37&trk=public_jobs_jserp-result_search-card',\n",
       " 'https://ar.linkedin.com/jobs/view/coordinador-de-mesa-de-ayuda-it-ref-16136-at-stefanini-latam-3703871156?refId=HQv7XrcYtr0iW8iLjvr71w%3D%3D&trackingId=W%2FnaDnARbqpJxiofaFUO3A%3D%3D&position=15&pageNum=37&trk=public_jobs_jserp-result_search-card',\n",
       " 'https://ar.linkedin.com/jobs/view/laboratory-analyst-contrato-plazo-fijo-por-1-a%C3%B1o-at-sanofi-3703513311?refId=HQv7XrcYtr0iW8iLjvr71w%3D%3D&trackingId=BBk2MlMR8Y8RTR9fhETAIw%3D%3D&position=16&pageNum=37&trk=public_jobs_jserp-result_search-card',\n",
       " 'https://ar.linkedin.com/jobs/view/pl-sql-developer-ssr-at-kdtalent-3691832106?refId=HQv7XrcYtr0iW8iLjvr71w%3D%3D&trackingId=A5ZfzBQkXEZw10wtpOQOXA%3D%3D&position=17&pageNum=37&trk=public_jobs_jserp-result_search-card',\n",
       " 'https://ar.linkedin.com/jobs/view/analista-de-cr%C3%A9ditos-at-cargill-3691235939?refId=HQv7XrcYtr0iW8iLjvr71w%3D%3D&trackingId=%2FecaLc6uxTlqA2zlURmRrQ%3D%3D&position=18&pageNum=37&trk=public_jobs_jserp-result_search-card',\n",
       " 'https://ar.linkedin.com/jobs/view/coordinador-de-abastecimiento-at-houston-management-hr-3684013458?refId=HQv7XrcYtr0iW8iLjvr71w%3D%3D&trackingId=QmSQHFuB0PSMKlXRfL9J5Q%3D%3D&position=19&pageNum=37&trk=public_jobs_jserp-result_search-card',\n",
       " 'https://ar.linkedin.com/jobs/view/data-scientist-ssr-uell-at-emergencias-3685841948?refId=HQv7XrcYtr0iW8iLjvr71w%3D%3D&trackingId=2zwRTp7iboylRKpHreynrw%3D%3D&position=20&pageNum=37&trk=public_jobs_jserp-result_search-card',\n",
       " 'https://ar.linkedin.com/jobs/view/analista-ciberseguridad-at-agnostic-a-cognitive-company-3675848280?refId=HQv7XrcYtr0iW8iLjvr71w%3D%3D&trackingId=j%2B0dMHJQne0qex1BeHhIsg%3D%3D&position=21&pageNum=37&trk=public_jobs_jserp-result_search-card',\n",
       " 'https://ar.linkedin.com/jobs/view/arg-data-engineer-at-telef%C3%B3nica-3681581919?refId=HQv7XrcYtr0iW8iLjvr71w%3D%3D&trackingId=KpfFUyqETiWdpMmlc%2BSLpQ%3D%3D&position=22&pageNum=37&trk=public_jobs_jserp-result_search-card',\n",
       " 'https://ar.linkedin.com/jobs/view/administrativo-ctas-ctes-pago-proveedores-at-nexo-group-3696484245?refId=HQv7XrcYtr0iW8iLjvr71w%3D%3D&trackingId=yQ01Xwk6NsrUIGpLSMlMGA%3D%3D&position=23&pageNum=37&trk=public_jobs_jserp-result_search-card',\n",
       " 'https://ar.linkedin.com/jobs/view/analista-de-pcp-at-ceta-capital-humano-3675844283?refId=HQv7XrcYtr0iW8iLjvr71w%3D%3D&trackingId=S9hEcNlBCfuLfO4ZbKXRaQ%3D%3D&position=24&pageNum=37&trk=public_jobs_jserp-result_search-card',\n",
       " 'https://ar.linkedin.com/jobs/view/analista-de-cromatografi%CC%81a-gaseosa-at-sa-veracruz-3696488925?refId=HQv7XrcYtr0iW8iLjvr71w%3D%3D&trackingId=5OELEvALV2KtEfFGl6A7bA%3D%3D&position=25&pageNum=37&trk=public_jobs_jserp-result_search-card',\n",
       " 'https://ar.linkedin.com/jobs/view/data-scientist-sr-at-banco-supervielle-3675839611?refId=EdxVC1zCJK4ZUIWxptdt4g%3D%3D&trackingId=28waCHrSD2pfoqcP97Agtw%3D%3D&position=1&pageNum=38&trk=public_jobs_jserp-result_search-card',\n",
       " 'https://ar.linkedin.com/jobs/view/data-analytics-and-insights-analytics-and-modeling-specialist-at-accenture-argentina-3670353058?refId=EdxVC1zCJK4ZUIWxptdt4g%3D%3D&trackingId=GV%2F6Opt7cbTRuTUHFDHacw%3D%3D&position=2&pageNum=38&trk=public_jobs_jserp-result_search-card',\n",
       " 'https://ar.linkedin.com/jobs/view/coordinador-a-de-medio-ambiente-y-seguridad-operativa-at-hidalgo-asociados-3686398722?refId=EdxVC1zCJK4ZUIWxptdt4g%3D%3D&trackingId=CIxYJjjpIOTzrQDQ1UzpXQ%3D%3D&position=3&pageNum=38&trk=public_jobs_jserp-result_search-card',\n",
       " 'https://ar.linkedin.com/jobs/view/data-engineer-at-algar-tech-latam-3696490192?refId=EdxVC1zCJK4ZUIWxptdt4g%3D%3D&trackingId=Zk8kq2qTcLImn7i1YJGCIg%3D%3D&position=4&pageNum=38&trk=public_jobs_jserp-result_search-card',\n",
       " 'https://ar.linkedin.com/jobs/view/asistente-te%CC%81cnico-orientacio%CC%81n-informa%CC%81tica-at-ort-argentina-3696484556?refId=EdxVC1zCJK4ZUIWxptdt4g%3D%3D&trackingId=SHxe6kkqllAToVfCQ%2BeuxQ%3D%3D&position=5&pageNum=38&trk=public_jobs_jserp-result_search-card',\n",
       " 'https://ar.linkedin.com/jobs/view/analista-de-seguridad-de-la-informaci%C3%B3n-at-bumeran-selecta-3675844454?refId=EdxVC1zCJK4ZUIWxptdt4g%3D%3D&trackingId=N6Uqr7kjg7Yta2gkmSEs4g%3D%3D&position=6&pageNum=38&trk=public_jobs_jserp-result_search-card',\n",
       " 'https://ar.linkedin.com/jobs/view/seguridad-inform%C3%A1tica-at-pandit-3677197984?refId=EdxVC1zCJK4ZUIWxptdt4g%3D%3D&trackingId=%2BSXHtDIctQRWR7ZXCVKL4w%3D%3D&position=7&pageNum=38&trk=public_jobs_jserp-result_search-card',\n",
       " 'https://ar.linkedin.com/jobs/view/analista-de-produccion-at-find-u-3696490272?refId=EdxVC1zCJK4ZUIWxptdt4g%3D%3D&trackingId=eULMxCaae4GlWovtvsv9sQ%3D%3D&position=8&pageNum=38&trk=public_jobs_jserp-result_search-card',\n",
       " 'https://ar.linkedin.com/jobs/view/pasante-de-pricing-animal-health-at-boehringer-ingelheim-3701152600?refId=EdxVC1zCJK4ZUIWxptdt4g%3D%3D&trackingId=0kQ7K7DpV9T4LDPw%2B83vjw%3D%3D&position=9&pageNum=38&trk=public_jobs_jserp-result_search-card',\n",
       " 'https://ar.linkedin.com/jobs/view/analista-de-cromatografi%CC%81a-gaseosa-at-sa-veracruz-3696490446?refId=EdxVC1zCJK4ZUIWxptdt4g%3D%3D&trackingId=%2FggdaKpIV1lhG2HgCCpIng%3D%3D&position=10&pageNum=38&trk=public_jobs_jserp-result_search-card',\n",
       " 'https://ar.linkedin.com/jobs/view/analista-administrativo-at-droguer%C3%ADa-comarsa-s-a-3702609599?refId=EdxVC1zCJK4ZUIWxptdt4g%3D%3D&trackingId=U7WC%2FMvKGxyvaYKW2tVIoA%3D%3D&position=11&pageNum=38&trk=public_jobs_jserp-result_search-card',\n",
       " 'https://ar.linkedin.com/jobs/view/administrativo-de-deducciones-at-hospital-brit%C3%A1nico-3696489365?refId=EdxVC1zCJK4ZUIWxptdt4g%3D%3D&trackingId=ux%2BUcSTZOLmKx6YCTAolWA%3D%3D&position=12&pageNum=38&trk=public_jobs_jserp-result_search-card',\n",
       " 'https://ar.linkedin.com/jobs/view/account-growth-manager-at-rappi-3674741994?refId=EdxVC1zCJK4ZUIWxptdt4g%3D%3D&trackingId=Dj12s3yf85g3LWnfgjUeSg%3D%3D&position=13&pageNum=38&trk=public_jobs_jserp-result_search-card',\n",
       " 'https://ar.linkedin.com/jobs/view/analista-programador-sql-c-softland-at-gen-staffing-recruiting-3675843560?refId=EdxVC1zCJK4ZUIWxptdt4g%3D%3D&trackingId=XTRZyIYogtPjBEqSNd8oiQ%3D%3D&position=14&pageNum=38&trk=public_jobs_jserp-result_search-card',\n",
       " 'https://ar.linkedin.com/jobs/view/analista-control-de-gesti%C3%B3n-casino-bs-as-at-servicios-compartidos-de-empleos-3679619850?refId=EdxVC1zCJK4ZUIWxptdt4g%3D%3D&trackingId=cB4xMV9zd2%2FoUnZI%2BI7qqQ%3D%3D&position=15&pageNum=38&trk=public_jobs_jserp-result_search-card',\n",
       " 'https://ar.linkedin.com/jobs/view/ingenieros-de-datos-y-aplicaciones-big-data-at-tesis-it-automation-3696483092?refId=EdxVC1zCJK4ZUIWxptdt4g%3D%3D&trackingId=PNYbXNMdBto5kj59vOQxLQ%3D%3D&position=16&pageNum=38&trk=public_jobs_jserp-result_search-card',\n",
       " 'https://ar.linkedin.com/jobs/view/paid-media-at-likework-3696480201?refId=EdxVC1zCJK4ZUIWxptdt4g%3D%3D&trackingId=OMITVMMqMV1e7FwnyTK%2B%2Fg%3D%3D&position=17&pageNum=38&trk=public_jobs_jserp-result_search-card',\n",
       " 'https://ar.linkedin.com/jobs/view/soporte-de-hsma-y-personal-at-cervecer%C3%ADa-y-malter%C3%ADa-quilmes-3693977933?refId=EdxVC1zCJK4ZUIWxptdt4g%3D%3D&trackingId=iki04AqNn33T0Kp41jM3Pw%3D%3D&position=18&pageNum=38&trk=public_jobs_jserp-result_search-card',\n",
       " 'https://ar.linkedin.com/jobs/view/sr-data-analyst-at-bettervet-3666792230?refId=EdxVC1zCJK4ZUIWxptdt4g%3D%3D&trackingId=jZy0bH1PhcA7ryP%2BcRwu1w%3D%3D&position=19&pageNum=38&trk=public_jobs_jserp-result_search-card',\n",
       " 'https://ar.linkedin.com/jobs/view/analista-contable-impuestos-at-talentgrowers-3675848441?refId=EdxVC1zCJK4ZUIWxptdt4g%3D%3D&trackingId=yT%2FTmrqTxloJdHTbTc7ubA%3D%3D&position=20&pageNum=38&trk=public_jobs_jserp-result_search-card',\n",
       " 'https://ar.linkedin.com/jobs/view/ingeniero-a-de-laboratorio-req153572-co%CC%81rdoba-luque-permanente-at-manpower-argentina-3696479411?refId=EdxVC1zCJK4ZUIWxptdt4g%3D%3D&trackingId=%2FAkWIc4pKvpD0QPMqexUCA%3D%3D&position=21&pageNum=38&trk=public_jobs_jserp-result_search-card',\n",
       " 'https://ar.linkedin.com/jobs/view/analista-de-garant%C3%ADa-de-calidad-at-laboratorio-tuteur-3700451759?refId=EdxVC1zCJK4ZUIWxptdt4g%3D%3D&trackingId=djH2siUnjZ2mDJUiBO5uQQ%3D%3D&position=22&pageNum=38&trk=public_jobs_jserp-result_search-card',\n",
       " 'https://ar.linkedin.com/jobs/view/j%C3%B3venes-profesionales-%E2%80%93-estudiantes-de-ingenier%C3%ADa-qu%C3%ADmica-part-time-at-sinteplast-3675837473?refId=EdxVC1zCJK4ZUIWxptdt4g%3D%3D&trackingId=aU3nqTPUOFnjWsZ5uT2zyA%3D%3D&position=23&pageNum=38&trk=public_jobs_jserp-result_search-card',\n",
       " 'https://ar.linkedin.com/jobs/view/analista-gesti%C3%B3n-de-ambientes-at-tgv-3704240284?refId=EdxVC1zCJK4ZUIWxptdt4g%3D%3D&trackingId=v7KLep9acEVUydFf3YQQ9g%3D%3D&position=24&pageNum=38&trk=public_jobs_jserp-result_search-card',\n",
       " 'https://ar.linkedin.com/jobs/view/asistente-de-produccio%CC%81n-pilar-at-consultora-zivot-3696475207?refId=EdxVC1zCJK4ZUIWxptdt4g%3D%3D&trackingId=anMHEcimQKas8hB%2FKu2D%2Bg%3D%3D&position=25&pageNum=38&trk=public_jobs_jserp-result_search-card',\n",
       " 'https://ar.linkedin.com/jobs/view/data-engineer-remoto-at-aliantec-3692686808?refId=j908%2FYtqIlQBNTqlBx1bTA%3D%3D&trackingId=D4QOPDue%2B0%2Fr%2FxZv0vP0QQ%3D%3D&position=1&pageNum=39&trk=public_jobs_jserp-result_search-card',\n",
       " 'https://ar.linkedin.com/jobs/view/paid-media-at-likework-3696478386?refId=j908%2FYtqIlQBNTqlBx1bTA%3D%3D&trackingId=MNY7xcaX4RLQfqj9hSORlw%3D%3D&position=2&pageNum=39&trk=public_jobs_jserp-result_search-card',\n",
       " 'https://ar.linkedin.com/jobs/view/ingeniero-de-produccio%CC%81n-pilar-at-consultora-zivot-3696477723?refId=j908%2FYtqIlQBNTqlBx1bTA%3D%3D&trackingId=8pdhUeXninMToG88lf6UMg%3D%3D&position=3&pageNum=39&trk=public_jobs_jserp-result_search-card',\n",
       " 'https://ar.linkedin.com/jobs/view/ingenieros-de-datos-y-aplicaciones-big-data-at-tesis-it-automation-3696478941?refId=j908%2FYtqIlQBNTqlBx1bTA%3D%3D&trackingId=LVqo4odx5y2uyuID5jixHA%3D%3D&position=4&pageNum=39&trk=public_jobs_jserp-result_search-card',\n",
       " 'https://ar.linkedin.com/jobs/view/analista-experiencia-del-prestador-trenque-lauquen-at-medif%C3%A9-3674027754?refId=j908%2FYtqIlQBNTqlBx1bTA%3D%3D&trackingId=bZKPaC2tAqq%2BGRBLwgmcjA%3D%3D&position=5&pageNum=39&trk=public_jobs_jserp-result_search-card',\n",
       " 'https://ar.linkedin.com/jobs/view/programadores-pl-sql-oracle-forms-y-reports-at-manpower-argentina-3696488569?refId=j908%2FYtqIlQBNTqlBx1bTA%3D%3D&trackingId=npJNbzrI5YgIK02938rzfg%3D%3D&position=6&pageNum=39&trk=public_jobs_jserp-result_search-card',\n",
       " 'https://ar.linkedin.com/jobs/view/profesor-a-looker-studio-con-google-analytics-4-remote-at-coderhouse-3522098050?refId=j908%2FYtqIlQBNTqlBx1bTA%3D%3D&trackingId=x9dnlKF471mb%2Fnj3zCB9Jw%3D%3D&position=8&pageNum=39&trk=public_jobs_jserp-result_search-card',\n",
       " 'https://ar.linkedin.com/jobs/view/kam-ecommerce-at-beiersdorf-3697786438?refId=j908%2FYtqIlQBNTqlBx1bTA%3D%3D&trackingId=A%2Bto0QIURgYH2nALgbJNig%3D%3D&position=9&pageNum=39&trk=public_jobs_jserp-result_search-card',\n",
       " 'https://ar.linkedin.com/jobs/view/analista-de-gesti%C3%B3n-comercial-at-bumeran-selecta-3675832777?refId=j908%2FYtqIlQBNTqlBx1bTA%3D%3D&trackingId=aimMrQ889noXzXN%2BCPYMZQ%3D%3D&position=10&pageNum=39&trk=public_jobs_jserp-result_search-card',\n",
       " 'https://ar.linkedin.com/jobs/view/customer-experience-cx-at-kadre-3693595059?refId=j908%2FYtqIlQBNTqlBx1bTA%3D%3D&trackingId=P3v05Lg5UH6WaGMOzaflJw%3D%3D&position=11&pageNum=39&trk=public_jobs_jserp-result_search-card',\n",
       " 'https://ar.linkedin.com/jobs/view/data-scientist-mix-on-site-remoto-at-aliantec-3692689343?refId=j908%2FYtqIlQBNTqlBx1bTA%3D%3D&trackingId=bdprOuUKHo2o8OnZ%2Fn7j4Q%3D%3D&position=12&pageNum=39&trk=public_jobs_jserp-result_search-card',\n",
       " 'https://ar.linkedin.com/jobs/view/data-engineer-it-at-algar-tech-latam-3696488749?refId=j908%2FYtqIlQBNTqlBx1bTA%3D%3D&trackingId=2eO8e%2FLYAdzBIoDKvgBSRw%3D%3D&position=13&pageNum=39&trk=public_jobs_jserp-result_search-card',\n",
       " 'https://ar.linkedin.com/jobs/view/product-manager-at-comparaonline-3702956605?refId=j908%2FYtqIlQBNTqlBx1bTA%3D%3D&trackingId=GEp81WaMxqBalQrR4hfsYA%3D%3D&position=14&pageNum=39&trk=public_jobs_jserp-result_search-card',\n",
       " 'https://ar.linkedin.com/jobs/view/paid-media-at-poncio-3696480717?refId=j908%2FYtqIlQBNTqlBx1bTA%3D%3D&trackingId=mQMvBE7xcn%2F4xcgn1HrKRg%3D%3D&position=15&pageNum=39&trk=public_jobs_jserp-result_search-card',\n",
       " 'https://ar.linkedin.com/jobs/view/recepcionista-de-postventa-at-grupo-tagle-3704374993?refId=j908%2FYtqIlQBNTqlBx1bTA%3D%3D&trackingId=BEea5uYEMLNnDJnk%2FtKiPQ%3D%3D&position=16&pageNum=39&trk=public_jobs_jserp-result_search-card',\n",
       " 'https://ar.linkedin.com/jobs/view/qa-tester-at-educacionit-3679327972?refId=j908%2FYtqIlQBNTqlBx1bTA%3D%3D&trackingId=F8KY6%2F6p3vmmO4QsVg%2BEGg%3D%3D&position=17&pageNum=39&trk=public_jobs_jserp-result_search-card',\n",
       " 'https://ar.linkedin.com/jobs/view/consultor-de-power-bi-senior-at-empleos-it-argentina-3679344154?refId=j908%2FYtqIlQBNTqlBx1bTA%3D%3D&trackingId=uN7tZoBZbpO%2Bc2Lgl03LBQ%3D%3D&position=18&pageNum=39&trk=public_jobs_jserp-result_search-card',\n",
       " 'https://ar.linkedin.com/jobs/view/coordinador-a-de-facilities-at-itba-universidad-3689793313?refId=j908%2FYtqIlQBNTqlBx1bTA%3D%3D&trackingId=kQvXaq0tWSNYgbAxVeoDKQ%3D%3D&position=19&pageNum=39&trk=public_jobs_jserp-result_search-card',\n",
       " 'https://ar.linkedin.com/jobs/view/analista-de-ciberseguridad-cybersecurity-at-penta-security-solutions-3682022461?refId=j908%2FYtqIlQBNTqlBx1bTA%3D%3D&trackingId=4sFwakIA2ziikyPJ19ArdQ%3D%3D&position=20&pageNum=39&trk=public_jobs_jserp-result_search-card',\n",
       " 'https://ar.linkedin.com/jobs/view/sr-data-analyst-y-auditor%C3%ADa-continua-at-pwc-argentina-3679069785?refId=j908%2FYtqIlQBNTqlBx1bTA%3D%3D&trackingId=pRzWAIE7UX9hsiIyzMpMUQ%3D%3D&position=21&pageNum=39&trk=public_jobs_jserp-result_search-card',\n",
       " 'https://ar.linkedin.com/jobs/view/data-analytics-and-insights-analytics-and-modeling-senior-analyst-at-accenture-argentina-3669669642?refId=j908%2FYtqIlQBNTqlBx1bTA%3D%3D&trackingId=vU3DeoQNqd%2FGH2Tl5HZcKw%3D%3D&position=22&pageNum=39&trk=public_jobs_jserp-result_search-card',\n",
       " 'https://ar.linkedin.com/jobs/view/analista-de-laboratorio-at-porta-hnos-s-a-3696483388?refId=j908%2FYtqIlQBNTqlBx1bTA%3D%3D&trackingId=guZHccgNTh2ZLFzrHN1%2F%2FA%3D%3D&position=23&pageNum=39&trk=public_jobs_jserp-result_search-card',\n",
       " 'https://ar.linkedin.com/jobs/view/responsable-de-control-de-gestio%CC%81n-at-sa-veracruz-3696490364?refId=j908%2FYtqIlQBNTqlBx1bTA%3D%3D&trackingId=QfbCbwhy8FMWS8cPoYMwTA%3D%3D&position=24&pageNum=39&trk=public_jobs_jserp-result_search-card',\n",
       " 'https://ar.linkedin.com/jobs/view/growth-marketing-biling%C3%BCe-at-educacionit-3679343114?refId=j908%2FYtqIlQBNTqlBx1bTA%3D%3D&trackingId=M%2BKJHdffxmyPBYn6dm6ydw%3D%3D&position=25&pageNum=39&trk=public_jobs_jserp-result_search-card']"
      ]
     },
     "execution_count": 61,
     "metadata": {},
     "output_type": "execute_result"
    }
   ],
   "source": [
    "hrefList"
   ]
  },
  {
   "cell_type": "code",
   "execution_count": null,
   "metadata": {},
   "outputs": [],
   "source": [
    "titles = driver.find_elements(By.CLASS_NAME, 'base-search-card__title')\n",
    "\n",
    "# Inicializar una lista para almacenar los nombres de compañías\n",
    "titles_names = []\n",
    "\n",
    "# Iterar a través de los elementos y agregar los nombres a la lista\n",
    "for title in titles:\n",
    "    titles_names.append(title.text)"
   ]
  },
  {
   "cell_type": "code",
   "execution_count": 21,
   "metadata": {},
   "outputs": [],
   "source": [
    "l = hrefList[:1]"
   ]
  },
  {
   "cell_type": "code",
   "execution_count": 22,
   "metadata": {},
   "outputs": [
    {
     "data": {
      "text/plain": [
       "['https://ar.linkedin.com/jobs/view/analista-jr-de-control-de-gesti%C3%B3n-at-aeropuertos-argentina-2000-3697739395?refId=S9YqbQFPxr1orvbLo97uQg%3D%3D&trackingId=tfZfQUxVT40NewIMTL3VRQ%3D%3D&position=1&pageNum=0&trk=public_jobs_jserp-result_search-card']"
      ]
     },
     "execution_count": 22,
     "metadata": {},
     "output_type": "execute_result"
    }
   ],
   "source": [
    "l"
   ]
  },
  {
   "cell_type": "code",
   "execution_count": 101,
   "metadata": {},
   "outputs": [
    {
     "name": "stdout",
     "output_type": "stream",
     "text": [
      "https://ar.linkedin.com/jobs/view/analista-de-centro-de-control-de-operaciones-junior-at-aeropuertos-argentina-2000-3693593413?refId=r2giPkGW4EuApwWkW6jSGg%3D%3D&trackingId=E1%2BXdV25rO%2FNEYbCHOLq8w%3D%3D&position=1&pageNum=0&trk=public_jobs_jserp-result_search-card <class 'str'>\n"
     ]
    }
   ],
   "source": [
    "for i in l:\n",
    "    print(i,type(i))"
   ]
  },
  {
   "cell_type": "code",
   "execution_count": 24,
   "metadata": {},
   "outputs": [
    {
     "ename": "NoSuchElementException",
     "evalue": "Message: no such element: Unable to locate element: {\"method\":\"xpath\",\"selector\":\"//span[contains(text(), 'Nivel de antigüedad')]\"}\n  (Session info: chrome=116.0.5845.96); For documentation on this error, please visit: https://www.selenium.dev/documentation/webdriver/troubleshooting/errors#no-such-element-exception\nStacktrace:\n\tGetHandleVerifier [0x00007FF6C5C752A2+57122]\n\t(No symbol) [0x00007FF6C5BEEA92]\n\t(No symbol) [0x00007FF6C5ABE3AB]\n\t(No symbol) [0x00007FF6C5AF7D3E]\n\t(No symbol) [0x00007FF6C5AF7E2C]\n\t(No symbol) [0x00007FF6C5AEEC3C]\n\t(No symbol) [0x00007FF6C5B1701F]\n\t(No symbol) [0x00007FF6C5AEEB76]\n\t(No symbol) [0x00007FF6C5B171F0]\n\t(No symbol) [0x00007FF6C5B2EB82]\n\t(No symbol) [0x00007FF6C5B16DB3]\n\t(No symbol) [0x00007FF6C5AED2B1]\n\t(No symbol) [0x00007FF6C5AEE494]\n\tGetHandleVerifier [0x00007FF6C5F1EF82+2849794]\n\tGetHandleVerifier [0x00007FF6C5F71D24+3189156]\n\tGetHandleVerifier [0x00007FF6C5F6ACAF+3160367]\n\tGetHandleVerifier [0x00007FF6C5D06D06+653702]\n\t(No symbol) [0x00007FF6C5BFA208]\n\t(No symbol) [0x00007FF6C5BF62C4]\n\t(No symbol) [0x00007FF6C5BF63F6]\n\t(No symbol) [0x00007FF6C5BE67A3]\n\tBaseThreadInitThunk [0x00007FFAF24E26AD+29]\n\tRtlUserThreadStart [0x00007FFAF414AA68+40]\n",
     "output_type": "error",
     "traceback": [
      "\u001b[1;31m---------------------------------------------------------------------------\u001b[0m",
      "\u001b[1;31mNoSuchElementException\u001b[0m                    Traceback (most recent call last)",
      "Cell \u001b[1;32mIn[24], line 10\u001b[0m\n\u001b[0;32m      7\u001b[0m lista \u001b[39m=\u001b[39m driver\u001b[39m.\u001b[39mfind_element(By\u001b[39m.\u001b[39mCLASS_NAME, \u001b[39m'\u001b[39m\u001b[39mdescription__job-criteria-list\u001b[39m\u001b[39m'\u001b[39m)\n\u001b[0;32m      9\u001b[0m \u001b[39m# Encuentra los elementos de texto dentro de la lista\u001b[39;00m\n\u001b[1;32m---> 10\u001b[0m antiguedad_element \u001b[39m=\u001b[39m lista\u001b[39m.\u001b[39;49mfind_element(By\u001b[39m.\u001b[39;49mXPATH, \u001b[39m\"\u001b[39;49m\u001b[39m//span[contains(text(), \u001b[39;49m\u001b[39m'\u001b[39;49m\u001b[39mNivel de antigüedad\u001b[39;49m\u001b[39m'\u001b[39;49m\u001b[39m)]\u001b[39;49m\u001b[39m\"\u001b[39;49m)\n\u001b[0;32m     12\u001b[0m \u001b[39m# Obtén el texto del elemento siguiente en el mismo nivel\u001b[39;00m\n\u001b[0;32m     13\u001b[0m nivel_antiguedad \u001b[39m=\u001b[39m antiguedad_element\u001b[39m.\u001b[39mfind_element(By\u001b[39m.\u001b[39mXPATH, \u001b[39m\"\u001b[39m\u001b[39m./following-sibling::span\u001b[39m\u001b[39m\"\u001b[39m)\u001b[39m.\u001b[39mtext\n",
      "File \u001b[1;32mc:\\Users\\julie\\OneDrive\\Escritorio\\Linkedin\\env\\lib\\site-packages\\selenium\\webdriver\\remote\\webelement.py:417\u001b[0m, in \u001b[0;36mWebElement.find_element\u001b[1;34m(self, by, value)\u001b[0m\n\u001b[0;32m    414\u001b[0m     by \u001b[39m=\u001b[39m By\u001b[39m.\u001b[39mCSS_SELECTOR\n\u001b[0;32m    415\u001b[0m     value \u001b[39m=\u001b[39m \u001b[39mf\u001b[39m\u001b[39m'\u001b[39m\u001b[39m[name=\u001b[39m\u001b[39m\"\u001b[39m\u001b[39m{\u001b[39;00mvalue\u001b[39m}\u001b[39;00m\u001b[39m\"\u001b[39m\u001b[39m]\u001b[39m\u001b[39m'\u001b[39m\n\u001b[1;32m--> 417\u001b[0m \u001b[39mreturn\u001b[39;00m \u001b[39mself\u001b[39;49m\u001b[39m.\u001b[39;49m_execute(Command\u001b[39m.\u001b[39;49mFIND_CHILD_ELEMENT, {\u001b[39m\"\u001b[39;49m\u001b[39musing\u001b[39;49m\u001b[39m\"\u001b[39;49m: by, \u001b[39m\"\u001b[39;49m\u001b[39mvalue\u001b[39;49m\u001b[39m\"\u001b[39;49m: value})[\u001b[39m\"\u001b[39m\u001b[39mvalue\u001b[39m\u001b[39m\"\u001b[39m]\n",
      "File \u001b[1;32mc:\\Users\\julie\\OneDrive\\Escritorio\\Linkedin\\env\\lib\\site-packages\\selenium\\webdriver\\remote\\webelement.py:395\u001b[0m, in \u001b[0;36mWebElement._execute\u001b[1;34m(self, command, params)\u001b[0m\n\u001b[0;32m    393\u001b[0m     params \u001b[39m=\u001b[39m {}\n\u001b[0;32m    394\u001b[0m params[\u001b[39m\"\u001b[39m\u001b[39mid\u001b[39m\u001b[39m\"\u001b[39m] \u001b[39m=\u001b[39m \u001b[39mself\u001b[39m\u001b[39m.\u001b[39m_id\n\u001b[1;32m--> 395\u001b[0m \u001b[39mreturn\u001b[39;00m \u001b[39mself\u001b[39;49m\u001b[39m.\u001b[39;49m_parent\u001b[39m.\u001b[39;49mexecute(command, params)\n",
      "File \u001b[1;32mc:\\Users\\julie\\OneDrive\\Escritorio\\Linkedin\\env\\lib\\site-packages\\selenium\\webdriver\\remote\\webdriver.py:345\u001b[0m, in \u001b[0;36mWebDriver.execute\u001b[1;34m(self, driver_command, params)\u001b[0m\n\u001b[0;32m    343\u001b[0m response \u001b[39m=\u001b[39m \u001b[39mself\u001b[39m\u001b[39m.\u001b[39mcommand_executor\u001b[39m.\u001b[39mexecute(driver_command, params)\n\u001b[0;32m    344\u001b[0m \u001b[39mif\u001b[39;00m response:\n\u001b[1;32m--> 345\u001b[0m     \u001b[39mself\u001b[39;49m\u001b[39m.\u001b[39;49merror_handler\u001b[39m.\u001b[39;49mcheck_response(response)\n\u001b[0;32m    346\u001b[0m     response[\u001b[39m\"\u001b[39m\u001b[39mvalue\u001b[39m\u001b[39m\"\u001b[39m] \u001b[39m=\u001b[39m \u001b[39mself\u001b[39m\u001b[39m.\u001b[39m_unwrap_value(response\u001b[39m.\u001b[39mget(\u001b[39m\"\u001b[39m\u001b[39mvalue\u001b[39m\u001b[39m\"\u001b[39m, \u001b[39mNone\u001b[39;00m))\n\u001b[0;32m    347\u001b[0m     \u001b[39mreturn\u001b[39;00m response\n",
      "File \u001b[1;32mc:\\Users\\julie\\OneDrive\\Escritorio\\Linkedin\\env\\lib\\site-packages\\selenium\\webdriver\\remote\\errorhandler.py:229\u001b[0m, in \u001b[0;36mErrorHandler.check_response\u001b[1;34m(self, response)\u001b[0m\n\u001b[0;32m    227\u001b[0m         alert_text \u001b[39m=\u001b[39m value[\u001b[39m\"\u001b[39m\u001b[39malert\u001b[39m\u001b[39m\"\u001b[39m]\u001b[39m.\u001b[39mget(\u001b[39m\"\u001b[39m\u001b[39mtext\u001b[39m\u001b[39m\"\u001b[39m)\n\u001b[0;32m    228\u001b[0m     \u001b[39mraise\u001b[39;00m exception_class(message, screen, stacktrace, alert_text)  \u001b[39m# type: ignore[call-arg]  # mypy is not smart enough here\u001b[39;00m\n\u001b[1;32m--> 229\u001b[0m \u001b[39mraise\u001b[39;00m exception_class(message, screen, stacktrace)\n",
      "\u001b[1;31mNoSuchElementException\u001b[0m: Message: no such element: Unable to locate element: {\"method\":\"xpath\",\"selector\":\"//span[contains(text(), 'Nivel de antigüedad')]\"}\n  (Session info: chrome=116.0.5845.96); For documentation on this error, please visit: https://www.selenium.dev/documentation/webdriver/troubleshooting/errors#no-such-element-exception\nStacktrace:\n\tGetHandleVerifier [0x00007FF6C5C752A2+57122]\n\t(No symbol) [0x00007FF6C5BEEA92]\n\t(No symbol) [0x00007FF6C5ABE3AB]\n\t(No symbol) [0x00007FF6C5AF7D3E]\n\t(No symbol) [0x00007FF6C5AF7E2C]\n\t(No symbol) [0x00007FF6C5AEEC3C]\n\t(No symbol) [0x00007FF6C5B1701F]\n\t(No symbol) [0x00007FF6C5AEEB76]\n\t(No symbol) [0x00007FF6C5B171F0]\n\t(No symbol) [0x00007FF6C5B2EB82]\n\t(No symbol) [0x00007FF6C5B16DB3]\n\t(No symbol) [0x00007FF6C5AED2B1]\n\t(No symbol) [0x00007FF6C5AEE494]\n\tGetHandleVerifier [0x00007FF6C5F1EF82+2849794]\n\tGetHandleVerifier [0x00007FF6C5F71D24+3189156]\n\tGetHandleVerifier [0x00007FF6C5F6ACAF+3160367]\n\tGetHandleVerifier [0x00007FF6C5D06D06+653702]\n\t(No symbol) [0x00007FF6C5BFA208]\n\t(No symbol) [0x00007FF6C5BF62C4]\n\t(No symbol) [0x00007FF6C5BF63F6]\n\t(No symbol) [0x00007FF6C5BE67A3]\n\tBaseThreadInitThunk [0x00007FFAF24E26AD+29]\n\tRtlUserThreadStart [0x00007FFAF414AA68+40]\n"
     ]
    }
   ],
   "source": [
    "for i in l:\n",
    "    driver.get(i)\n",
    "    time.sleep(2)\n",
    "    #driver.find_element(By.XPATH,\"//button[@aria-label='Mostrar más, se amplía visualmente el contenido de lectura que aparece arriba']\").click()\n",
    "    # Encuentra todos los elementos con la clase que contiene las características\n",
    "    # Encuentra el elemento de lista\n",
    "    lista = driver.find_element(By.CLASS_NAME, 'description__job-criteria-list')\n",
    "\n",
    "    # Encuentra los elementos de texto dentro de la lista\n",
    "    antiguedad_element = lista.find_element(By.XPATH, \"//span[contains(text(), 'Nivel de antigüedad')]\")\n",
    "\n",
    "    # Obtén el texto del elemento siguiente en el mismo nivel\n",
    "    nivel_antiguedad = antiguedad_element.find_element(By.XPATH, \"./following-sibling::span\").text\n",
    "\n",
    "    # Imprimir el nivel de antigüedad para esta URL\n",
    "    print(nivel_antiguedad)\n"
   ]
  },
  {
   "cell_type": "code",
   "execution_count": 94,
   "metadata": {},
   "outputs": [
    {
     "data": {
      "text/plain": [
       "[]"
      ]
     },
     "execution_count": 94,
     "metadata": {},
     "output_type": "execute_result"
    }
   ],
   "source": [
    "antiguedades"
   ]
  },
  {
   "cell_type": "code",
   "execution_count": 100,
   "metadata": {},
   "outputs": [
    {
     "data": {
      "text/plain": [
       "[]"
      ]
     },
     "execution_count": 100,
     "metadata": {},
     "output_type": "execute_result"
    }
   ],
   "source": [
    "nivel_antiguedad"
   ]
  },
  {
   "cell_type": "code",
   "execution_count": 63,
   "metadata": {},
   "outputs": [],
   "source": [
    "job_desc = []"
   ]
  },
  {
   "cell_type": "code",
   "execution_count": 64,
   "metadata": {},
   "outputs": [],
   "source": [
    "for i in range(len(l)):\n",
    "    try:\n",
    "        driver.get(l[i])\n",
    "        time.sleep(2)\n",
    "        # Click See more.\n",
    "        driver.find_elements(By.CLASS_NAME,\"artdeco-card__actions\").click()\n",
    "        time.sleep(2)\n",
    "        print('h')\n",
    "    except:\n",
    "        pass\n",
    "       # Scraping the job description\n",
    "    job_description = driver.find_elements(By.CLASS_NAME,'jobs-description__content')\n",
    "    for description in job_description:\n",
    "        job_text = description.find_elements(By.CLASS_NAME,\"jobs-box__html-content\").text\n",
    "        job_desc.append(job_text)\n",
    "        time.sleep(2)  "
   ]
  },
  {
   "cell_type": "code",
   "execution_count": 65,
   "metadata": {},
   "outputs": [
    {
     "data": {
      "text/plain": [
       "[]"
      ]
     },
     "execution_count": 65,
     "metadata": {},
     "output_type": "execute_result"
    }
   ],
   "source": [
    "job_desc"
   ]
  },
  {
   "cell_type": "code",
   "execution_count": 83,
   "metadata": {},
   "outputs": [
    {
     "data": {
      "text/plain": [
       "800"
      ]
     },
     "execution_count": 83,
     "metadata": {},
     "output_type": "execute_result"
    }
   ],
   "source": [
    "len(company_names)"
   ]
  },
  {
   "cell_type": "code",
   "execution_count": 85,
   "metadata": {},
   "outputs": [
    {
     "data": {
      "text/html": [
       "<div>\n",
       "<style scoped>\n",
       "    .dataframe tbody tr th:only-of-type {\n",
       "        vertical-align: middle;\n",
       "    }\n",
       "\n",
       "    .dataframe tbody tr th {\n",
       "        vertical-align: top;\n",
       "    }\n",
       "\n",
       "    .dataframe thead th {\n",
       "        text-align: right;\n",
       "    }\n",
       "</style>\n",
       "<table border=\"1\" class=\"dataframe\">\n",
       "  <thead>\n",
       "    <tr style=\"text-align: right;\">\n",
       "      <th></th>\n",
       "      <th>0</th>\n",
       "    </tr>\n",
       "  </thead>\n",
       "  <tbody>\n",
       "    <tr>\n",
       "      <th>0</th>\n",
       "      <td>DirMOD</td>\n",
       "    </tr>\n",
       "    <tr>\n",
       "      <th>1</th>\n",
       "      <td>LC Consultora | Recursos Humanos</td>\n",
       "    </tr>\n",
       "    <tr>\n",
       "      <th>2</th>\n",
       "      <td>LC Consultora | Recursos Humanos</td>\n",
       "    </tr>\n",
       "    <tr>\n",
       "      <th>3</th>\n",
       "      <td>Prestigio</td>\n",
       "    </tr>\n",
       "    <tr>\n",
       "      <th>4</th>\n",
       "      <td>Claro Argentina</td>\n",
       "    </tr>\n",
       "    <tr>\n",
       "      <th>...</th>\n",
       "      <td>...</td>\n",
       "    </tr>\n",
       "    <tr>\n",
       "      <th>795</th>\n",
       "      <td>Hospital Británico</td>\n",
       "    </tr>\n",
       "    <tr>\n",
       "      <th>796</th>\n",
       "      <td>GEN Staffing &amp; Recruiting</td>\n",
       "    </tr>\n",
       "    <tr>\n",
       "      <th>797</th>\n",
       "      <td>Rappi</td>\n",
       "    </tr>\n",
       "    <tr>\n",
       "      <th>798</th>\n",
       "      <td>Practia Global</td>\n",
       "    </tr>\n",
       "    <tr>\n",
       "      <th>799</th>\n",
       "      <td>Servicios Compartidos de Empleos</td>\n",
       "    </tr>\n",
       "  </tbody>\n",
       "</table>\n",
       "<p>800 rows × 1 columns</p>\n",
       "</div>"
      ],
      "text/plain": [
       "                                    0\n",
       "0                              DirMOD\n",
       "1    LC Consultora | Recursos Humanos\n",
       "2    LC Consultora | Recursos Humanos\n",
       "3                           Prestigio\n",
       "4                     Claro Argentina\n",
       "..                                ...\n",
       "795                Hospital Británico\n",
       "796         GEN Staffing & Recruiting\n",
       "797                             Rappi\n",
       "798                    Practia Global\n",
       "799  Servicios Compartidos de Empleos\n",
       "\n",
       "[800 rows x 1 columns]"
      ]
     },
     "execution_count": 85,
     "metadata": {},
     "output_type": "execute_result"
    }
   ],
   "source": [
    "pd.DataFrame(company_names)"
   ]
  }
 ],
 "metadata": {
  "kernelspec": {
   "display_name": "env",
   "language": "python",
   "name": "python3"
  },
  "language_info": {
   "codemirror_mode": {
    "name": "ipython",
    "version": 3
   },
   "file_extension": ".py",
   "mimetype": "text/x-python",
   "name": "python",
   "nbconvert_exporter": "python",
   "pygments_lexer": "ipython3",
   "version": "3.9.13"
  },
  "orig_nbformat": 4
 },
 "nbformat": 4,
 "nbformat_minor": 2
}
